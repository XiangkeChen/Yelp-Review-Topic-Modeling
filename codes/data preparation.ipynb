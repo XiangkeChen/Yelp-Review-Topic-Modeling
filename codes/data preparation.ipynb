{
 "cells": [
  {
   "cell_type": "markdown",
   "metadata": {},
   "source": [
    "# Data cleaning and processing \n",
    "#### This script will be used in data visualization and calculating polarity score"
   ]
  },
  {
   "cell_type": "markdown",
   "metadata": {},
   "source": [
    "# Read in data for business and review"
   ]
  },
  {
   "cell_type": "code",
   "execution_count": 9,
   "metadata": {},
   "outputs": [],
   "source": [
    "#define schema\n",
    "schema_str = \"\"\"\n",
    "    business_id string, cool int, date date, funny int,  \n",
    "    review_id string, stars double, text string,  \n",
    "    useful int, user_id string\n",
    "\"\"\""
   ]
  },
  {
   "cell_type": "code",
   "execution_count": 11,
   "metadata": {},
   "outputs": [],
   "source": [
    "review = spark.read.schema(schema_str).format(\"json\").load(\"review.json\")"
   ]
  },
  {
   "cell_type": "code",
   "execution_count": 12,
   "metadata": {},
   "outputs": [
    {
     "name": "stdout",
     "output_type": "stream",
     "text": [
      "+--------------------+----+----------+-----+--------------------+-----+--------------------+------+--------------------+\n",
      "|         business_id|cool|      date|funny|           review_id|stars|                text|useful|             user_id|\n",
      "+--------------------+----+----------+-----+--------------------+-----+--------------------+------+--------------------+\n",
      "|ujmEBvifdJM6h6RLv...|   0|2013-05-07|    1|Q1sbwvVQXV2734tPg...|  1.0|Total bill for th...|     6|hG7b0MtEbXx5QzbzE...|\n",
      "|NZnhc2sEQy3RmzKTZ...|   0|2017-01-14|    0|GJXCdrto3ASJOqKeV...|  5.0|I *adore* Travis ...|     0|yXQM5uF2jS6es16SJ...|\n",
      "|WTqjgwHlXbSFevF32...|   0|2016-11-09|    0|2TzJjDVDEuAW6MR5V...|  5.0|I have to say tha...|     3|n6-Gk65cPZL6Uz8qR...|\n",
      "|ikCg8xy5JIg_NGPx-...|   0|2018-01-09|    0|yi0R0Ugj_xUx_Nek0...|  5.0|Went in for a lun...|     0|dacAIZ6fTM6mqwW5u...|\n",
      "|b1b1eb3uo-w561D0Z...|   0|2018-01-30|    0|11a8sVPMUFtaC7_AB...|  1.0|Today was my seco...|     7|ssoyf2_x0EQMed6fg...|\n",
      "|eU_713ec6fTGNO4Be...|   0|2013-01-20|    0|fdiNeiN_hoCxCMy2w...|  4.0|I'll be the first...|     0|w31MKYsNFMrjhWxxA...|\n",
      "|3fw2X5bZYeW9xCz_z...|   5|2016-05-07|    4|G7XHMxG0bx9oBJNEC...|  3.0|Tracy dessert had...|     5|jlu4CztcSxrKx56ba...|\n",
      "|zvO-PJCpNk4fgAVUn...|   1|2010-10-05|    1|8e9HxxLjjqc9ez5ez...|  1.0|This place has go...|     3|d6xvYpyzcfbF_AZ8v...|\n",
      "|b2jN2mm9Wf3RcrZCg...|   0|2015-01-18|    0|qrffudO73zsslZbe8...|  2.0|I was really look...|     1|sG_h0dIzTKWa3Q6fm...|\n",
      "|oxwGyA17NL6c5t1Et...|   1|2012-02-29|    0|RS_GTIT6836bCaPy6...|  3.0|It's a giant Best...|     1|nMeCE5-xsdleyxYuN...|\n",
      "|8mIrX_LrOnAqWsB5J...|   0|2011-11-30|    0|kbtscdyz6lvrtGjD1...|  4.0|Like walking back...|     0|FIk4lQQu1eTe2EpzQ...|\n",
      "|mRUVMJkUGxrByzMQ2...|   0|2017-12-15|    1|-I5umRTkhw15RqpKM...|  1.0|Walked in around ...|     0|-mA3-1mN4JIEkqOtd...|\n",
      "|FxLfqxdYPA6Z85PFK...|   0|2016-05-07|    0|Z7wgXp98wYB57QdRY...|  4.0|Wow. So surprised...|     0|GYNnVehQeXjty0xH7...|\n",
      "|LUN6swQYa4xJKaM_U...|   0|2018-04-27|    0|qlXw1JQ0UodW7qrmV...|  4.0|Michael from Red ...|     0|bAhqAPoWaZYcyYi7b...|\n",
      "|AakkkTuGZA2KBodKi...|   0|2012-07-16|    1|JVcjMhlavKKn3UIt9...|  1.0|I cannot believe ...|     1|TpyOT5E16YASd7EWj...|\n",
      "|YvrylyuWgbP90RgMq...|   0|2017-04-07|    0|svK3nBU7Rk8VfGorl...|  5.0|You can't really ...|     0|NJlxGtouq06hhC7sS...|\n",
      "|NyLYY8q1-H3hfsTwu...|   0|2015-01-03|    0|1wVA2-vQIuW_ClmXk...|  4.0|Great lunch today...|     0|86J5DwcFk4f4In1Vx...|\n",
      "|cHdJXLlKNWixBXpDw...|   1|2015-04-01|    7|6BnQwlxRn7ZuWdzni...|  3.0|I love chinese fo...|     1|JSrP-dUmLlwZiI7Dp...|\n",
      "|6lj2BJ4tJeu7db5as...|   0|2017-05-26|    0|rEITo90tpyKmEfNDp...|  5.0|We've been a huge...|     0|6Fz_nus_OG4gar721...|\n",
      "|y-Iw6dZflNix4BdwI...|   0|2014-06-27|    0|4bUyL7lzoWzDZaJET...|  3.0|Good selection of...|     0|_N7Ndn29bpll_961o...|\n",
      "+--------------------+----+----------+-----+--------------------+-----+--------------------+------+--------------------+\n",
      "only showing top 20 rows\n",
      "\n"
     ]
    }
   ],
   "source": [
    "review.show()"
   ]
  },
  {
   "cell_type": "code",
   "execution_count": 13,
   "metadata": {},
   "outputs": [
    {
     "name": "stdout",
     "output_type": "stream",
     "text": [
      "root\n",
      " |-- business_id: string (nullable = true)\n",
      " |-- cool: integer (nullable = true)\n",
      " |-- date: date (nullable = true)\n",
      " |-- funny: integer (nullable = true)\n",
      " |-- review_id: string (nullable = true)\n",
      " |-- stars: double (nullable = true)\n",
      " |-- text: string (nullable = true)\n",
      " |-- useful: integer (nullable = true)\n",
      " |-- user_id: string (nullable = true)\n",
      "\n"
     ]
    }
   ],
   "source": [
    "review.printSchema()"
   ]
  },
  {
   "cell_type": "code",
   "execution_count": 14,
   "metadata": {},
   "outputs": [],
   "source": [
    "business = spark.read.format(\"json\").option(\"inferSchema\", \"true\").load(\"business.json\")"
   ]
  },
  {
   "cell_type": "code",
   "execution_count": 15,
   "metadata": {},
   "outputs": [
    {
     "name": "stdout",
     "output_type": "stream",
     "text": [
      "+--------------------+--------------------+--------------------+--------------------+------------------+--------------------+-------+-------------+---------------+--------------------+-----------+------------+-----+-----+\n",
      "|             address|          attributes|         business_id|          categories|              city|               hours|is_open|     latitude|      longitude|                name|postal_code|review_count|stars|state|\n",
      "+--------------------+--------------------+--------------------+--------------------+------------------+--------------------+-------+-------------+---------------+--------------------+-----------+------------+-----+-----+\n",
      "|2818 E Camino Ace...|[,,,,,,,,,,,,,,,,...|1SWheh84yJXfytovI...|   Golf, Active Life|           Phoenix|                null|      0|   33.5221425|   -112.0184807|Arizona Biltmore ...|      85016|           5|  3.0|   AZ|\n",
      "|30 Eglinton Avenue W|[,, u'full_bar', ...|QXAEGFB4oINsVuTFx...|Specialty Food, R...|       Mississauga|[9:0-1:0, 9:0-0:0...|      1|43.6054989743|  -79.652288909|Emerald Chinese R...|    L5R 3E7|         128|  2.5|   ON|\n",
      "|10110 Johnston Rd...|[,, u'beer_and_wi...|gnKjwL_1w79qoiV3I...|Sushi Bars, Resta...|         Charlotte|[17:30-22:0, 17:3...|      1|    35.092564|     -80.859132|Musashi Japanese ...|      28210|         170|  4.0|   NC|\n",
      "|15655 W Roosevelt...|                null|xvX2CttrVhyG2z1dF...|Insurance, Financ...|          Goodyear|[8:0-17:0, 8:0-17...|      1|33.4556129678|-112.3955963552|Farmers Insurance...|      85338|           3|  5.0|   AZ|\n",
      "|4209 Stuart Andre...|[,,,,,,,, False, ...|HhyxOkGAM07SRYtlQ...|Plumbing, Shoppin...|         Charlotte|[7:0-23:0, 7:0-23...|      1|   35.1900119|    -80.8872232| Queen City Plumbing|      28217|           4|  4.0|   NC|\n",
      "|Credit Valley Tow...|[,,,,,,,,,, {'gar...|68dUKd8_8liJ7in4a...|Shipping Centers,...|       Mississauga|[9:0-19:0, 9:0-19...|      1|   43.5994753|    -79.7115835|       The UPS Store|    L5V 0B1|           3|  2.5|   ON|\n",
      "|20 Douglas Woods ...|[,,,,,,,,,, {'gar...|5JucpCfHZltJh5r1J...|Beauty & Spas, Ha...|           Calgary|                null|      1|   50.9436456|   -114.0018283|    Edgeworxx Studio|    T2Z 1K4|           7|  3.5|   AB|\n",
      "|4545 E Tropicana ...|[,,,,,,, False,, ...|gbQN7vr_caG_A1ugS...|Hair Salons, Hair...|         Las Vegas|[10:0-19:0, 10:0-...|      1|    36.099872|    -115.074574|           Supercuts|      89121|           3|  3.5|   NV|\n",
      "|5940 W Union Hill...|[,,,,,,, False,, ...|Y6iyemLX_oylRpnr3...|Nail Salons, Beau...|          Glendale|[10:0-17:0,, 10:0...|      0|   33.6548146|   -112.1885676|Vita Bella Fine D...|      85308|           8|  5.0|   AZ|\n",
      "|     21689 Lorain Rd|[False,,,,,,,,, T...|4GBVPIYRvzGh4K4Tk...|Beauty & Spas, Na...|     Fairview Park|[9:0-19:0,, 9:0-1...|      1|41.4408252653| -81.8540965503| Options Salon & Spa|      44126|           8|  4.5|   OH|\n",
      "|1210 8th Street S...|[,,,,,,, False,,,...|fcXOEZdXYeZqnQ3lG...|Local Services, P...|           Calgary|[9:0-17:0, 9:0-17...|      1|    51.041771|    -114.081109|Nucleus Informati...|    T2R 1L3|           5|  2.0|   AB|\n",
      "|2450 E Indian Sch...|[,, u'none', {'ro...|1Dfx3zM-rW4n-31Ke...|Restaurants, Brea...|           Phoenix|[7:0-1:0, 7:0-0:0...|      1|   33.4951941|   -112.0285876|           Taco Bell|      85016|          18|  3.0|   AZ|\n",
      "|119 Landings Dr, ...|[,, 'beer_and_win...|5t3KVdMnFgAYmSl1w...|Bars, Nightlife, ...|       Mooresville|[10:0-1:0, 10:0-1...|      1|35.5274098057| -80.8680032061|The Kilted Buffal...|      28117|           9|  3.5|   NC|\n",
      "|     5981 Andrews Rd|[,, u'none', None...|fweCYi8FmbJXHCqLn...|Italian, Restaura...|Mentor-on-the-Lake|[10:0-1:0, 10:0-0...|      1|     41.70852|     -81.359556|       Marco's Pizza|      44060|          16|  4.0|   OH|\n",
      "|        4145 Erie St|[,,,,,,,,, True, ...|-K4gAv8_vjx8-2Bxk...|      Bakeries, Food|        Willoughby|[11:0-17:0,, 10:0...|      1|   41.6398599|    -81.4063963|          Baby Cakes|      44094|           7|  3.0|   OH|\n",
      "|    1455 16th Avenue|[,,,,,,, True,,, ...|A98xW4qb7vOTguggH...|Fitness & Instruc...|     Richmond Hill|[16:0-21:30, 16:0...|      1| 43.861502576| -79.3884991854|   Hot Yoga Wellness|    L4B 3G6|           4|  4.0|   ON|\n",
      "|4848 E Cactus Rd,...|[,,,,,,,,, True, ...|giC3pVVFxCRR89rAp...|Hair Stylists, Be...|        Scottsdale|[8:0-17:0, 0:0-0:...|      1|    33.600071|    -111.977371|          Knot Salon|      85254|           5|  5.0|   AZ|\n",
      "|1775 E Tropicana ...|[,, u'full_bar', ...|PZ-LZzSlhSe9utkQY...|Restaurants, Italian|         Las Vegas|                null|      0|   36.1000163|   -115.1285285|Carluccio's Tivol...|      89119|          40|  4.0|   NV|\n",
      "|                    |[,,,,,,,,, True,,...|nh_kQ16QAoXWwqZ05...|Event Planning & ...|         Las Vegas|[0:0-0:0, 0:0-0:0...|      1|   36.1165487|   -115.0881146|Myron Hensel Phot...|      89121|          21|  5.0|   NV|\n",
      "|445 King Street W...|[True,,,,,,,,,,, ...|zSpQmEBvRe3IhTUlM...|Trainers, Health ...|           Toronto|[6:0-22:0, 6:0-22...|      1|   43.6450415|    -79.3957986|  Totum Life Science|    M5V 1K4|          23|  4.0|   ON|\n",
      "+--------------------+--------------------+--------------------+--------------------+------------------+--------------------+-------+-------------+---------------+--------------------+-----------+------------+-----+-----+\n",
      "only showing top 20 rows\n",
      "\n"
     ]
    }
   ],
   "source": [
    "business.show()"
   ]
  },
  {
   "cell_type": "code",
   "execution_count": 16,
   "metadata": {},
   "outputs": [
    {
     "name": "stdout",
     "output_type": "stream",
     "text": [
      "root\n",
      " |-- address: string (nullable = true)\n",
      " |-- attributes: struct (nullable = true)\n",
      " |    |-- AcceptsInsurance: string (nullable = true)\n",
      " |    |-- AgesAllowed: string (nullable = true)\n",
      " |    |-- Alcohol: string (nullable = true)\n",
      " |    |-- Ambience: string (nullable = true)\n",
      " |    |-- BYOB: string (nullable = true)\n",
      " |    |-- BYOBCorkage: string (nullable = true)\n",
      " |    |-- BestNights: string (nullable = true)\n",
      " |    |-- BikeParking: string (nullable = true)\n",
      " |    |-- BusinessAcceptsBitcoin: string (nullable = true)\n",
      " |    |-- BusinessAcceptsCreditCards: string (nullable = true)\n",
      " |    |-- BusinessParking: string (nullable = true)\n",
      " |    |-- ByAppointmentOnly: string (nullable = true)\n",
      " |    |-- Caters: string (nullable = true)\n",
      " |    |-- CoatCheck: string (nullable = true)\n",
      " |    |-- Corkage: string (nullable = true)\n",
      " |    |-- DietaryRestrictions: string (nullable = true)\n",
      " |    |-- DogsAllowed: string (nullable = true)\n",
      " |    |-- DriveThru: string (nullable = true)\n",
      " |    |-- GoodForDancing: string (nullable = true)\n",
      " |    |-- GoodForKids: string (nullable = true)\n",
      " |    |-- GoodForMeal: string (nullable = true)\n",
      " |    |-- HairSpecializesIn: string (nullable = true)\n",
      " |    |-- HappyHour: string (nullable = true)\n",
      " |    |-- HasTV: string (nullable = true)\n",
      " |    |-- Music: string (nullable = true)\n",
      " |    |-- NoiseLevel: string (nullable = true)\n",
      " |    |-- Open24Hours: string (nullable = true)\n",
      " |    |-- OutdoorSeating: string (nullable = true)\n",
      " |    |-- RestaurantsAttire: string (nullable = true)\n",
      " |    |-- RestaurantsCounterService: string (nullable = true)\n",
      " |    |-- RestaurantsDelivery: string (nullable = true)\n",
      " |    |-- RestaurantsGoodForGroups: string (nullable = true)\n",
      " |    |-- RestaurantsPriceRange2: string (nullable = true)\n",
      " |    |-- RestaurantsReservations: string (nullable = true)\n",
      " |    |-- RestaurantsTableService: string (nullable = true)\n",
      " |    |-- RestaurantsTakeOut: string (nullable = true)\n",
      " |    |-- Smoking: string (nullable = true)\n",
      " |    |-- WheelchairAccessible: string (nullable = true)\n",
      " |    |-- WiFi: string (nullable = true)\n",
      " |-- business_id: string (nullable = true)\n",
      " |-- categories: string (nullable = true)\n",
      " |-- city: string (nullable = true)\n",
      " |-- hours: struct (nullable = true)\n",
      " |    |-- Friday: string (nullable = true)\n",
      " |    |-- Monday: string (nullable = true)\n",
      " |    |-- Saturday: string (nullable = true)\n",
      " |    |-- Sunday: string (nullable = true)\n",
      " |    |-- Thursday: string (nullable = true)\n",
      " |    |-- Tuesday: string (nullable = true)\n",
      " |    |-- Wednesday: string (nullable = true)\n",
      " |-- is_open: long (nullable = true)\n",
      " |-- latitude: double (nullable = true)\n",
      " |-- longitude: double (nullable = true)\n",
      " |-- name: string (nullable = true)\n",
      " |-- postal_code: string (nullable = true)\n",
      " |-- review_count: long (nullable = true)\n",
      " |-- stars: double (nullable = true)\n",
      " |-- state: string (nullable = true)\n",
      "\n"
     ]
    }
   ],
   "source": [
    "business.printSchema()"
   ]
  },
  {
   "cell_type": "markdown",
   "metadata": {},
   "source": [
    "# Read in data for top20 restaurant in NV\n",
    "#### (top 20 defined by review count)"
   ]
  },
  {
   "cell_type": "code",
   "execution_count": 17,
   "metadata": {},
   "outputs": [],
   "source": [
    "schema_str2 = \"\"\"\n",
    "    address string, business_id string, categories string,  \n",
    "    city string, is_open string, latitude double, longitude double, \n",
    "    name string, postal_code string, review_count double, stars double, state string\n",
    "\"\"\""
   ]
  },
  {
   "cell_type": "code",
   "execution_count": 18,
   "metadata": {},
   "outputs": [],
   "source": [
    "top_20 =  spark.read.schema(schema_str2).format(\"csv\").option(\"header\", \"true\").load(\"top20_review_Las_Vegas_new.csv\")\n",
    "#bids = spark.read.schema(schema_str).format(\"csv\").load(\"sparkdata/auctiondata.csv\")"
   ]
  },
  {
   "cell_type": "code",
   "execution_count": 19,
   "metadata": {},
   "outputs": [
    {
     "name": "stdout",
     "output_type": "stream",
     "text": [
      "root\n",
      " |-- address: string (nullable = true)\n",
      " |-- business_id: string (nullable = true)\n",
      " |-- categories: string (nullable = true)\n",
      " |-- city: string (nullable = true)\n",
      " |-- is_open: string (nullable = true)\n",
      " |-- latitude: double (nullable = true)\n",
      " |-- longitude: double (nullable = true)\n",
      " |-- name: string (nullable = true)\n",
      " |-- postal_code: string (nullable = true)\n",
      " |-- review_count: double (nullable = true)\n",
      " |-- stars: double (nullable = true)\n",
      " |-- state: string (nullable = true)\n",
      "\n"
     ]
    }
   ],
   "source": [
    "top_20.printSchema()"
   ]
  },
  {
   "cell_type": "code",
   "execution_count": 20,
   "metadata": {},
   "outputs": [
    {
     "data": {
      "text/html": [
       "<div>\n",
       "<style scoped>\n",
       "    .dataframe tbody tr th:only-of-type {\n",
       "        vertical-align: middle;\n",
       "    }\n",
       "\n",
       "    .dataframe tbody tr th {\n",
       "        vertical-align: top;\n",
       "    }\n",
       "\n",
       "    .dataframe thead th {\n",
       "        text-align: right;\n",
       "    }\n",
       "</style>\n",
       "<table border=\"1\" class=\"dataframe\">\n",
       "  <thead>\n",
       "    <tr style=\"text-align: right;\">\n",
       "      <th></th>\n",
       "      <th>address</th>\n",
       "      <th>business_id</th>\n",
       "      <th>categories</th>\n",
       "      <th>city</th>\n",
       "      <th>is_open</th>\n",
       "      <th>latitude</th>\n",
       "      <th>longitude</th>\n",
       "      <th>name</th>\n",
       "      <th>postal_code</th>\n",
       "      <th>review_count</th>\n",
       "      <th>stars</th>\n",
       "      <th>state</th>\n",
       "    </tr>\n",
       "  </thead>\n",
       "  <tbody>\n",
       "    <tr>\n",
       "      <th>0</th>\n",
       "      <td>3655 Las Vegas Blvd S</td>\n",
       "      <td>4JNXUYY8wbaaDmk3BPzlWw</td>\n",
       "      <td>Food, French, Breakfast &amp; Brunch, Restaurants,...</td>\n",
       "      <td>Las Vegas</td>\n",
       "      <td>1</td>\n",
       "      <td>36.112859</td>\n",
       "      <td>-115.172434</td>\n",
       "      <td>Mon Ami Gabi</td>\n",
       "      <td>89109</td>\n",
       "      <td>8348.0</td>\n",
       "      <td>4.0</td>\n",
       "      <td>NV</td>\n",
       "    </tr>\n",
       "    <tr>\n",
       "      <th>1</th>\n",
       "      <td>3570 S Las Vegas Blvd</td>\n",
       "      <td>RESDUcs7fIiihp38-d6_6g</td>\n",
       "      <td>Restaurants, Buffets, Sandwiches, Food, Breakf...</td>\n",
       "      <td>Las Vegas</td>\n",
       "      <td>1</td>\n",
       "      <td>36.116113</td>\n",
       "      <td>-115.176222</td>\n",
       "      <td>Bacchanal Buffet</td>\n",
       "      <td>89109</td>\n",
       "      <td>8339.0</td>\n",
       "      <td>4.0</td>\n",
       "      <td>NV</td>\n",
       "    </tr>\n",
       "    <tr>\n",
       "      <th>2</th>\n",
       "      <td>3708 Las Vegas Blvd S</td>\n",
       "      <td>K7lWdNUhCbcnEvI0NhGewg</td>\n",
       "      <td>Buffets, Breakfast &amp; Brunch, Restaurants</td>\n",
       "      <td>Las Vegas</td>\n",
       "      <td>1</td>\n",
       "      <td>36.109550</td>\n",
       "      <td>-115.176155</td>\n",
       "      <td>Wicked Spoon</td>\n",
       "      <td>89109</td>\n",
       "      <td>6708.0</td>\n",
       "      <td>3.5</td>\n",
       "      <td>NV</td>\n",
       "    </tr>\n",
       "    <tr>\n",
       "      <th>3</th>\n",
       "      <td>3535 Las Vegas Blvd</td>\n",
       "      <td>f4x1YBxkLrZg652xt2KR5g</td>\n",
       "      <td>Breakfast &amp; Brunch, Food, Restaurants, America...</td>\n",
       "      <td>Las Vegas</td>\n",
       "      <td>1</td>\n",
       "      <td>36.118181</td>\n",
       "      <td>-115.171580</td>\n",
       "      <td>Hash House A Go Go</td>\n",
       "      <td>89109</td>\n",
       "      <td>5763.0</td>\n",
       "      <td>4.0</td>\n",
       "      <td>NV</td>\n",
       "    </tr>\n",
       "    <tr>\n",
       "      <th>4</th>\n",
       "      <td>3667 Las Vegas Blvd S</td>\n",
       "      <td>cYwJA2A6I12KNkm2rtXd5g</td>\n",
       "      <td>Restaurants, Burgers, American (Traditional)</td>\n",
       "      <td>Las Vegas</td>\n",
       "      <td>0</td>\n",
       "      <td>36.110724</td>\n",
       "      <td>-115.172169</td>\n",
       "      <td>Gordon Ramsay BurGR</td>\n",
       "      <td>89109</td>\n",
       "      <td>5484.0</td>\n",
       "      <td>4.0</td>\n",
       "      <td>NV</td>\n",
       "    </tr>\n",
       "    <tr>\n",
       "      <th>5</th>\n",
       "      <td>3667 Las Vegas Blvd S</td>\n",
       "      <td>DkYS3arLOhA8si5uUEmHOw</td>\n",
       "      <td>Food Delivery Services, Salad, Sandwiches, Sou...</td>\n",
       "      <td>Las Vegas</td>\n",
       "      <td>1</td>\n",
       "      <td>36.109418</td>\n",
       "      <td>-115.171874</td>\n",
       "      <td>Earl of Sandwich</td>\n",
       "      <td>89109</td>\n",
       "      <td>5075.0</td>\n",
       "      <td>4.5</td>\n",
       "      <td>NV</td>\n",
       "    </tr>\n",
       "    <tr>\n",
       "      <th>6</th>\n",
       "      <td>3131 Las Vegas Blvd S</td>\n",
       "      <td>2weQS-RnoOBhb1KsHKyoSQ</td>\n",
       "      <td>Beauty &amp; Spas, Food, Event Planning &amp; Services...</td>\n",
       "      <td>Las Vegas</td>\n",
       "      <td>1</td>\n",
       "      <td>36.126887</td>\n",
       "      <td>-115.165590</td>\n",
       "      <td>The Buffet</td>\n",
       "      <td>89109</td>\n",
       "      <td>4400.0</td>\n",
       "      <td>3.5</td>\n",
       "      <td>NV</td>\n",
       "    </tr>\n",
       "    <tr>\n",
       "      <th>7</th>\n",
       "      <td>3708 Las Vegas Blvd S</td>\n",
       "      <td>5LNZ67Yw9RD6nf4_UhXOjw</td>\n",
       "      <td>Casinos, Hotels, Event Planning &amp; Services, Re...</td>\n",
       "      <td>Las Vegas</td>\n",
       "      <td>1</td>\n",
       "      <td>36.109755</td>\n",
       "      <td>-115.173877</td>\n",
       "      <td>The Cosmopolitan of Las Vegas</td>\n",
       "      <td>89109</td>\n",
       "      <td>4322.0</td>\n",
       "      <td>4.0</td>\n",
       "      <td>NV</td>\n",
       "    </tr>\n",
       "    <tr>\n",
       "      <th>8</th>\n",
       "      <td>3708 Las Vegas Blvd S, Level 3, The Boulevard ...</td>\n",
       "      <td>iCQpiavjjPzJ5_3gPD5Ebg</td>\n",
       "      <td>Pizza, Restaurants</td>\n",
       "      <td>Las Vegas</td>\n",
       "      <td>1</td>\n",
       "      <td>36.109837</td>\n",
       "      <td>-115.174212</td>\n",
       "      <td>Secret Pizza</td>\n",
       "      <td>89109</td>\n",
       "      <td>4286.0</td>\n",
       "      <td>4.0</td>\n",
       "      <td>NV</td>\n",
       "    </tr>\n",
       "    <tr>\n",
       "      <th>9</th>\n",
       "      <td>3600 S Las Vegas Blvd</td>\n",
       "      <td>ujHiaprwCQ5ewziu0Vi9rw</td>\n",
       "      <td>American (New), Buffets, Restaurants</td>\n",
       "      <td>Las Vegas</td>\n",
       "      <td>1</td>\n",
       "      <td>36.113220</td>\n",
       "      <td>-115.176890</td>\n",
       "      <td>The Buffet at Bellagio</td>\n",
       "      <td>89109</td>\n",
       "      <td>4227.0</td>\n",
       "      <td>3.5</td>\n",
       "      <td>NV</td>\n",
       "    </tr>\n",
       "    <tr>\n",
       "      <th>10</th>\n",
       "      <td>3730 Las Vegas Blvd S</td>\n",
       "      <td>SMPbvZLSMMb7KU76YNYMGg</td>\n",
       "      <td>Hotels &amp; Travel, Arts &amp; Entertainment, Hotels,...</td>\n",
       "      <td>Las Vegas</td>\n",
       "      <td>1</td>\n",
       "      <td>36.107621</td>\n",
       "      <td>-115.177040</td>\n",
       "      <td>ARIA Resort &amp; Casino</td>\n",
       "      <td>89109</td>\n",
       "      <td>4206.0</td>\n",
       "      <td>3.5</td>\n",
       "      <td>NV</td>\n",
       "    </tr>\n",
       "    <tr>\n",
       "      <th>11</th>\n",
       "      <td>3900 Las Vegas Blvd S</td>\n",
       "      <td>AV6weBrZFFBfRGCbcRGO4g</td>\n",
       "      <td>Nightlife, Casinos, Restaurants, Resorts, Arts...</td>\n",
       "      <td>Las Vegas</td>\n",
       "      <td>1</td>\n",
       "      <td>36.097341</td>\n",
       "      <td>-115.176339</td>\n",
       "      <td>Luxor Hotel and Casino Las Vegas</td>\n",
       "      <td>89109</td>\n",
       "      <td>4117.0</td>\n",
       "      <td>2.5</td>\n",
       "      <td>NV</td>\n",
       "    </tr>\n",
       "    <tr>\n",
       "      <th>12</th>\n",
       "      <td>953 E Sahara Ave</td>\n",
       "      <td>KskYqH1Bi7Z_61pH6Om8pg</td>\n",
       "      <td>Car Dealers, Nightlife, Automotive, Buffets, W...</td>\n",
       "      <td>Las Vegas</td>\n",
       "      <td>0</td>\n",
       "      <td>36.143664</td>\n",
       "      <td>-115.141891</td>\n",
       "      <td>Lotus of Siam</td>\n",
       "      <td>89104</td>\n",
       "      <td>3998.0</td>\n",
       "      <td>4.0</td>\n",
       "      <td>NV</td>\n",
       "    </tr>\n",
       "    <tr>\n",
       "      <th>13</th>\n",
       "      <td>3799 Las Vegas Blvd S</td>\n",
       "      <td>El4FC8jcawUVgw_0EIcbaQ</td>\n",
       "      <td>Casinos, Event Planning &amp; Services, Restaurant...</td>\n",
       "      <td>Las Vegas</td>\n",
       "      <td>1</td>\n",
       "      <td>36.102251</td>\n",
       "      <td>-115.169968</td>\n",
       "      <td>MGM Grand Hotel</td>\n",
       "      <td>89109</td>\n",
       "      <td>3944.0</td>\n",
       "      <td>3.0</td>\n",
       "      <td>NV</td>\n",
       "    </tr>\n",
       "    <tr>\n",
       "      <th>14</th>\n",
       "      <td>Caesars Palace Las Vegas Hotel And Casino, 357...</td>\n",
       "      <td>eoHdUeQDNgQ6WYEnP2aiRw</td>\n",
       "      <td>Juice Bars &amp; Smoothies, Social Clubs, Arts &amp; E...</td>\n",
       "      <td>Las Vegas</td>\n",
       "      <td>0</td>\n",
       "      <td>36.115670</td>\n",
       "      <td>-115.173317</td>\n",
       "      <td>Serendipity 3</td>\n",
       "      <td>89109</td>\n",
       "      <td>3929.0</td>\n",
       "      <td>3.0</td>\n",
       "      <td>NV</td>\n",
       "    </tr>\n",
       "    <tr>\n",
       "      <th>15</th>\n",
       "      <td>3355 Las Vegas Blvd S, Venezia Tower, 10th floor</td>\n",
       "      <td>rcaPajgKOJC2vo_l3xa42A</td>\n",
       "      <td>French, Bars, Cocktail Bars, Nightlife, Breakf...</td>\n",
       "      <td>Las Vegas</td>\n",
       "      <td>1</td>\n",
       "      <td>36.120955</td>\n",
       "      <td>-115.169853</td>\n",
       "      <td>Bouchon</td>\n",
       "      <td>89109</td>\n",
       "      <td>3859.0</td>\n",
       "      <td>4.0</td>\n",
       "      <td>NV</td>\n",
       "    </tr>\n",
       "    <tr>\n",
       "      <th>16</th>\n",
       "      <td>5757 Wayne Newton Blvd</td>\n",
       "      <td>FaHADZARwnY4yvlvpnsfGA</td>\n",
       "      <td>Airlines, Airports, Transportation, Hotels &amp; T...</td>\n",
       "      <td>Las Vegas</td>\n",
       "      <td>1</td>\n",
       "      <td>36.085016</td>\n",
       "      <td>-115.151010</td>\n",
       "      <td>McCarran International Airport</td>\n",
       "      <td>89119</td>\n",
       "      <td>3627.0</td>\n",
       "      <td>3.5</td>\n",
       "      <td>NV</td>\n",
       "    </tr>\n",
       "    <tr>\n",
       "      <th>17</th>\n",
       "      <td>3355 Las Vegas Blvd S</td>\n",
       "      <td>faPVqws-x-5k2CQKDNtHxw</td>\n",
       "      <td>Restaurants, American (New), Southern</td>\n",
       "      <td>Las Vegas</td>\n",
       "      <td>1</td>\n",
       "      <td>36.122328</td>\n",
       "      <td>-115.170112</td>\n",
       "      <td>Yardbird Southern Table &amp; Bar</td>\n",
       "      <td>89109</td>\n",
       "      <td>3576.0</td>\n",
       "      <td>4.5</td>\n",
       "      <td>NV</td>\n",
       "    </tr>\n",
       "    <tr>\n",
       "      <th>18</th>\n",
       "      <td>3655 Las Vegas Blvd S</td>\n",
       "      <td>OETh78qcgDltvHULowwhJg</td>\n",
       "      <td>Steakhouses, Restaurants, Soup, Salad, America...</td>\n",
       "      <td>Las Vegas</td>\n",
       "      <td>1</td>\n",
       "      <td>36.112338</td>\n",
       "      <td>-115.171696</td>\n",
       "      <td>Gordon Ramsay Steak</td>\n",
       "      <td>89109</td>\n",
       "      <td>3547.0</td>\n",
       "      <td>4.0</td>\n",
       "      <td>NV</td>\n",
       "    </tr>\n",
       "    <tr>\n",
       "      <th>19</th>\n",
       "      <td>3355 South Las Vegas Boulevard</td>\n",
       "      <td>Wxxvi3LZbHNIDwJ-ZimtnA</td>\n",
       "      <td>Shopping Centers, Resorts, Arts &amp; Entertainmen...</td>\n",
       "      <td>Las Vegas</td>\n",
       "      <td>1</td>\n",
       "      <td>36.121189</td>\n",
       "      <td>-115.169657</td>\n",
       "      <td>The Venetian Las Vegas</td>\n",
       "      <td>89109</td>\n",
       "      <td>3499.0</td>\n",
       "      <td>4.0</td>\n",
       "      <td>NV</td>\n",
       "    </tr>\n",
       "  </tbody>\n",
       "</table>\n",
       "</div>"
      ],
      "text/plain": [
       "                                              address             business_id  \\\n",
       "0                               3655 Las Vegas Blvd S  4JNXUYY8wbaaDmk3BPzlWw   \n",
       "1                               3570 S Las Vegas Blvd  RESDUcs7fIiihp38-d6_6g   \n",
       "2                               3708 Las Vegas Blvd S  K7lWdNUhCbcnEvI0NhGewg   \n",
       "3                                 3535 Las Vegas Blvd  f4x1YBxkLrZg652xt2KR5g   \n",
       "4                               3667 Las Vegas Blvd S  cYwJA2A6I12KNkm2rtXd5g   \n",
       "5                               3667 Las Vegas Blvd S  DkYS3arLOhA8si5uUEmHOw   \n",
       "6                               3131 Las Vegas Blvd S  2weQS-RnoOBhb1KsHKyoSQ   \n",
       "7                               3708 Las Vegas Blvd S  5LNZ67Yw9RD6nf4_UhXOjw   \n",
       "8   3708 Las Vegas Blvd S, Level 3, The Boulevard ...  iCQpiavjjPzJ5_3gPD5Ebg   \n",
       "9                               3600 S Las Vegas Blvd  ujHiaprwCQ5ewziu0Vi9rw   \n",
       "10                              3730 Las Vegas Blvd S  SMPbvZLSMMb7KU76YNYMGg   \n",
       "11                              3900 Las Vegas Blvd S  AV6weBrZFFBfRGCbcRGO4g   \n",
       "12                                   953 E Sahara Ave  KskYqH1Bi7Z_61pH6Om8pg   \n",
       "13                              3799 Las Vegas Blvd S  El4FC8jcawUVgw_0EIcbaQ   \n",
       "14  Caesars Palace Las Vegas Hotel And Casino, 357...  eoHdUeQDNgQ6WYEnP2aiRw   \n",
       "15   3355 Las Vegas Blvd S, Venezia Tower, 10th floor  rcaPajgKOJC2vo_l3xa42A   \n",
       "16                             5757 Wayne Newton Blvd  FaHADZARwnY4yvlvpnsfGA   \n",
       "17                              3355 Las Vegas Blvd S  faPVqws-x-5k2CQKDNtHxw   \n",
       "18                              3655 Las Vegas Blvd S  OETh78qcgDltvHULowwhJg   \n",
       "19                     3355 South Las Vegas Boulevard  Wxxvi3LZbHNIDwJ-ZimtnA   \n",
       "\n",
       "                                           categories       city is_open  \\\n",
       "0   Food, French, Breakfast & Brunch, Restaurants,...  Las Vegas       1   \n",
       "1   Restaurants, Buffets, Sandwiches, Food, Breakf...  Las Vegas       1   \n",
       "2            Buffets, Breakfast & Brunch, Restaurants  Las Vegas       1   \n",
       "3   Breakfast & Brunch, Food, Restaurants, America...  Las Vegas       1   \n",
       "4        Restaurants, Burgers, American (Traditional)  Las Vegas       0   \n",
       "5   Food Delivery Services, Salad, Sandwiches, Sou...  Las Vegas       1   \n",
       "6   Beauty & Spas, Food, Event Planning & Services...  Las Vegas       1   \n",
       "7   Casinos, Hotels, Event Planning & Services, Re...  Las Vegas       1   \n",
       "8                                  Pizza, Restaurants  Las Vegas       1   \n",
       "9                American (New), Buffets, Restaurants  Las Vegas       1   \n",
       "10  Hotels & Travel, Arts & Entertainment, Hotels,...  Las Vegas       1   \n",
       "11  Nightlife, Casinos, Restaurants, Resorts, Arts...  Las Vegas       1   \n",
       "12  Car Dealers, Nightlife, Automotive, Buffets, W...  Las Vegas       0   \n",
       "13  Casinos, Event Planning & Services, Restaurant...  Las Vegas       1   \n",
       "14  Juice Bars & Smoothies, Social Clubs, Arts & E...  Las Vegas       0   \n",
       "15  French, Bars, Cocktail Bars, Nightlife, Breakf...  Las Vegas       1   \n",
       "16  Airlines, Airports, Transportation, Hotels & T...  Las Vegas       1   \n",
       "17              Restaurants, American (New), Southern  Las Vegas       1   \n",
       "18  Steakhouses, Restaurants, Soup, Salad, America...  Las Vegas       1   \n",
       "19  Shopping Centers, Resorts, Arts & Entertainmen...  Las Vegas       1   \n",
       "\n",
       "     latitude   longitude                              name postal_code  \\\n",
       "0   36.112859 -115.172434                      Mon Ami Gabi       89109   \n",
       "1   36.116113 -115.176222                  Bacchanal Buffet       89109   \n",
       "2   36.109550 -115.176155                      Wicked Spoon       89109   \n",
       "3   36.118181 -115.171580                Hash House A Go Go       89109   \n",
       "4   36.110724 -115.172169               Gordon Ramsay BurGR       89109   \n",
       "5   36.109418 -115.171874                  Earl of Sandwich       89109   \n",
       "6   36.126887 -115.165590                        The Buffet       89109   \n",
       "7   36.109755 -115.173877     The Cosmopolitan of Las Vegas       89109   \n",
       "8   36.109837 -115.174212                      Secret Pizza       89109   \n",
       "9   36.113220 -115.176890            The Buffet at Bellagio       89109   \n",
       "10  36.107621 -115.177040              ARIA Resort & Casino       89109   \n",
       "11  36.097341 -115.176339  Luxor Hotel and Casino Las Vegas       89109   \n",
       "12  36.143664 -115.141891                     Lotus of Siam       89104   \n",
       "13  36.102251 -115.169968                   MGM Grand Hotel       89109   \n",
       "14  36.115670 -115.173317                     Serendipity 3       89109   \n",
       "15  36.120955 -115.169853                           Bouchon       89109   \n",
       "16  36.085016 -115.151010    McCarran International Airport       89119   \n",
       "17  36.122328 -115.170112     Yardbird Southern Table & Bar       89109   \n",
       "18  36.112338 -115.171696               Gordon Ramsay Steak       89109   \n",
       "19  36.121189 -115.169657            The Venetian Las Vegas       89109   \n",
       "\n",
       "    review_count  stars state  \n",
       "0         8348.0    4.0    NV  \n",
       "1         8339.0    4.0    NV  \n",
       "2         6708.0    3.5    NV  \n",
       "3         5763.0    4.0    NV  \n",
       "4         5484.0    4.0    NV  \n",
       "5         5075.0    4.5    NV  \n",
       "6         4400.0    3.5    NV  \n",
       "7         4322.0    4.0    NV  \n",
       "8         4286.0    4.0    NV  \n",
       "9         4227.0    3.5    NV  \n",
       "10        4206.0    3.5    NV  \n",
       "11        4117.0    2.5    NV  \n",
       "12        3998.0    4.0    NV  \n",
       "13        3944.0    3.0    NV  \n",
       "14        3929.0    3.0    NV  \n",
       "15        3859.0    4.0    NV  \n",
       "16        3627.0    3.5    NV  \n",
       "17        3576.0    4.5    NV  \n",
       "18        3547.0    4.0    NV  \n",
       "19        3499.0    4.0    NV  "
      ]
     },
     "execution_count": 20,
     "metadata": {},
     "output_type": "execute_result"
    }
   ],
   "source": [
    "# target restaurants \n",
    "# 89109 cYwJA2A6I12KNkm2rtXd5g Gordon Ramsay BurGR\n",
    "# 89109 eoHdUeQDNgQ6WYEnP2aiRw Serendipity 3\n",
    "# 89109 K7lWdNUhCbcnEvI0NhGewg Wicked Spoon\n",
    "top_20.toPandas()"
   ]
  },
  {
   "cell_type": "markdown",
   "metadata": {},
   "source": [
    "# Filter data using spark sql"
   ]
  },
  {
   "cell_type": "code",
   "execution_count": 21,
   "metadata": {},
   "outputs": [],
   "source": [
    "business.createOrReplaceTempView(\"business\")"
   ]
  },
  {
   "cell_type": "code",
   "execution_count": 39,
   "metadata": {},
   "outputs": [],
   "source": [
    "select_business_overall = spark.sql(\"\"\"\n",
    "    SELECT business_id, name, categories, city, postal_code, review_count, state \n",
    "    from business\n",
    "    WHERE state = 'NV' AND \n",
    "    (LOWER(business.city) = 'las vegas' \n",
    "     OR LOWER(business.city) = '110 Las Vegas' \n",
    "     OR LOWER(business.city) = 'las vegas & henderson'\n",
    "     OR LOWER(business.city) = 'las vegas east'\n",
    "     OR LOWER(business.city) = 'las vegas nv'\n",
    "     OR LOWER(business.city) = 'las vegas nevada'\n",
    "     OR LOWER(business.city) = 'las vegas valley'\n",
    "     OR LOWER(business.city) = 'las vegas, nv'\n",
    "     OR LOWER(business.city) = 'las vegass'\n",
    "     OR LOWER(business.city) = 'las vergas'\n",
    "     OR LOWER(business.city) = 'lasvegas')\n",
    "\"\"\")"
   ]
  },
  {
   "cell_type": "code",
   "execution_count": 40,
   "metadata": {},
   "outputs": [
    {
     "name": "stdout",
     "output_type": "stream",
     "text": [
      "+--------------------+--------------------+--------------------+---------+-----------+------------+-----+\n",
      "|         business_id|                name|          categories|     city|postal_code|review_count|state|\n",
      "+--------------------+--------------------+--------------------+---------+-----------+------------+-----+\n",
      "|gbQN7vr_caG_A1ugS...|           Supercuts|Hair Salons, Hair...|Las Vegas|      89121|           3|   NV|\n",
      "|PZ-LZzSlhSe9utkQY...|Carluccio's Tivol...|Restaurants, Italian|Las Vegas|      89119|          40|   NV|\n",
      "|nh_kQ16QAoXWwqZ05...|Myron Hensel Phot...|Event Planning & ...|Las Vegas|      89121|          21|   NV|\n",
      "|dFMxzHygTy6F87384...|      Fremont Arcade|Arcades, Arts & E...|Las Vegas|      89101|          38|   NV|\n",
      "|KWywu2tTEPWmR9JnB...|        Hunk Mansion|Nightlife, Arts &...|Las Vegas|      89118|         107|   NV|\n",
      "|BsMdebN4nZySpGTfX...|            Maurices|Women's Clothing,...|Las Vegas|      89149|           4|   NV|\n",
      "|tstimHoMcYbkSC4eB...|Maria's Mexican R...|Mexican, Restaura...|Las Vegas|      89156|         184|   NV|\n",
      "|iojTeSaoPuxm4WeCz...|        AW Collision|Car Rental, Winds...|Las Vegas|      89102|          52|   NV|\n",
      "|LB6ZyCfUzeX9OLdun...| Ross Dress for Less|Shopping, Home & ...|Las Vegas|      89117|          38|   NV|\n",
      "|HVPcIcqiJkrpD36xZ...|     Bank of America|Home Services, Re...|Las Vegas|      89108|          19|   NV|\n",
      "|FDI2PkyJBWEVFZ0nd...|Wesley Friedman -...|Real Estate, Home...|Las Vegas|      89118|           6|   NV|\n",
      "|Qwt9lOpplBAZ7JBrg...|Pine Village Apar...|Home Services, Re...|Las Vegas|      89102|           5|   NV|\n",
      "|NBn4hgfGtNz91k3Vs...|        Three Square|Local Services, F...|Las Vegas|      89115|          44|   NV|\n",
      "|a_TfmuLIHsRDyg7aV...|     Bank of America|Financial Service...|Las Vegas|      89148|          27|   NV|\n",
      "|R3rss9fkfJxiOK6Du...|          La Fortuna|Shopping, Women's...|Las Vegas|      89109|           5|   NV|\n",
      "|kJbteCeQTiEB8Xdn9...|Transformers Land...|Tree Services, La...|Las Vegas|      89156|           9|   NV|\n",
      "|5sFVttifV5ID8Gs0-...|      Hair by Sharyn|Hair Loss Centers...|Las Vegas|      89117|           8|   NV|\n",
      "|kANF0dbeoW34s2vwh...|         Dairy Queen|Fast Food, Food, ...|Las Vegas|      89146|          33|   NV|\n",
      "|1gkJBdrkfdO7rEMml...|  Llantera Del Norte|Automotive, Auto ...|Las Vegas|      89115|           4|   NV|\n",
      "|gas3YSrKkEcBliUHh...|Tiffany & Co - Fo...|Accessories, Shop...|Las Vegas|      89109|          21|   NV|\n",
      "+--------------------+--------------------+--------------------+---------+-----------+------------+-----+\n",
      "only showing top 20 rows\n",
      "\n"
     ]
    }
   ],
   "source": [
    "select_business_overall.show()"
   ]
  },
  {
   "cell_type": "code",
   "execution_count": 33,
   "metadata": {},
   "outputs": [],
   "source": [
    "review.createOrReplaceTempView(\"review\")"
   ]
  },
  {
   "cell_type": "code",
   "execution_count": 41,
   "metadata": {},
   "outputs": [],
   "source": [
    "select_business_overall.createOrReplaceTempView(\"select_business_overall_sql\")"
   ]
  },
  {
   "cell_type": "code",
   "execution_count": 51,
   "metadata": {},
   "outputs": [],
   "source": [
    "select_review_overall = spark.sql(\"\"\"\n",
    "    SELECT business_id, review_id, date, stars\n",
    "    from review\n",
    "    WHERE business_id IN (\n",
    "    SELECT business_id FROM select_business_overall_sql\n",
    "    )\n",
    "\"\"\")"
   ]
  },
  {
   "cell_type": "code",
   "execution_count": 52,
   "metadata": {},
   "outputs": [
    {
     "name": "stdout",
     "output_type": "stream",
     "text": [
      "+--------------------+--------------------+----------+-----+\n",
      "|         business_id|           review_id|      date|stars|\n",
      "+--------------------+--------------------+----------+-----+\n",
      "|ujmEBvifdJM6h6RLv...|Q1sbwvVQXV2734tPg...|2013-05-07|  1.0|\n",
      "|NZnhc2sEQy3RmzKTZ...|GJXCdrto3ASJOqKeV...|2017-01-14|  5.0|\n",
      "|oxwGyA17NL6c5t1Et...|RS_GTIT6836bCaPy6...|2012-02-29|  3.0|\n",
      "|8mIrX_LrOnAqWsB5J...|kbtscdyz6lvrtGjD1...|2011-11-30|  4.0|\n",
      "|LUN6swQYa4xJKaM_U...|qlXw1JQ0UodW7qrmV...|2018-04-27|  4.0|\n",
      "|I4Nr-MVc26qWr08-S...|IByf6mVY0WA838XNS...|2016-01-17|  4.0|\n",
      "|d_L-rfS1vT3JMzgCU...|S337tATeouQJdoPYy...|2016-07-25|  5.0|\n",
      "|Sfc8Haz2Yri8Mo1L0...|D_UvaenM25iNd6aeh...|2012-11-06|  5.0|\n",
      "|Gyrez6K8f1AyR7dzW...|qm97yMwREr7BKkexl...|2013-12-28|  5.0|\n",
      "|SNL64axQhCO6Z7ohc...|DAC4zWY2ZMa1vxpN9...|2017-02-09|  1.0|\n",
      "|dm6sO_Y8JdKTE1ZM9...|0AsmPiAQduxh5jE_s...|2014-12-17|  5.0|\n",
      "|N0apJkxIem2E8irTB...|wOv7JiO0EGcJ61P2J...|2015-01-18|  2.0|\n",
      "|IMLrj2klosTFvPRLv...|JIC8qNMbcAPAzQMPr...|2014-10-11|  4.0|\n",
      "|wJj1EwYcXHdvA9zKq...|NqYSX93Amv4sd5pPP...|2018-10-04|  5.0|\n",
      "|ujHiaprwCQ5ewziu0...|f0B9-r14-bLudyu5S...|2013-12-07|  1.0|\n",
      "|OVTZNSkSfbl3gVB9X...|u1jQX0KfnG3AHty4i...|2010-01-08|  4.0|\n",
      "|X5uxdU9GHoUAqo2wm...|bvEdkl-weZGMLLRF9...|2015-11-06|  5.0|\n",
      "|eoyvbnRYQe-z85e8R...|7Jy730ib54YKYgZRv...|2013-08-15|  4.0|\n",
      "|OVTZNSkSfbl3gVB9X...|VqZMgUf4wQMTeCWg2...|2014-09-09|  3.0|\n",
      "|SU56w479vUfFHsvmv...|E4LqIZ7DJd_R4ZHSN...|2016-07-25|  4.0|\n",
      "+--------------------+--------------------+----------+-----+\n",
      "only showing top 20 rows\n",
      "\n"
     ]
    }
   ],
   "source": [
    "select_review_overall.show()"
   ]
  },
  {
   "cell_type": "code",
   "execution_count": 37,
   "metadata": {},
   "outputs": [],
   "source": [
    "#inner_join_1 = select_review_1.join(select_business_1, ['business_id'])\n",
    "#inner_join_1.show()"
   ]
  },
  {
   "cell_type": "code",
   "execution_count": 53,
   "metadata": {},
   "outputs": [],
   "source": [
    "# output file\n",
    "select_review_overall.toPandas().to_csv('NV_review.csv')"
   ]
  },
  {
   "cell_type": "code",
   "execution_count": 54,
   "metadata": {},
   "outputs": [],
   "source": [
    "# output file\n",
    "select_business_overall.toPandas().to_csv('NV_business.csv')"
   ]
  },
  {
   "cell_type": "markdown",
   "metadata": {},
   "source": [
    "# Top3 business id to be the 'present'"
   ]
  },
  {
   "cell_type": "code",
   "execution_count": 107,
   "metadata": {},
   "outputs": [],
   "source": [
    "select_business_overall.createOrReplaceTempView(\"select_business_overall\")"
   ]
  },
  {
   "cell_type": "code",
   "execution_count": 110,
   "metadata": {},
   "outputs": [],
   "source": [
    "top_3_presentitive = spark.sql(\"\"\"\n",
    "    SELECT business_id, name, categories, city, postal_code, review_count, state \n",
    "    from select_business_overall\n",
    "    WHERE business_id IN ('cYwJA2A6I12KNkm2rtXd5g', 'eoHdUeQDNgQ6WYEnP2aiRw', 'K7lWdNUhCbcnEvI0NhGewg') \n",
    "    \"\"\"\n",
    "    )"
   ]
  },
  {
   "cell_type": "code",
   "execution_count": 111,
   "metadata": {},
   "outputs": [
    {
     "name": "stdout",
     "output_type": "stream",
     "text": [
      "+--------------------+-------------------+--------------------+---------+-----------+------------+-----+\n",
      "|         business_id|               name|          categories|     city|postal_code|review_count|state|\n",
      "+--------------------+-------------------+--------------------+---------+-----------+------------+-----+\n",
      "|K7lWdNUhCbcnEvI0N...|       Wicked Spoon|Buffets, Breakfas...|Las Vegas|      89109|        6708|   NV|\n",
      "|eoHdUeQDNgQ6WYEnP...|      Serendipity 3|Juice Bars & Smoo...|Las Vegas|      89109|        3929|   NV|\n",
      "|cYwJA2A6I12KNkm2r...|Gordon Ramsay BurGR|Restaurants, Burg...|Las Vegas|      89109|        5484|   NV|\n",
      "+--------------------+-------------------+--------------------+---------+-----------+------------+-----+\n",
      "\n"
     ]
    }
   ],
   "source": [
    "top_3_presentitive.show()"
   ]
  },
  {
   "cell_type": "code",
   "execution_count": 112,
   "metadata": {},
   "outputs": [],
   "source": [
    "top_3_presentitive.createOrReplaceTempView(\"top_3_presentitive\")"
   ]
  },
  {
   "cell_type": "code",
   "execution_count": 113,
   "metadata": {},
   "outputs": [],
   "source": [
    "top_3_review= spark.sql(\"\"\"\n",
    "    SELECT business_id, date, stars\n",
    "    from review\n",
    "    WHERE business_id IN (\n",
    "    SELECT business_id FROM top_3_presentitive\n",
    "    )\n",
    "\"\"\")"
   ]
  },
  {
   "cell_type": "code",
   "execution_count": 114,
   "metadata": {},
   "outputs": [
    {
     "name": "stdout",
     "output_type": "stream",
     "text": [
      "+--------------------+----------+-----+\n",
      "|         business_id|      date|stars|\n",
      "+--------------------+----------+-----+\n",
      "|K7lWdNUhCbcnEvI0N...|2017-08-16|  2.0|\n",
      "|K7lWdNUhCbcnEvI0N...|2013-10-24|  5.0|\n",
      "|K7lWdNUhCbcnEvI0N...|2016-07-14|  5.0|\n",
      "|K7lWdNUhCbcnEvI0N...|2017-04-07|  5.0|\n",
      "|K7lWdNUhCbcnEvI0N...|2017-01-14|  4.0|\n",
      "|K7lWdNUhCbcnEvI0N...|2017-05-13|  4.0|\n",
      "|K7lWdNUhCbcnEvI0N...|2018-08-04|  4.0|\n",
      "|K7lWdNUhCbcnEvI0N...|2016-09-18|  3.0|\n",
      "|K7lWdNUhCbcnEvI0N...|2016-01-04|  2.0|\n",
      "|K7lWdNUhCbcnEvI0N...|2017-02-19|  3.0|\n",
      "|K7lWdNUhCbcnEvI0N...|2014-02-23|  5.0|\n",
      "|K7lWdNUhCbcnEvI0N...|2014-10-27|  4.0|\n",
      "|K7lWdNUhCbcnEvI0N...|2017-03-27|  5.0|\n",
      "|K7lWdNUhCbcnEvI0N...|2011-06-29|  5.0|\n",
      "|K7lWdNUhCbcnEvI0N...|2011-06-29|  3.0|\n",
      "|K7lWdNUhCbcnEvI0N...|2011-08-25|  3.0|\n",
      "|K7lWdNUhCbcnEvI0N...|2018-08-04|  4.0|\n",
      "|K7lWdNUhCbcnEvI0N...|2015-03-18|  3.0|\n",
      "|K7lWdNUhCbcnEvI0N...|2013-12-07|  4.0|\n",
      "|K7lWdNUhCbcnEvI0N...|2015-05-26|  1.0|\n",
      "+--------------------+----------+-----+\n",
      "only showing top 20 rows\n",
      "\n"
     ]
    }
   ],
   "source": [
    "top_3_review.show()"
   ]
  },
  {
   "cell_type": "code",
   "execution_count": 115,
   "metadata": {},
   "outputs": [],
   "source": [
    "# output file\n",
    "top_3_review.toPandas().to_csv('top_3_review.csv')\n",
    "top_3_presentitive.toPandas().to_csv('top_3_presentitive.csv')"
   ]
  },
  {
   "cell_type": "markdown",
   "metadata": {},
   "source": [
    "# Look at restaurant compeititors"
   ]
  },
  {
   "cell_type": "markdown",
   "metadata": {},
   "source": [
    "We define competitor by zipcode and cusine type and consider the restaurants that have the same zipcode and cusine type as nearby competitors."
   ]
  },
  {
   "cell_type": "markdown",
   "metadata": {},
   "source": [
    "Prepare data for 'cluster 1'"
   ]
  },
  {
   "cell_type": "code",
   "execution_count": 89,
   "metadata": {},
   "outputs": [],
   "source": [
    "select_business_1 = spark.sql(\"\"\"\n",
    "    SELECT business_id, name, categories, city, postal_code, review_count, state \n",
    "    from business\n",
    "    WHERE business_id = 'cYwJA2A6I12KNkm2rtXd5g'\n",
    "\"\"\")\n",
    "# K7lWdNUhCbcnEvI0NhGewg cYwJA2A6I12KNkm2rtXd5g"
   ]
  },
  {
   "cell_type": "code",
   "execution_count": 90,
   "metadata": {},
   "outputs": [
    {
     "name": "stdout",
     "output_type": "stream",
     "text": [
      "+----------------------+-------------------+--------------------------------------------+---------+-----------+------------+-----+\n",
      "|business_id           |name               |categories                                  |city     |postal_code|review_count|state|\n",
      "+----------------------+-------------------+--------------------------------------------+---------+-----------+------------+-----+\n",
      "|cYwJA2A6I12KNkm2rtXd5g|Gordon Ramsay BurGR|Restaurants, Burgers, American (Traditional)|Las Vegas|89109      |5484        |NV   |\n",
      "+----------------------+-------------------+--------------------------------------------+---------+-----------+------------+-----+\n",
      "\n"
     ]
    }
   ],
   "source": [
    "select_business_1.show(truncate = False)"
   ]
  },
  {
   "cell_type": "code",
   "execution_count": 42,
   "metadata": {},
   "outputs": [],
   "source": [
    "#key word: Burgers, American to find neighbors\n",
    "select_neighbor_for_1 = spark.sql(\"\"\"\n",
    "    SELECT business_id, name, categories, city, postal_code, review_count, state \n",
    "    from select_business_overall_sql\n",
    "    WHERE postal_code = '89109' AND\n",
    "    (categories LIKE '%Burgers%' OR categories LIKE '%American%')\n",
    "\"\"\")"
   ]
  },
  {
   "cell_type": "code",
   "execution_count": 64,
   "metadata": {},
   "outputs": [
    {
     "name": "stdout",
     "output_type": "stream",
     "text": [
      "+--------------------+--------------------+--------------------+---------+-----------+------------+-----+\n",
      "|         business_id|                name|          categories|     city|postal_code|review_count|state|\n",
      "+--------------------+--------------------+--------------------+---------+-----------+------------+-----+\n",
      "|ujHiaprwCQ5ewziu0...|The Buffet at Bel...|American (New), B...|Las Vegas|      89109|        4227|   NV|\n",
      "|7Wr0piSMGiq5qy5op...|        Cabana Grill|American (Traditi...|Las Vegas|      89109|          32|   NV|\n",
      "|c_iQzwsTDYraPvHSK...|       Sugar Factory|American (New), R...|Las Vegas|      89109|         760|   NV|\n",
      "|LPnGdeEJyMMO02e02...|P.J. Clarke's New...|Steakhouses, Gast...|Las Vegas|      89109|         236|   NV|\n",
      "|f_eiOrEcMnkHB7GvQ...| Terrace Pointe Cafe|American (Traditi...|Las Vegas|      89109|         744|   NV|\n",
      "|gc_GGat7TgNCmrgc4...|               Crush|Nightlife, Tapas ...|Las Vegas|      89109|         256|   NV|\n",
      "|XXW_OFaYQkkGOGniu...|The Peppermill Re...|Nightlife, Lounge...|Las Vegas|      89109|        3260|   NV|\n",
      "|VUtazCTIc0aoOrQpr...|Toby Keith's I Lo...|Restaurants, Nigh...|Las Vegas|      89109|         641|   NV|\n",
      "|uuGL8diLlHfeUeFuo...|         Tom's Urban|Gastropubs, Night...|Las Vegas|      89109|        1671|   NV|\n",
      "|gOOfBSBZlffCkQ7dr...|               Chica|Latin American, M...|Las Vegas|      89109|         598|   NV|\n",
      "|ujKxpaUmTUVpGRBFS...|       Bradley Ogden|Restaurants, Amer...|Las Vegas|      89109|         204|   NV|\n",
      "|L7SKlQ4hH12eIqmab...|                 DJT|Restaurants, Amer...|Las Vegas|      89109|         139|   NV|\n",
      "|ZL15NFVdN7hG0NUXp...|The Habit Burger ...|Burgers, Restaurants|Las Vegas|      89109|          25|   NV|\n",
      "|86xm0Q8iX5ZjODWMk...|Popeyes Louisiana...|American (Traditi...|Las Vegas|      89109|          30|   NV|\n",
      "|OVTZNSkSfbl3gVB9X...|     Cravings Buffet|American (New), B...|Las Vegas|      89109|        1367|   NV|\n",
      "|P2dFr-Jg1OUoNMika...|      Café Hollywood|American (Traditi...|Las Vegas|      89109|         129|   NV|\n",
      "|60k9jrzsQ-uO8dlQu...|         Burger King|Burgers, Restaura...|Las Vegas|      89109|           9|   NV|\n",
      "|P7Dqa0IbcFgRZ1aK7...|          McDonald's|Fast Food, Coffee...|Las Vegas|      89109|          57|   NV|\n",
      "|7EZ4Eu7YJ1ltRCC5j...|Corner Market Buffet|Event Planning & ...|Las Vegas|      89109|         760|   NV|\n",
      "|k1PkpDm5d5pYJI1K_...|     Nathan's Famous|Restaurants, Chee...|Las Vegas|      89109|          93|   NV|\n",
      "+--------------------+--------------------+--------------------+---------+-----------+------------+-----+\n",
      "only showing top 20 rows\n",
      "\n"
     ]
    }
   ],
   "source": [
    "select_neighbor_for_1.show()"
   ]
  },
  {
   "cell_type": "code",
   "execution_count": 44,
   "metadata": {},
   "outputs": [],
   "source": [
    "select_neighbor_for_1.createOrReplaceTempView(\"select_neighbor_for_1\")"
   ]
  },
  {
   "cell_type": "code",
   "execution_count": 45,
   "metadata": {},
   "outputs": [],
   "source": [
    "select_review_cluster1= spark.sql(\"\"\"\n",
    "    SELECT business_id, date, stars, text\n",
    "    from review\n",
    "    WHERE business_id IN (\n",
    "    SELECT business_id FROM select_neighbor_for_1\n",
    "    )\n",
    "\"\"\")"
   ]
  },
  {
   "cell_type": "code",
   "execution_count": 46,
   "metadata": {},
   "outputs": [
    {
     "name": "stdout",
     "output_type": "stream",
     "text": [
      "+--------------------+----------+-----+--------------------+\n",
      "|         business_id|      date|stars|                text|\n",
      "+--------------------+----------+-----+--------------------+\n",
      "|N0apJkxIem2E8irTB...|2015-01-18|  2.0|Went here last we...|\n",
      "|ujHiaprwCQ5ewziu0...|2013-12-07|  1.0|We had dinner at ...|\n",
      "|OVTZNSkSfbl3gVB9X...|2010-01-08|  4.0|notes: 1 visit, b...|\n",
      "|OVTZNSkSfbl3gVB9X...|2014-09-09|  3.0|We went here Satu...|\n",
      "|HhVmDybpU7L50Kb5A...|2015-03-06|  4.0|Wonderful experie...|\n",
      "|XXW_OFaYQkkGOGniu...|2018-02-23|  4.0|\"Good morning, co...|\n",
      "|HhVmDybpU7L50Kb5A...|2016-01-30|  5.0|Hands down best B...|\n",
      "|0Yeb_P24sj6MwG2qm...|2018-08-23|  4.0|Quiet bar and gri...|\n",
      "|gOOfBSBZlffCkQ7dr...|2018-04-27|  5.0|Five stars! I hig...|\n",
      "|faPVqws-x-5k2CQKD...|2018-08-04|  5.0|Service was amazi...|\n",
      "|gc_GGat7TgNCmrgc4...|2017-03-27|  5.0|I had THE BEST VE...|\n",
      "|7EZ4Eu7YJ1ltRCC5j...|2017-01-02|  2.0|Food taste Ok. I ...|\n",
      "|ujHiaprwCQ5ewziu0...|2015-12-05|  4.0|Around $45 for a ...|\n",
      "|gOOfBSBZlffCkQ7dr...|2018-04-27|  4.0|Went in on a Frid...|\n",
      "|A4zLP5AyKEEHQr_dW...|2017-01-02|  4.0|I was very skepti...|\n",
      "|7EZ4Eu7YJ1ltRCC5j...|2013-10-03|  3.0|The service was p...|\n",
      "|uuGL8diLlHfeUeFuo...|2016-07-14|  5.0|Freaking BOMB Mac...|\n",
      "|ujHiaprwCQ5ewziu0...|2017-02-09|  2.0|Went for Saturday...|\n",
      "|ujHiaprwCQ5ewziu0...|2010-07-07|  2.0|Having dined at m...|\n",
      "|-U7tvCtaraTQ9b0zB...|2016-02-23|  3.0|It wasn't as grea...|\n",
      "+--------------------+----------+-----+--------------------+\n",
      "only showing top 20 rows\n",
      "\n"
     ]
    }
   ],
   "source": [
    "select_review_cluster1.show()"
   ]
  },
  {
   "cell_type": "code",
   "execution_count": 47,
   "metadata": {},
   "outputs": [],
   "source": [
    "# output file\n",
    "select_review_cluster1.toPandas().to_csv('cluster1.csv')"
   ]
  },
  {
   "cell_type": "code",
   "execution_count": 48,
   "metadata": {},
   "outputs": [],
   "source": [
    "# output file\n",
    "select_neighbor_for_1.toPandas().to_csv('cluster1_supp.csv')"
   ]
  },
  {
   "cell_type": "markdown",
   "metadata": {},
   "source": [
    "Prepare data for 'cluster 2'"
   ]
  },
  {
   "cell_type": "code",
   "execution_count": 99,
   "metadata": {},
   "outputs": [],
   "source": [
    "select_business_2 = spark.sql(\"\"\"\n",
    "    SELECT business_id, name, categories, city, postal_code, review_count, state \n",
    "    from business\n",
    "    WHERE business_id = 'eoHdUeQDNgQ6WYEnP2aiRw'\n",
    "\"\"\")"
   ]
  },
  {
   "cell_type": "code",
   "execution_count": 100,
   "metadata": {},
   "outputs": [
    {
     "name": "stdout",
     "output_type": "stream",
     "text": [
      "+----------------------+-------------+---------------------------------------------------------------------------------------------------------------------------------------------+---------+-----------+------------+-----+\n",
      "|business_id           |name         |categories                                                                                                                                   |city     |postal_code|review_count|state|\n",
      "+----------------------+-------------+---------------------------------------------------------------------------------------------------------------------------------------------+---------+-----------+------------+-----+\n",
      "|eoHdUeQDNgQ6WYEnP2aiRw|Serendipity 3|Juice Bars & Smoothies, Social Clubs, Arts & Entertainment, American (Traditional), Local Flavor, Restaurants, Desserts, American (New), Food|Las Vegas|89109      |3929        |NV   |\n",
      "+----------------------+-------------+---------------------------------------------------------------------------------------------------------------------------------------------+---------+-----------+------------+-----+\n",
      "\n"
     ]
    }
   ],
   "source": [
    "select_business_2.show(truncate = False)"
   ]
  },
  {
   "cell_type": "code",
   "execution_count": 101,
   "metadata": {},
   "outputs": [],
   "source": [
    "#key word: Juice, Desserts to find neighbors\n",
    "select_neighbor_for_2 = spark.sql(\"\"\"\n",
    "    SELECT business_id, name, categories, city, postal_code, review_count, state \n",
    "    from select_business_overall_sql\n",
    "    WHERE postal_code = '89104' AND\n",
    "    (categories LIKE '%Juice%' OR categories LIKE '%Desserts%')\n",
    "\"\"\")"
   ]
  },
  {
   "cell_type": "code",
   "execution_count": 102,
   "metadata": {},
   "outputs": [
    {
     "name": "stdout",
     "output_type": "stream",
     "text": [
      "+--------------------+--------------------+--------------------+---------+-----------+------------+-----+\n",
      "|         business_id|                name|          categories|     city|postal_code|review_count|state|\n",
      "+--------------------+--------------------+--------------------+---------+-----------+------------+-----+\n",
      "|2k01kgbLdNV9b19Gr...|Italian Oasis Piz...|Food, Food Delive...|Las Vegas|      89104|          58|   NV|\n",
      "|3r8Habv8ufqrYIPLz...|      Tower Creamery|Desserts, Food, D...|Las Vegas|      89104|           3|   NV|\n",
      "|UkFMV7WGFfE_u8zyU...|La Flor de Michoacan|Ice Cream & Froze...|Las Vegas|      89104|          66|   NV|\n",
      "|O7UMzd3i-Zk8dMeyY...|      Art of Flavors|Gelato, Ice Cream...|Las Vegas|      89104|         350|   NV|\n",
      "|t39GXLz1mLsHbmZm9...|          Brasa Roja|Latin American, F...|Las Vegas|      89104|          35|   NV|\n",
      "|KJLduFIJ1SPF8tmNf...|         Vitamin HUB|Shopping, Health ...|Las Vegas|      89104|           5|   NV|\n",
      "|ijg7qQCYnhUWBd5JU...|        Roxy's Diner|Restaurants, Brea...|Las Vegas|      89104|         413|   NV|\n",
      "|4Y-yflxHszNt-pngw...|Sweet Strawberry ...|Bakeries, Food, C...|Las Vegas|      89104|           6|   NV|\n",
      "|5TeA1dyLR7MIor-Df...|      Cherry Berries|Food, Ice Cream &...|Las Vegas|      89104|          41|   NV|\n",
      "|CYeICxCmbdYbOEQxV...|D-Scoops & Sweets...|Ice Cream & Froze...|Las Vegas|      89104|          41|   NV|\n",
      "|aSHTlWB56c3bWOsRD...|   Agua El Manantial|Restaurants, Shav...|Las Vegas|      89104|          10|   NV|\n",
      "|IPJ2H8VyjC5tuK_4a...|Mookies Gourmet C...|Ice Cream & Froze...|Las Vegas|      89104|          11|   NV|\n",
      "|GzBIAjAMHD9iVZK8B...|        Tacos Huevos|Breakfast & Brunc...|Las Vegas|      89104|         265|   NV|\n",
      "|MQ9FwcgKsvkuPVtIf...|      Baskin-Robbins|Custom Cakes, Ice...|Las Vegas|      89104|          10|   NV|\n",
      "|-NR4KqS6lHseNvJ-G...|      Art of Flavors|Gelato, Food, Cof...|Las Vegas|      89104|         132|   NV|\n",
      "|kr27iu084jHMbpXXT...|Planet Protein Sn...|Juice Bars & Smoo...|Las Vegas|      89104|           6|   NV|\n",
      "|cQjM4o-4SOSmLemQS...|    La  Dulce Espera|Ice Cream & Froze...|Las Vegas|      89104|           3|   NV|\n",
      "|GT9Hx_Na0vH3Na7ym...|Shooters Bar & Grill|Sports Bars, Pizz...|Las Vegas|      89104|          24|   NV|\n",
      "|9u8JdGFXRn2iHnO8p...|Aracelli Zea Cake...|Desserts, Food, B...|Las Vegas|      89104|          18|   NV|\n",
      "+--------------------+--------------------+--------------------+---------+-----------+------------+-----+\n",
      "\n"
     ]
    }
   ],
   "source": [
    "select_neighbor_for_2.show()"
   ]
  },
  {
   "cell_type": "code",
   "execution_count": 103,
   "metadata": {},
   "outputs": [],
   "source": [
    "select_neighbor_for_2.createOrReplaceTempView(\"select_neighbor_for_2\")"
   ]
  },
  {
   "cell_type": "code",
   "execution_count": 104,
   "metadata": {},
   "outputs": [],
   "source": [
    "select_review_cluster2= spark.sql(\"\"\"\n",
    "    SELECT business_id, date, stars, text\n",
    "    from review\n",
    "    WHERE business_id IN (\n",
    "    SELECT business_id FROM select_neighbor_for_2\n",
    "    )\n",
    "\"\"\")"
   ]
  },
  {
   "cell_type": "code",
   "execution_count": 105,
   "metadata": {},
   "outputs": [
    {
     "name": "stdout",
     "output_type": "stream",
     "text": [
      "+--------------------+----------+-----+--------------------+\n",
      "|         business_id|      date|stars|                text|\n",
      "+--------------------+----------+-----+--------------------+\n",
      "|O7UMzd3i-Zk8dMeyY...|2014-09-25|  5.0|The gelato here i...|\n",
      "|O7UMzd3i-Zk8dMeyY...|2013-10-24|  5.0|Yeah this is a le...|\n",
      "|UkFMV7WGFfE_u8zyU...|2018-02-11|  5.0|I live in Summerl...|\n",
      "|O7UMzd3i-Zk8dMeyY...|2014-06-28|  4.0|This place is awe...|\n",
      "|O7UMzd3i-Zk8dMeyY...|2013-12-29|  3.0|Just OK\n",
      "We had pl...|\n",
      "|O7UMzd3i-Zk8dMeyY...|2015-02-02|  4.0|Update: Apparentl...|\n",
      "|O7UMzd3i-Zk8dMeyY...|2015-06-21|  5.0|Best ice cream in...|\n",
      "|t39GXLz1mLsHbmZm9...|2018-06-08|  5.0|What a wonderful ...|\n",
      "|O7UMzd3i-Zk8dMeyY...|2014-09-09|  5.0|The ultimate gela...|\n",
      "|O7UMzd3i-Zk8dMeyY...|2014-01-17|  5.0|Just perfect! Man...|\n",
      "|O7UMzd3i-Zk8dMeyY...|2014-01-17|  5.0|It's no surprise ...|\n",
      "|O7UMzd3i-Zk8dMeyY...|2013-11-14|  5.0|BEST GELATO EXPER...|\n",
      "|UkFMV7WGFfE_u8zyU...|2016-05-19|  5.0|First tine here. ...|\n",
      "|O7UMzd3i-Zk8dMeyY...|2014-09-10|  3.0|The gelato was go...|\n",
      "|O7UMzd3i-Zk8dMeyY...|2014-11-30|  5.0|Amazing. It is so...|\n",
      "|2k01kgbLdNV9b19Gr...|2017-04-20|  5.0|Total sleeper, th...|\n",
      "|O7UMzd3i-Zk8dMeyY...|2014-05-26|  5.0|Delicious gelato,...|\n",
      "|O7UMzd3i-Zk8dMeyY...|2014-05-08|  5.0|What is not to lo...|\n",
      "|3r8Habv8ufqrYIPLz...|2018-05-19|  5.0|Yummy ice cream. ...|\n",
      "|O7UMzd3i-Zk8dMeyY...|2013-12-30|  5.0|Amazing dessert p...|\n",
      "+--------------------+----------+-----+--------------------+\n",
      "only showing top 20 rows\n",
      "\n"
     ]
    }
   ],
   "source": [
    "select_review_cluster2.show()"
   ]
  },
  {
   "cell_type": "code",
   "execution_count": 106,
   "metadata": {},
   "outputs": [],
   "source": [
    "# output file\n",
    "select_review_cluster2.toPandas().to_csv('cluster2.csv')\n",
    "select_neighbor_for_2.toPandas().to_csv('cluster2_supp.csv')"
   ]
  },
  {
   "cell_type": "markdown",
   "metadata": {},
   "source": [
    "Prepare data for 'cluster 3'"
   ]
  },
  {
   "cell_type": "code",
   "execution_count": 91,
   "metadata": {},
   "outputs": [],
   "source": [
    "select_business_3 = spark.sql(\"\"\"\n",
    "    SELECT business_id, name, categories, city, postal_code, review_count, state \n",
    "    from business\n",
    "    WHERE business_id = 'K7lWdNUhCbcnEvI0NhGewg'\n",
    "\"\"\")"
   ]
  },
  {
   "cell_type": "code",
   "execution_count": 92,
   "metadata": {},
   "outputs": [
    {
     "name": "stdout",
     "output_type": "stream",
     "text": [
      "+----------------------+------------+----------------------------------------+---------+-----------+------------+-----+\n",
      "|business_id           |name        |categories                              |city     |postal_code|review_count|state|\n",
      "+----------------------+------------+----------------------------------------+---------+-----------+------------+-----+\n",
      "|K7lWdNUhCbcnEvI0NhGewg|Wicked Spoon|Buffets, Breakfast & Brunch, Restaurants|Las Vegas|89109      |6708        |NV   |\n",
      "+----------------------+------------+----------------------------------------+---------+-----------+------------+-----+\n",
      "\n"
     ]
    }
   ],
   "source": [
    "select_business_3.show(truncate = False)"
   ]
  },
  {
   "cell_type": "code",
   "execution_count": 93,
   "metadata": {},
   "outputs": [],
   "source": [
    "#key word: Breakfast, Brunch, Buffets\n",
    "select_neighbor_for_3 = spark.sql(\"\"\"\n",
    "    SELECT business_id, name, categories, city, postal_code, review_count, state \n",
    "    from select_business_overall_sql\n",
    "    WHERE postal_code = '89102' AND\n",
    "    (categories LIKE '%Breakfast%' OR categories LIKE '%Brunch%' OR categories LIKE '%Buffets%')\n",
    "\"\"\")"
   ]
  },
  {
   "cell_type": "code",
   "execution_count": 94,
   "metadata": {},
   "outputs": [
    {
     "name": "stdout",
     "output_type": "stream",
     "text": [
      "+--------------------+--------------------+--------------------+---------+-----------+------------+-----+\n",
      "|         business_id|                name|          categories|     city|postal_code|review_count|state|\n",
      "+--------------------+--------------------+--------------------+---------+-----------+------------+-----+\n",
      "|k-dDZvTeLysoJvjHI...|        Feast Buffet|Buffets, Restaurants|Las Vegas|      89102|         287|   NV|\n",
      "|07gh-AImcEcWQ2bew...|             Woo Che|Barbeque, Buffets...|Las Vegas|      89102|         103|   NV|\n",
      "|nW27OMU438BjZF64l...|              Pho 90|Restaurants, Viet...|Las Vegas|      89102|         247|   NV|\n",
      "|MQXZW_c30OdTsLcLk...|   Peter Piper Pizza|Restaurants, Buff...|Las Vegas|      89102|          51|   NV|\n",
      "|D7BsSthpHkUjyIlJH...|Epoy's Filipino F...|Restaurants, Buff...|Las Vegas|      89102|           4|   NV|\n",
      "|IbiPt7jzF8Wsu82nH...|Saino Indian Nepa...|Pakistani, Indian...|Las Vegas|      89102|         106|   NV|\n",
      "|FQB3VXrWYM_m_Xrzw...|     Sura BBQ Buffet|Barbeque, Korean,...|Las Vegas|      89102|         643|   NV|\n",
      "|d2rFJ3_8ux87uyZVF...|                IHOP|Breakfast & Brunc...|Las Vegas|      89102|         103|   NV|\n",
      "|viHcW-LLmOxBMHFm0...|          Grand Cafe|Chinese, Breakfas...|Las Vegas|      89102|         111|   NV|\n",
      "|JQLi-Ow9pg391iMzw...|   Mary's Hash House|Breakfast & Brunc...|Las Vegas|      89102|         395|   NV|\n",
      "|Qc0l8rZ3nvrcERitg...|        Omelet House|Food, Restaurants...|Las Vegas|      89102|        1181|   NV|\n",
      "|QiuTcA0bKQMCyOFBF...|        Tacos Mexico|Restaurants, Mexi...|Las Vegas|      89102|         106|   NV|\n",
      "|ylwIzIHOjk5ECMoD6...|Dish Function All...|Caterers, Breakfa...|Las Vegas|      89102|          14|   NV|\n",
      "|T6mV9V8sfyW3Wj5ts...| Taqueria El Paisano|Mexican, Restaura...|Las Vegas|      89102|          31|   NV|\n",
      "|uWECX6-Uq9n8v5ipk...|Lola's A Louisana...|Breakfast & Brunc...|Las Vegas|      89102|        1056|   NV|\n",
      "|-YWr1wm_NaAlgEf9T...|  Jumbo Super Buffet|Sushi Bars, Buffe...|Las Vegas|      89102|         103|   NV|\n",
      "|TtqvXhjmXXd0nhibR...|        Nozomi Sushi|Sushi Bars, Seafo...|Las Vegas|      89102|         122|   NV|\n",
      "|OlWWHMKPSroPqnLd1...|             Denny's|American (Traditi...|Las Vegas|      89102|          78|   NV|\n",
      "|9tjX_OuFofQxLTh9p...|  Pinoy Resto Buffet|Restaurants, Buff...|Las Vegas|      89102|           6|   NV|\n",
      "|PsRvJffbQdaHhK9xH...|           Aztec Inn|Bars, Nightlife, ...|Las Vegas|      89102|          15|   NV|\n",
      "+--------------------+--------------------+--------------------+---------+-----------+------------+-----+\n",
      "only showing top 20 rows\n",
      "\n"
     ]
    }
   ],
   "source": [
    "select_neighbor_for_3.show()"
   ]
  },
  {
   "cell_type": "code",
   "execution_count": 95,
   "metadata": {},
   "outputs": [],
   "source": [
    "select_neighbor_for_3.createOrReplaceTempView(\"select_neighbor_for_3\")"
   ]
  },
  {
   "cell_type": "code",
   "execution_count": 96,
   "metadata": {},
   "outputs": [],
   "source": [
    "select_review_cluster3= spark.sql(\"\"\"\n",
    "    SELECT business_id, date, stars, text\n",
    "    from review\n",
    "    WHERE business_id IN (\n",
    "    SELECT business_id FROM select_neighbor_for_3\n",
    "    )\n",
    "\"\"\")"
   ]
  },
  {
   "cell_type": "code",
   "execution_count": 97,
   "metadata": {},
   "outputs": [
    {
     "name": "stdout",
     "output_type": "stream",
     "text": [
      "+--------------------+----------+-----+--------------------+\n",
      "|         business_id|      date|stars|                text|\n",
      "+--------------------+----------+-----+--------------------+\n",
      "|07gh-AImcEcWQ2bew...|2010-08-21|  4.0|For the price, yo...|\n",
      "|k-dDZvTeLysoJvjHI...|2016-07-14|  3.0|Definitely get yo...|\n",
      "|nW27OMU438BjZF64l...|2017-04-30|  5.0|The food was good...|\n",
      "|k-dDZvTeLysoJvjHI...|2017-04-30|  3.0|Okay so this isn'...|\n",
      "|07gh-AImcEcWQ2bew...|2012-06-26|  5.0|This place has a ...|\n",
      "|07gh-AImcEcWQ2bew...|2012-05-28|  2.0|I really didn't l...|\n",
      "|nW27OMU438BjZF64l...|2017-02-09|  5.0|I can eat Pho eve...|\n",
      "|k-dDZvTeLysoJvjHI...|2014-10-27|  3.0|Sunday dinner was...|\n",
      "|nW27OMU438BjZF64l...|2017-05-13|  1.0|Horrible language...|\n",
      "|nW27OMU438BjZF64l...|2017-07-08|  4.0|I'm from oc calif...|\n",
      "|k-dDZvTeLysoJvjHI...|2012-05-29|  1.0|Well the selectio...|\n",
      "|07gh-AImcEcWQ2bew...|2012-06-26|  2.0|Service is not on...|\n",
      "|k-dDZvTeLysoJvjHI...|2012-02-01|  5.0|Cheap prices, but...|\n",
      "|k-dDZvTeLysoJvjHI...|2015-06-21|  4.0|Food is okay, but...|\n",
      "|07gh-AImcEcWQ2bew...|2011-05-28|  5.0|I started going t...|\n",
      "|nW27OMU438BjZF64l...|2017-03-15|  4.0|Came here to try ...|\n",
      "|07gh-AImcEcWQ2bew...|2012-07-17|  5.0|Love the bibimbap...|\n",
      "|07gh-AImcEcWQ2bew...|2009-03-06|  2.0|I was told as thi...|\n",
      "|nW27OMU438BjZF64l...|2017-03-27|  5.0|OK, I take it bac...|\n",
      "|nW27OMU438BjZF64l...|2017-08-28|  4.0|The Pho was great...|\n",
      "+--------------------+----------+-----+--------------------+\n",
      "only showing top 20 rows\n",
      "\n"
     ]
    }
   ],
   "source": [
    "select_review_cluster3.show()"
   ]
  },
  {
   "cell_type": "code",
   "execution_count": 98,
   "metadata": {},
   "outputs": [],
   "source": [
    "# output file\n",
    "select_review_cluster3.toPandas().to_csv('cluster3.csv')\n",
    "select_neighbor_for_3.toPandas().to_csv('cluster3_supp.csv')"
   ]
  },
  {
   "cell_type": "code",
   "execution_count": null,
   "metadata": {},
   "outputs": [],
   "source": []
  }
 ],
 "metadata": {
  "kernelspec": {
   "display_name": "Pyspark (Py3)",
   "language": "",
   "name": "pyspark"
  },
  "language_info": {
   "codemirror_mode": {
    "name": "ipython",
    "version": 3
   },
   "file_extension": ".py",
   "mimetype": "text/x-python",
   "name": "python",
   "nbconvert_exporter": "python",
   "pygments_lexer": "ipython3",
   "version": "3.6.7"
  }
 },
 "nbformat": 4,
 "nbformat_minor": 2
}
