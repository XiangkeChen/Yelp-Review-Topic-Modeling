{
 "cells": [
  {
   "cell_type": "markdown",
   "metadata": {},
   "source": [
    "## This ipynb explored topics of 3 resturants in Las Vegas using LDA\n",
    "\n",
    "- Wicked Spoon\n",
    "- Gordon Ramsay BurGR\n",
    "- Serendipity 3\n"
   ]
  },
  {
   "cell_type": "code",
   "execution_count": 15,
   "metadata": {},
   "outputs": [],
   "source": [
    "### Importing all packages\n",
    "import pandas as pd\n",
    "import json\n",
    "from pandas.io.json import json_normalize\n",
    "import re, string, unicodedata\n",
    "from wordcloud import WordCloud\n",
    "%matplotlib inline\n",
    "import matplotlib.pyplot as plt\n",
    "import inflect\n",
    "import nltk\n",
    "from nltk.stem import PorterStemmer \n",
    "from nltk.tokenize import word_tokenize\n",
    "from nltk.corpus import stopwords \n",
    "from nltk.stem import WordNetLemmatizer \n",
    "from hlda.sampler import HierarchicalLDA\n",
    "import gensim\n",
    "from pprint import pprint\n",
    "import spacy\n",
    "import numpy as np\n",
    "import pyLDAvis\n",
    "import pyLDAvis.gensim"
   ]
  },
  {
   "cell_type": "markdown",
   "metadata": {},
   "source": [
    "### Take a look at the sample data"
   ]
  },
  {
   "cell_type": "code",
   "execution_count": 16,
   "metadata": {},
   "outputs": [],
   "source": [
    "### Loading the data\n",
    "def mylines(filename, _from, _to):\n",
    "    with open(filename, encoding=\"utf8\") as f:\n",
    "        for i, line in enumerate(f):\n",
    "            if i >= _from and i <= _to:\n",
    "                yield json.loads(line)"
   ]
  },
  {
   "cell_type": "markdown",
   "metadata": {},
   "source": [
    "### Load the data \n",
    "#### final_target.csv: filter the top 20 resturants in Las Vegas by review counts with sentiment labels"
   ]
  },
  {
   "cell_type": "code",
   "execution_count": 17,
   "metadata": {},
   "outputs": [
    {
     "data": {
      "text/html": [
       "<div>\n",
       "<style scoped>\n",
       "    .dataframe tbody tr th:only-of-type {\n",
       "        vertical-align: middle;\n",
       "    }\n",
       "\n",
       "    .dataframe tbody tr th {\n",
       "        vertical-align: top;\n",
       "    }\n",
       "\n",
       "    .dataframe thead th {\n",
       "        text-align: right;\n",
       "    }\n",
       "</style>\n",
       "<table border=\"1\" class=\"dataframe\">\n",
       "  <thead>\n",
       "    <tr style=\"text-align: right;\">\n",
       "      <th></th>\n",
       "      <th>Unnamed: 0</th>\n",
       "      <th>business_id</th>\n",
       "      <th>cool</th>\n",
       "      <th>date</th>\n",
       "      <th>funny</th>\n",
       "      <th>review_id</th>\n",
       "      <th>stars</th>\n",
       "      <th>text</th>\n",
       "      <th>useful</th>\n",
       "      <th>user_id</th>\n",
       "      <th>prediction_rate</th>\n",
       "      <th>actual_rate</th>\n",
       "    </tr>\n",
       "  </thead>\n",
       "  <tbody>\n",
       "    <tr>\n",
       "      <th>0</th>\n",
       "      <td>0</td>\n",
       "      <td>ujHiaprwCQ5ewziu0Vi9rw</td>\n",
       "      <td>0</td>\n",
       "      <td>2013-12-07 00:14:06</td>\n",
       "      <td>0</td>\n",
       "      <td>f0B9-r14-bLudyu5S7aLhw</td>\n",
       "      <td>1.0</td>\n",
       "      <td>We had dinner at the Bellagio Buffet last nigh...</td>\n",
       "      <td>1</td>\n",
       "      <td>SvMGr_Oih7ivtzmnCL-Tmg</td>\n",
       "      <td>0.0</td>\n",
       "      <td>0</td>\n",
       "    </tr>\n",
       "    <tr>\n",
       "      <th>1</th>\n",
       "      <td>1</td>\n",
       "      <td>faPVqws-x-5k2CQKDNtHxw</td>\n",
       "      <td>0</td>\n",
       "      <td>2018-08-04 20:22:15</td>\n",
       "      <td>0</td>\n",
       "      <td>w1I8U4cJ4QGaXA98ImNrbA</td>\n",
       "      <td>5.0</td>\n",
       "      <td>Service was amazing, Christina was extremely t...</td>\n",
       "      <td>0</td>\n",
       "      <td>rJNdeta-dYO2YcJ3u5JxnA</td>\n",
       "      <td>0.0</td>\n",
       "      <td>1</td>\n",
       "    </tr>\n",
       "    <tr>\n",
       "      <th>2</th>\n",
       "      <td>2</td>\n",
       "      <td>Wxxvi3LZbHNIDwJ-ZimtnA</td>\n",
       "      <td>2</td>\n",
       "      <td>2011-07-28 09:06:59</td>\n",
       "      <td>4</td>\n",
       "      <td>Sft1a3j3Hst44CG9gbww0Q</td>\n",
       "      <td>1.0</td>\n",
       "      <td>I am so blown away by this sophisticated &amp; bea...</td>\n",
       "      <td>8</td>\n",
       "      <td>FBxhaS2bPmxwT3I8r3CmkQ</td>\n",
       "      <td>0.0</td>\n",
       "      <td>0</td>\n",
       "    </tr>\n",
       "    <tr>\n",
       "      <th>3</th>\n",
       "      <td>3</td>\n",
       "      <td>ujHiaprwCQ5ewziu0Vi9rw</td>\n",
       "      <td>0</td>\n",
       "      <td>2015-12-05 03:28:19</td>\n",
       "      <td>0</td>\n",
       "      <td>A4G1-LTupScgaPmXF1OPMg</td>\n",
       "      <td>4.0</td>\n",
       "      <td>Around $45 for a dinner on a Friday night.\\nSn...</td>\n",
       "      <td>0</td>\n",
       "      <td>W2WICriV5Zf03S4ETzEsiQ</td>\n",
       "      <td>1.0</td>\n",
       "      <td>1</td>\n",
       "    </tr>\n",
       "    <tr>\n",
       "      <th>4</th>\n",
       "      <td>4</td>\n",
       "      <td>Wxxvi3LZbHNIDwJ-ZimtnA</td>\n",
       "      <td>0</td>\n",
       "      <td>2016-07-14 18:58:35</td>\n",
       "      <td>0</td>\n",
       "      <td>EaXwNVOmpCXwCchMR5TWlQ</td>\n",
       "      <td>3.0</td>\n",
       "      <td>Paid for a view of the strip...Very disappoint...</td>\n",
       "      <td>0</td>\n",
       "      <td>vRSetBkuRMrjZvpW76gXFA</td>\n",
       "      <td>1.0</td>\n",
       "      <td>0</td>\n",
       "    </tr>\n",
       "  </tbody>\n",
       "</table>\n",
       "</div>"
      ],
      "text/plain": [
       "   Unnamed: 0             business_id  cool                 date  funny  \\\n",
       "0           0  ujHiaprwCQ5ewziu0Vi9rw     0  2013-12-07 00:14:06      0   \n",
       "1           1  faPVqws-x-5k2CQKDNtHxw     0  2018-08-04 20:22:15      0   \n",
       "2           2  Wxxvi3LZbHNIDwJ-ZimtnA     2  2011-07-28 09:06:59      4   \n",
       "3           3  ujHiaprwCQ5ewziu0Vi9rw     0  2015-12-05 03:28:19      0   \n",
       "4           4  Wxxvi3LZbHNIDwJ-ZimtnA     0  2016-07-14 18:58:35      0   \n",
       "\n",
       "                review_id  stars  \\\n",
       "0  f0B9-r14-bLudyu5S7aLhw    1.0   \n",
       "1  w1I8U4cJ4QGaXA98ImNrbA    5.0   \n",
       "2  Sft1a3j3Hst44CG9gbww0Q    1.0   \n",
       "3  A4G1-LTupScgaPmXF1OPMg    4.0   \n",
       "4  EaXwNVOmpCXwCchMR5TWlQ    3.0   \n",
       "\n",
       "                                                text  useful  \\\n",
       "0  We had dinner at the Bellagio Buffet last nigh...       1   \n",
       "1  Service was amazing, Christina was extremely t...       0   \n",
       "2  I am so blown away by this sophisticated & bea...       8   \n",
       "3  Around $45 for a dinner on a Friday night.\\nSn...       0   \n",
       "4  Paid for a view of the strip...Very disappoint...       0   \n",
       "\n",
       "                  user_id  prediction_rate  actual_rate  \n",
       "0  SvMGr_Oih7ivtzmnCL-Tmg              0.0            0  \n",
       "1  rJNdeta-dYO2YcJ3u5JxnA              0.0            1  \n",
       "2  FBxhaS2bPmxwT3I8r3CmkQ              0.0            0  \n",
       "3  W2WICriV5Zf03S4ETzEsiQ              1.0            1  \n",
       "4  vRSetBkuRMrjZvpW76gXFA              1.0            0  "
      ]
     },
     "execution_count": 17,
     "metadata": {},
     "output_type": "execute_result"
    }
   ],
   "source": [
    "data = pd.read_csv(\"final_target.csv\")\n",
    "data.head()"
   ]
  },
  {
   "cell_type": "markdown",
   "metadata": {},
   "source": [
    "## Resturant 1 (Wicked Spoon)"
   ]
  },
  {
   "cell_type": "markdown",
   "metadata": {},
   "source": [
    "### Positive Reviews: "
   ]
  },
  {
   "cell_type": "code",
   "execution_count": 18,
   "metadata": {},
   "outputs": [],
   "source": [
    "df_res_1 = data[(data[\"business_id\"] == \"K7lWdNUhCbcnEvI0NhGewg\")]"
   ]
  },
  {
   "cell_type": "code",
   "execution_count": 19,
   "metadata": {},
   "outputs": [
    {
     "name": "stdout",
     "output_type": "stream",
     "text": [
      "positive rating but represent negative sentiment: 0.1588500072600552\n",
      "negative rating but represent positive sentiment: 0.2828517496732975\n"
     ]
    }
   ],
   "source": [
    "print (\"positive rating but represent negative sentiment:\", \n",
    "       df_res_1[(df_res_1[\"actual_rate\"] == 1.0) & (df_res_1[\"prediction_rate\"] == 0.0)].shape[0] / df_res_1.shape[0])\n",
    "\n",
    "print (\"negative rating but represent positive sentiment:\", \n",
    "       df_res_1[(df_res_1[\"actual_rate\"] == 0.0) & (df_res_1[\"prediction_rate\"] == 1.0)].shape[0] / df_res_1.shape[0])"
   ]
  },
  {
   "cell_type": "code",
   "execution_count": 20,
   "metadata": {},
   "outputs": [
    {
     "name": "stdout",
     "output_type": "stream",
     "text": [
      "There are 5187 reviews selected\n"
     ]
    }
   ],
   "source": [
    "# Turn the data into a list \n",
    "df_res_1_p = df_res_1[df_res_1[\"prediction_rate\"] == 1.0]\n",
    "print (\"There are\", df_res_1_p.shape[0], \"reviews selected\")\n",
    "data_con = df_res_1_p[\"text\"]\n",
    "data_con_l = data_con.tolist()"
   ]
  },
  {
   "cell_type": "markdown",
   "metadata": {},
   "source": [
    "### Text Cleaning"
   ]
  },
  {
   "cell_type": "code",
   "execution_count": 21,
   "metadata": {},
   "outputs": [],
   "source": [
    "# Remove distracting single quotes\n",
    "data_con_1 = [re.sub(\"\\'\", \"\", sent) for sent in data_con_l]\n",
    "\n",
    "# Remove punctuation, convert to lowercase and tokenize\n",
    "def sent_to_words(sentences):\n",
    "    for sentence in sentences:\n",
    "        yield(gensim.utils.simple_preprocess(str(sentence), deacc=True))  # deacc=True removes punctuations\n",
    "\n",
    "data_words = list(sent_to_words(data_con_l))\n",
    "\n",
    "# Build the bigram and trigram models\n",
    "bigram = gensim.models.Phrases(data_words, min_count=5, threshold=100) # higher threshold fewer phrases.\n",
    "trigram = gensim.models.Phrases(bigram[data_words], threshold=100)  \n",
    "\n",
    "# Faster way to get a sentence clubbed as a trigram/bigram\n",
    "bigram_mod = gensim.models.phrases.Phraser(bigram)\n",
    "trigram_mod = gensim.models.phrases.Phraser(trigram)\n",
    "\n",
    "# See trigram example\n",
    "# pprint(trigram_mod[bigram_mod[data_words[0]]])"
   ]
  },
  {
   "cell_type": "code",
   "execution_count": 22,
   "metadata": {},
   "outputs": [],
   "source": [
    "# Define functions for stopwords, bigrams, trigrams and lemmatization\n",
    "\n",
    "stop_words = stopwords.words('english')\n",
    "stop_words.extend(['xxxxxx','Unknown','not applicable','TBD'])\n",
    "\n",
    "def remove_stopwords(texts):\n",
    "    return [[word for word in gensim.utils.simple_preprocess(str(doc)) if word not in stop_words] for doc in texts]\n",
    "\n",
    "def make_bigrams(texts):\n",
    "    return [bigram_mod[doc] for doc in texts]\n",
    "\n",
    "def make_trigrams(texts):\n",
    "    return [trigram_mod[bigram_mod[doc]] for doc in texts]\n",
    "\n",
    "def lemmatization(texts, allowed_postags=['NOUN', 'ADJ', 'VERB', 'ADV']):\n",
    "    \"\"\"https://spacy.io/api/annotation\"\"\"\n",
    "    texts_out = []\n",
    "    for sent in texts:\n",
    "        doc = nlp(\" \".join(sent)) \n",
    "        texts_out.append([token.lemma_ for token in doc if token.pos_ in allowed_postags])\n",
    "    return texts_out\n",
    "\n",
    "# Remove Stop Words\n",
    "data_words_nostops = remove_stopwords(data_words)\n",
    "\n",
    "# Form Bigrams\n",
    "data_words_bigrams = make_bigrams(data_words_nostops)\n",
    "\n",
    "# Initialize spacy 'en' model, keeping only tagger component (for efficiency)\n",
    "\n",
    "nlp = spacy.load('en', disable=['parser', 'ner'])\n",
    "\n",
    "# Do lemmatization keeping only noun, adj, vb, adv\n",
    "data_lemmatized = lemmatization(data_words_bigrams, allowed_postags=['NOUN', 'ADJ', 'VERB', 'ADV'])\n",
    "\n",
    "# pprint(data_lemmatized[:1])"
   ]
  },
  {
   "cell_type": "markdown",
   "metadata": {},
   "source": [
    "### Prepare the data for LDA model"
   ]
  },
  {
   "cell_type": "code",
   "execution_count": 23,
   "metadata": {},
   "outputs": [
    {
     "name": "stdout",
     "output_type": "stream",
     "text": [
      "Total vocabulary in the corpus:  9252\n"
     ]
    }
   ],
   "source": [
    "vocab = np.asarray([item for sublist in data_lemmatized for item in sublist])\n",
    "vocab = np.unique(vocab)\n",
    "print (\"Total vocabulary in the corpus: \", len(vocab))"
   ]
  },
  {
   "cell_type": "code",
   "execution_count": 24,
   "metadata": {},
   "outputs": [],
   "source": [
    "vocab = sorted(list(vocab))\n",
    "vocab_index = {}\n",
    "for i, w in enumerate(vocab):\n",
    "    vocab_index[w] = i\n",
    "    \n",
    "new_corpus = []\n",
    "for doc in data_lemmatized:\n",
    "    new_doc = []\n",
    "    for word in doc:\n",
    "        word_idx = vocab_index[word]\n",
    "        new_doc.append(word_idx)\n",
    "    new_corpus.append(new_doc)"
   ]
  },
  {
   "cell_type": "code",
   "execution_count": 25,
   "metadata": {},
   "outputs": [],
   "source": [
    "# Create Dictionary\n",
    "id2word = gensim.corpora.Dictionary(data_lemmatized)\n",
    "\n",
    "# Create Corpus\n",
    "texts = data_lemmatized\n",
    "\n",
    "# Term Document Frequency\n",
    "corpus = [id2word.doc2bow(text) for text in texts]\n",
    "\n",
    "# View\n",
    "# pprint(corpus[:1])\n",
    "# [[(id2word[id], freq) for id, freq in cp] for cp in corpus[:1]]"
   ]
  },
  {
   "cell_type": "markdown",
   "metadata": {},
   "source": [
    "### Build the LDA Model (With Model Tuning)"
   ]
  },
  {
   "cell_type": "code",
   "execution_count": 26,
   "metadata": {},
   "outputs": [
    {
     "data": {
      "image/png": "[encoded data removed]",
      "text/plain": [
       "<Figure size 432x288 with 1 Axes>"
      ]
     },
     "metadata": {
      "needs_background": "light"
     },
     "output_type": "display_data"
    }
   ],
   "source": [
    "### This step will cost some time\n",
    "coherence_score = []\n",
    "for i in range(2,16):\n",
    "    lda_model = gensim.models.ldamodel.LdaModel(corpus=corpus,\n",
    "                                           id2word=id2word,\n",
    "                                           num_topics=i, \n",
    "                                           random_state=100,\n",
    "                                           update_every=1,\n",
    "                                           chunksize=100,\n",
    "                                           passes=10,\n",
    "                                           alpha='auto',\n",
    "                                           per_word_topics=True)\n",
    "    coherence_model_lda = gensim.models.coherencemodel.CoherenceModel(model=lda_model, texts=data_lemmatized, dictionary=id2word, coherence='c_v')\n",
    "    coherence_lda = coherence_model_lda.get_coherence()\n",
    "    coherence_score.append(coherence_lda)\n",
    "\n",
    "num_topic = [i for i in range(2,16)]\n",
    "\n",
    "plt.plot(num_topic, coherence_score)\n",
    "plt.xlabel(\"Num Topics\")\n",
    "plt.ylabel(\"Coherence score\")\n",
    "plt.show()"
   ]
  },
  {
   "cell_type": "code",
   "execution_count": 27,
   "metadata": {},
   "outputs": [
    {
     "name": "stdout",
     "output_type": "stream",
     "text": [
      "[(0,\n",
      "  '0.035*\"plate\" + 0.021*\"station\" + 0.018*\"salad\" + 0.018*\"meat\" + '\n",
      "  '0.018*\"little\" + 0.017*\"pretty\" + 0.014*\"look\" + 0.013*\"section\" + '\n",
      "  '0.012*\"cheese\" + 0.011*\"chocolate\"'),\n",
      " (1,\n",
      "  '0.160*\"open\" + 0.136*\"clear\" + 0.069*\"avoid\" + 0.049*\"con\" + 0.044*\"pro\" + '\n",
      "  '0.027*\"tomato\" + 0.026*\"grant\" + 0.025*\"afternoon\" + 0.017*\"outside\" + '\n",
      "  '0.011*\"safe\"'),\n",
      " (2,\n",
      "  '0.059*\"food\" + 0.037*\"good\" + 0.032*\"go\" + 0.021*\"come\" + 0.021*\"buffet\" + '\n",
      "  '0.020*\"time\" + 0.019*\"wicked\" + 0.018*\"get\" + 0.018*\"spoon\" + '\n",
      "  '0.018*\"place\"'),\n",
      " (3,\n",
      "  '0.066*\"tea\" + 0.059*\"attention\" + 0.045*\"accommodate\" + 0.041*\"speak\" + '\n",
      "  '0.041*\"broth\" + 0.040*\"lemon\" + 0.033*\"bottom\" + 0.031*\"pig\" + 0.028*\"tend\" '\n",
      "  '+ 0.026*\"effort\"'),\n",
      " (4,\n",
      "  '0.091*\"lamb\" + 0.059*\"issue\" + 0.051*\"clam\" + 0.050*\"late\" + 0.042*\"carry\" '\n",
      "  '+ 0.040*\"cone\" + 0.033*\"stale\" + 0.031*\"trendy\" + 0.029*\"ordinary\" + '\n",
      "  '0.026*\"tin\"'),\n",
      " (5,\n",
      "  '0.140*\"area\" + 0.059*\"other\" + 0.059*\"menu\" + 0.040*\"dollar\" + '\n",
      "  '0.037*\"omelette\" + 0.036*\"crazy\" + 0.035*\"decor\" + 0.034*\"rave\" + '\n",
      "  '0.033*\"picture\" + 0.028*\"endless\"'),\n",
      " (6,\n",
      "  '0.095*\"close\" + 0.082*\"return\" + 0.053*\"can\" + 0.044*\"case\" + 0.042*\"glad\" '\n",
      "  '+ 0.040*\"alone\" + 0.035*\"overcook\" + 0.032*\"truly\" + 0.029*\"meh\" + '\n",
      "  '0.029*\"anymore\"'),\n",
      " (7,\n",
      "  '0.089*\"example\" + 0.074*\"yelp\" + 0.046*\"duck\" + 0.040*\"anyways\" + '\n",
      "  '0.035*\"underwhelme\" + 0.030*\"comparison\" + 0.029*\"ate\" + 0.027*\"prevent\" + '\n",
      "  '0.023*\"clearing\" + 0.014*\"company\"'),\n",
      " (8,\n",
      "  '0.116*\"imagine\" + 0.000*\"handle\" + 0.000*\"share\" + 0.000*\"situation\" + '\n",
      "  '0.000*\"select\" + 0.000*\"vomit\" + 0.000*\"spider\" + 0.000*\"closing\" + '\n",
      "  '0.000*\"vast\" + 0.000*\"unexpected\"'),\n",
      " (9,\n",
      "  '0.094*\"bring\" + 0.060*\"rest\" + 0.048*\"chocolate_covered\" + 0.034*\"wife\" + '\n",
      "  '0.032*\"pre\" + 0.027*\"traditional\" + 0.026*\"incredible\" + 0.024*\"easily\" + '\n",
      "  '0.024*\"bone\" + 0.021*\"spice\"'),\n",
      " (10,\n",
      "  '0.064*\"buffet\" + 0.036*\"dessert\" + 0.033*\"dish\" + 0.029*\"selection\" + '\n",
      "  '0.023*\"also\" + 0.021*\"item\" + 0.020*\"love\" + 0.020*\"serve\" + 0.019*\"lot\" + '\n",
      "  '0.017*\"small\"'),\n",
      " (11,\n",
      "  '0.162*\"line\" + 0.161*\"wait\" + 0.091*\"long\" + 0.063*\"hour\" + 0.060*\"seat\" + '\n",
      "  '0.051*\"pay\" + 0.050*\"table\" + 0.036*\"minute\" + 0.035*\"pm\" + '\n",
      "  '0.031*\"compare\"'),\n",
      " (12,\n",
      "  '0.238*\"bacchanal\" + 0.160*\"hit\" + 0.048*\"beat\" + 0.040*\"omg\" + '\n",
      "  '0.024*\"deliver\" + 0.019*\"indulge\" + 0.018*\"shop\" + 0.013*\"impeccable\" + '\n",
      "  '0.011*\"cure\" + 0.008*\"slot\"'),\n",
      " (13,\n",
      "  '0.073*\"weekday\" + 0.068*\"immediately\" + 0.053*\"morning\" + 0.039*\"be\" + '\n",
      "  '0.033*\"girlfriend\" + 0.031*\"rating\" + 0.031*\"forever\" + 0.030*\"marrow\" + '\n",
      "  '0.020*\"smile\" + 0.019*\"doubt\"')]\n"
     ]
    }
   ],
   "source": [
    "### Build the model (Choose K = 14 here)\n",
    "\n",
    "lda_model = gensim.models.ldamodel.LdaModel(corpus=corpus,\n",
    "                                           id2word=id2word,\n",
    "                                           num_topics=14, \n",
    "                                           random_state=100,\n",
    "                                           update_every=1,\n",
    "                                           chunksize=100,\n",
    "                                           passes=10,\n",
    "                                           alpha='auto',\n",
    "                                           per_word_topics=True)\n",
    "\n",
    "pprint(lda_model.print_topics())\n",
    "doc_lda = lda_model[corpus]"
   ]
  },
  {
   "cell_type": "code",
   "execution_count": 28,
   "metadata": {},
   "outputs": [
    {
     "name": "stderr",
     "output_type": "stream",
     "text": [
      "/anaconda3/lib/python3.7/site-packages/pyLDAvis/_prepare.py:257: FutureWarning: Sorting because non-concatenation axis is not aligned. A future version\n",
      "of pandas will change to not sort by default.\n",
      "\n",
      "To accept the future behavior, pass 'sort=False'.\n",
      "\n",
      "To retain the current behavior and silence the warning, pass 'sort=True'.\n",
      "\n",
      "  return pd.concat([default_term_info] + list(topic_dfs))\n"
     ]
    }
   ],
   "source": [
    "### Visulization\n",
    "vis = pyLDAvis.gensim.prepare(lda_model, corpus, id2word)"
   ]
  },
  {
   "cell_type": "code",
   "execution_count": 29,
   "metadata": {},
   "outputs": [
    {
     "data": {
      "text/html": [
       "\n",
       "<link rel=\"stylesheet\" type=\"text/css\" href=\"https://cdn.rawgit.com/bmabey/pyLDAvis/files/ldavis.v1.0.0.css\">\n",
       "\n",
       "\n",
       "<div id=\"ldavis_el5901128550289842108413683\"></div>\n",
       "<script type=\"text/javascript\">\n",
       "\n",
       "var ldavis_el5901128550289842108413683_data = {\"mdsDat\": {\"x\": [-0.3800103930669392, -0.37195942143960153, -0.32908565959707753, -0.09876693176606065, 0.06973290621930246, 0.061697221541317834, 0.09868679793443513, 0.12423741698500573, 0.12559036501471849, 0.13046571836561738, 0.13741538551229707, 0.13674965034370065, 0.1426049599773957, 0.15264198397588916], \"y\": [0.06653021881749246, 0.10879486958847832, 0.03802211734542825, -0.44371300214944476, -0.01818221988636188, -0.02745276604787543, 0.011410147828558426, 0.03079408901090666, 0.031656431977688526, 0.03458780135289514, 0.03865044200899064, 0.03829884901700577, 0.04174018069462739, 0.048862840441610524], \"topics\": [1, 2, 3, 4, 5, 6, 7, 8, 9, 10, 11, 12, 13, 14], \"cluster\": [1, 1, 1, 1, 1, 1, 1, 1, 1, 1, 1, 1, 1, 1], \"Freq\": [47.11159133911133, 24.90293312072754, 19.53668212890625, 3.510049343109131, 1.0696085691452026, 1.052996039390564, 0.719096302986145, 0.42350995540618896, 0.40755265951156616, 0.35076531767845154, 0.3288395404815674, 0.30844026803970337, 0.24587582051753998, 0.03205244988203049]}, \"tinfo\": {\"Category\": [\"Default\", \"Default\", \"Default\", \"Default\", \"Default\", \"Default\", \"Default\", \"Default\", \"Default\", \"Default\", \"Default\", \"Default\", \"Default\", \"Default\", \"Default\", \"Default\", \"Default\", \"Default\", \"Default\", \"Default\", \"Default\", \"Default\", \"Default\", \"Default\", \"Default\", \"Default\", \"Default\", \"Default\", \"Default\", \"Default\", \"Topic1\", \"Topic1\", \"Topic1\", \"Topic1\", \"Topic1\", \"Topic1\", \"Topic1\", \"Topic1\", \"Topic1\", \"Topic1\", \"Topic1\", \"Topic1\", \"Topic1\", \"Topic1\", \"Topic1\", \"Topic1\", \"Topic1\", \"Topic1\", \"Topic1\", \"Topic1\", \"Topic1\", \"Topic1\", \"Topic1\", \"Topic1\", \"Topic1\", \"Topic1\", \"Topic1\", \"Topic1\", \"Topic1\", \"Topic1\", \"Topic1\", \"Topic1\", \"Topic1\", \"Topic1\", \"Topic1\", \"Topic1\", \"Topic1\", \"Topic1\", \"Topic1\", \"Topic1\", \"Topic1\", \"Topic1\", \"Topic1\", \"Topic1\", \"Topic1\", \"Topic1\", \"Topic1\", \"Topic1\", \"Topic1\", \"Topic1\", \"Topic1\", \"Topic1\", \"Topic1\", \"Topic1\", \"Topic1\", \"Topic1\", \"Topic1\", \"Topic1\", \"Topic1\", \"Topic1\", \"Topic1\", \"Topic1\", \"Topic2\", \"Topic2\", \"Topic2\", \"Topic2\", \"Topic2\", \"Topic2\", \"Topic2\", \"Topic2\", \"Topic2\", \"Topic2\", \"Topic2\", \"Topic2\", \"Topic2\", \"Topic2\", \"Topic2\", \"Topic2\", \"Topic2\", \"Topic2\", \"Topic2\", \"Topic2\", \"Topic2\", \"Topic2\", \"Topic2\", \"Topic2\", \"Topic2\", \"Topic2\", \"Topic2\", \"Topic2\", \"Topic2\", \"Topic2\", \"Topic2\", \"Topic2\", \"Topic2\", \"Topic2\", \"Topic2\", \"Topic2\", \"Topic2\", \"Topic2\", \"Topic2\", \"Topic2\", \"Topic2\", \"Topic2\", \"Topic2\", \"Topic2\", \"Topic2\", \"Topic2\", \"Topic2\", \"Topic2\", \"Topic2\", \"Topic2\", \"Topic2\", \"Topic2\", \"Topic2\", \"Topic3\", \"Topic3\", \"Topic3\", \"Topic3\", \"Topic3\", \"Topic3\", \"Topic3\", \"Topic3\", \"Topic3\", \"Topic3\", \"Topic3\", \"Topic3\", \"Topic3\", \"Topic3\", \"Topic3\", \"Topic3\", \"Topic3\", \"Topic3\", \"Topic3\", \"Topic3\", \"Topic3\", \"Topic3\", \"Topic3\", \"Topic3\", \"Topic3\", \"Topic3\", \"Topic3\", \"Topic3\", \"Topic3\", \"Topic3\", \"Topic3\", \"Topic3\", \"Topic3\", \"Topic3\", \"Topic3\", \"Topic3\", \"Topic3\", \"Topic3\", \"Topic3\", \"Topic3\", \"Topic3\", \"Topic3\", \"Topic3\", \"Topic3\", \"Topic3\", \"Topic3\", \"Topic3\", \"Topic3\", \"Topic3\", \"Topic3\", \"Topic3\", \"Topic3\", \"Topic3\", \"Topic3\", \"Topic4\", \"Topic4\", \"Topic4\", \"Topic4\", \"Topic4\", \"Topic4\", \"Topic4\", \"Topic4\", \"Topic4\", \"Topic4\", \"Topic4\", \"Topic4\", \"Topic4\", \"Topic4\", \"Topic4\", \"Topic4\", \"Topic4\", \"Topic4\", \"Topic4\", \"Topic4\", \"Topic4\", \"Topic4\", \"Topic4\", \"Topic4\", \"Topic4\", \"Topic4\", \"Topic4\", \"Topic4\", \"Topic4\", \"Topic4\", \"Topic4\", \"Topic4\", \"Topic4\", \"Topic4\", \"Topic4\", \"Topic5\", \"Topic5\", \"Topic5\", \"Topic5\", \"Topic5\", \"Topic5\", \"Topic5\", \"Topic5\", \"Topic5\", \"Topic5\", \"Topic5\", \"Topic5\", \"Topic5\", \"Topic5\", \"Topic5\", \"Topic5\", \"Topic5\", \"Topic5\", \"Topic5\", \"Topic5\", \"Topic5\", \"Topic5\", \"Topic5\", \"Topic5\", \"Topic5\", \"Topic5\", \"Topic5\", \"Topic5\", \"Topic5\", \"Topic5\", \"Topic6\", \"Topic6\", \"Topic6\", \"Topic6\", \"Topic6\", \"Topic6\", \"Topic6\", \"Topic6\", \"Topic6\", \"Topic6\", \"Topic6\", \"Topic6\", \"Topic6\", \"Topic6\", \"Topic6\", \"Topic6\", \"Topic6\", \"Topic6\", \"Topic6\", \"Topic6\", \"Topic6\", \"Topic6\", \"Topic6\", \"Topic6\", \"Topic6\", \"Topic6\", \"Topic6\", \"Topic6\", \"Topic6\", \"Topic6\", \"Topic7\", \"Topic7\", \"Topic7\", \"Topic7\", \"Topic7\", \"Topic7\", \"Topic7\", \"Topic7\", \"Topic7\", \"Topic7\", \"Topic7\", \"Topic7\", \"Topic7\", \"Topic7\", \"Topic7\", \"Topic7\", \"Topic7\", \"Topic7\", \"Topic7\", \"Topic7\", \"Topic7\", \"Topic7\", \"Topic7\", \"Topic7\", \"Topic7\", \"Topic7\", \"Topic7\", \"Topic7\", \"Topic7\", \"Topic7\", \"Topic8\", \"Topic8\", \"Topic8\", \"Topic8\", \"Topic8\", \"Topic8\", \"Topic8\", \"Topic8\", \"Topic8\", \"Topic8\", \"Topic8\", \"Topic8\", \"Topic8\", \"Topic8\", \"Topic8\", \"Topic8\", \"Topic8\", \"Topic8\", \"Topic8\", \"Topic8\", \"Topic8\", \"Topic8\", \"Topic8\", \"Topic8\", \"Topic8\", \"Topic8\", \"Topic8\", \"Topic8\", \"Topic8\", \"Topic8\", \"Topic8\", \"Topic8\", \"Topic8\", \"Topic8\", \"Topic8\", \"Topic8\", \"Topic8\", \"Topic8\", \"Topic8\", \"Topic8\", \"Topic8\", \"Topic8\", \"Topic8\", \"Topic8\", \"Topic8\", \"Topic9\", \"Topic9\", \"Topic9\", \"Topic9\", \"Topic9\", \"Topic9\", \"Topic9\", \"Topic9\", \"Topic9\", \"Topic9\", \"Topic9\", \"Topic9\", \"Topic9\", \"Topic9\", \"Topic9\", \"Topic9\", \"Topic9\", \"Topic9\", \"Topic9\", \"Topic9\", \"Topic9\", \"Topic9\", \"Topic9\", \"Topic9\", \"Topic9\", \"Topic9\", \"Topic9\", \"Topic9\", \"Topic9\", \"Topic9\", \"Topic9\", \"Topic9\", \"Topic9\", \"Topic9\", \"Topic9\", \"Topic9\", \"Topic9\", \"Topic9\", \"Topic9\", \"Topic9\", \"Topic9\", \"Topic9\", \"Topic9\", \"Topic9\", \"Topic9\", \"Topic9\", \"Topic9\", \"Topic9\", \"Topic10\", \"Topic10\", \"Topic10\", \"Topic10\", \"Topic10\", \"Topic10\", \"Topic10\", \"Topic10\", \"Topic10\", \"Topic10\", \"Topic10\", \"Topic10\", \"Topic10\", \"Topic10\", \"Topic10\", \"Topic10\", \"Topic10\", \"Topic10\", \"Topic10\", \"Topic10\", \"Topic10\", \"Topic10\", \"Topic10\", \"Topic10\", \"Topic10\", \"Topic10\", \"Topic10\", \"Topic10\", \"Topic10\", \"Topic10\", \"Topic10\", \"Topic10\", \"Topic10\", \"Topic10\", \"Topic10\", \"Topic10\", \"Topic10\", \"Topic10\", \"Topic10\", \"Topic11\", \"Topic11\", \"Topic11\", \"Topic11\", \"Topic11\", \"Topic11\", \"Topic11\", \"Topic11\", \"Topic11\", \"Topic11\", \"Topic11\", \"Topic11\", \"Topic11\", \"Topic11\", \"Topic11\", \"Topic11\", \"Topic11\", \"Topic11\", \"Topic11\", \"Topic11\", \"Topic11\", \"Topic11\", \"Topic11\", \"Topic11\", \"Topic11\", \"Topic11\", \"Topic11\", \"Topic11\", \"Topic11\", \"Topic11\", \"Topic11\", \"Topic11\", \"Topic11\", \"Topic11\", \"Topic11\", \"Topic11\", \"Topic11\", \"Topic11\", \"Topic11\", \"Topic12\", \"Topic12\", \"Topic12\", \"Topic12\", \"Topic12\", \"Topic12\", \"Topic12\", \"Topic12\", \"Topic12\", \"Topic12\", \"Topic12\", \"Topic12\", \"Topic12\", \"Topic12\", \"Topic12\", \"Topic12\", \"Topic12\", \"Topic12\", \"Topic12\", \"Topic12\", \"Topic12\", \"Topic12\", \"Topic12\", \"Topic12\", \"Topic12\", \"Topic12\", \"Topic12\", \"Topic12\", \"Topic12\", \"Topic12\", \"Topic12\", \"Topic12\", \"Topic12\", \"Topic12\", \"Topic12\", \"Topic12\", \"Topic12\", \"Topic12\", \"Topic12\", \"Topic12\", \"Topic12\", \"Topic12\", \"Topic12\", \"Topic12\", \"Topic13\", \"Topic13\", \"Topic13\", \"Topic13\", \"Topic13\", \"Topic13\", \"Topic13\", \"Topic13\", \"Topic13\", \"Topic13\", \"Topic13\", \"Topic13\", \"Topic13\", \"Topic13\", \"Topic13\", \"Topic13\", \"Topic13\", \"Topic13\", \"Topic13\", \"Topic13\", \"Topic13\", \"Topic13\", \"Topic13\", \"Topic13\", \"Topic13\", \"Topic13\", \"Topic13\", \"Topic13\", \"Topic13\", \"Topic13\", \"Topic13\", \"Topic13\", \"Topic13\", \"Topic13\", \"Topic13\", \"Topic13\", \"Topic13\", \"Topic13\", \"Topic13\", \"Topic13\", \"Topic13\", \"Topic13\", \"Topic13\", \"Topic13\", \"Topic13\", \"Topic13\", \"Topic13\", \"Topic13\", \"Topic13\", \"Topic13\", \"Topic13\", \"Topic13\", \"Topic13\", \"Topic13\", \"Topic13\", \"Topic13\", \"Topic14\", \"Topic14\", \"Topic14\", \"Topic14\", \"Topic14\", \"Topic14\", \"Topic14\", \"Topic14\", \"Topic14\", \"Topic14\", \"Topic14\", \"Topic14\", \"Topic14\", \"Topic14\", \"Topic14\", \"Topic14\", \"Topic14\", \"Topic14\", \"Topic14\", \"Topic14\", \"Topic14\", \"Topic14\", \"Topic14\", \"Topic14\", \"Topic14\", \"Topic14\", \"Topic14\", \"Topic14\", \"Topic14\", \"Topic14\", \"Topic14\", \"Topic14\", \"Topic14\", \"Topic14\", \"Topic14\", \"Topic14\", \"Topic14\", \"Topic14\", \"Topic14\", \"Topic14\", \"Topic14\", \"Topic14\", \"Topic14\", \"Topic14\", \"Topic14\", \"Topic14\", \"Topic14\", \"Topic14\", \"Topic14\", \"Topic14\", \"Topic14\", \"Topic14\"], \"Freq\": [1695.0, 1683.0, 8366.0, 7735.0, 2436.0, 949.0, 2074.0, 4427.0, 1052.0, 1106.0, 2123.0, 3319.0, 657.0, 2979.0, 1564.0, 622.0, 2871.0, 440.0, 1477.0, 1484.0, 1957.0, 1319.0, 1668.0, 300.0, 1044.0, 1099.0, 2529.0, 2430.0, 1117.0, 6218.0, 2870.383056640625, 1673.703369140625, 1665.8863525390625, 1551.5631103515625, 1186.891357421875, 2977.7646484375, 1035.5770263671875, 1027.9605712890625, 881.50048828125, 704.4991455078125, 700.7815551757812, 668.2548828125, 632.580810546875, 622.9754028320312, 610.4261474609375, 563.968017578125, 568.2474975585938, 498.99627685546875, 479.06549072265625, 465.763427734375, 464.69696044921875, 435.2181701660156, 414.2087707519531, 411.3260498046875, 408.05914306640625, 407.48193359375, 393.40594482421875, 385.18670654296875, 384.2609558105469, 382.3741455078125, 4415.57177734375, 8245.171875, 2404.291259765625, 2500.021728515625, 958.0449829101562, 945.5292358398438, 993.2162475585938, 672.6558837890625, 602.3743896484375, 720.0572509765625, 1687.4654541015625, 891.9710693359375, 2243.058349609375, 5220.0537109375, 1419.362060546875, 1616.657470703125, 2154.730712890625, 2628.114990234375, 1283.078857421875, 1618.098876953125, 844.9518432617188, 2526.08544921875, 2522.2724609375, 1021.7566528320312, 2273.591064453125, 1645.6929931640625, 1358.98046875, 1298.0660400390625, 2961.54248046875, 1099.302734375, 1118.1597900390625, 1039.7867431640625, 2122.76025390625, 1563.5816650390625, 1116.4395751953125, 1053.84130859375, 940.48486328125, 873.83984375, 844.7904052734375, 692.6621704101562, 672.191650390625, 672.1104736328125, 2433.122314453125, 486.5904235839844, 473.4191589355469, 406.7955322265625, 385.2696228027344, 362.3779296875, 361.7511901855469, 292.0187683105469, 289.8232727050781, 272.0502014160156, 250.18544006347656, 247.22142028808594, 244.1505584716797, 240.81202697753906, 240.79266357421875, 225.5924835205078, 222.98553466796875, 216.53309631347656, 205.7718048095703, 202.7671356201172, 1462.5989990234375, 788.6738891601562, 1403.4757080078125, 255.9984588623047, 1501.9415283203125, 1278.9278564453125, 1119.319091796875, 831.368896484375, 667.5445556640625, 1671.471923828125, 773.136474609375, 2668.176513671875, 620.5804443359375, 591.6689453125, 4772.84423828125, 826.2012329101562, 874.6498413085938, 1155.18896484375, 712.6867065429688, 727.196044921875, 906.3505249023438, 650.7139892578125, 659.5117797851562, 1043.5277099609375, 691.2111206054688, 640.322998046875, 733.6944580078125, 518.7059326171875, 461.3955078125, 460.1996154785156, 401.5068664550781, 398.779052734375, 348.4120178222656, 344.38623046875, 338.3999938964844, 335.6147766113281, 326.78399658203125, 309.8985900878906, 297.7372741699219, 276.5986328125, 275.5823059082031, 275.564697265625, 271.90399169921875, 312.8504638671875, 269.468505859375, 267.882568359375, 255.06777954101562, 254.03225708007812, 250.533935546875, 249.1290283203125, 245.78335571289062, 242.57701110839844, 242.115478515625, 2035.954833984375, 285.5708312988281, 482.0631103515625, 1068.1239013671875, 350.26434326171875, 1214.8946533203125, 388.55706787109375, 385.1391296386719, 618.5192260742188, 495.43670654296875, 405.75946044921875, 505.5104064941406, 552.8845825195312, 1038.325439453125, 979.480224609375, 801.7833862304688, 415.9837341308594, 549.6854248046875, 571.9367065429688, 475.9208984375, 451.5070495605469, 599.6580810546875, 565.9741821289062, 515.9853515625, 1694.8994140625, 1682.3360595703125, 948.26220703125, 657.0157470703125, 621.9501953125, 380.4581604003906, 365.6661071777344, 323.35540771484375, 153.64210510253906, 133.64869689941406, 124.85696411132812, 119.74522399902344, 116.96160125732422, 115.20013427734375, 106.6492919921875, 99.58743286132812, 93.20665740966797, 91.87975311279297, 85.3175048828125, 63.58852767944336, 58.783966064453125, 58.09424591064453, 46.243896484375, 36.919342041015625, 28.394882202148438, 20.39522933959961, 18.2266845703125, 17.632511138916016, 12.801414489746094, 9.573955535888672, 157.63534545898438, 534.8170166015625, 520.509521484375, 120.69465637207031, 47.540287017822266, 300.0787353515625, 189.58370971679688, 153.98431396484375, 107.2315673828125, 102.208251953125, 84.52548217773438, 83.58756256103516, 76.81101989746094, 75.70530700683594, 68.1762466430664, 65.63539123535156, 64.4015884399414, 63.75493240356445, 59.05093765258789, 56.66568374633789, 50.47060775756836, 47.365779876708984, 47.23352813720703, 47.17185592651367, 45.13843536376953, 43.45586395263672, 41.064796447753906, 38.841766357421875, 38.560874938964844, 36.694244384765625, 35.76309585571289, 31.491989135742188, 26.970584869384766, 26.408123016357422, 26.157520294189453, 439.78533935546875, 185.53915405273438, 183.9549102783203, 124.73176574707031, 117.13130950927734, 112.09280395507812, 110.17511749267578, 106.00360870361328, 102.29080963134766, 88.4300765991211, 86.72978973388672, 79.91706848144531, 62.2075080871582, 57.11484909057617, 55.43163299560547, 52.93657302856445, 50.7513313293457, 49.86635208129883, 43.07763671875, 38.54696273803711, 35.160526275634766, 34.75373077392578, 33.30682373046875, 25.928129196166992, 25.776809692382812, 25.585922241210938, 24.510662078857422, 23.931684494018555, 22.87495994567871, 20.91277313232422, 202.91400146484375, 176.39100646972656, 113.11282348632812, 94.86772918701172, 88.89971923828125, 85.69728088378906, 74.82551574707031, 68.88426208496094, 61.13176345825195, 60.96416473388672, 54.06037902832031, 53.00811004638672, 46.41459655761719, 41.411930084228516, 40.26179504394531, 36.415794372558594, 32.45655822753906, 23.86606216430664, 21.680278778076172, 20.957103729248047, 20.296497344970703, 19.068164825439453, 17.60756492614746, 17.267107009887695, 10.224576950073242, 9.057684898376465, 8.627523422241211, 8.589041709899902, 7.027102947235107, 5.289390563964844, 299.59356689453125, 201.85543823242188, 60.38642883300781, 50.8923225402832, 29.755529403686523, 23.531400680541992, 22.931474685668945, 15.998615264892578, 13.522663116455078, 10.01724624633789, 9.65498161315918, 6.508713245391846, 2.539323329925537, 2.163243532180786, 0.9261283278465271, 0.056045226752758026, 0.05607806518673897, 0.05597176402807236, 0.055815670639276505, 0.05549117177724838, 0.05575168505311012, 0.05600346624851227, 0.055413179099559784, 0.05541215091943741, 0.055427998304367065, 0.05541296303272247, 0.055412985384464264, 0.055460743606090546, 0.05545378476381302, 0.055413782596588135, 0.055715806782245636, 0.055717676877975464, 0.05564522370696068, 0.05563822388648987, 0.055566687136888504, 0.05571494996547699, 0.05552912876009941, 0.05561605468392372, 0.055824264883995056, 0.05575825646519661, 0.05575092136859894, 0.05568661540746689, 0.05581992119550705, 0.05580483749508858, 0.0557083785533905, 193.8694305419922, 165.2392120361328, 83.65569305419922, 58.827274322509766, 52.960453033447266, 32.69081115722656, 31.249975204467773, 30.441272735595703, 20.257291793823242, 13.181269645690918, 12.629053115844727, 9.687042236328125, 4.371022701263428, 3.16139817237854, 0.05453569069504738, 0.05443195626139641, 0.054525699466466904, 0.05467450991272926, 0.054463788866996765, 0.05438288301229477, 0.05438769608736038, 0.05438625067472458, 0.05432520806789398, 0.05442129075527191, 0.054731179028749466, 0.05434809625148773, 0.05436262860894203, 0.054546598345041275, 0.054510895162820816, 0.05431776121258736, 0.05464771389961243, 0.054635677486658096, 0.054700590670108795, 0.05447551980614662, 0.05473596230149269, 0.05451371893286705, 0.054686177521944046, 0.05469408631324768, 0.054611243307590485, 0.05492781102657318, 0.054576240479946136, 0.054806899279356, 0.054749928414821625, 0.054736945778131485, 0.054681334644556046, 0.0546332523226738, 0.0545903779566288, 0.05459068715572357, 94.51280212402344, 61.30691909790039, 53.2623405456543, 51.655479431152344, 43.30172348022461, 41.71983337402344, 34.585357666015625, 32.26094055175781, 30.285621643066406, 27.282983779907227, 24.84266471862793, 22.547334671020508, 21.064273834228516, 15.797035217285156, 12.743410110473633, 8.233104705810547, 4.04484224319458, 1.71596097946167, 0.050920236855745316, 0.050928995013237, 0.05098739266395569, 0.05066059157252312, 0.050504814833402634, 0.050396550446748734, 0.05032529681921005, 0.05032529681921005, 0.05033259466290474, 0.05032539740204811, 0.05030413344502449, 0.05042480677366257, 0.050727009773254395, 0.050494056195020676, 0.05067811906337738, 0.050639908760786057, 0.050490546971559525, 0.05105093866586685, 0.050730593502521515, 0.05056653544306755, 0.05058009922504425, 71.79906463623047, 66.33848571777344, 51.57528305053711, 38.23694610595703, 31.81526756286621, 29.96645164489746, 29.885448455810547, 28.882591247558594, 19.55491065979004, 18.844011306762695, 18.794017791748047, 15.62890625, 13.728744506835938, 12.826626777648926, 11.573002815246582, 10.33267593383789, 7.182581424713135, 7.114904880523682, 0.7431948184967041, 0.3058330714702606, 0.05407886579632759, 0.053647033870220184, 0.05364663898944855, 0.05364663898944855, 0.05364663898944855, 0.05364663898944855, 0.05365457013249397, 0.05376815050840378, 0.05376762896776199, 0.053660329431295395, 0.05383170023560524, 0.05416357144713402, 0.053878139704465866, 0.05391223356127739, 0.053838394582271576, 0.05382682383060455, 0.053744129836559296, 0.053888361901044846, 0.05379004403948784, 60.1533088684082, 53.71617889404297, 40.90024948120117, 37.696533203125, 37.338558197021484, 36.679725646972656, 30.37105369567871, 28.21192741394043, 26.031782150268555, 24.286279678344727, 22.47509002685547, 20.29573631286621, 14.689008712768555, 11.54033088684082, 10.835649490356445, 2.970886707305908, 1.2539961338043213, 0.892218828201294, 0.05008882284164429, 0.04986752197146416, 0.04979562759399414, 0.05013755336403847, 0.049780432134866714, 0.04983820021152496, 0.04984332248568535, 0.049714650958776474, 0.049740735441446304, 0.0496571809053421, 0.049657754600048065, 0.04970286041498184, 0.04993567243218422, 0.04978130757808685, 0.04982824996113777, 0.050078313797712326, 0.04993279650807381, 0.04992183670401573, 0.049974583089351654, 0.0499337837100029, 0.050228301435709, 0.04997166618704796, 0.04987313970923424, 0.04993399977684021, 0.049910783767700195, 0.049919165670871735, 64.82012176513672, 53.95430374145508, 33.790279388427734, 28.888755798339844, 25.56139373779297, 21.970327377319336, 21.047792434692383, 19.865249633789062, 17.15215492248535, 10.252690315246582, 8.948037147521973, 3.9149298667907715, 0.04576323181390762, 0.045796994119882584, 0.04577722027897835, 0.04571620002388954, 0.045688409358263016, 0.04568842053413391, 0.04570704326033592, 0.045753445476293564, 0.04570125788450241, 0.045691393315792084, 0.04571966826915741, 0.0457102507352829, 0.04573560506105423, 0.045664187520742416, 0.045664187520742416, 0.045664187520742416, 0.045664187520742416, 0.0456964373588562, 0.045803409069776535, 0.045827172696590424, 0.045753683894872665, 0.045725446194410324, 0.045869823545217514, 0.04572995379567146, 0.04594802483916283, 0.045799046754837036, 0.045788440853357315, 0.04584958031773567, 0.045929837971925735, 0.045760609209537506, 0.04583441838622093, 0.04586995393037796, 0.04616642743349075, 0.04588496685028076, 0.04578496143221855, 0.045856375247240067, 0.04580756649374962, 0.04584648087620735, 0.04585247486829758, 0.0458231084048748, 0.045885175466537476, 0.045816726982593536, 0.04582182317972183, 0.04580515995621681, 11.072972297668457, 0.009145486168563366, 0.00914500467479229, 0.009132537990808487, 0.009132537990808487, 0.009132823906838894, 0.009130151942372322, 0.009129215031862259, 0.00915781781077385, 0.009130151942372322, 0.009126367047429085, 0.009126367047429085, 0.009126367047429085, 0.009126367047429085, 0.009122817777097225, 0.009122817777097225, 0.009122817777097225, 0.009126367047429085, 0.009129003621637821, 0.009122832678258419, 0.009126367047429085, 0.009130382910370827, 0.00912440661340952, 0.0091188233345747, 0.009126367047429085, 0.009131970815360546, 0.009126344695687294, 0.009132536128163338, 0.009131970815360546, 0.009130151942372322, 0.009138409048318863, 0.00918048620223999, 0.009154797531664371, 0.009131970815360546, 0.009130382910370827, 0.009132537990808487, 0.009130151942372322, 0.009131970815360546, 0.009164484217762947, 0.009130151942372322, 0.009131970815360546, 0.009139974601566792, 0.009140814654529095, 0.009132823906838894, 0.009131970815360546, 0.009133062325417995, 0.009137558750808239, 0.009134919382631779, 0.00913248397409916, 0.009131616912782192, 0.009131526574492455, 0.009130382910370827], \"Term\": [\"line\", \"wait\", \"food\", \"buffet\", \"dish\", \"long\", \"plate\", \"go\", \"pay\", \"table\", \"selection\", \"dessert\", \"hour\", \"come\", \"item\", \"seat\", \"time\", \"area\", \"serve\", \"lot\", \"also\", \"station\", \"love\", \"bacchanal\", \"meat\", \"salad\", \"place\", \"would\", \"many\", \"good\", \"time\", \"back\", \"service\", \"say\", \"first\", \"come\", \"amazing\", \"give\", \"star\", \"server\", \"ever\", \"always\", \"day\", \"never\", \"expect\", \"review\", \"ask\", \"person\", \"keep\", \"last\", \"money\", \"staff\", \"second\", \"recommend\", \"use\", \"let\", \"clean\", \"friendly\", \"hear\", \"awesome\", \"go\", \"food\", \"would\", \"place\", \"know\", \"bad\", \"experience\", \"friend\", \"next\", \"sure\", \"think\", \"drink\", \"eat\", \"good\", \"even\", \"price\", \"really\", \"wicked\", \"want\", \"much\", \"still\", \"get\", \"spoon\", \"nice\", \"try\", \"great\", \"thing\", \"dinner\", \"buffet\", \"worth\", \"well\", \"quality\", \"selection\", \"item\", \"many\", \"favorite\", \"option\", \"find\", \"different\", \"offer\", \"visit\", \"include\", \"dish\", \"choose\", \"individual\", \"especially\", \"unique\", \"trip\", \"excellent\", \"type\", \"italian\", \"offering\", \"present\", \"wide\", \"fancy\", \"consider\", \"one\", \"style\", \"wine\", \"atmosphere\", \"strip\", \"hype\", \"serve\", \"breakfast\", \"lot\", \"lack\", \"love\", \"small\", \"variety\", \"portion\", \"presentation\", \"also\", \"seafood\", \"dessert\", \"like\", \"choice\", \"buffet\", \"bar\", \"definitely\", \"make\", \"well\", \"great\", \"good\", \"little\", \"try\", \"meat\", \"cheese\", \"chocolate\", \"section\", \"strawberry\", \"dry\", \"cook\", \"sauce\", \"side\", \"fruit\", \"fill\", \"chicken\", \"hot\", \"sweet\", \"cake\", \"desert\", \"sausage\", \"pork\", \"tiny\", \"grab\", \"chinese\", \"bite\", \"empty\", \"roll\", \"disappointed\", \"tip\", \"waitress\", \"macaron\", \"rice\", \"fry\", \"plate\", \"beef\", \"enough\", \"salad\", \"cold\", \"station\", \"order\", \"cut\", \"asian\", \"stuff\", \"put\", \"cute\", \"bit\", \"little\", \"pretty\", \"look\", \"tasty\", \"flavor\", \"taste\", \"could\", \"fresh\", \"dessert\", \"get\", \"make\", \"line\", \"wait\", \"long\", \"hour\", \"seat\", \"minute\", \"pm\", \"compare\", \"manager\", \"problem\", \"cashier\", \"suppose\", \"yet\", \"dirty\", \"simply\", \"fun\", \"cause\", \"bottomless\", \"awful\", \"hostess\", \"alright\", \"figure\", \"seating\", \"favor\", \"sense\", \"awhile\", \"pathetic\", \"send\", \"oxtail_pho\", \"warning\", \"front\", \"pay\", \"table\", \"half\", \"stand\", \"bring\", \"rest\", \"chocolate_covered\", \"wife\", \"pre\", \"traditional\", \"incredible\", \"easily\", \"bone\", \"spice\", \"fabulous\", \"excite\", \"watch\", \"giant\", \"rush\", \"break\", \"mexican\", \"crispy\", \"typically\", \"ceasar\", \"previous\", \"alot\", \"fatty\", \"starve\", \"watermelon\", \"mood\", \"eating\", \"contemporary\", \"standout\", \"contain\", \"area\", \"other\", \"menu\", \"dollar\", \"omelette\", \"crazy\", \"decor\", \"rave\", \"picture\", \"endless\", \"cosmo\", \"mix\", \"pleasant\", \"candy\", \"fried_chicken\", \"taco\", \"nee\", \"exceptional\", \"savory\", \"green\", \"swear\", \"japanese\", \"convenient\", \"crunchy\", \"meatball\", \"toast\", \"spacious\", \"concern\", \"buttery\", \"version\", \"close\", \"return\", \"can\", \"case\", \"glad\", \"alone\", \"overcook\", \"truly\", \"meh\", \"anymore\", \"satisfy\", \"foodie\", \"fail\", \"efficient\", \"spectacular\", \"parking\", \"refresh\", \"sprinkle\", \"willing\", \"worthy\", \"heavenly\", \"balance\", \"needless\", \"compensate\", \"yesterday\", \"overeat\", \"oddly\", \"eff\", \"park\", \"yuck\", \"bacchanal\", \"hit\", \"beat\", \"omg\", \"deliver\", \"indulge\", \"shop\", \"impeccable\", \"cure\", \"slot\", \"arrangement\", \"ensure\", \"sake\", \"scream\", \"mall\", \"sell\", \"machine\", \"bachannal\", \"additionally\", \"defintely\", \"caesar\", \"ws\", \"tacky\", \"se\", \"award\", \"visual\", \"roof\", \"convert\", \"mid\", \"accident\", \"vast\", \"win\", \"competition\", \"art\", \"period\", \"majority\", \"card\", \"entrance\", \"twice\", \"sign\", \"personally\", \"stick\", \"ingredient\", \"prime_rib\", \"boyfriend\", \"open\", \"clear\", \"avoid\", \"con\", \"pro\", \"tomato\", \"grant\", \"afternoon\", \"outside\", \"safe\", \"assume\", \"encourage\", \"veal\", \"roughly\", \"breadth\", \"organic\", \"diverse\", \"medium\", \"disgust\", \"walking\", \"ala\", \"respect\", \"whatever\", \"bloody\", \"closing\", \"loud\", \"virtually\", \"affordable\", \"tad\", \"threshold\", \"specialty\", \"constantly\", \"rare\", \"braise\", \"location\", \"cater\", \"guest\", \"month\", \"popular\", \"often\", \"feature\", \"display\", \"range\", \"poor\", \"cover\", \"sign\", \"red\", \"prime_rib\", \"lamb\", \"issue\", \"clam\", \"late\", \"carry\", \"cone\", \"stale\", \"trendy\", \"ordinary\", \"tin\", \"biscuit\", \"gravy\", \"skin\", \"shooter\", \"feed\", \"exceed\", \"unappetize\", \"essential\", \"jail\", \"cell\", \"favourite\", \"nasty\", \"appetise\", \"will\", \"slammer\", \"ante\", \"cramp\", \"discuss\", \"funky\", \"donut\", \"resort\", \"individual_serving\", \"highly\", \"garlic\", \"bun\", \"prime_rib\", \"write\", \"guest\", \"lose\", \"weekday\", \"immediately\", \"morning\", \"be\", \"girlfriend\", \"rating\", \"forever\", \"marrow\", \"smile\", \"doubt\", \"mimosas\", \"cesar\", \"somewhere_else\", \"paper\", \"pho\", \"visually\", \"sloppy\", \"wild_boar\", \"percent\", \"depress\", \"hair\", \"buttermilk\", \"altho\", \"sade\", \"sniff\", \"weekender\", \"bust\", \"previously\", \"have\", \"twirl\", \"location\", \"boyfriend\", \"separate\", \"lose\", \"realize\", \"bother\", \"entrance\", \"range\", \"ingredient\", \"tea\", \"attention\", \"accommodate\", \"speak\", \"broth\", \"lemon\", \"bottom\", \"pig\", \"tend\", \"effort\", \"bonus\", \"delight\", \"dig\", \"vacation\", \"pleasing\", \"scope\", \"benefit\", \"alaskan\", \"favourite\", \"clothe\", \"upper\", \"soda\", \"appetise\", \"sprout\", \"chop\", \"voucher\", \"oxtail\", \"epitome\", \"unremarkable\", \"catering\", \"appetizer\", \"tail\", \"pudding\", \"grill\", \"bean\", \"onion\", \"pull\", \"combination\", \"prime_rib\", \"red\", \"general\", \"soft\", \"additional\", \"helpful\", \"example\", \"yelp\", \"duck\", \"anyways\", \"underwhelme\", \"comparison\", \"ate\", \"prevent\", \"clearing\", \"company\", \"regard\", \"scene\", \"deny\", \"breast\", \"response\", \"email\", \"washer\", \"pwne\", \"amazeball\", \"edit\", \"xoxo\", \"argue\", \"lavish\", \"divide\", \"cupcake\", \"representative\", \"outlet\", \"mmmmmmm\", \"gooooooood\", \"nowadays\", \"carb\", \"wow\", \"classic\", \"bitter\", \"raise\", \"elaborate\", \"hubby\", \"cousin\", \"lime\", \"yelper\", \"eater\", \"chip_cookie\", \"stock\", \"kick\", \"display\", \"plain\", \"post\", \"admit\", \"onion\", \"sugar\", \"helpful\", \"garlic\", \"poor\", \"stick\", \"often\", \"ingredient\", \"imagine\", \"vomit\", \"spider\", \"disapontmet\", \"ful\", \"mosit\", \"nonexistent\", \"drinker\", \"situation\", \"intolerance\", \"occurrence\", \"beloved\", \"confidently\", \"clueless\", \"fattiest\", \"halved\", \"juiciest\", \"bleh\", \"hunt\", \"assault\", \"crawl\", \"stranger\", \"catchy\", \"docking\", \"quiet\", \"stoke\", \"daily\", \"adventure\", \"understaffed\", \"deserved\", \"unexpected\", \"handle\", \"select\", \"link\", \"refund\", \"lid\", \"neatly\", \"apologetic\", \"share\", \"worthwhile\", \"apparently\", \"vast\", \"closing\", \"bbq\", \"hangover\", \"metal\", \"sign\", \"min\", \"weak\", \"lose\", \"write\", \"birthday\"], \"Total\": [1695.0, 1683.0, 8366.0, 7735.0, 2436.0, 949.0, 2074.0, 4427.0, 1052.0, 1106.0, 2123.0, 3319.0, 657.0, 2979.0, 1564.0, 622.0, 2871.0, 440.0, 1477.0, 1484.0, 1957.0, 1319.0, 1668.0, 300.0, 1044.0, 1099.0, 2529.0, 2430.0, 1117.0, 6218.0, 2871.148681640625, 1674.46875, 1666.6517333984375, 1552.3460693359375, 1187.65673828125, 2979.7255859375, 1036.342529296875, 1028.7259521484375, 882.2658081054688, 705.2644653320312, 701.546875, 669.0202026367188, 633.3461303710938, 623.74072265625, 611.1914672851562, 564.7333374023438, 569.0547485351562, 499.7779846191406, 479.83099365234375, 466.52874755859375, 465.4622802734375, 435.9834899902344, 414.9740905761719, 412.09417724609375, 408.826171875, 408.24908447265625, 394.1712646484375, 385.9520263671875, 385.0262756347656, 383.13946533203125, 4427.0361328125, 8366.6728515625, 2430.329833984375, 2529.552978515625, 960.7672119140625, 949.7750854492188, 1000.6932983398438, 676.6627197265625, 607.0271606445312, 732.2412719726562, 1795.35595703125, 923.3634643554688, 2484.2841796875, 6218.3642578125, 1530.59326171875, 1788.6551513671875, 2460.61181640625, 3081.2421875, 1394.80712890625, 1815.4259033203125, 879.043701171875, 3124.393798828125, 3126.65576171875, 1121.3905029296875, 3256.510986328125, 2373.572998046875, 1792.916748046875, 1693.2279052734375, 7735.07177734375, 1306.2554931640625, 1834.5736083984375, 1559.3551025390625, 2123.528564453125, 1564.4056396484375, 1117.20556640625, 1054.6103515625, 941.2508544921875, 874.62744140625, 845.556396484375, 693.4281616210938, 672.9576416015625, 672.87646484375, 2436.88134765625, 487.3564147949219, 474.1851501464844, 407.5615539550781, 386.0356140136719, 363.1439208984375, 362.5171813964844, 292.7847595214844, 290.5892639160156, 272.8161926269531, 250.95144653320312, 247.9874267578125, 244.91656494140625, 241.57803344726562, 241.5586700439453, 226.35848999023438, 223.7515411376953, 217.29910278320312, 206.53781127929688, 203.53314208984375, 1477.0048828125, 794.951171875, 1484.6370849609375, 257.85247802734375, 1668.357421875, 1414.542236328125, 1235.785888671875, 903.2826538085938, 716.7808837890625, 1957.8521728515625, 849.8876953125, 3319.10400390625, 676.95166015625, 651.3699340820312, 7735.07177734375, 1108.6080322265625, 1276.190673828125, 2274.85888671875, 1834.5736083984375, 2373.572998046875, 6218.3642578125, 1722.261474609375, 3256.510986328125, 1044.2939453125, 691.9773559570312, 641.0891723632812, 734.6847534179688, 519.4721069335938, 462.16162109375, 460.9657287597656, 402.2729797363281, 399.545166015625, 349.1781311035156, 345.15234375, 339.1661071777344, 336.3808898925781, 327.55010986328125, 310.6647033691406, 298.5033874511719, 277.36474609375, 276.3484191894531, 276.330810546875, 272.67010498046875, 313.7328796386719, 270.234619140625, 268.648681640625, 255.83395385742188, 254.79843139648438, 251.30010986328125, 249.89520263671875, 246.54953002929688, 243.3431854248047, 242.88165283203125, 2074.652099609375, 286.817138671875, 487.1859130859375, 1099.3997802734375, 355.2392272949219, 1319.8079833984375, 401.26214599609375, 398.47747802734375, 692.6494750976562, 545.2845458984375, 446.7869873046875, 588.3276977539062, 691.0200805664062, 1722.261474609375, 1607.798828125, 1375.561767578125, 499.2061462402344, 938.3171997070312, 1609.182861328125, 1017.0501708984375, 944.5573120117188, 3319.10400390625, 3124.393798828125, 2274.85888671875, 1695.669921875, 1683.1065673828125, 949.03271484375, 657.7861938476562, 622.7206420898438, 381.2286071777344, 366.4365539550781, 324.1258544921875, 154.41259765625, 134.419189453125, 125.62744903564453, 120.51570892333984, 117.73208618164062, 115.97061920166016, 107.4197769165039, 100.35791778564453, 93.97714233398438, 92.65023803710938, 86.0879898071289, 64.35901641845703, 59.55445861816406, 58.8647346496582, 47.01438903808594, 37.68983459472656, 29.165363311767578, 21.165712356567383, 18.997175216674805, 18.40299415588379, 13.571898460388184, 10.344438552856445, 176.97836303710938, 1052.431640625, 1106.894287109375, 322.833251953125, 326.7493591308594, 300.8540344238281, 190.35906982421875, 154.75967407226562, 108.00691986083984, 102.98360443115234, 85.30083465576172, 84.3629150390625, 77.58637237548828, 76.48065948486328, 68.95160675048828, 66.41075134277344, 65.17694091796875, 64.53028869628906, 59.826297760009766, 57.44104766845703, 51.2459716796875, 48.14113998413086, 48.008888244628906, 47.94721603393555, 45.91379928588867, 44.23122787475586, 41.84016036987305, 39.617130279541016, 39.336238861083984, 37.469608306884766, 36.538455963134766, 32.26734924316406, 27.745941162109375, 27.183481216430664, 26.932872772216797, 440.5648498535156, 186.3187255859375, 184.73448181152344, 125.51133728027344, 117.91088104248047, 112.87237548828125, 110.9546890258789, 106.7831802368164, 103.07038116455078, 89.20964813232422, 87.50936126708984, 80.69664001464844, 62.98707962036133, 57.89442443847656, 56.211204528808594, 53.71614074707031, 51.53090286254883, 50.64591979980469, 43.857208251953125, 39.326534271240234, 35.940101623535156, 35.53329849243164, 34.08639907836914, 26.70769691467285, 26.556373596191406, 26.3654842376709, 25.290224075317383, 24.71124839782715, 23.654525756835938, 21.69233512878418, 203.69515991210938, 177.1721649169922, 113.89398193359375, 95.64888763427734, 89.68087768554688, 86.47843933105469, 75.60667419433594, 69.66542053222656, 61.912925720214844, 61.74532699584961, 54.8415412902832, 53.78927230834961, 47.19575881958008, 42.193092346191406, 41.0429573059082, 37.196956634521484, 33.23772048950195, 24.647218704223633, 22.46143341064453, 21.738258361816406, 21.077653884887695, 19.849319458007812, 18.388721466064453, 18.04827308654785, 11.00573444366455, 9.838847160339355, 9.408687591552734, 9.370232582092285, 7.808258533477783, 6.070545196533203, 300.38629150390625, 202.648193359375, 61.17919158935547, 51.685081481933594, 30.548282623291016, 24.324153900146484, 23.724233627319336, 16.791370391845703, 14.315421104431152, 10.810002326965332, 10.44774055480957, 7.3014702796936035, 3.33207631111145, 2.9559969902038574, 1.7189072370529175, 0.85275799036026, 0.8545031547546387, 0.8539103269577026, 0.8523743748664856, 0.8489110469818115, 0.8530874252319336, 0.8576089143753052, 0.8489546775817871, 0.8489449620246887, 0.8492741584777832, 0.8490762710571289, 0.8491134643554688, 0.849877655506134, 0.8500019907951355, 0.8494244813919067, 0.8544842600822449, 0.8552183508872986, 0.8539462089538574, 0.8542776107788086, 0.8529496788978577, 0.8569783568382263, 0.8521019220352173, 0.8549233078956604, 0.8650335073471069, 0.8626747727394104, 0.863310694694519, 0.8600200414657593, 0.8704774379730225, 0.8713499307632446, 0.8730718493461609, 194.6632080078125, 166.03298950195312, 84.44947814941406, 59.62105941772461, 53.75423812866211, 33.484596252441406, 32.043758392333984, 31.235050201416016, 21.051074981689453, 13.97504997253418, 13.422833442687988, 10.48082160949707, 5.164801120758057, 3.95517635345459, 0.8502354621887207, 0.848856508731842, 0.8512523770332336, 0.8537675142288208, 0.8505856990814209, 0.8495085835456848, 0.8496010303497314, 0.8496130108833313, 0.8487071990966797, 0.8502152562141418, 0.8550658822059631, 0.8491917848587036, 0.8494188785552979, 0.8523111939430237, 0.8518439531326294, 0.8488429188728333, 0.8541308641433716, 0.8541146516799927, 0.8562267422676086, 0.8518031239509583, 0.8576161861419678, 0.8527997136116028, 0.8599969744682312, 0.8605371713638306, 0.8579105734825134, 0.8747290968894958, 0.8566624522209167, 0.8697353005409241, 0.8664608001708984, 0.8657487630844116, 0.8631396889686584, 0.8626747727394104, 0.8596811294555664, 0.8713499307632446, 95.31066131591797, 62.10477828979492, 54.06019973754883, 52.45333480834961, 44.09958267211914, 42.5176887512207, 35.383216857910156, 33.058799743652344, 31.083473205566406, 28.080839157104492, 25.64051628112793, 23.345186233520508, 21.862125396728516, 16.594886779785156, 13.54126262664795, 9.030956268310547, 4.842709541320801, 2.5138163566589355, 0.8517579436302185, 0.8519676327705383, 0.8542280793190002, 0.8525058031082153, 0.849919855594635, 0.8502576947212219, 0.8491709232330322, 0.8491709232330322, 0.8493718504905701, 0.8492712378501892, 0.8492346405982971, 0.8514588475227356, 0.8571641445159912, 0.8528619408607483, 0.8575159311294556, 0.8566933274269104, 0.8539931774139404, 0.8713499307632446, 0.86199951171875, 0.8599969744682312, 0.8641895055770874, 72.59356689453125, 67.13299560546875, 52.36978530883789, 39.03144836425781, 32.609771728515625, 30.760950088500977, 30.679946899414062, 29.67708969116211, 20.349411010742188, 19.638511657714844, 19.588516235351562, 16.42340660095215, 14.523244857788086, 13.621126174926758, 12.367500305175781, 11.127175331115723, 7.9770917892456055, 7.909406661987305, 1.537691593170166, 1.100329875946045, 0.8547728657722473, 0.848674476146698, 0.848669171333313, 0.848669171333313, 0.848669171333313, 0.848669171333313, 0.8489376306533813, 0.8509442210197449, 0.8515598177909851, 0.8498786091804504, 0.8576161861419678, 0.8730718493461609, 0.8599754571914673, 0.8641895055770874, 0.8598753213882446, 0.8602461814880371, 0.8549233078956604, 0.8664608001708984, 0.8704774379730225, 60.95171356201172, 54.51457977294922, 41.69865417480469, 38.49493408203125, 38.136959075927734, 37.47813034057617, 31.169452667236328, 29.010326385498047, 26.830181121826172, 25.084678649902344, 23.27349090576172, 21.094135284423828, 15.487411499023438, 12.338729858398438, 11.634047508239746, 3.769285202026367, 2.052394151687622, 1.690616488456726, 0.8542280793190002, 0.8504872918128967, 0.849930465221405, 0.8559413552284241, 0.849919855594635, 0.850940465927124, 0.8511737585067749, 0.8490430116653442, 0.8496127724647522, 0.8484139442443848, 0.8484508395195007, 0.8492609262466431, 0.8540823459625244, 0.8509801626205444, 0.8522555828094482, 0.8585376143455505, 0.8549331426620483, 0.8547326326370239, 0.8563300967216492, 0.8559896349906921, 0.8713499307632446, 0.8596811294555664, 0.8537406921386719, 0.8595314025878906, 0.8582738637924194, 0.8606007695198059, 65.6224365234375, 54.75661849975586, 34.592594146728516, 29.691068649291992, 26.363706588745117, 22.772640228271484, 21.8501033782959, 20.66756248474121, 17.954465866088867, 11.05500316619873, 9.750348091125488, 4.717239856719971, 0.8487488627433777, 0.8496679663658142, 0.8496649861335754, 0.8485949635505676, 0.8485466241836548, 0.8485754728317261, 0.8489698171615601, 0.8498448133468628, 0.8488767743110657, 0.8486946821212769, 0.8492857217788696, 0.8491209149360657, 0.8496074676513672, 0.8482885360717773, 0.8482885360717773, 0.8482885360717773, 0.8482885360717773, 0.8489441871643066, 0.8509607315063477, 0.8514223694801331, 0.8501725792884827, 0.8495804071426392, 0.8526938557624817, 0.849683403968811, 0.8555009365081787, 0.8515561819076538, 0.8514930605888367, 0.8533670902252197, 0.8567678332328796, 0.8509619832038879, 0.853916585445404, 0.8559762835502625, 0.8697353005409241, 0.8571797013282776, 0.8525754809379578, 0.8578697443008423, 0.8547326326370239, 0.8584039211273193, 0.8606007695198059, 0.8566933274269104, 0.8657487630844116, 0.8600200414657593, 0.8747290968894958, 0.8704774379730225, 11.911745071411133, 0.8493166565895081, 0.8493314385414124, 0.8482535481452942, 0.8482580184936523, 0.8483768701553345, 0.8485697507858276, 0.848534882068634, 0.8513789772987366, 0.8489028811454773, 0.8485923409461975, 0.8485937714576721, 0.8486006259918213, 0.8486325144767761, 0.8483158349990845, 0.8483158349990845, 0.8483158349990845, 0.8486703038215637, 0.8489469289779663, 0.848409116268158, 0.84874427318573, 0.8491548895835876, 0.8486365675926208, 0.8481623530387878, 0.848904013633728, 0.8494383692741394, 0.8489370942115784, 0.8495304584503174, 0.849556028842926, 0.8494347929954529, 0.8504287600517273, 0.8557876348495483, 0.852587103843689, 0.8497028350830078, 0.8495075106620789, 0.8500407338142395, 0.8496662378311157, 0.850177526473999, 0.8587785363197327, 0.8501376509666443, 0.8509872555732727, 0.8544842600822449, 0.8550658822059631, 0.851588249206543, 0.8516117930412292, 0.8537287712097168, 0.8626747727394104, 0.8586309552192688, 0.8546313047409058, 0.8641895055770874, 0.86199951171875, 0.8603714108467102], \"loglift\": [30.0, 29.0, 28.0, 27.0, 26.0, 25.0, 24.0, 23.0, 22.0, 21.0, 20.0, 19.0, 18.0, 17.0, 16.0, 15.0, 14.0, 13.0, 12.0, 11.0, 10.0, 9.0, 8.0, 7.0, 6.0, 5.0, 4.0, 3.0, 2.0, 1.0, 0.7523999810218811, 0.7522000074386597, 0.7522000074386597, 0.7520999908447266, 0.7519999742507935, 0.7519999742507935, 0.7519000172615051, 0.7519000172615051, 0.751800000667572, 0.7516000270843506, 0.7516000270843506, 0.7515000104904175, 0.7513999938964844, 0.7513999938964844, 0.7513999938964844, 0.7512999773025513, 0.7512000203132629, 0.7511000037193298, 0.7511000037193298, 0.7509999871253967, 0.7509999871253967, 0.7508999705314636, 0.7508000135421753, 0.7508000135421753, 0.7508000135421753, 0.7508000135421753, 0.7506999969482422, 0.7506999969482422, 0.7506999969482422, 0.7506999969482422, 0.7501000165939331, 0.7379999756813049, 0.7419000267982483, 0.7408999800682068, 0.7498000264167786, 0.748199999332428, 0.745199978351593, 0.7466999888420105, 0.7450000047683716, 0.7358999848365784, 0.6906999945640564, 0.7181000113487244, 0.6504999995231628, 0.5777000188827515, 0.6772000193595886, 0.6514999866485596, 0.6198999881744385, 0.5935999751091003, 0.6692000031471252, 0.6376000046730042, 0.713100016117096, 0.5400999784469604, 0.5378000140190125, 0.659600019454956, 0.39340001344680786, 0.3864000141620636, 0.4754999876022339, 0.4869000017642975, -0.20739999413490295, 0.5802000164985657, 0.2574999928474426, 0.3474000096321106, 1.389799952507019, 1.3897000551223755, 1.3895000219345093, 1.3895000219345093, 1.3894000053405762, 1.389299988746643, 1.389299988746643, 1.3890999555587769, 1.3890000581741333, 1.3890000581741333, 1.3885999917984009, 1.3885999917984009, 1.3885999917984009, 1.3882999420166016, 1.388200044631958, 1.388100028038025, 1.388100028038025, 1.3875999450683594, 1.3875000476837158, 1.3874000310897827, 1.3870999813079834, 1.3870999813079834, 1.3870999813079834, 1.3869999647140503, 1.3869999647140503, 1.3868000507354736, 1.3868000507354736, 1.3867000341415405, 1.3865000009536743, 1.3863999843597412, 1.3803999423980713, 1.3823000192642212, 1.3339999914169312, 1.3830000162124634, 1.285099983215332, 1.2893999814987183, 1.291200041770935, 1.3071999549865723, 1.319000005722046, 1.2319999933242798, 1.2955000400543213, 1.1719000339508057, 1.3032000064849854, 1.294100046157837, 0.9074000120162964, 1.0961999893188477, 1.0124000310897827, 0.7124999761581421, 0.4447000026702881, 0.20720000565052032, -0.5357000231742859, 0.41690000891685486, -0.20669999718666077, 1.632099986076355, 1.6318000555038452, 1.631700038909912, 1.631500005722046, 1.6313999891281128, 1.6311999559402466, 1.6311999559402466, 1.63100004196167, 1.63100004196167, 1.6306999921798706, 1.6306999921798706, 1.6305999755859375, 1.6305999755859375, 1.6304999589920044, 1.6303999423980713, 1.6303000450134277, 1.6301000118255615, 1.6301000118255615, 1.6301000118255615, 1.6301000118255615, 1.6301000118255615, 1.6299999952316284, 1.6299999952316284, 1.6298999786376953, 1.6298999786376953, 1.6297999620437622, 1.6297999620437622, 1.6297999620437622, 1.629699945449829, 1.629699945449829, 1.6139999628067017, 1.628499984741211, 1.6223000288009644, 1.6039999723434448, 1.6188000440597534, 1.5499999523162842, 1.6007000207901, 1.5987999439239502, 1.519700050354004, 1.5369999408721924, 1.5365999937057495, 1.4811999797821045, 1.4098999500274658, 1.1267999410629272, 1.1373000144958496, 1.0930999517440796, 1.4505000114440918, 1.098099946975708, 0.5983999967575073, 0.8734999895095825, 0.8948000073432922, -0.07819999754428864, -0.07559999823570251, 0.1492999941110611, 3.349100112915039, 3.349100112915039, 3.3487000465393066, 3.348400115966797, 3.348299980163574, 3.3475000858306885, 3.347399950027466, 3.3471999168395996, 3.3445000648498535, 3.3438000679016113, 3.343400001525879, 3.343100070953369, 3.3429999351501465, 3.342900037765503, 3.3422999382019043, 3.3417999744415283, 3.3413000106811523, 3.341200113296509, 3.3405001163482666, 3.3375000953674316, 3.3364999294281006, 3.336400032043457, 3.3329999446868896, 3.328900098800659, 3.3227999210357666, 3.3125, 3.3080999851226807, 3.30679988861084, 3.291100025177002, 3.2720999717712402, 3.233799934387207, 2.672600030899048, 2.5950000286102295, 2.3657000064849854, 1.4219000339508057, 4.535299777984619, 4.53380012512207, 4.532899856567383, 4.530700206756592, 4.530300140380859, 4.52869987487793, 4.528600215911865, 4.5278000831604, 4.527699947357178, 4.526599884033203, 4.526100158691406, 4.525899887084961, 4.5258002281188965, 4.524799823760986, 4.5243000984191895, 4.522600173950195, 4.521599769592285, 4.521599769592285, 4.521599769592285, 4.5208001136779785, 4.520199775695801, 4.519199848175049, 4.518099784851074, 4.51800012588501, 4.517000198364258, 4.51639986038208, 4.513599872589111, 4.509500026702881, 4.508900165557861, 4.508699893951416, 4.551799774169922, 4.549300193786621, 4.549300193786621, 4.547299861907959, 4.546899795532227, 4.546599864959717, 4.546500205993652, 4.546199798583984, 4.545899868011475, 4.5447998046875, 4.544600009918213, 4.543799877166748, 4.541100025177002, 4.539999961853027, 4.539599895477295, 4.538899898529053, 4.538300037384033, 4.538000106811523, 4.535600185394287, 4.5335001945495605, 4.531599998474121, 4.531300067901611, 4.530399799346924, 4.523900032043457, 4.52370023727417, 4.523499965667725, 4.522200107574463, 4.521500110626221, 4.519999980926514, 4.516900062561035, 4.931099891662598, 4.930500030517578, 4.927999973297119, 4.926700115203857, 4.926199913024902, 4.925899982452393, 4.924499988555908, 4.923699855804443, 4.9222002029418945, 4.9222002029418945, 4.920599937438965, 4.920300006866455, 4.9182000160217285, 4.916200160980225, 4.9156999588012695, 4.913700103759766, 4.911099910736084, 4.902699947357178, 4.899499893188477, 4.8983001708984375, 4.897200107574463, 4.894800186157227, 4.891499996185303, 4.890699863433838, 4.861299991607666, 4.852200031280518, 4.848299980163574, 4.847899913787842, 4.829500198364258, 4.7972002029418945, 5.461699962615967, 5.460400104522705, 5.451300144195557, 5.44890022277832, 5.4380998611450195, 5.43120002746582, 5.4303998947143555, 5.415999889373779, 5.407400131225586, 5.388199806213379, 5.38539981842041, 5.349400043487549, 5.192699909210205, 5.152100086212158, 4.845900058746338, 2.742000102996826, 2.740600109100342, 2.7393999099731445, 2.7383999824523926, 2.736599922180176, 2.7363998889923096, 2.735599994659424, 2.7351999282836914, 2.7351999282836914, 2.735100030899048, 2.734999895095825, 2.734999895095825, 2.7348999977111816, 2.7346999645233154, 2.734600067138672, 2.734100103378296, 2.733299970626831, 2.7335000038146973, 2.7330000400543213, 2.7332000732421875, 2.7311999797821045, 2.733599901199341, 2.731800079345703, 2.72379994392395, 2.7253000736236572, 2.7244999408721924, 2.727099895477295, 2.717400074005127, 2.716200113296509, 2.7125000953674316, 5.498700141906738, 5.498000144958496, 5.493299961090088, 5.4893999099731445, 5.4878997802734375, 5.478799819946289, 5.477700233459473, 5.4770002365112305, 5.464300155639648, 5.444300174713135, 5.441800117492676, 5.423999786376953, 5.335899829864502, 5.27869987487793, 2.7560999393463135, 2.7558000087738037, 2.754699945449829, 2.754499912261963, 2.7544000148773193, 2.7541000843048096, 2.7541000843048096, 2.7541000843048096, 2.753999948501587, 2.753999948501587, 2.753999948501587, 2.7539000511169434, 2.7539000511169434, 2.7539000511169434, 2.7537999153137207, 2.753700017929077, 2.7535998821258545, 2.7534000873565674, 2.7520999908447266, 2.753200054168701, 2.7511000633239746, 2.752700090408325, 2.7474000453948975, 2.746999979019165, 2.748500108718872, 2.7348999977111816, 2.749300003051758, 2.7383999824523926, 2.7411000728607178, 2.7416999340057373, 2.7437000274658203, 2.7434000968933105, 2.7460999488830566, 2.732599973678589, 5.644400119781494, 5.639900207519531, 5.637899875640869, 5.637499809265137, 5.6346001625061035, 5.633900165557861, 5.630000114440918, 5.628399848937988, 5.626800060272217, 5.624000072479248, 5.621200084686279, 5.618000030517578, 5.615600109100342, 5.603499889373779, 5.592100143432617, 5.560299873352051, 5.472799777984619, 5.270999908447266, 2.8357999324798584, 2.835700035095215, 2.834199905395508, 2.8297998905181885, 2.829699993133545, 2.827199935913086, 2.8271000385284424, 2.8271000385284424, 2.8269999027252197, 2.826900005340576, 2.8266000747680664, 2.8262999057769775, 2.8255999088287354, 2.8261001110076904, 2.8243000507354736, 2.82450008392334, 2.824700117111206, 2.8155999183654785, 2.8201000690460205, 2.819200038909912, 2.8145999908447266, 5.706399917602539, 5.705399990081787, 5.702099800109863, 5.696800231933594, 5.692699909210205, 5.691199779510498, 5.691100120544434, 5.690199851989746, 5.677499771118164, 5.67609977722168, 5.676000118255615, 5.667799949645996, 5.661099910736084, 5.657299995422363, 5.651000022888184, 5.6433000564575195, 5.612400054931641, 5.611499786376953, 4.990300178527832, 4.436999797821045, 2.9570000171661377, 2.9560999870300293, 2.9560999870300293, 2.9560999870300293, 2.9560999870300293, 2.9560999870300293, 2.955899953842163, 2.955699920654297, 2.9549999237060547, 2.954900026321411, 2.9491000175476074, 2.937299966812134, 2.947200059890747, 2.9428999423980713, 2.9465999603271484, 2.9458999633789062, 2.9505999088287354, 2.9398999214172363, 2.9333999156951904, 5.768199920654297, 5.766600131988525, 5.7621002197265625, 5.76039981842041, 5.760200023651123, 5.759900093078613, 5.75540018081665, 5.753499984741211, 5.751200199127197, 5.749100208282471, 5.746500015258789, 5.742800235748291, 5.728499889373779, 5.7144999504089355, 5.710299968719482, 5.543399810791016, 5.288700103759766, 5.142300128936768, 2.944999933242798, 2.944999933242798, 2.944200038909912, 2.944000005722046, 2.9439001083374023, 2.9437999725341797, 2.943700075149536, 2.9435999393463135, 2.9433999061584473, 2.94320011138916, 2.9430999755859375, 2.9430999755859375, 2.9421000480651855, 2.9426000118255615, 2.9421000480651855, 2.9398000240325928, 2.9410998821258545, 2.9410998821258545, 2.9402999877929688, 2.9398000240325928, 2.9279000759124756, 2.936300039291382, 2.9412999153137207, 2.935699939727783, 2.9367001056671143, 2.9342000484466553, 5.995800018310547, 5.993299961090088, 5.984600067138672, 5.9807000160217285, 5.977200031280518, 5.9721999168396, 5.970699787139893, 5.968500137329102, 5.962399959564209, 5.932799816131592, 5.9222002029418945, 5.821700096130371, 3.0878000259399414, 3.0875000953674316, 3.0869998931884766, 3.0869998931884766, 3.086400032043457, 3.086400032043457, 3.0862998962402344, 3.0862998962402344, 3.0862998962402344, 3.0862998962402344, 3.086199998855591, 3.086199998855591, 3.086199998855591, 3.086199998855591, 3.086199998855591, 3.086199998855591, 3.086199998855591, 3.0861001014709473, 3.0861001014709473, 3.0861001014709473, 3.085900068283081, 3.0859999656677246, 3.0855000019073486, 3.0859999656677246, 3.083899974822998, 3.0852999687194824, 3.085099935531616, 3.0843000411987305, 3.0820000171661377, 3.085200071334839, 3.0833001136779785, 3.081700086593628, 3.072200059890747, 3.0806000232696533, 3.0838000774383545, 3.079200029373169, 3.0817999839782715, 3.0782999992370605, 3.075900077819824, 3.0797998905181885, 3.0706000328063965, 3.0757999420166016, 3.0589001178741455, 3.063499927520752, 7.972499847412109, 3.514400005340576, 3.5143001079559326, 3.51419997215271, 3.51419997215271, 3.5141000747680664, 3.5136001110076904, 3.5134999752044678, 3.5132999420166016, 3.513200044631958, 3.5130999088287354, 3.5130999088287354, 3.5130999088287354, 3.5130999088287354, 3.5130999088287354, 3.5130999088287354, 3.5130999088287354, 3.513000011444092, 3.513000011444092, 3.513000011444092, 3.513000011444092, 3.5129001140594482, 3.5129001140594482, 3.5127999782562256, 3.5127999782562256, 3.5127999782562256, 3.512700080871582, 3.512700080871582, 3.5125999450683594, 3.5125999450683594, 3.5123000144958496, 3.5106000900268555, 3.5116000175476074, 3.512399911880493, 3.512500047683716, 3.5120999813079834, 3.5123000144958496, 3.511899948120117, 3.5053999423980713, 3.511699914932251, 3.5109000205993652, 3.507699966430664, 3.5071001052856445, 3.5102999210357666, 3.510200023651123, 3.5078001022338867, 3.4979000091552734, 3.5023000240325928, 3.506700038909912, 3.495500087738037, 3.497999906539917, 3.499799966812134], \"logprob\": [30.0, 29.0, 28.0, 27.0, 26.0, 25.0, 24.0, 23.0, 22.0, 21.0, 20.0, 19.0, 18.0, 17.0, 16.0, 15.0, 14.0, 13.0, 12.0, 11.0, 10.0, 9.0, 8.0, 7.0, 6.0, 5.0, 4.0, 3.0, 2.0, 1.0, -3.8880999088287354, -4.427499771118164, -4.432199954986572, -4.503300189971924, -4.771200180053711, -3.851300001144409, -4.907599925994873, -4.914899826049805, -5.068600177764893, -5.292799949645996, -5.298099994659424, -5.345600128173828, -5.4004998207092285, -5.415800094604492, -5.436100006103516, -5.5152997970581055, -5.507699966430664, -5.637700080871582, -5.678400039672852, -5.706600189208984, -5.708899974822998, -5.774400234222412, -5.82390022277832, -5.830900192260742, -5.838900089263916, -5.8403000831604, -5.875400066375732, -5.896500110626221, -5.89900016784668, -5.903900146484375, -3.45740008354187, -2.832900047302246, -4.065299987792969, -4.026199817657471, -4.985400199890137, -4.998499870300293, -4.9492998123168945, -5.339000225067139, -5.449399948120117, -5.270899772644043, -4.419300079345703, -5.05679988861084, -4.134699821472168, -3.2899999618530273, -4.592299938201904, -4.462200164794922, -4.174900054931641, -3.976300001144409, -4.693299770355225, -4.461299896240234, -5.111000061035156, -4.0157999992370605, -4.017399787902832, -4.921000003814697, -4.121200084686279, -4.444399833679199, -4.635799884796143, -4.681600093841553, -3.856800079345703, -4.847799777984619, -4.8308000564575195, -4.903500080108643, -3.552299976348877, -3.8580000400543213, -4.194799900054932, -4.252500057220459, -4.366300106048584, -4.439799785614014, -4.473700046539307, -4.6722002029418945, -4.702199935913086, -4.702300071716309, -3.415800094604492, -5.025300025939941, -5.052800178527832, -5.204400062561035, -5.258800029754639, -5.320099830627441, -5.321800231933594, -5.535900115966797, -5.543499946594238, -5.606800079345703, -5.690499782562256, -5.702499866485596, -5.715000152587891, -5.728700160980225, -5.728799819946289, -5.794000148773193, -5.805600166320801, -5.835000038146973, -5.886000156402588, -5.900700092315674, -3.924799919128418, -4.542399883270264, -3.9660000801086426, -5.667600154876709, -3.898200035095215, -4.059000015258789, -4.192299842834473, -4.489699840545654, -4.709099769592285, -3.791300058364868, -4.562300205230713, -3.3236000537872314, -4.782100200653076, -4.829800128936768, -2.742000102996826, -4.4959001541137695, -4.438899993896484, -4.160699844360352, -4.643700122833252, -4.623499870300293, -4.403299808502197, -4.7347002029418945, -4.721199989318848, -4.019700050354004, -4.431600093841553, -4.5081000328063965, -4.372000217437744, -4.718699932098389, -4.8358001708984375, -4.838399887084961, -4.974800109863281, -4.981599807739258, -5.116700172424316, -5.128300189971924, -5.1458001136779785, -5.154099941253662, -5.180699825286865, -5.233799934387207, -5.273799896240234, -5.347499847412109, -5.351200103759766, -5.351200103759766, -5.36460018157959, -5.224299907684326, -5.373600006103516, -5.379499912261963, -5.428500175476074, -5.432600021362305, -5.446499824523926, -5.452099800109863, -5.46560001373291, -5.478700160980225, -5.480599880218506, -3.351300001144409, -5.3155999183654785, -4.791999816894531, -3.9964001178741455, -5.111400127410889, -3.8675999641418457, -5.007599830627441, -5.01639986038208, -4.542699813842773, -4.764599800109863, -4.964300155639648, -4.744500160217285, -4.654900074005127, -4.024700164794922, -4.083000183105469, -4.283199787139893, -4.9394001960754395, -4.660699844360352, -4.620999813079834, -4.804800033569336, -4.857500076293945, -4.573699951171875, -4.631499767303467, -4.723999977111816, -1.8179999589920044, -1.8253999948501587, -2.3987998962402344, -2.765700101852417, -2.820499897003174, -3.312000036239624, -3.3517000675201416, -3.474600076675415, -4.218800067901611, -4.3582000732421875, -4.426199913024902, -4.4679999351501465, -4.491499900817871, -4.506700038909912, -4.583799839019775, -4.652299880981445, -4.718599796295166, -4.732900142669678, -4.807000160217285, -5.10099983215332, -5.179500102996826, -5.191299915313721, -5.41949987411499, -5.644599914550781, -5.907199859619141, -6.238100051879883, -6.350500106811523, -6.383600234985352, -6.703800201416016, -6.99429988861084, -4.1930999755859375, -2.9714999198913574, -2.9986000061035156, -4.460100173950195, -5.3917999267578125, -2.3610000610351562, -2.820199966430664, -3.0281999111175537, -3.3901000022888184, -3.437999963760376, -3.628000020980835, -3.63919997215271, -3.7237000465393066, -3.7381999492645264, -3.8429999351501465, -3.8808999061584473, -3.899899959564209, -3.9100000858306885, -3.986599922180176, -4.027900218963623, -4.143700122833252, -4.207099914550781, -4.20989990234375, -4.21120023727417, -4.255300045013428, -4.293300151824951, -4.349899768829346, -4.405600070953369, -4.412799835205078, -4.462399959564209, -4.488100051879883, -4.615300178527832, -4.770299911499023, -4.791399955749512, -4.800899982452393, -1.9630999565124512, -2.8261001110076904, -2.834700107574463, -3.2232000827789307, -3.286099910736084, -3.3301000595092773, -3.3473000526428223, -3.3859000205993652, -3.421600103378296, -3.567199945449829, -3.5866000652313232, -3.6684000492095947, -3.9189000129699707, -4.004300117492676, -4.034200191497803, -4.0802998542785645, -4.122499942779541, -4.139999866485596, -4.286399841308594, -4.397500038146973, -4.489500045776367, -4.501100063323975, -4.543600082397461, -4.794099807739258, -4.799900054931641, -4.807400226593018, -4.850299835205078, -4.874199867248535, -4.919400215148926, -5.008999824523926, -2.3552000522613525, -2.495300054550171, -2.9395999908447266, -3.115499973297119, -3.180500030517578, -3.2172000408172607, -3.352799892425537, -3.4356000423431396, -3.555000066757202, -3.5576999187469482, -3.6779000759124756, -3.697499990463257, -3.830399990081787, -3.9444000720977783, -3.972599983215332, -4.072999954223633, -4.1880998611450195, -4.495500087738037, -4.591599941253662, -4.625500202178955, -4.65749979019165, -4.71999979019165, -4.799699783325195, -4.819200038909912, -5.343200206756592, -5.464399814605713, -5.513000011444092, -5.517499923706055, -5.718200206756592, -6.002299785614014, -1.4361000061035156, -1.8309999704360962, -3.0378000736236572, -3.208899974822998, -3.7455999851226807, -3.9802000522613525, -4.006100177764893, -4.366099834442139, -4.534200191497803, -4.8343000411987305, -4.871099948883057, -5.265399932861328, -6.206699848175049, -6.367000102996826, -7.2153000831604, -10.0201997756958, -10.019599914550781, -10.021499633789062, -10.024299621582031, -10.030099868774414, -10.025400161743164, -10.020899772644043, -10.031499862670898, -10.031499862670898, -10.031200408935547, -10.031499862670898, -10.031499862670898, -10.030699729919434, -10.030799865722656, -10.031499862670898, -10.026100158691406, -10.026000022888184, -10.027299880981445, -10.02750015258789, -10.02869987487793, -10.026100158691406, -10.029399871826172, -10.027899742126465, -10.024100303649902, -10.025300025939941, -10.025400161743164, -10.026599884033203, -10.024200439453125, -10.024499893188477, -10.026200294494629, -1.8329999446868896, -1.992799997329712, -2.6735000610351562, -3.025599956512451, -3.1305999755859375, -3.613100051879883, -3.6582000255584717, -3.6844000816345215, -4.091700077056885, -4.521399974822998, -4.564199924468994, -4.829400062561035, -5.625199794769287, -5.94920015335083, -10.009099960327148, -10.01099967956543, -10.009300231933594, -10.006500244140625, -10.01039981842041, -10.011899948120117, -10.011799812316895, -10.011799812316895, -10.012900352478027, -10.011199951171875, -10.005499839782715, -10.012499809265137, -10.012200355529785, -10.008899688720703, -10.009499549865723, -10.013099670410156, -10.006999969482422, -10.007200241088867, -10.005999565124512, -10.010199546813965, -10.005399703979492, -10.009499549865723, -10.00629997253418, -10.006199836730957, -10.007699966430664, -10.001899719238281, -10.008299827575684, -10.00409984588623, -10.00510025024414, -10.005399703979492, -10.006400108337402, -10.00730037689209, -10.008099555969238, -10.008099555969238, -2.401400089263916, -2.834199905395508, -2.974900007247925, -3.005500078201294, -3.1819000244140625, -3.219099998474121, -3.4066998958587646, -3.476300001144409, -3.539400100708008, -3.643899917602539, -3.737600088119507, -3.8345000743865967, -3.9024999141693115, -4.190299987792969, -4.405099868774414, -4.8420000076293945, -5.552700042724609, -6.410099983215332, -9.927599906921387, -9.927399635314941, -9.926300048828125, -9.932700157165527, -9.935799598693848, -9.937899589538574, -9.939399719238281, -9.939399719238281, -9.939200401306152, -9.939399719238281, -9.939800262451172, -9.937399864196777, -9.931400299072266, -9.935999870300293, -9.93239974975586, -9.933099746704102, -9.936100006103516, -9.925000190734863, -9.931300163269043, -9.934599876403809, -9.934300422668457, -2.6117000579833984, -2.6907999515533447, -2.942500114440918, -3.24180006980896, -3.425600051879883, -3.4855000972747803, -3.4881999492645264, -3.5223000049591064, -3.9123001098632812, -3.949399948120117, -3.9519999027252197, -4.13640022277832, -4.26609992980957, -4.334000110626221, -4.4369001388549805, -4.550300121307373, -4.913899898529053, -4.923399925231934, -7.182400226593018, -8.070300102233887, -9.802900314331055, -9.81089973449707, -9.81089973449707, -9.81089973449707, -9.81089973449707, -9.81089973449707, -9.810799598693848, -9.808600425720215, -9.808699607849121, -9.810600280761719, -9.807499885559082, -9.801300048828125, -9.806599617004395, -9.805999755859375, -9.807299613952637, -9.807600021362305, -9.809100151062012, -9.806400299072266, -9.808199882507324, -2.724600076675415, -2.8378000259399414, -3.1103999614715576, -3.191999912261963, -3.2014999389648438, -3.2193000316619873, -3.4079999923706055, -3.481800079345703, -3.5622000694274902, -3.6315999031066895, -3.7091000080108643, -3.8111000061035156, -4.134399890899658, -4.375699996948242, -4.438700199127197, -5.732699871063232, -6.595200061798096, -6.9355998039245605, -9.815500259399414, -9.819899559020996, -9.821399688720703, -9.814499855041504, -9.821700096130371, -9.820500373840332, -9.82040023803711, -9.822999954223633, -9.822500228881836, -9.82409954071045, -9.82409954071045, -9.823200225830078, -9.818499565124512, -9.821599960327148, -9.820699691772461, -9.815699577331543, -9.818599700927734, -9.81879997253418, -9.81779956817627, -9.818599700927734, -9.812700271606445, -9.81779956817627, -9.81980037689209, -9.818599700927734, -9.819000244140625, -9.818900108337402, -2.4231998920440674, -2.6066999435424805, -3.074700117111206, -3.2314000129699707, -3.3536999225616455, -3.5051000118255615, -3.5480000972747803, -3.6059000492095947, -3.752700090408325, -4.267300128936768, -4.40339994430542, -5.230000019073486, -9.679100036621094, -9.678400039672852, -9.678799629211426, -9.680100440979004, -9.680700302124023, -9.680700302124023, -9.680299758911133, -9.679300308227539, -9.680500030517578, -9.680700302124023, -9.680100440979004, -9.680299758911133, -9.679699897766113, -9.681300163269043, -9.681300163269043, -9.681300163269043, -9.681300163269043, -9.6806001663208, -9.678199768066406, -9.67770004272461, -9.679300308227539, -9.679900169372559, -9.676799774169922, -9.679800033569336, -9.675100326538086, -9.678299903869629, -9.678500175476074, -9.677200317382812, -9.67549991607666, -9.679200172424316, -9.677499771118164, -9.676799774169922, -9.670299530029297, -9.676400184631348, -9.678600311279297, -9.67710018157959, -9.678099632263184, -9.677300453186035, -9.677200317382812, -9.677800178527832, -9.676400184631348, -9.677900314331055, -9.677800178527832, -9.678199768066406, -2.152899980545044, -9.251899719238281, -9.251899719238281, -9.253299713134766, -9.253299713134766, -9.253299713134766, -9.253499984741211, -9.253600120544434, -9.250499725341797, -9.253499984741211, -9.253999710083008, -9.253999710083008, -9.253999710083008, -9.253999710083008, -9.254300117492676, -9.254300117492676, -9.254300117492676, -9.253999710083008, -9.253700256347656, -9.254300117492676, -9.253999710083008, -9.253499984741211, -9.254199981689453, -9.254799842834473, -9.253999710083008, -9.253299713134766, -9.253999710083008, -9.253299713134766, -9.253299713134766, -9.253499984741211, -9.252599716186523, -9.248000144958496, -9.250800132751465, -9.253299713134766, -9.253499984741211, -9.253299713134766, -9.253499984741211, -9.253299713134766, -9.249799728393555, -9.253499984741211, -9.253299713134766, -9.2524995803833, -9.252400398254395, -9.253299713134766, -9.253299713134766, -9.253199577331543, -9.252699851989746, -9.253000259399414, -9.253299713134766, -9.253399848937988, -9.253399848937988, -9.253499984741211]}, \"token.table\": {\"Topic\": [12, 9, 12, 7, 5, 4, 1, 2, 3, 1, 1, 7, 13, 6, 8, 2, 3, 1, 9, 13, 2, 12, 9, 1, 4, 4, 8, 1, 1, 3, 7, 2, 3, 11, 8, 2, 3, 12, 10, 2, 3, 3, 5, 12, 12, 4, 5, 1, 2, 5, 12, 1, 2, 6, 3, 7, 6, 10, 7, 4, 4, 5, 11, 3, 3, 3, 3, 5, 1, 2, 2, 10, 1, 9, 13, 7, 1, 3, 1, 2, 3, 13, 4, 13, 7, 9, 6, 10, 2, 5, 5, 6, 3, 6, 1, 2, 3, 6, 5, 6, 8, 1, 3, 2, 3, 1, 6, 1, 2, 12, 8, 3, 1, 2, 3, 2, 12, 1, 2, 4, 3, 2, 3, 6, 11, 1, 3, 3, 13, 5, 1, 2, 3, 5, 7, 7, 12, 3, 9, 6, 2, 3, 8, 2, 10, 1, 2, 3, 1, 13, 10, 2, 6, 5, 1, 1, 2, 5, 7, 2, 5, 4, 2, 10, 4, 3, 2, 1, 2, 3, 1, 2, 7, 11, 1, 2, 3, 6, 1, 3, 1, 3, 4, 3, 3, 4, 1, 2, 3, 4, 5, 11, 1, 7, 1, 2, 1, 2, 3, 3, 9, 10, 1, 2, 6, 2, 3, 4, 1, 7, 8, 4, 3, 4, 2, 14, 11, 8, 2, 5, 2, 8, 10, 2, 2, 6, 1, 1, 3, 1, 2, 10, 1, 10, 12, 1, 2, 3, 4, 1, 2, 3, 4, 1, 2, 3, 1, 2, 1, 2, 3, 3, 1, 2, 3, 8, 4, 2, 11, 3, 6, 7, 6, 5, 11, 4, 6, 1, 5, 11, 1, 2, 3, 6, 7, 1, 1, 3, 1, 2, 3, 7, 2, 2, 6, 8, 2, 9, 2, 2, 3, 10, 6, 9, 7, 7, 4, 11, 7, 7, 4, 1, 4, 11, 1, 11, 6, 12, 1, 2, 1, 2, 3, 6, 12, 4, 3, 1, 2, 3, 5, 2, 1, 2, 1, 2, 3, 13, 5, 1, 2, 9, 4, 1, 3, 1, 2, 11, 6, 1, 2, 3, 1, 7, 13, 5, 7, 1, 3, 3, 9, 5, 9, 8, 2, 3, 7, 3, 3, 6, 1, 13, 12, 8, 2, 3, 4, 4, 1, 3, 2, 4, 4, 2, 3, 1, 1, 10, 8, 3, 4, 10, 11, 8, 1, 2, 3, 11, 11, 6, 12, 7, 5, 1, 2, 3, 7, 1, 10, 1, 3, 4, 5, 1, 5, 2, 3, 1, 2, 3, 3, 2, 1, 3, 2, 4, 1, 2, 3, 6, 3, 1, 3, 4, 6, 1, 2, 3, 2, 3, 12, 12, 1, 2, 3, 1, 2, 3, 1, 10, 3, 3, 6, 9, 5, 10, 2, 7, 1, 2, 3, 2, 5, 10, 13, 2, 1, 12, 1, 2, 9, 6, 2, 11, 4, 3, 1, 2, 3, 4, 5, 5, 11, 1, 2, 3, 1, 2, 3, 2, 5, 11, 7, 2, 1, 2, 7, 1, 2, 13, 7, 4, 7], \"Freq\": [0.9832451343536377, 0.9604594707489014, 0.5915002226829529, 0.994467556476593, 0.9799197912216187, 0.9906898736953735, 0.016855204477906227, 0.8534862995147705, 0.12922324240207672, 0.9984750747680664, 0.9996694922447205, 0.9879289865493774, 0.9767246842384338, 0.9987179040908813, 0.9571447372436523, 0.10539241135120392, 0.8936699032783508, 0.9981464743614197, 0.968498945236206, 0.9610938429832458, 0.9986235499382019, 0.9905607104301453, 0.9946775436401367, 0.9970259666442871, 0.9873619079589844, 0.9449244737625122, 0.998714029788971, 0.99972003698349, 0.9960252642631531, 0.004211523570120335, 0.9572116732597351, 0.7450785040855408, 0.25437304377555847, 0.9735739231109619, 0.9807255864143372, 0.0034865420311689377, 0.9971510171890259, 0.4872358441352844, 0.9750193953514099, 0.19825762510299683, 0.8002662062644958, 0.9954313039779663, 0.9937152862548828, 0.9452815055847168, 0.9624807834625244, 0.9929817914962769, 0.9756864309310913, 0.00754763325676322, 0.9925137758255005, 0.997161328792572, 0.9701874852180481, 0.3829311728477478, 0.617059588432312, 0.9723297953605652, 0.9978603720664978, 0.9921507239341736, 0.9845507740974426, 0.9750658869743347, 0.9932159185409546, 0.9950054883956909, 0.9896023273468018, 0.9800974726676941, 0.9742193222045898, 0.9985876083374023, 0.9965618252754211, 0.9976639747619629, 0.998301088809967, 0.9950912594795227, 0.09057832509279251, 0.9088537096977234, 0.999268651008606, 0.9803885221481323, 0.9970285296440125, 0.9937784075737, 0.9468396306037903, 0.9965872764587402, 0.0112600177526474, 0.9852515459060669, 0.9994208812713623, 0.00033560136216692626, 0.00033560136216692626, 0.9045678377151489, 0.9965264797210693, 0.9660715460777283, 0.9419183731079102, 0.9895831942558289, 0.9712176322937012, 0.9878241419792175, 0.9976072311401367, 0.9653630256652832, 0.9731153249740601, 0.9681280851364136, 0.9979050159454346, 0.994179368019104, 0.517181932926178, 0.014748535118997097, 0.46802017092704773, 0.9922711253166199, 0.9789853692054749, 0.9735021591186523, 0.9779663681983948, 0.032624177634716034, 0.9661775827407837, 0.13937810063362122, 0.8600649237632751, 0.9994534850120544, 0.9913957118988037, 0.31421637535095215, 0.685634195804596, 0.9481308460235596, 0.9820519089698792, 0.9983136057853699, 0.015365592204034328, 0.8038313984870911, 0.18077167868614197, 0.9993419647216797, 0.9685285091400146, 0.7665831446647644, 0.23269164562225342, 0.991630494594574, 0.9968664050102234, 0.998407244682312, 0.001231081667356193, 0.9959259629249573, 0.9674867391586304, 0.9660334587097168, 0.03357291221618652, 0.9974865317344666, 0.9828693270683289, 0.9924423098564148, 0.9028757810592651, 0.016503747552633286, 0.0805060863494873, 0.9607234597206116, 0.9604884386062622, 0.9717230200767517, 0.9567593336105347, 0.9975854158401489, 0.9541236758232117, 0.9864403605461121, 0.008210417814552784, 0.9893553853034973, 0.9587110280990601, 0.9986221790313721, 0.7956030368804932, 0.9270914793014526, 0.010453462600708008, 0.061414096504449844, 0.9992204904556274, 0.990514874458313, 0.885841965675354, 0.998573362827301, 0.9872463345527649, 0.981942355632782, 0.9980505704879761, 0.9923120141029358, 0.006995150353759527, 0.993815004825592, 0.9746638536453247, 0.9962576627731323, 0.9844226241111755, 0.9816970825195312, 0.999421238899231, 0.9600286483764648, 0.9853097796440125, 0.996661365032196, 0.9992825984954834, 0.9994470477104187, 0.4135062098503113, 0.5861557126045227, 0.9854574203491211, 0.014462140388786793, 0.9853265881538391, 0.9778374433517456, 0.11328057944774628, 0.4075983464717865, 0.47853103280067444, 0.9784526228904724, 0.9945870637893677, 0.0044335233978927135, 0.9975333213806152, 0.10735775530338287, 0.8927645087242126, 0.9966259598731995, 0.9963700175285339, 0.9964336156845093, 0.8084768056869507, 0.005441055633127689, 0.18115514516830444, 0.004480869043618441, 0.9861884117126465, 0.981300950050354, 0.9992943406105042, 0.9924077987670898, 0.9975070953369141, 0.0024847323074936867, 0.8394490480422974, 0.1456974744796753, 0.014634073711931705, 0.9975424408912659, 0.9674270749092102, 0.9852138161659241, 0.6934692859649658, 0.30628928542137146, 0.991696834564209, 0.049561191350221634, 0.5730512738227844, 0.3748064935207367, 0.9973345398902893, 0.9488722085952759, 0.9968013763427734, 0.994421660900116, 0.9988676905632019, 0.9988048076629639, 0.9973805546760559, 0.9234583377838135, 0.9831231236457825, 0.9528704285621643, 0.9986974596977234, 0.9956981539726257, 0.9975006580352783, 0.9866735935211182, 0.9822110533714294, 0.9979721903800964, 0.999740719795227, 0.9849916100502014, 0.9982681274414062, 0.9971197843551636, 0.002081669634208083, 0.003878186456859112, 0.9928157329559326, 0.9967405200004578, 0.998866617679596, 0.9913573861122131, 0.9872424006462097, 0.9969403743743896, 0.9173476099967957, 0.08272378146648407, 0.9996049404144287, 0.019160853698849678, 0.37799137830734253, 0.6026959419250488, 0.9989117980003357, 0.4020175635814667, 0.014539514668285847, 0.5830345153808594, 0.05388522148132324, 0.945012092590332, 0.05094831436872482, 0.9002866744995117, 0.04855074733495712, 0.997771143913269, 0.26507139205932617, 0.5077238082885742, 0.22682726383209229, 0.5817649364471436, 0.9973279237747192, 0.9989209175109863, 0.9771847724914551, 0.9997185468673706, 0.9790493249893188, 0.98525470495224, 0.9960241317749023, 0.9762959480285645, 0.9699560403823853, 0.9967772364616394, 0.9913671612739563, 0.9990068078041077, 0.9852632880210876, 0.9929389357566833, 0.8912509083747864, 0.08703191578388214, 0.0214825626462698, 0.9896973967552185, 0.9788608551025391, 0.9988124370574951, 0.9917184114456177, 0.006589490920305252, 0.9113684892654419, 0.08471625298261642, 0.003567000152543187, 0.9565627574920654, 0.9993825554847717, 0.9970082640647888, 0.992274820804596, 0.9867450594902039, 0.9976872205734253, 0.9965930581092834, 0.9986710548400879, 0.029905637726187706, 0.9694410562515259, 0.965143084526062, 0.9982893466949463, 0.9500702619552612, 0.9919759035110474, 0.9147413372993469, 0.9578615427017212, 0.9543997645378113, 0.8964866995811462, 0.9678211212158203, 0.9475092887878418, 0.49124330282211304, 0.5083465576171875, 0.6503254771232605, 0.9984433650970459, 0.9702849984169006, 0.9896150231361389, 0.9651735424995422, 0.9883168935775757, 0.011464476585388184, 0.006266111042350531, 0.012050213292241096, 0.9813693761825562, 0.9843288660049438, 0.9455006718635559, 0.9988086223602295, 0.9987391829490662, 0.013284877873957157, 0.9199777841567993, 0.0653173178434372, 0.9904489517211914, 0.996208667755127, 0.06836120039224625, 0.9319444894790649, 0.34705835580825806, 0.04353778436779976, 0.6089070439338684, 0.9677000045776367, 0.9721638560295105, 0.9040311574935913, 0.09560255706310272, 0.9859687685966492, 0.9968814849853516, 0.08952812105417252, 0.9087104201316833, 0.6669423580169678, 0.33282989263534546, 0.975262463092804, 0.992665708065033, 0.8757984638214111, 0.0577092245221138, 0.06624368578195572, 0.9973448514938354, 0.9627615809440613, 0.923043966293335, 0.998113751411438, 0.993384063243866, 0.9987014532089233, 0.9985896944999695, 0.9967402815818787, 0.7584996819496155, 0.9923217296600342, 0.9302292466163635, 0.9003395438194275, 0.02819720469415188, 0.9714391827583313, 0.9846550226211548, 0.9993214011192322, 0.9986849427223206, 0.9804545640945435, 0.99977707862854, 0.8479534983634949, 0.7959069013595581, 0.6765906810760498, 0.9095319509506226, 0.08942358195781708, 0.9988427758216858, 0.9784238338470459, 0.9976526498794556, 0.9990679621696472, 0.999751091003418, 0.9781017303466797, 0.9600428938865662, 0.9905180335044861, 0.009478641673922539, 0.9982070922851562, 0.9996089339256287, 0.9641523957252502, 0.9694728255271912, 0.9986355304718018, 0.9960922002792358, 0.9605653285980225, 0.8775127530097961, 0.9250691533088684, 0.0007069424609653652, 0.9041794538497925, 0.09473029524087906, 0.9828294515609741, 0.9639719128608704, 0.9885242581367493, 0.9871428608894348, 0.9745886325836182, 0.986198902130127, 0.8066126108169556, 0.19221815466880798, 0.0009594916482456028, 0.9737406969070435, 0.9977442026138306, 0.9891695380210876, 0.8416236639022827, 0.009181349538266659, 0.14690159261226654, 0.9564632177352905, 0.9996986985206604, 0.991452157497406, 0.07879934459924698, 0.9205884337425232, 0.9612718820571899, 0.027302397415041924, 0.011375999078154564, 0.9990912079811096, 0.9973960518836975, 0.08986134082078934, 0.9077829122543335, 0.9984162449836731, 0.9957208037376404, 0.9832824468612671, 0.01365670096129179, 0.0013656701194122434, 0.9738425612449646, 0.9983205199241638, 0.20417487621307373, 0.3252343237400055, 0.47068631649017334, 0.986668050289154, 0.6065189838409424, 0.03728600591421127, 0.35545989871025085, 0.16626398265361786, 0.833323061466217, 0.9843857884407043, 0.9690579175949097, 0.7579827904701233, 0.08366255462169647, 0.15784335136413574, 0.9396465420722961, 0.05012933537364006, 0.009468873962759972, 0.9995999336242676, 0.9615097045898438, 0.9988028407096863, 0.9988057613372803, 0.9861377477645874, 0.9855278134346008, 0.9964732527732849, 0.9679722189903259, 0.9968499541282654, 0.9904483556747437, 0.6982933878898621, 0.2026709020137787, 0.09918590635061264, 0.9973196983337402, 0.9802446365356445, 0.8259838819503784, 0.9862042665481567, 0.9973173141479492, 0.9979791641235352, 0.9725474119186401, 0.09386739134788513, 0.9054966568946838, 0.7744731903076172, 0.9680838584899902, 0.9985769391059875, 0.8987006545066833, 0.9993425607681274, 0.9964177012443542, 0.9198404550552368, 0.02724391035735607, 0.052336983382701874, 0.9667029976844788, 0.9917823076248169, 0.9874669313430786, 0.9918234348297119, 0.6094059348106384, 0.3886461555957794, 0.001635257387533784, 0.8529027700424194, 0.1460449993610382, 0.0009736333158798516, 0.9960182309150696, 0.9906772375106812, 0.8850221633911133, 0.9794566631317139, 0.9966411590576172, 0.841336190700531, 0.15770268440246582, 0.9660387635231018, 0.9891661405563354, 0.010286669246852398, 0.9861821532249451, 0.9086172580718994, 0.9937817454338074, 0.8236492276191711], \"Term\": [\"accommodate\", \"afternoon\", \"alaskan\", \"alone\", \"alot\", \"alright\", \"also\", \"also\", \"also\", \"always\", \"amazing\", \"anymore\", \"anyways\", \"area\", \"arrangement\", \"asian\", \"asian\", \"ask\", \"assume\", \"ate\", \"atmosphere\", \"attention\", \"avoid\", \"awesome\", \"awful\", \"awhile\", \"bacchanal\", \"back\", \"bad\", \"bad\", \"balance\", \"bar\", \"bar\", \"be\", \"beat\", \"beef\", \"beef\", \"benefit\", \"biscuit\", \"bit\", \"bit\", \"bite\", \"bone\", \"bonus\", \"bottom\", \"bottomless\", \"break\", \"breakfast\", \"breakfast\", \"bring\", \"broth\", \"buffet\", \"buffet\", \"buttery\", \"cake\", \"can\", \"candy\", \"carry\", \"case\", \"cashier\", \"cause\", \"ceasar\", \"cesar\", \"cheese\", \"chicken\", \"chinese\", \"chocolate\", \"chocolate_covered\", \"choice\", \"choice\", \"choose\", \"clam\", \"clean\", \"clear\", \"clearing\", \"close\", \"cold\", \"cold\", \"come\", \"come\", \"come\", \"company\", \"compare\", \"comparison\", \"compensate\", \"con\", \"concern\", \"cone\", \"consider\", \"contain\", \"contemporary\", \"convenient\", \"cook\", \"cosmo\", \"could\", \"could\", \"could\", \"crazy\", \"crispy\", \"crunchy\", \"cure\", \"cut\", \"cut\", \"cute\", \"cute\", \"day\", \"decor\", \"definitely\", \"definitely\", \"delight\", \"deliver\", \"desert\", \"dessert\", \"dessert\", \"dessert\", \"different\", \"dig\", \"dinner\", \"dinner\", \"dirty\", \"disappointed\", \"dish\", \"dish\", \"dollar\", \"doubt\", \"drink\", \"drink\", \"dry\", \"duck\", \"easily\", \"eat\", \"eat\", \"eat\", \"eating\", \"eff\", \"efficient\", \"effort\", \"empty\", \"encourage\", \"endless\", \"enough\", \"enough\", \"ensure\", \"especially\", \"essential\", \"even\", \"even\", \"even\", \"ever\", \"example\", \"exceed\", \"excellent\", \"exceptional\", \"excite\", \"expect\", \"experience\", \"experience\", \"fabulous\", \"fail\", \"fancy\", \"fatty\", \"favor\", \"favorite\", \"feed\", \"figure\", \"fill\", \"find\", \"first\", \"flavor\", \"flavor\", \"food\", \"food\", \"foodie\", \"forever\", \"fresh\", \"fresh\", \"fresh\", \"fried_chicken\", \"friend\", \"friend\", \"friendly\", \"front\", \"front\", \"fruit\", \"fry\", \"fun\", \"get\", \"get\", \"get\", \"get\", \"giant\", \"girlfriend\", \"give\", \"glad\", \"go\", \"go\", \"good\", \"good\", \"good\", \"grab\", \"grant\", \"gravy\", \"great\", \"great\", \"green\", \"half\", \"half\", \"half\", \"hear\", \"heavenly\", \"hit\", \"hostess\", \"hot\", \"hour\", \"hype\", \"imagine\", \"immediately\", \"impeccable\", \"include\", \"incredible\", \"individual\", \"indulge\", \"issue\", \"italian\", \"item\", \"japanese\", \"keep\", \"know\", \"know\", \"lack\", \"lack\", \"lamb\", \"last\", \"late\", \"lemon\", \"let\", \"like\", \"like\", \"line\", \"little\", \"little\", \"little\", \"long\", \"look\", \"look\", \"look\", \"lot\", \"lot\", \"love\", \"love\", \"love\", \"macaron\", \"make\", \"make\", \"make\", \"mall\", \"manager\", \"many\", \"marrow\", \"meat\", \"meatball\", \"meh\", \"menu\", \"mexican\", \"mimosas\", \"minute\", \"mix\", \"money\", \"mood\", \"morning\", \"much\", \"much\", \"much\", \"nee\", \"needless\", \"never\", \"next\", \"next\", \"nice\", \"nice\", \"nice\", \"oddly\", \"offer\", \"offering\", \"omelette\", \"omg\", \"one\", \"open\", \"option\", \"order\", \"order\", \"ordinary\", \"other\", \"outside\", \"overcook\", \"overeat\", \"oxtail_pho\", \"paper\", \"park\", \"parking\", \"pathetic\", \"pay\", \"pay\", \"percent\", \"person\", \"pho\", \"picture\", \"pig\", \"place\", \"place\", \"plate\", \"plate\", \"plate\", \"pleasant\", \"pleasing\", \"pm\", \"pork\", \"portion\", \"portion\", \"portion\", \"pre\", \"present\", \"presentation\", \"presentation\", \"pretty\", \"pretty\", \"pretty\", \"prevent\", \"previous\", \"price\", \"price\", \"pro\", \"problem\", \"put\", \"put\", \"quality\", \"quality\", \"rating\", \"rave\", \"really\", \"really\", \"really\", \"recommend\", \"refresh\", \"regard\", \"rest\", \"return\", \"review\", \"rice\", \"roll\", \"roughly\", \"rush\", \"safe\", \"sake\", \"salad\", \"salad\", \"satisfy\", \"sauce\", \"sausage\", \"savory\", \"say\", \"scene\", \"scope\", \"scream\", \"seafood\", \"seafood\", \"seat\", \"seating\", \"second\", \"section\", \"selection\", \"send\", \"sense\", \"serve\", \"serve\", \"server\", \"service\", \"shooter\", \"shop\", \"side\", \"simply\", \"skin\", \"sloppy\", \"slot\", \"small\", \"small\", \"small\", \"smile\", \"somewhere_else\", \"spacious\", \"speak\", \"spectacular\", \"spice\", \"spoon\", \"spoon\", \"spoon\", \"sprinkle\", \"staff\", \"stale\", \"stand\", \"stand\", \"stand\", \"standout\", \"star\", \"starve\", \"station\", \"station\", \"still\", \"still\", \"still\", \"strawberry\", \"strip\", \"stuff\", \"stuff\", \"style\", \"suppose\", \"sure\", \"sure\", \"sure\", \"swear\", \"sweet\", \"table\", \"table\", \"table\", \"taco\", \"taste\", \"taste\", \"taste\", \"tasty\", \"tasty\", \"tea\", \"tend\", \"thing\", \"thing\", \"thing\", \"think\", \"think\", \"think\", \"time\", \"tin\", \"tiny\", \"tip\", \"toast\", \"tomato\", \"traditional\", \"trendy\", \"trip\", \"truly\", \"try\", \"try\", \"try\", \"type\", \"typically\", \"unappetize\", \"underwhelme\", \"unique\", \"use\", \"vacation\", \"variety\", \"variety\", \"veal\", \"version\", \"visit\", \"visually\", \"wait\", \"waitress\", \"want\", \"want\", \"want\", \"warning\", \"watch\", \"watermelon\", \"weekday\", \"well\", \"well\", \"well\", \"wicked\", \"wicked\", \"wicked\", \"wide\", \"wife\", \"wild_boar\", \"willing\", \"wine\", \"worth\", \"worth\", \"worthy\", \"would\", \"would\", \"yelp\", \"yesterday\", \"yet\", \"yuck\"]}, \"R\": 30, \"lambda.step\": 0.01, \"plot.opts\": {\"xlab\": \"PC1\", \"ylab\": \"PC2\"}, \"topic.order\": [3, 11, 1, 12, 10, 6, 7, 13, 2, 5, 14, 4, 8, 9]};\n",
       "\n",
       "function LDAvis_load_lib(url, callback){\n",
       "  var s = document.createElement('script');\n",
       "  s.src = url;\n",
       "  s.async = true;\n",
       "  s.onreadystatechange = s.onload = callback;\n",
       "  s.onerror = function(){console.warn(\"failed to load library \" + url);};\n",
       "  document.getElementsByTagName(\"head\")[0].appendChild(s);\n",
       "}\n",
       "\n",
       "if(typeof(LDAvis) !== \"undefined\"){\n",
       "   // already loaded: just create the visualization\n",
       "   !function(LDAvis){\n",
       "       new LDAvis(\"#\" + \"ldavis_el5901128550289842108413683\", ldavis_el5901128550289842108413683_data);\n",
       "   }(LDAvis);\n",
       "}else if(typeof define === \"function\" && define.amd){\n",
       "   // require.js is available: use it to load d3/LDAvis\n",
       "   require.config({paths: {d3: \"https://cdnjs.cloudflare.com/ajax/libs/d3/3.5.5/d3.min\"}});\n",
       "   require([\"d3\"], function(d3){\n",
       "      window.d3 = d3;\n",
       "      LDAvis_load_lib(\"https://cdn.rawgit.com/bmabey/pyLDAvis/files/ldavis.v1.0.0.js\", function(){\n",
       "        new LDAvis(\"#\" + \"ldavis_el5901128550289842108413683\", ldavis_el5901128550289842108413683_data);\n",
       "      });\n",
       "    });\n",
       "}else{\n",
       "    // require.js not available: dynamically load d3 & LDAvis\n",
       "    LDAvis_load_lib(\"https://cdnjs.cloudflare.com/ajax/libs/d3/3.5.5/d3.min.js\", function(){\n",
       "         LDAvis_load_lib(\"https://cdn.rawgit.com/bmabey/pyLDAvis/files/ldavis.v1.0.0.js\", function(){\n",
       "                 new LDAvis(\"#\" + \"ldavis_el5901128550289842108413683\", ldavis_el5901128550289842108413683_data);\n",
       "            })\n",
       "         });\n",
       "}\n",
       "</script>"
      ],
      "text/plain": [
       "<IPython.core.display.HTML object>"
      ]
     },
     "execution_count": 29,
     "metadata": {},
     "output_type": "execute_result"
    }
   ],
   "source": [
    "pyLDAvis.display(vis)"
   ]
  },
  {
   "cell_type": "markdown",
   "metadata": {},
   "source": [
    "### Negative reviews: "
   ]
  },
  {
   "cell_type": "code",
   "execution_count": 30,
   "metadata": {},
   "outputs": [
    {
     "name": "stdout",
     "output_type": "stream",
     "text": [
      "There are 1700 reviews selected\n"
     ]
    }
   ],
   "source": [
    "# Turn the data into a list \n",
    "df_res_1_n = df_res_1[df_res_1[\"prediction_rate\"] == 0.0]\n",
    "print (\"There are\", df_res_1_n.shape[0], \"reviews selected\")\n",
    "data_con = df_res_1_n[\"text\"]\n",
    "data_con_l = data_con.tolist()"
   ]
  },
  {
   "cell_type": "markdown",
   "metadata": {},
   "source": [
    "### Text cleaning"
   ]
  },
  {
   "cell_type": "code",
   "execution_count": 31,
   "metadata": {},
   "outputs": [
    {
     "name": "stdout",
     "output_type": "stream",
     "text": [
      "['huge',\n",
      " 'buffett',\n",
      " 'very',\n",
      " 'clean',\n",
      " 'lots',\n",
      " 'of',\n",
      " 'options',\n",
      " 'prompt',\n",
      " 'staff',\n",
      " 'we',\n",
      " 'were',\n",
      " 'here',\n",
      " 'for',\n",
      " 'brunch',\n",
      " 'and',\n",
      " 'didn',\n",
      " 'know',\n",
      " 'where',\n",
      " 'to',\n",
      " 'start',\n",
      " 'so',\n",
      " 'much',\n",
      " 'food',\n",
      " 'stuck',\n",
      " 'to',\n",
      " 'breakfast',\n",
      " 'sausage',\n",
      " 'bacon',\n",
      " 'mac_cheese',\n",
      " 'and',\n",
      " 'bunch',\n",
      " 'of',\n",
      " 'desserts',\n",
      " 'eat',\n",
      " 'there',\n",
      " 'again',\n",
      " 'for',\n",
      " 'sure']\n"
     ]
    }
   ],
   "source": [
    "# Remove distracting single quotes\n",
    "data_con_1 = [re.sub(\"\\'\", \"\", sent) for sent in data_con_l]\n",
    "\n",
    "data_words = list(sent_to_words(data_con_l))\n",
    "\n",
    "# Build the bigram and trigram models\n",
    "bigram = gensim.models.Phrases(data_words, min_count=5, threshold=100) # higher threshold fewer phrases.\n",
    "trigram = gensim.models.Phrases(bigram[data_words], threshold=100)  \n",
    "\n",
    "# Faster way to get a sentence clubbed as a trigram/bigram\n",
    "bigram_mod = gensim.models.phrases.Phraser(bigram)\n",
    "trigram_mod = gensim.models.phrases.Phraser(trigram)\n",
    "\n",
    "# See trigram example\n",
    "pprint(trigram_mod[bigram_mod[data_words[0]]])\n",
    "\n",
    "# Remove Stop Words\n",
    "data_words_nostops = remove_stopwords(data_words)\n",
    "\n",
    "# Form Bigrams\n",
    "data_words_bigrams = make_bigrams(data_words_nostops)\n",
    "\n",
    "# Initialize spacy 'en' model, keeping only tagger component (for efficiency)\n",
    "\n",
    "nlp = spacy.load('en', disable=['parser', 'ner'])\n",
    "\n",
    "# Do lemmatization keeping only noun, adj, vb, adv\n",
    "data_lemmatized = lemmatization(data_words_bigrams, allowed_postags=['NOUN', 'ADJ', 'VERB', 'ADV'])\n",
    "\n",
    "# pprint(data_lemmatized[:1])"
   ]
  },
  {
   "cell_type": "markdown",
   "metadata": {},
   "source": [
    "### Prepare the data for the LDA Model"
   ]
  },
  {
   "cell_type": "code",
   "execution_count": 32,
   "metadata": {},
   "outputs": [
    {
     "name": "stdout",
     "output_type": "stream",
     "text": [
      "Total vocabulary in the corpus:  4832\n"
     ]
    }
   ],
   "source": [
    "vocab = np.asarray([item for sublist in data_lemmatized for item in sublist])\n",
    "vocab = np.unique(vocab)\n",
    "print (\"Total vocabulary in the corpus: \", len(vocab))"
   ]
  },
  {
   "cell_type": "code",
   "execution_count": 33,
   "metadata": {},
   "outputs": [],
   "source": [
    "vocab = sorted(list(vocab))\n",
    "vocab_index = {}\n",
    "for i, w in enumerate(vocab):\n",
    "    vocab_index[w] = i\n",
    "    \n",
    "new_corpus = []\n",
    "for doc in data_lemmatized:\n",
    "    new_doc = []\n",
    "    for word in doc:\n",
    "        word_idx = vocab_index[word]\n",
    "        new_doc.append(word_idx)\n",
    "    new_corpus.append(new_doc)"
   ]
  },
  {
   "cell_type": "code",
   "execution_count": 34,
   "metadata": {},
   "outputs": [],
   "source": [
    "# Create Dictionary\n",
    "id2word = gensim.corpora.Dictionary(data_lemmatized)\n",
    "\n",
    "# Create Corpus\n",
    "texts = data_lemmatized\n",
    "\n",
    "# Term Document Frequency\n",
    "corpus = [id2word.doc2bow(text) for text in texts]\n",
    "\n",
    "# View\n",
    "# pprint(corpus[:1])\n",
    "# [[(id2word[id], freq) for id, freq in cp] for cp in corpus[:1]]"
   ]
  },
  {
   "cell_type": "markdown",
   "metadata": {},
   "source": [
    "### Build the LDA model"
   ]
  },
  {
   "cell_type": "code",
   "execution_count": 35,
   "metadata": {},
   "outputs": [
    {
     "name": "stdout",
     "output_type": "stream",
     "text": [
      "[(0,\n",
      "  '0.062*\"refill\" + 0.043*\"type\" + 0.034*\"list\" + 0.030*\"move\" + '\n",
      "  '0.024*\"normally\" + 0.020*\"sushi\" + 0.019*\"appetize\" + '\n",
      "  '0.018*\"high_expectation\" + 0.016*\"home\" + 0.016*\"rude\"'),\n",
      " (1,\n",
      "  '0.066*\"food\" + 0.039*\"buffet\" + 0.035*\"good\" + 0.030*\"go\" + 0.023*\"come\" + '\n",
      "  '0.023*\"great\" + 0.020*\"place\" + 0.020*\"would\" + 0.018*\"selection\" + '\n",
      "  '0.015*\"service\"'),\n",
      " (2,\n",
      "  '0.046*\"horrible\" + 0.024*\"cure\" + 0.022*\"period\" + 0.014*\"anyway\" + '\n",
      "  '0.012*\"dumpling\" + 0.010*\"chit\" + 0.008*\"swear\" + 0.004*\"cleaning\" + '\n",
      "  '0.004*\"runny\" + 0.004*\"chat\"'),\n",
      " (3,\n",
      "  '0.023*\"get\" + 0.022*\"shrimp\" + 0.020*\"pay\" + 0.017*\"night\" + 0.017*\"table\" '\n",
      "  '+ 0.016*\"person\" + 0.016*\"money\" + 0.016*\"enough\" + 0.014*\"last\" + '\n",
      "  '0.013*\"bad\"'),\n",
      " (4,\n",
      "  '0.110*\"line\" + 0.096*\"wait\" + 0.048*\"minute\" + 0.046*\"long\" + 0.038*\"pay\" + '\n",
      "  '0.032*\"seat\" + 0.024*\"hour\" + 0.021*\"large\" + 0.020*\"weekend\" + '\n",
      "  '0.016*\"arrive\"'),\n",
      " (5,\n",
      "  '0.047*\"section\" + 0.040*\"visit\" + 0.037*\"use\" + 0.022*\"fruit\" + 0.022*\"one\" '\n",
      "  '+ 0.019*\"egg\" + 0.017*\"rice\" + 0.017*\"name\" + 0.015*\"wicked\" + '\n",
      "  '0.014*\"noodle\"'),\n",
      " (6,\n",
      "  '0.028*\"buffet\" + 0.025*\"dessert\" + 0.021*\"try\" + 0.017*\"dish\" + 0.017*\"eat\" '\n",
      "  '+ 0.017*\"good\" + 0.016*\"really\" + 0.015*\"taste\" + 0.015*\"get\" + '\n",
      "  '0.013*\"make\"'),\n",
      " (7,\n",
      "  '0.047*\"chicken\" + 0.028*\"bread\" + 0.027*\"prepare\" + 0.022*\"plenty\" + '\n",
      "  '0.021*\"slow\" + 0.018*\"wing\" + 0.015*\"endless\" + 0.015*\"mess\" + '\n",
      "  '0.013*\"pistachio\" + 0.012*\"grill\"'),\n",
      " (8,\n",
      "  '0.039*\"ok\" + 0.031*\"mind\" + 0.030*\"front\" + 0.022*\"scoop\" + 0.019*\"pass\" + '\n",
      "  '0.017*\"healthy\" + 0.017*\"month\" + 0.016*\"explain\" + 0.016*\"weird\" + '\n",
      "  '0.015*\"elsewhere\"'),\n",
      " (9,\n",
      "  '0.034*\"mini\" + 0.028*\"sauce\" + 0.027*\"salmon\" + 0.025*\"juice\" + '\n",
      "  '0.021*\"chocolate_covere\" + 0.020*\"piece\" + 0.016*\"pan\" + 0.014*\"box\" + '\n",
      "  '0.014*\"simply\" + 0.014*\"spoon\"')]\n"
     ]
    }
   ],
   "source": [
    "### Build the model (Choose K = 10 here)\n",
    "\n",
    "lda_model = gensim.models.ldamodel.LdaModel(corpus=corpus,\n",
    "                                           id2word=id2word,\n",
    "                                           num_topics=10, \n",
    "                                           random_state=100,\n",
    "                                           update_every=1,\n",
    "                                           chunksize=100,\n",
    "                                           passes=10,\n",
    "                                           alpha='auto',\n",
    "                                           per_word_topics=True)\n",
    "\n",
    "pprint(lda_model.print_topics())\n",
    "doc_lda = lda_model[corpus]"
   ]
  },
  {
   "cell_type": "code",
   "execution_count": 36,
   "metadata": {},
   "outputs": [
    {
     "name": "stderr",
     "output_type": "stream",
     "text": [
      "/anaconda3/lib/python3.7/site-packages/pyLDAvis/_prepare.py:257: FutureWarning: Sorting because non-concatenation axis is not aligned. A future version\n",
      "of pandas will change to not sort by default.\n",
      "\n",
      "To accept the future behavior, pass 'sort=False'.\n",
      "\n",
      "To retain the current behavior and silence the warning, pass 'sort=True'.\n",
      "\n",
      "  return pd.concat([default_term_info] + list(topic_dfs))\n"
     ]
    },
    {
     "data": {
      "text/html": [
       "\n",
       "<link rel=\"stylesheet\" type=\"text/css\" href=\"https://cdn.rawgit.com/bmabey/pyLDAvis/files/ldavis.v1.0.0.css\">\n",
       "\n",
       "\n",
       "<div id=\"ldavis_el5901125403432965587048982\"></div>\n",
       "<script type=\"text/javascript\">\n",
       "\n",
       "var ldavis_el5901125403432965587048982_data = {\"mdsDat\": {\"x\": [0.3204415889577456, 0.3642895578676119, 0.11191356075634178, -0.040862461037839734, -0.11172050946922293, -0.12795573391658058, -0.13751012035721552, -0.1320581967853962, -0.12939321809224494, -0.11714446792319932], \"y\": [-0.10859951575295924, -0.06503080207597924, 0.22966816128228718, 0.2999973756203581, -0.05584222787011021, -0.08763062266909274, -0.06130154913469161, -0.053475600105263706, -0.05285909786998975, -0.04492612142455897], \"topics\": [1, 2, 3, 4, 5, 6, 7, 8, 9, 10], \"cluster\": [1, 1, 1, 1, 1, 1, 1, 1, 1, 1], \"Freq\": [38.14468002319336, 38.01573944091797, 8.895981788635254, 5.081998825073242, 3.2981534004211426, 2.774954080581665, 1.787381649017334, 1.0368201732635498, 0.8213377594947815, 0.14295069873332977]}, \"tinfo\": {\"Category\": [\"Default\", \"Default\", \"Default\", \"Default\", \"Default\", \"Default\", \"Default\", \"Default\", \"Default\", \"Default\", \"Default\", \"Default\", \"Default\", \"Default\", \"Default\", \"Default\", \"Default\", \"Default\", \"Default\", \"Default\", \"Default\", \"Default\", \"Default\", \"Default\", \"Default\", \"Default\", \"Default\", \"Default\", \"Default\", \"Default\", \"Topic1\", \"Topic1\", \"Topic1\", \"Topic1\", \"Topic1\", \"Topic1\", \"Topic1\", \"Topic1\", \"Topic1\", \"Topic1\", \"Topic1\", \"Topic1\", \"Topic1\", \"Topic1\", \"Topic1\", \"Topic1\", \"Topic1\", \"Topic1\", \"Topic1\", \"Topic1\", \"Topic1\", \"Topic1\", \"Topic1\", \"Topic1\", \"Topic1\", \"Topic1\", \"Topic1\", \"Topic1\", \"Topic1\", \"Topic1\", \"Topic1\", \"Topic1\", \"Topic1\", \"Topic1\", \"Topic1\", \"Topic1\", \"Topic1\", \"Topic1\", \"Topic1\", \"Topic1\", \"Topic1\", \"Topic1\", \"Topic1\", \"Topic1\", \"Topic1\", \"Topic1\", \"Topic1\", \"Topic1\", \"Topic1\", \"Topic1\", \"Topic1\", \"Topic1\", \"Topic1\", \"Topic1\", \"Topic1\", \"Topic1\", \"Topic2\", \"Topic2\", \"Topic2\", \"Topic2\", \"Topic2\", \"Topic2\", \"Topic2\", \"Topic2\", \"Topic2\", \"Topic2\", \"Topic2\", \"Topic2\", \"Topic2\", \"Topic2\", \"Topic2\", \"Topic2\", \"Topic2\", \"Topic2\", \"Topic2\", \"Topic2\", \"Topic2\", \"Topic2\", \"Topic2\", \"Topic2\", \"Topic2\", \"Topic2\", \"Topic2\", \"Topic2\", \"Topic2\", \"Topic2\", \"Topic2\", \"Topic2\", \"Topic2\", \"Topic2\", \"Topic2\", \"Topic2\", \"Topic2\", \"Topic2\", \"Topic2\", \"Topic2\", \"Topic2\", \"Topic2\", \"Topic2\", \"Topic2\", \"Topic2\", \"Topic2\", \"Topic2\", \"Topic2\", \"Topic2\", \"Topic2\", \"Topic2\", \"Topic2\", \"Topic2\", \"Topic2\", \"Topic2\", \"Topic2\", \"Topic3\", \"Topic3\", \"Topic3\", \"Topic3\", \"Topic3\", \"Topic3\", \"Topic3\", \"Topic3\", \"Topic3\", \"Topic3\", \"Topic3\", \"Topic3\", \"Topic3\", \"Topic3\", \"Topic3\", \"Topic3\", \"Topic3\", \"Topic3\", \"Topic3\", \"Topic3\", \"Topic3\", \"Topic3\", \"Topic3\", \"Topic3\", \"Topic3\", \"Topic3\", \"Topic3\", \"Topic3\", \"Topic3\", \"Topic3\", \"Topic3\", \"Topic3\", \"Topic3\", \"Topic3\", \"Topic3\", \"Topic3\", \"Topic3\", \"Topic3\", \"Topic3\", \"Topic3\", \"Topic3\", \"Topic3\", \"Topic3\", \"Topic3\", \"Topic3\", \"Topic3\", \"Topic3\", \"Topic3\", \"Topic4\", \"Topic4\", \"Topic4\", \"Topic4\", \"Topic4\", \"Topic4\", \"Topic4\", \"Topic4\", \"Topic4\", \"Topic4\", \"Topic4\", \"Topic4\", \"Topic4\", \"Topic4\", \"Topic4\", \"Topic4\", \"Topic4\", \"Topic4\", \"Topic4\", \"Topic4\", \"Topic4\", \"Topic4\", \"Topic4\", \"Topic4\", \"Topic4\", \"Topic4\", \"Topic4\", \"Topic4\", \"Topic4\", \"Topic4\", \"Topic4\", \"Topic4\", \"Topic4\", \"Topic4\", \"Topic4\", \"Topic4\", \"Topic4\", \"Topic4\", \"Topic5\", \"Topic5\", \"Topic5\", \"Topic5\", \"Topic5\", \"Topic5\", \"Topic5\", \"Topic5\", \"Topic5\", \"Topic5\", \"Topic5\", \"Topic5\", \"Topic5\", \"Topic5\", \"Topic5\", \"Topic5\", \"Topic5\", \"Topic5\", \"Topic5\", \"Topic5\", \"Topic5\", \"Topic5\", \"Topic5\", \"Topic5\", \"Topic5\", \"Topic5\", \"Topic5\", \"Topic5\", \"Topic5\", \"Topic5\", \"Topic5\", \"Topic5\", \"Topic5\", \"Topic5\", \"Topic5\", \"Topic5\", \"Topic6\", \"Topic6\", \"Topic6\", \"Topic6\", \"Topic6\", \"Topic6\", \"Topic6\", \"Topic6\", \"Topic6\", \"Topic6\", \"Topic6\", \"Topic6\", \"Topic6\", \"Topic6\", \"Topic6\", \"Topic6\", \"Topic6\", \"Topic6\", \"Topic6\", \"Topic6\", \"Topic6\", \"Topic6\", \"Topic6\", \"Topic6\", \"Topic6\", \"Topic6\", \"Topic6\", \"Topic6\", \"Topic6\", \"Topic6\", \"Topic6\", \"Topic6\", \"Topic6\", \"Topic6\", \"Topic6\", \"Topic6\", \"Topic6\", \"Topic7\", \"Topic7\", \"Topic7\", \"Topic7\", \"Topic7\", \"Topic7\", \"Topic7\", \"Topic7\", \"Topic7\", \"Topic7\", \"Topic7\", \"Topic7\", \"Topic7\", \"Topic7\", \"Topic7\", \"Topic7\", \"Topic7\", \"Topic7\", \"Topic7\", \"Topic7\", \"Topic7\", \"Topic7\", \"Topic7\", \"Topic7\", \"Topic7\", \"Topic7\", \"Topic7\", \"Topic7\", \"Topic7\", \"Topic7\", \"Topic7\", \"Topic8\", \"Topic8\", \"Topic8\", \"Topic8\", \"Topic8\", \"Topic8\", \"Topic8\", \"Topic8\", \"Topic8\", \"Topic8\", \"Topic8\", \"Topic8\", \"Topic8\", \"Topic8\", \"Topic8\", \"Topic8\", \"Topic8\", \"Topic8\", \"Topic8\", \"Topic8\", \"Topic8\", \"Topic8\", \"Topic8\", \"Topic8\", \"Topic8\", \"Topic8\", \"Topic8\", \"Topic8\", \"Topic8\", \"Topic8\", \"Topic9\", \"Topic9\", \"Topic9\", \"Topic9\", \"Topic9\", \"Topic9\", \"Topic9\", \"Topic9\", \"Topic9\", \"Topic9\", \"Topic9\", \"Topic9\", \"Topic9\", \"Topic9\", \"Topic9\", \"Topic9\", \"Topic9\", \"Topic9\", \"Topic9\", \"Topic9\", \"Topic9\", \"Topic9\", \"Topic9\", \"Topic9\", \"Topic9\", \"Topic9\", \"Topic9\", \"Topic9\", \"Topic9\", \"Topic9\", \"Topic10\", \"Topic10\", \"Topic10\", \"Topic10\", \"Topic10\", \"Topic10\", \"Topic10\", \"Topic10\", \"Topic10\", \"Topic10\", \"Topic10\", \"Topic10\", \"Topic10\", \"Topic10\", \"Topic10\", \"Topic10\", \"Topic10\", \"Topic10\", \"Topic10\", \"Topic10\", \"Topic10\", \"Topic10\", \"Topic10\", \"Topic10\", \"Topic10\", \"Topic10\", \"Topic10\", \"Topic10\", \"Topic10\", \"Topic10\", \"Topic10\", \"Topic10\", \"Topic10\", \"Topic10\", \"Topic10\", \"Topic10\"], \"Freq\": [1877.0, 391.0, 340.0, 290.0, 611.0, 172.0, 175.0, 635.0, 977.0, 746.0, 539.0, 1393.0, 489.0, 1784.0, 133.0, 411.0, 476.0, 230.0, 673.0, 115.0, 133.0, 139.0, 96.0, 387.0, 629.0, 422.0, 85.0, 88.0, 277.0, 566.0, 309.52166748046875, 268.7969055175781, 247.216064453125, 243.78057861328125, 208.97402954101562, 206.9366912841797, 177.709716796875, 171.8552703857422, 160.1095428466797, 143.40731811523438, 123.27357482910156, 119.73551940917969, 224.00772094726562, 114.22941589355469, 112.59829711914062, 108.79010009765625, 92.2091293334961, 90.7093734741211, 88.08234405517578, 85.6546859741211, 84.62635040283203, 83.76889038085938, 83.42567443847656, 82.8418197631836, 78.34342956542969, 77.15774536132812, 75.9692153930664, 75.30037689208984, 73.5758056640625, 73.05924224853516, 212.576416015625, 266.2185974121094, 251.50086975097656, 270.6983947753906, 460.7878723144531, 115.45833587646484, 338.3808288574219, 399.2375183105469, 350.3225402832031, 665.710693359375, 573.3265380859375, 297.4953918457031, 172.54310607910156, 118.05738067626953, 359.2125244140625, 460.35260009765625, 420.2258605957031, 387.5125732421875, 738.9833984375, 263.3240661621094, 229.2334747314453, 457.5242614746094, 225.9404296875, 202.85031127929688, 191.48541259765625, 181.3780975341797, 410.8304443359375, 229.20126342773438, 227.45358276367188, 203.01901245117188, 166.4815673828125, 164.50250244140625, 124.19597625732422, 119.6514663696289, 117.79967498779297, 113.23869323730469, 106.66657257080078, 105.74543762207031, 486.574951171875, 105.32230377197266, 102.852783203125, 99.19830322265625, 209.93394470214844, 95.072998046875, 86.04327392578125, 104.15316772460938, 606.6896362304688, 77.99273681640625, 76.99063873291016, 75.59220123291016, 74.97595977783203, 70.48977661132812, 67.0574951171875, 65.58545684814453, 62.49822235107422, 62.51789093017578, 225.6472625732422, 342.19232177734375, 379.94207763671875, 526.4814453125, 143.9231719970703, 1765.9737548828125, 147.22967529296875, 183.93173217773438, 163.86483764648438, 366.2747497558594, 208.0311279296875, 190.46624755859375, 608.1176147460938, 537.7593994140625, 797.793212890625, 293.7585144042969, 296.5630798339844, 253.77847290039062, 935.4410400390625, 319.5887451171875, 1041.41943359375, 369.37652587890625, 206.29588317871094, 215.2476806640625, 202.9135284423828, 224.0128173828125, 138.41001892089844, 108.93856048583984, 89.61011505126953, 68.40971374511719, 68.11934661865234, 63.70555114746094, 55.731388092041016, 51.435813903808594, 50.467689514160156, 50.05357360839844, 49.88669204711914, 49.281044006347656, 46.341060638427734, 45.68171310424805, 44.022281646728516, 39.31576919555664, 38.87968444824219, 38.735313415527344, 38.433982849121094, 36.951290130615234, 35.443138122558594, 35.235843658447266, 34.54214859008789, 34.11423873901367, 31.835721969604492, 31.183019638061523, 31.135316848754883, 30.98629379272461, 30.297443389892578, 29.99695587158203, 101.77713775634766, 98.82926177978516, 40.845306396484375, 102.39527893066406, 46.31999588012695, 125.75334167480469, 103.76553344726562, 57.982666015625, 65.75078582763672, 75.47372436523438, 143.69085693359375, 82.1390380859375, 63.99537658691406, 70.5186996459961, 72.62679290771484, 61.54462432861328, 47.0461540222168, 46.96665954589844, 390.8167724609375, 340.0215759277344, 171.7988739013672, 114.48574829101562, 75.74309539794922, 70.03450775146484, 56.723331451416016, 49.2394905090332, 36.998756408691406, 36.39520263671875, 35.96670150756836, 35.79536819458008, 33.877227783203125, 32.27729415893555, 29.902772903442383, 24.65258026123047, 24.577112197875977, 20.958642959594727, 20.85955810546875, 20.562026977539062, 20.383821487426758, 19.562822341918945, 17.651317596435547, 17.510835647583008, 16.65401268005371, 16.5878963470459, 16.369184494018555, 14.838334083557129, 14.219282150268555, 13.938746452331543, 162.09463500976562, 84.15381622314453, 136.38412475585938, 30.733182907104492, 21.809799194335938, 24.621034622192383, 21.11901092529297, 22.743810653686523, 85.02122497558594, 50.770484924316406, 43.89506530761719, 38.82134246826172, 38.15758514404297, 35.58781814575195, 31.314411163330078, 30.975584030151367, 30.48208999633789, 28.81838607788086, 27.025236129760742, 24.946447372436523, 22.236570358276367, 21.426288604736328, 21.351177215576172, 19.358022689819336, 18.63245964050293, 17.37384796142578, 16.905794143676758, 51.12846755981445, 15.37606143951416, 15.329473495483398, 15.17043399810791, 14.941438674926758, 14.923622131347656, 14.896062850952148, 14.606714248657227, 14.271581649780273, 14.131867408752441, 13.801273345947266, 91.23976135253906, 108.34182739257812, 33.44232177734375, 32.64896011352539, 16.946313858032227, 20.45652198791504, 66.05684661865234, 51.5040397644043, 49.216156005859375, 38.442230224609375, 31.1375675201416, 40.65517044067383, 27.959793090820312, 27.78893280029297, 27.76321792602539, 27.48846435546875, 25.770139694213867, 23.631155014038086, 21.279430389404297, 20.088546752929688, 19.744478225708008, 18.355560302734375, 15.555896759033203, 15.028380393981934, 14.828686714172363, 13.039159774780273, 12.554924964904785, 12.157909393310547, 11.896946907043457, 11.798210144042969, 11.289669036865234, 11.164819717407227, 10.263349533081055, 10.211944580078125, 10.041199684143066, 9.945277214050293, 15.805028915405273, 24.940692901611328, 16.378908157348633, 53.52695083618164, 22.112613677978516, 12.966439247131348, 16.354074478149414, 58.549381256103516, 34.89055633544922, 33.284873962402344, 27.97928237915039, 25.763246536254883, 22.79500389099121, 18.48196792602539, 18.16307830810547, 16.316518783569336, 15.629694938659668, 15.573118209838867, 14.940404891967773, 14.887636184692383, 12.362643241882324, 12.112119674682617, 11.940962791442871, 11.898355484008789, 11.565882682800293, 11.221512794494629, 10.445320129394531, 10.347992897033691, 10.298645973205566, 9.750710487365723, 9.588483810424805, 9.563633918762207, 9.44959831237793, 9.324527740478516, 8.600753784179688, 8.534098625183105, 8.46806812286377, 13.780765533447266, 28.56747817993164, 22.155420303344727, 21.894325256347656, 16.32723045349121, 13.647387504577637, 12.65625, 12.42229175567627, 11.933908462524414, 11.5275297164917, 10.544182777404785, 10.52889347076416, 10.154515266418457, 9.987993240356445, 8.714618682861328, 8.521123886108398, 8.178251266479492, 8.14680004119873, 7.8314385414123535, 7.4641242027282715, 7.124319076538086, 7.096122741699219, 6.942619800567627, 6.77445125579834, 6.712086200714111, 6.707282543182373, 6.589354038238525, 6.563344955444336, 6.554670333862305, 6.0165629386901855, 5.831423759460449, 35.93532180786133, 24.85401153564453, 19.6945858001709, 17.38111686706543, 13.943181991577148, 11.441996574401855, 10.930862426757812, 10.612479209899902, 9.461803436279297, 8.945398330688477, 8.687158584594727, 8.57502555847168, 7.277327060699463, 6.8988566398620605, 6.576376438140869, 4.989421367645264, 4.605800151824951, 4.409762382507324, 4.270632743835449, 4.262832164764404, 4.131265163421631, 3.9318108558654785, 3.508755922317505, 3.1136012077331543, 2.8310916423797607, 2.6904544830322266, 2.6837847232818604, 2.39953875541687, 2.3961751461029053, 2.3676764965057373, 4.577203273773193, 2.39400053024292, 2.248251438140869, 1.4498229026794434, 1.2223840951919556, 0.971472978591919, 0.7701786160469055, 0.41539186239242554, 0.4020351469516754, 0.3915083706378937, 0.34609466791152954, 0.34609466791152954, 0.34609466791152954, 0.34609466791152954, 0.34609466791152954, 0.024984028190374374, 0.02214355766773224, 0.01991669461131096, 0.020861459895968437, 0.020861459895968437, 0.020861459895968437, 0.020861459895968437, 0.020861459895968437, 0.020861459895968437, 0.020861459895968437, 0.020861459895968437, 0.020861459895968437, 0.018427789211273193, 0.018427789211273193, 0.018427789211273193, 0.018427789211273193, 0.019571971148252487, 0.020816044881939888, 0.01956869103014469, 0.02075905352830887, 0.01957881636917591], \"Term\": [\"food\", \"line\", \"wait\", \"pay\", \"great\", \"minute\", \"long\", \"get\", \"go\", \"dessert\", \"would\", \"good\", \"selection\", \"buffet\", \"section\", \"service\", \"dish\", \"table\", \"come\", \"seat\", \"hour\", \"shrimp\", \"visit\", \"definitely\", \"place\", \"taste\", \"use\", \"sauce\", \"give\", \"time\", \"pretty\", \"bar\", \"meat\", \"item\", \"flavor\", \"salad\", \"know\", \"seafood\", \"like\", \"gelato\", \"mac_cheese\", \"better\", \"see\", \"asian\", \"bone_marrow\", \"cheese\", \"part\", \"stuff\", \"disappoint\", \"hotel\", \"compare\", \"already\", \"area\", \"side\", \"unique\", \"chef\", \"actually\", \"kind\", \"sweet\", \"wish\", \"station\", \"serve\", \"small\", \"look\", \"dish\", \"else\", \"plate\", \"taste\", \"much\", \"dessert\", \"try\", \"little\", \"portion\", \"different\", \"make\", \"eat\", \"really\", \"get\", \"buffet\", \"love\", \"also\", \"good\", \"thing\", \"dinner\", \"think\", \"lot\", \"service\", \"amazing\", \"star\", \"choice\", \"server\", \"ever\", \"tasty\", \"staff\", \"day\", \"leave\", \"overall\", \"ask\", \"selection\", \"water\", \"friendly\", \"excellent\", \"option\", \"quite\", \"trip\", \"however\", \"great\", \"disappointed\", \"choose\", \"put\", \"group\", \"beautiful\", \"waitress\", \"clean\", \"beef\", \"pot\", \"drink\", \"price\", \"definitely\", \"would\", \"recommend\", \"food\", \"review\", \"feel\", \"delicious\", \"back\", \"variety\", \"experience\", \"come\", \"place\", \"go\", \"worth\", \"quality\", \"brunch\", \"good\", \"well\", \"buffet\", \"time\", \"say\", \"give\", \"many\", \"dinner\", \"shrimp\", \"night\", \"last\", \"instead\", \"hot\", \"grit\", \"wrong\", \"extremely\", \"several\", \"interesting\", \"terrible\", \"clear\", \"family\", \"crab\", \"usually\", \"dollar\", \"later\", \"gratuity\", \"empty\", \"expectation\", \"charge\", \"guy\", \"honestly\", \"yelp\", \"tough\", \"crazy\", \"tax\", \"wicked_spoon\", \"die\", \"hungry\", \"money\", \"enough\", \"run\", \"person\", \"able\", \"pay\", \"table\", \"tip\", \"sit\", \"people\", \"get\", \"bad\", \"never\", \"want\", \"time\", \"give\", \"friend\", \"could\", \"line\", \"wait\", \"minute\", \"seat\", \"large\", \"weekend\", \"arrive\", \"party\", \"unlimited\", \"cookie\", \"customer\", \"amount\", \"steak\", \"bottomless\", \"fast\", \"highly\", \"flavorful\", \"suggest\", \"fee\", \"quickly\", \"life\", \"surprisingly\", \"attention\", \"value\", \"alcohol\", \"traditional\", \"additional\", \"fairly\", \"closing\", \"pull\", \"long\", \"hour\", \"pay\", \"cut\", \"close\", \"stand\", \"tell\", \"time\", \"use\", \"one\", \"egg\", \"rice\", \"name\", \"wicked\", \"spot\", \"impressive\", \"complain\", \"bland\", \"omelet\", \"modern\", \"overcook\", \"week\", \"nicely\", \"basically\", \"often\", \"con\", \"pro\", \"fruit\", \"individually\", \"recent\", \"touch\", \"massive\", \"buy\", \"tasteless\", \"fair\", \"girl\", \"today\", \"rarely\", \"visit\", \"section\", \"noodle\", \"cook\", \"perfectly\", \"friend\", \"mini\", \"salmon\", \"juice\", \"piece\", \"pan\", \"chocolate_covere\", \"box\", \"simply\", \"spoon\", \"tiny\", \"macaron\", \"cup\", \"cashier\", \"example\", \"creamy\", \"soft\", \"satisfy\", \"vegetarian\", \"corn\", \"taco\", \"giant\", \"marshmallow\", \"entry\", \"clam\", \"split\", \"prepared\", \"surprised\", \"version\", \"candy\", \"mousse\", \"notice\", \"fry\", \"sized\", \"sauce\", \"basket\", \"rich\", \"wine\", \"chicken\", \"bread\", \"prepare\", \"plenty\", \"slow\", \"wing\", \"endless\", \"mess\", \"pistachio\", \"grill\", \"talk\", \"fried_chicken\", \"melt\", \"dip\", \"past\", \"macaroon\", \"slightly\", \"ravioli\", \"chicken_wing\", \"win\", \"carving\", \"greasy\", \"fried_rice\", \"broth\", \"mouth\", \"stock\", \"date\", \"pumpkin\", \"standout\", \"joke\", \"basket\", \"ok\", \"mind\", \"front\", \"scoop\", \"pass\", \"healthy\", \"month\", \"explain\", \"weird\", \"elsewhere\", \"face\", \"alot\", \"wicke\", \"sick\", \"subpar\", \"spill\", \"cheesy\", \"step\", \"toast\", \"imagine\", \"french_toast\", \"focus\", \"moment\", \"row\", \"issue\", \"liquid\", \"count\", \"looking\", \"matter\", \"berry\", \"refill\", \"type\", \"list\", \"move\", \"normally\", \"sushi\", \"appetize\", \"high_expectation\", \"home\", \"rude\", \"s\", \"waited\", \"speak\", \"clever\", \"remind\", \"memory\", \"lemon\", \"vibe\", \"white\", \"crap\", \"pic\", \"luckily\", \"awkward\", \"hostess\", \"insane\", \"outdate\", \"everywhere\", \"planning\", \"culinary\", \"plane\", \"horrible\", \"cure\", \"period\", \"anyway\", \"dumpling\", \"chit\", \"swear\", \"cleaning\", \"runny\", \"chat\", \"warrant\", \"yolk\", \"crime\", \"lbs\", \"loreen\", \"ur\", \"indication\", \"deuce\", \"sludge\", \"irk\", \"gesture\", \"functional\", \"floatie\", \"response\", \"additionally\", \"explanation\", \"backwashe\", \"rubbish\", \"staying\", \"hateful\", \"encore\", \"officially\", \"apology\", \"resist\", \"brainless\", \"unconventional\"], \"Total\": [1877.0, 391.0, 340.0, 290.0, 611.0, 172.0, 175.0, 635.0, 977.0, 746.0, 539.0, 1393.0, 489.0, 1784.0, 133.0, 411.0, 476.0, 230.0, 673.0, 115.0, 133.0, 139.0, 96.0, 387.0, 629.0, 422.0, 85.0, 88.0, 277.0, 566.0, 310.1983337402344, 269.47113037109375, 247.8903045654297, 244.45477294921875, 209.6482696533203, 207.6109161376953, 178.38662719726562, 172.5294952392578, 160.80691528320312, 144.08152770996094, 123.94780731201172, 120.40972900390625, 225.28805541992188, 114.90362548828125, 113.27249145507812, 109.46434020996094, 92.88334655761719, 91.38357543945312, 88.756591796875, 86.32888793945312, 85.30055236816406, 84.44312286376953, 84.09988403320312, 83.51602935791016, 79.01764678955078, 77.83197784423828, 76.64341735839844, 75.97461700439453, 74.25003051757812, 73.73345184326172, 214.56211853027344, 269.3218688964844, 255.32998657226562, 276.77783203125, 476.4765930175781, 117.04346466064453, 351.8724365234375, 422.9601135253906, 376.7662658691406, 746.1575317382812, 678.4107055664062, 334.86065673828125, 185.6748046875, 122.58993530273438, 440.2880554199219, 597.3733520507812, 554.4927978515625, 635.4605102539062, 1784.553955078125, 430.0312194824219, 346.5246276855469, 1393.537353515625, 370.4176025390625, 430.12353515625, 354.0984802246094, 271.634033203125, 411.5042724609375, 229.87506103515625, 228.12744140625, 203.69281005859375, 167.15560913085938, 165.1763916015625, 124.86981964111328, 120.3252944946289, 118.47349548339844, 113.9124984741211, 107.34040069580078, 106.4192886352539, 489.6769714355469, 105.99615478515625, 103.52657318115234, 99.87207794189453, 211.39767456054688, 95.74684143066406, 86.71715545654297, 105.0035629272461, 611.8256225585938, 78.66656494140625, 77.67528533935547, 76.26606750488281, 75.64982604980469, 71.16361236572266, 67.7313003540039, 66.25926208496094, 63.17213439941406, 63.20182800292969, 228.1446990966797, 347.81939697265625, 387.90966796875, 539.8159790039062, 146.3024139404297, 1877.43505859375, 150.48773193359375, 190.07424926757812, 168.7673797607422, 386.8937683105469, 216.01971435546875, 197.19158935546875, 673.0573120117188, 629.78466796875, 977.604736328125, 330.33331298828125, 335.86944580078125, 283.5456848144531, 1393.537353515625, 391.0762023925781, 1784.553955078125, 566.7365112304688, 257.22735595703125, 277.3692932128906, 273.4608154296875, 430.12353515625, 139.0891571044922, 109.61764526367188, 90.28924560546875, 69.08883666992188, 68.79849243164062, 64.38472747802734, 56.410545349121094, 52.11495590209961, 51.146846771240234, 50.732730865478516, 50.56578826904297, 49.9601936340332, 47.02016067504883, 46.36082077026367, 44.70138931274414, 39.994903564453125, 39.5588493347168, 39.41440963745117, 39.113121032714844, 37.63042449951172, 36.12222671508789, 35.916015625, 35.22126770019531, 34.79520797729492, 32.51487350463867, 31.8621768951416, 31.814428329467773, 31.665498733520508, 30.976533889770508, 30.67610740661621, 105.74974822998047, 109.25558471679688, 44.053245544433594, 134.9971923828125, 57.01900100708008, 290.15673828125, 230.80844116210938, 93.40774536132812, 121.04139709472656, 167.7323760986328, 635.4605102539062, 280.49176025390625, 164.63690185546875, 259.14715576171875, 566.7365112304688, 277.3692932128906, 113.84502410888672, 166.6720428466797, 391.6030578613281, 340.7080993652344, 172.48468017578125, 115.17153930664062, 76.42903900146484, 70.7203598022461, 57.40915298461914, 49.9253044128418, 37.68455505371094, 37.081138610839844, 36.65254211425781, 36.4811897277832, 34.56312561035156, 32.9631462097168, 30.588619232177734, 25.338457107543945, 25.263151168823242, 21.6445369720459, 21.545595169067383, 21.248607635498047, 21.069652557373047, 20.2486515045166, 18.337230682373047, 18.19660758972168, 17.339820861816406, 17.27385139465332, 17.054954528808594, 15.52415657043457, 14.905143737792969, 14.62475299835205, 175.22125244140625, 133.60916137695312, 290.15673828125, 44.870025634765625, 54.66016387939453, 99.60482788085938, 93.88224792480469, 566.7365112304688, 85.71017456054688, 51.4594612121582, 44.5839958190918, 39.511077880859375, 38.84657669067383, 36.276710510253906, 32.00337600708008, 31.664518356323242, 31.171092987060547, 29.507369995117188, 27.714162826538086, 25.635391235351562, 22.925539016723633, 22.115249633789062, 22.04010772705078, 20.047134399414062, 19.321508407592773, 18.062795639038086, 17.594751358032227, 53.31947326660156, 16.065141677856445, 16.018508911132812, 15.85937213897705, 15.630439758300781, 15.612645149230957, 15.585131645202637, 15.2957124710083, 14.960576057434082, 14.820746421813965, 14.490269660949707, 96.73283386230469, 133.39857482910156, 38.8018684387207, 63.6894416809082, 23.62874984741211, 113.84502410888672, 66.74683380126953, 52.194068908691406, 49.906150817871094, 39.132347106933594, 31.827579498291016, 41.586181640625, 28.64983367919922, 28.479026794433594, 28.45316505432129, 28.178457260131836, 26.460166931152344, 24.321189880371094, 21.969465255737305, 20.77863311767578, 20.434473037719727, 19.04562759399414, 16.246078491210938, 15.718396186828613, 15.518839836120605, 13.729302406311035, 13.245633125305176, 12.847875595092773, 12.587077140808105, 12.488168716430664, 11.980034828186035, 11.854828834533691, 10.953369140625, 10.901941299438477, 10.731130599975586, 10.635198593139648, 17.13718605041504, 27.524721145629883, 18.140626907348633, 88.91085815429688, 36.51022720336914, 17.25094985961914, 65.1405029296875, 59.252174377441406, 35.593299865722656, 33.98762130737305, 28.682113647460938, 26.466096878051758, 23.497718811035156, 19.18471908569336, 18.86589241027832, 17.019262313842773, 16.332468032836914, 16.275833129882812, 15.643267631530762, 15.590373992919922, 13.065455436706543, 12.81494140625, 12.64371395111084, 12.6011381149292, 12.268890380859375, 11.92444896697998, 11.148133277893066, 11.050731658935547, 11.001572608947754, 10.453418731689453, 10.29135513305664, 10.26639175415039, 10.15246295928955, 10.027487754821777, 9.303503036499023, 9.23680591583252, 9.1709566116333, 36.51022720336914, 29.280471801757812, 22.868398666381836, 22.60741424560547, 17.04018783569336, 14.360330581665039, 13.369510650634766, 13.13521957397461, 12.64692211151123, 12.240450859069824, 11.257316589355469, 11.241848945617676, 10.867624282836914, 10.701014518737793, 9.42752742767334, 9.23421859741211, 8.891281127929688, 8.860081672668457, 8.54455852508545, 8.177105903625488, 7.8372392654418945, 7.809061527252197, 7.655679225921631, 7.487607479095459, 7.425076961517334, 7.420158863067627, 7.304433345794678, 7.276381969451904, 7.267730236053467, 6.729471206665039, 6.544616222381592, 36.65275573730469, 25.57135581970215, 20.41192054748535, 18.098487854003906, 14.660515785217285, 12.159305572509766, 11.648272514343262, 11.329909324645996, 10.179171562194824, 9.662835121154785, 9.404532432556152, 9.292470932006836, 7.9949541091918945, 7.616537570953369, 7.293667793273926, 5.7068400382995605, 5.323134899139404, 5.129461288452148, 4.987918853759766, 4.980189323425293, 4.848728179931641, 4.649336814880371, 4.2290120124816895, 3.8308370113372803, 3.5484044551849365, 3.4081432819366455, 3.401127576828003, 3.1169049739837646, 3.113452196121216, 3.085120916366577, 5.335915565490723, 3.1526472568511963, 3.006917953491211, 2.208566665649414, 1.9814815521240234, 1.7301249504089355, 1.5291086435317993, 1.173888921737671, 1.1605582237243652, 1.150011658668518, 1.1046772003173828, 1.1046772003173828, 1.1046772003173828, 1.1046772003173828, 1.1046772003173828, 0.8115285634994507, 0.8825706243515015, 0.8086305260658264, 0.8660195469856262, 0.8660195469856262, 0.8660195469856262, 0.8660195469856262, 0.8660195469856262, 0.8660195469856262, 0.8660195469856262, 0.8660195469856262, 0.8660195469856262, 0.7796312570571899, 0.7796312570571899, 0.7796312570571899, 0.7796312570571899, 0.844041109085083, 0.9253851175308228, 0.851830780506134, 0.955101490020752, 0.9243136048316956], \"loglift\": [30.0, 29.0, 28.0, 27.0, 26.0, 25.0, 24.0, 23.0, 22.0, 21.0, 20.0, 19.0, 18.0, 17.0, 16.0, 15.0, 14.0, 13.0, 12.0, 11.0, 10.0, 9.0, 8.0, 7.0, 6.0, 5.0, 4.0, 3.0, 2.0, 1.0, 0.9616000056266785, 0.9613000154495239, 0.9610999822616577, 0.9610000252723694, 0.9606000185012817, 0.9605000019073486, 0.9599999785423279, 0.9599000215530396, 0.9593999981880188, 0.9591000080108643, 0.958299994468689, 0.9581999778747559, 0.9581000208854675, 0.9578999876976013, 0.9577999711036682, 0.9575999975204468, 0.9564999938011169, 0.9563999772071838, 0.9562000036239624, 0.9559000134468079, 0.9557999968528748, 0.9557999968528748, 0.9556999802589417, 0.9556999802589417, 0.9552000164985657, 0.9550999999046326, 0.9549000263214111, 0.9549000263214111, 0.9546999931335449, 0.9545999765396118, 0.9545000195503235, 0.9521999955177307, 0.9487000107765198, 0.9416000247001648, 0.9302999973297119, 0.9501000046730042, 0.9247000217437744, 0.9060999751091003, 0.890999972820282, 0.8496999740600586, 0.7954999804496765, 0.8454999923706055, 0.8903999924659729, 0.9261000156402588, 0.7602999806404114, 0.7031999826431274, 0.6865000128746033, 0.4691999852657318, 0.08209999650716782, 0.4733000099658966, 0.550599992275238, -0.15000000596046448, 0.46939998865127563, 0.21220000088214874, 0.3490000069141388, 0.5598999857902527, 0.965499997138977, 0.9642000198364258, 0.9642000198364258, 0.9639000296592712, 0.963100016117096, 0.963100016117096, 0.9617999792098999, 0.9616000056266785, 0.9614999890327454, 0.9611999988555908, 0.9609000086784363, 0.9607999920845032, 0.9607999920845032, 0.9607999920845032, 0.9606000185012817, 0.9603999853134155, 0.9602000117301941, 0.960099995136261, 0.9593999981880188, 0.9589999914169312, 0.9587000012397766, 0.9585999846458435, 0.958299994468689, 0.958299994468689, 0.9581999778747559, 0.9577000141143799, 0.9571999907493591, 0.9569000005722046, 0.9563999772071838, 0.9563000202178955, 0.9562000036239624, 0.9509000182151794, 0.946399986743927, 0.9422000050544739, 0.9508000016212463, 0.906000018119812, 0.9452999830245972, 0.9343000054359436, 0.9376999735832214, 0.9124000072479248, 0.9294999837875366, 0.9325000047683716, 0.8657000064849854, 0.8091999888420105, 0.7638999819755554, 0.8497999906539917, 0.8427000045776367, 0.8562999963760376, 0.5685999989509583, 0.7652999758720398, 0.428600013256073, 0.5390999913215637, 0.7465000152587891, 0.7135999798774719, 0.6687999963760376, 0.3147999942302704, 2.4147000312805176, 2.4133999347686768, 2.4119999408721924, 2.4096999168395996, 2.409600019454956, 2.4089999198913574, 2.4075000286102295, 2.4065001010894775, 2.4061999320983887, 2.406100034713745, 2.4059998989105225, 2.405900001525879, 2.4049999713897705, 2.4047999382019043, 2.4042999744415283, 2.402400016784668, 2.4022998809814453, 2.4021999835968018, 2.402100086212158, 2.401400089263916, 2.400599956512451, 2.4005000591278076, 2.400099992752075, 2.3998000621795654, 2.3984999656677246, 2.3980000019073486, 2.3980000019073486, 2.397900104522705, 2.39739990234375, 2.397200107574463, 2.3812999725341797, 2.3192999362945557, 2.3440001010894775, 2.143199920654297, 2.2118000984191895, 1.5835000276565552, 1.6201000213623047, 1.9427000284194946, 1.8092999458312988, 1.621000051498413, 0.9329000115394592, 1.1914000511169434, 1.4745999574661255, 1.1181000471115112, 0.36500000953674316, 0.9139999747276306, 1.5358999967575073, 1.152999997138977, 2.9774999618530273, 2.977400064468384, 2.9755001068115234, 2.9735000133514404, 2.9704999923706055, 2.9697000980377197, 2.967400074005127, 2.96560001373291, 2.9611001014709473, 2.9607999324798584, 2.960599899291992, 2.9605000019073486, 2.959399938583374, 2.958400011062622, 2.9567999839782715, 2.9519999027252197, 2.951900005340576, 2.9472999572753906, 2.9470999240875244, 2.9465999603271484, 2.9463999271392822, 2.944999933242798, 2.9412999153137207, 2.9410998821258545, 2.9391000270843506, 2.9388999938964844, 2.9384000301361084, 2.934299945831299, 2.9323999881744385, 2.9314000606536865, 2.901599884033203, 2.517199993133545, 2.2244999408721924, 2.6010000705718994, 2.060699939727783, 1.5819000005722046, 1.4875999689102173, -0.2361000031232834, 3.403700113296509, 3.3982999324798584, 3.396199941635132, 3.394200086593628, 3.393899917602539, 3.3926000595092773, 3.390000104904175, 3.3898000717163086, 3.3894999027252197, 3.388200044631958, 3.3866000175476074, 3.3845999240875244, 3.3812999725341797, 3.380199909210205, 3.3801000118255615, 3.376800060272217, 3.375499963760376, 3.3729000091552734, 3.3719000816345215, 3.369800090789795, 3.368000030517578, 3.367799997329712, 3.3673999309539795, 3.3666999340057373, 3.3666999340057373, 3.3666000366210938, 3.3657000064849854, 3.3647000789642334, 3.3642001152038574, 3.363100051879883, 3.353300094604492, 3.2037999629974365, 3.263200044631958, 2.7435998916625977, 3.079400062561035, 1.6952999830245972, 3.5741000175476074, 3.571199893951416, 3.5706000328063965, 3.566699981689453, 3.5625998973846436, 3.5618999004364014, 3.5601999759674072, 3.559999942779541, 3.559999942779541, 3.5597000122070312, 3.5580999851226807, 3.555799961090088, 3.5525999069213867, 3.550800085067749, 3.5501999855041504, 3.547600030899048, 3.541100025177002, 3.539599895477295, 3.5390000343322754, 3.5329999923706055, 3.5309998989105225, 3.5292999744415283, 3.52810001373291, 3.5276999473571777, 3.5251998901367188, 3.524600028991699, 3.5195000171661377, 3.519200086593628, 3.5181000232696533, 3.5174999237060547, 3.5035998821258545, 3.4860000610351562, 3.4823999404907227, 3.0771000385284424, 3.0831000804901123, 3.2990000247955322, 2.202500104904175, 4.012499809265137, 4.004499912261963, 4.003499984741211, 3.9995999336242676, 3.997499942779541, 3.9941000938415527, 3.9870998859405518, 3.9865000247955322, 3.982300043106079, 3.9804000854492188, 3.980299949645996, 3.9783999919891357, 3.978300094604492, 3.969099998474121, 3.9679999351501465, 3.9672000408172607, 3.9670000076293945, 3.965399980545044, 3.96370005607605, 3.9593000411987305, 3.958699941635132, 3.958400011062622, 3.9547998905181885, 3.953700065612793, 3.9535000324249268, 3.952699899673462, 3.95169997215271, 3.9458999633789062, 3.9453001022338867, 3.944700002670288, 3.050100088119507, 4.544400215148926, 4.537300109863281, 4.5370001792907715, 4.526299953460693, 4.518099784851074, 4.514200210571289, 4.513199806213379, 4.511000156402588, 4.508999824523926, 4.503600120544434, 4.503499984741211, 4.501100063323975, 4.500100135803223, 4.4903998374938965, 4.48859977722168, 4.485400199890137, 4.485099792480469, 4.481900215148926, 4.477799892425537, 4.473599910736084, 4.473299980163574, 4.471199989318848, 4.468900203704834, 4.468100070953369, 4.4679999351501465, 4.466000080108643, 4.46589994430542, 4.465700149536133, 4.456999778747559, 4.45359992980957, 4.782199859619141, 4.773499965667725, 4.766200065612793, 4.761499881744385, 4.751800060272217, 4.741199970245361, 4.738399982452393, 4.736599922180176, 4.728899955749512, 4.724800109863281, 4.722599983215332, 4.72160005569458, 4.707900047302246, 4.703000068664551, 4.698500156402588, 4.667600154876709, 4.657199859619141, 4.6508002281188965, 4.646699905395508, 4.646500110626221, 4.641900062561035, 4.634399890899658, 4.615300178527832, 4.594699859619141, 4.576200008392334, 4.565499782562256, 4.565100193023682, 4.54040002822876, 4.54010009765625, 4.537300109863281, 6.39709997177124, 6.275100231170654, 6.259699821472168, 6.129499912261963, 6.067399978637695, 5.973299980163574, 5.86460018157959, 5.511600017547607, 5.490300178527832, 5.472899913787842, 5.389800071716309, 5.389800071716309, 5.389800071716309, 5.389800071716309, 5.389800071716309, 3.069700002670288, 2.8650999069213867, 2.84660005569458, 2.824399948120117, 2.824399948120117, 2.824399948120117, 2.824399948120117, 2.824399948120117, 2.824399948120117, 2.824399948120117, 2.824399948120117, 2.824399948120117, 2.805500030517578, 2.805500030517578, 2.805500030517578, 2.805500030517578, 2.78629994392395, 2.7558999061584473, 2.7769999504089355, 2.72160005569458, 2.6958000659942627], \"logprob\": [30.0, 29.0, 28.0, 27.0, 26.0, 25.0, 24.0, 23.0, 22.0, 21.0, 20.0, 19.0, 18.0, 17.0, 16.0, 15.0, 14.0, 13.0, 12.0, 11.0, 10.0, 9.0, 8.0, 7.0, 6.0, 5.0, 4.0, 3.0, 2.0, 1.0, -4.457699775695801, -4.598700046539307, -4.682400226593018, -4.696400165557861, -4.850500106811523, -4.860300064086914, -5.012499809265137, -5.046000003814697, -5.116799831390381, -5.2270002365112305, -5.378300189971924, -5.407400131225586, -4.781000137329102, -5.454500198364258, -5.468900203704834, -5.503300189971924, -5.668600082397461, -5.684999942779541, -5.714399814605713, -5.742400169372559, -5.75439977645874, -5.764599800109863, -5.768700122833252, -5.775700092315674, -5.831600189208984, -5.846799850463867, -5.862400054931641, -5.871200084686279, -5.894400119781494, -5.901400089263916, -4.833399772644043, -4.608399868011475, -4.665200233459473, -4.591700077056885, -4.059700012207031, -5.44379997253418, -4.368500232696533, -4.203100204467773, -4.333799839019775, -3.691800117492676, -3.841200113296509, -4.497300148010254, -5.041999816894531, -5.421500205993652, -4.308800220489502, -4.060699939727783, -4.151899814605713, -4.232900142669678, -3.587399959564209, -4.61929988861084, -4.757900238037109, -4.06689977645874, -4.77239990234375, -4.880199909210205, -4.937900066375732, -4.992099761962891, -4.17110013961792, -4.754700183868408, -4.76230001449585, -4.875999927520752, -5.074399948120117, -5.086400032043457, -5.367400169372559, -5.404699802398682, -5.420300006866455, -5.459799766540527, -5.519599914550781, -5.528299808502197, -4.0019001960754395, -5.532299995422363, -5.556000232696533, -5.592199802398682, -4.84250020980835, -5.6346001625061035, -5.734399795532227, -5.543399810791016, -3.7813000679016113, -5.832699775695801, -5.845600128173828, -5.863900184631348, -5.872099876403809, -5.933800220489502, -5.983699798583984, -6.005899906158447, -6.054200172424316, -6.053800106048584, -4.770299911499023, -4.353899955749512, -4.249300003051758, -3.923099994659424, -5.21999979019165, -2.7128000259399414, -5.197299957275391, -4.974699974060059, -5.0903000831604, -4.285900115966797, -4.851600170135498, -4.939799785614014, -3.778899908065796, -3.901900053024292, -3.5074000358581543, -4.506499767303467, -4.497000217437744, -4.6528000831604, -3.348299980163574, -4.422299861907959, -3.240999937057495, -4.277500152587891, -4.860000133514404, -4.817500114440918, -4.876500129699707, -4.777599811553955, -3.8066999912261963, -4.04610013961792, -4.241399765014648, -4.51140022277832, -4.515600204467773, -4.582600116729736, -4.716400146484375, -4.796599864959717, -4.8155999183654785, -4.823800086975098, -4.827099800109863, -4.839399814605713, -4.900899887084961, -4.915200233459473, -4.952199935913086, -5.065299987792969, -5.076399803161621, -5.080100059509277, -5.0879998207092285, -5.127299785614014, -5.169000148773193, -5.174799919128418, -5.194699764251709, -5.207200050354004, -5.276299953460693, -5.296999931335449, -5.298600196838379, -5.303299903869629, -5.325799942016602, -5.3358001708984375, -4.114099979400635, -4.143499851226807, -5.027100086212158, -4.108099937438965, -4.901299953460693, -3.902600049972534, -4.094799995422363, -4.676799774169922, -4.551000118255615, -4.413099765777588, -3.769200086593628, -4.328499794006348, -4.578100204467773, -4.480999946594238, -4.451600074768066, -4.617099761962891, -4.885799884796143, -4.887499809265137, -2.2088000774383545, -2.3480000495910645, -3.0306999683380127, -3.436500072479248, -3.8496999740600586, -3.927999973297119, -4.138800144195557, -4.280300140380859, -4.566100120544434, -4.582600116729736, -4.594399929046631, -4.5991997718811035, -4.654300212860107, -4.702600002288818, -4.7789998054504395, -4.972099781036377, -4.975200176239014, -5.134399890899658, -5.139200210571289, -5.153600215911865, -5.162300109863281, -5.203400135040283, -5.30620002746582, -5.314199924468994, -5.364299774169922, -5.368299961090088, -5.3815999031066895, -5.479800224304199, -5.52239990234375, -5.542300224304199, -3.0887999534606934, -3.7444000244140625, -3.2614998817443848, -4.751699924468994, -5.094600200653076, -4.973400115966797, -5.126800060272217, -5.052700042724609, -3.301800012588501, -3.8173000812530518, -3.962899923324585, -4.085700035095215, -4.10290002822876, -4.172699928283691, -4.300600051879883, -4.311500072479248, -4.327499866485596, -4.383600234985352, -4.44789981842041, -4.527900218963623, -4.642899990081787, -4.679999828338623, -4.683599948883057, -4.781599998474121, -4.819799900054932, -4.889699935913086, -4.916999816894531, -3.81030011177063, -5.0117998123168945, -5.014900207519531, -5.025300025939941, -5.040500164031982, -5.0416998863220215, -5.043600082397461, -5.063199996948242, -5.086400032043457, -5.096199989318848, -5.119900226593018, -3.2311999797821045, -3.0594000816345215, -4.234799861907959, -4.258800029754639, -4.914599895477295, -4.726399898529053, -3.3814001083374023, -3.6303000450134277, -3.6756999492645264, -3.922800064086914, -4.133500099182129, -3.86680006980896, -4.241199970245361, -4.247300148010254, -4.248199939727783, -4.258200168609619, -4.322700023651123, -4.40939998626709, -4.514200210571289, -4.571800231933594, -4.589099884033203, -4.6620001792907715, -4.827499866485596, -4.861999988555908, -4.875400066375732, -5.004000186920166, -5.041800022125244, -5.07390022277832, -5.095600128173828, -5.104000091552734, -5.1479997634887695, -5.159200191497803, -5.243299961090088, -5.2484002113342285, -5.265200138092041, -5.274799823760986, -4.811600208282471, -4.355400085449219, -4.775899887084961, -3.5917000770568848, -4.475800037384033, -5.0096001625061035, -4.777500152587891, -3.0622000694274902, -3.5797998905181885, -3.6268999576568604, -3.800600051879883, -3.8831000328063965, -4.005499839782715, -4.2153000831604, -4.232699871063232, -4.339900016784668, -4.382900238037109, -4.386499881744385, -4.427999973297119, -4.43149995803833, -4.617400169372559, -4.637800216674805, -4.652100086212158, -4.655600070953369, -4.684000015258789, -4.714200019836426, -4.785900115966797, -4.795300006866455, -4.800000190734863, -4.854700088500977, -4.871500015258789, -4.874100208282471, -4.886099815368652, -4.899400234222412, -4.980199813842773, -4.98799991607666, -4.995699882507324, -4.508800029754639, -3.2351999282836914, -3.4893999099731445, -3.501199960708618, -3.794600009918213, -3.973900079727173, -4.049300193786621, -4.067999839782715, -4.108099937438965, -4.1427001953125, -4.231900215148926, -4.23330020904541, -4.269499778747559, -4.286099910736084, -4.422500133514404, -4.444900035858154, -4.486000061035156, -4.489799976348877, -4.529300212860107, -4.577300071716309, -4.623899936676025, -4.627900123596191, -4.649799823760986, -4.674300193786621, -4.683499813079834, -4.684299945831299, -4.702000141143799, -4.705999851226807, -4.707300186157227, -4.792900085449219, -4.82420015335083, -2.7727999687194824, -3.1414999961853027, -3.3740999698638916, -3.4990999698638916, -3.7195000648498535, -3.9172000885009766, -3.962899923324585, -3.9923999309539795, -4.1072001457214355, -4.163300037384033, -4.192599773406982, -4.205599784851074, -4.369699954986572, -4.423099994659424, -4.4710001945495605, -4.747200012207031, -4.827199935913086, -4.870699882507324, -4.902699947357178, -4.9045000076293945, -4.9359002113342285, -4.985400199890137, -5.0991997718811035, -5.218699932098389, -5.313799858093262, -5.364799976348877, -5.367199897766113, -5.4791998863220215, -5.480599880218506, -5.492599964141846, -3.0850000381469727, -3.733099937438965, -3.7959001064300537, -4.234600067138672, -4.405200004577637, -4.635000228881836, -4.867199897766113, -5.484600067138672, -5.517300128936768, -5.543799877166748, -5.667099952697754, -5.667099952697754, -5.667099952697754, -5.667099952697754, -5.667099952697754, -8.295599937438965, -8.416199684143066, -8.522199630737305, -8.475899696350098, -8.475899696350098, -8.475899696350098, -8.475899696350098, -8.475899696350098, -8.475899696350098, -8.475899696350098, -8.475899696350098, -8.475899696350098, -8.599900245666504, -8.599900245666504, -8.599900245666504, -8.599900245666504, -8.53969955444336, -8.478099822998047, -8.539899826049805, -8.480799674987793, -8.539299964904785]}, \"token.table\": {\"Topic\": [2, 3, 1, 4, 4, 8, 1, 1, 2, 2, 4, 10, 9, 1, 4, 1, 2, 4, 9, 1, 2, 3, 1, 2, 3, 1, 5, 6, 7, 2, 2, 8, 1, 5, 1, 4, 6, 7, 7, 1, 2, 1, 2, 3, 5, 6, 7, 6, 3, 1, 8, 1, 7, 7, 10, 6, 2, 2, 6, 2, 3, 9, 3, 4, 4, 1, 2, 3, 1, 5, 5, 1, 5, 4, 6, 1, 2, 3, 8, 3, 9, 3, 6, 9, 6, 10, 4, 4, 6, 7, 7, 2, 1, 2, 1, 2, 1, 2, 3, 1, 2, 1, 2, 3, 7, 1, 2, 1, 2, 3, 2, 4, 10, 1, 2, 3, 5, 1, 3, 8, 3, 7, 1, 3, 6, 2, 9, 6, 2, 3, 2, 3, 8, 3, 8, 5, 4, 3, 4, 4, 1, 2, 1, 4, 8, 1, 2, 3, 8, 7, 7, 2, 3, 5, 2, 8, 5, 6, 1, 6, 1, 1, 2, 3, 4, 6, 5, 2, 3, 1, 2, 3, 1, 2, 3, 7, 1, 2, 7, 3, 2, 3, 8, 9, 4, 9, 3, 10, 9, 3, 1, 2, 4, 2, 3, 8, 5, 5, 9, 3, 3, 8, 1, 7, 6, 1, 1, 4, 3, 3, 2, 9, 4, 1, 4, 8, 9, 1, 2, 1, 3, 4, 1, 2, 8, 1, 2, 1, 2, 9, 1, 6, 7, 1, 2, 3, 1, 2, 6, 5, 8, 1, 7, 9, 7, 8, 6, 4, 5, 8, 1, 3, 8, 6, 7, 9, 1, 2, 5, 1, 2, 3, 5, 3, 5, 6, 9, 4, 6, 5, 8, 5, 5, 2, 4, 9, 2, 5, 6, 1, 4, 8, 7, 1, 3, 4, 1, 2, 3, 4, 1, 5, 10, 1, 3, 9, 6, 7, 1, 2, 3, 9, 9, 1, 2, 3, 7, 1, 2, 2, 7, 6, 1, 1, 2, 3, 5, 4, 7, 2, 1, 2, 3, 4, 2, 5, 7, 1, 2, 5, 1, 2, 9, 9, 2, 3, 5, 3, 6, 8, 9, 3, 4, 9, 1, 6, 6, 1, 6, 1, 2, 3, 8, 1, 4, 3, 5, 1, 3, 1, 2, 1, 2, 2, 2, 3, 3, 8, 1, 6, 2, 3, 3, 6, 7, 7, 1, 2, 6, 9, 8, 6, 6, 5, 2, 1, 4, 7, 2, 1, 2, 4, 8, 7, 1, 8, 4, 6, 4, 9, 10, 1, 2, 3, 6, 7, 1, 2, 5, 2, 3, 2, 3, 4, 3, 1, 2, 1, 2, 3, 1, 2, 3, 4, 6, 1, 2, 3, 8, 5, 5, 3, 4, 2, 1, 2, 3, 9, 1, 4, 5, 3, 4, 1, 2, 6, 6, 9, 1, 5, 4, 9, 2, 1, 2, 3, 2, 5, 4, 8, 1, 2, 9, 8, 5, 3, 7, 2, 6, 7, 1, 1, 2, 3, 1, 2, 3, 3], \"Freq\": [0.175380140542984, 0.806748628616333, 0.9916050434112549, 0.938143789768219, 0.9804022908210754, 0.9201642870903015, 0.9947524070739746, 0.6608476638793945, 0.33763834834098816, 0.9961932897567749, 0.9868099093437195, 0.4527823328971863, 0.944346010684967, 0.9869216680526733, 0.9928730130195618, 0.9921358227729797, 0.9960600137710571, 0.9816095232963562, 0.9458473920822144, 0.04393970966339111, 0.945996105670929, 0.010338755324482918, 0.29234370589256287, 0.4135593771934509, 0.29234370589256287, 0.9982516765594482, 0.9477663636207581, 0.6025708913803101, 0.38345420360565186, 0.9836487770080566, 0.9814453721046448, 0.9167841076850891, 0.9965972304344177, 0.9828053116798401, 0.9975943565368652, 0.970781147480011, 0.9773180484771729, 0.9833311438560486, 0.9716893434524536, 0.1022762879729271, 0.8957992196083069, 0.41410908102989197, 0.5833390355110168, 0.002241456415504217, 0.960759699344635, 0.9318682551383972, 0.9049174785614014, 0.9558721780776978, 0.9689325094223022, 0.995758056640625, 0.9029262065887451, 0.9893105626106262, 0.9957440495491028, 0.9224745035171509, 0.5779929161071777, 0.9859043955802917, 0.9965987801551819, 0.9913063049316406, 0.9609094858169556, 0.9960871338844299, 0.980780839920044, 0.91905277967453, 0.5854355096817017, 0.4024868905544281, 0.9392730593681335, 0.07131636142730713, 0.9033405780792236, 0.023772120475769043, 0.9964765310287476, 0.9624301791191101, 0.941161036491394, 0.4710356891155243, 0.5181392431259155, 0.9708439707756042, 0.9665670990943909, 0.29399052262306213, 0.41998645663261414, 0.2819909155368805, 0.9620165824890137, 0.9922171235084534, 0.8031823039054871, 0.9729404449462891, 0.9787382483482361, 0.6423737406730652, 0.9867938160896301, 0.6343874931335449, 0.9821965098381042, 0.6908844113349915, 0.20057933032512665, 0.11143296211957932, 0.8975328803062439, 0.9960033893585205, 0.018045438453555107, 0.979609489440918, 0.023701263591647148, 0.9717517495155334, 0.8925729393959045, 0.10721596330404282, 0.9684750437736511, 0.9625586271286011, 0.0326291061937809, 0.4719574451446533, 0.520780622959137, 0.006974740419536829, 0.9184525012969971, 0.9914756417274475, 0.99152672290802, 0.96751868724823, 0.03148108348250389, 0.9751242399215698, 0.9905993938446045, 0.00876636616885662, 0.5046728849411011, 0.7700377106666565, 0.2209673374891281, 0.008369974792003632, 0.9869012236595154, 0.9825409650802612, 0.008543835021555424, 0.9771422743797302, 0.9715409874916077, 0.9382467269897461, 0.0915285050868988, 0.906132161617279, 0.9533587694168091, 0.9989321231842041, 0.8820604085922241, 0.9625272154808044, 0.9912680387496948, 0.983246922492981, 0.9635299444198608, 0.03042726032435894, 0.9488474726676941, 0.9786058068275452, 0.9784867167472839, 0.980666995048523, 0.9662360548973083, 0.9783037900924683, 0.980756938457489, 0.9746772050857544, 0.03156661242246628, 0.9680427312850952, 0.9969078302383423, 0.9895836114883423, 0.9143539071083069, 0.05646000802516937, 0.9406450390815735, 0.0026632079388946295, 0.8963945508003235, 0.9588789343833923, 0.9566248655319214, 0.4040580689907074, 0.41284194588661194, 0.17567741870880127, 0.994913637638092, 0.9731320738792419, 0.9564985632896423, 0.037509746849536896, 0.07266195118427277, 0.9082744121551514, 0.9924936294555664, 0.6105808019638062, 0.13533492386341095, 0.2266073077917099, 0.028325913473963737, 0.9814555644989014, 0.935792863368988, 0.7751398682594299, 0.22352871298789978, 0.18207767605781555, 0.8162808418273926, 0.0010229082545265555, 0.3286600112915039, 0.6709544062614441, 0.9894858598709106, 0.9089609384536743, 0.008172263391315937, 0.9921127557754517, 0.9796437621116638, 0.9940245747566223, 0.9914100766181946, 0.9744956493377686, 0.97236168384552, 0.9708815813064575, 0.9866425395011902, 0.8841583728790283, 0.9937177896499634, 0.9370462894439697, 0.7831186652183533, 0.9883937239646912, 0.9961903095245361, 0.3667413294315338, 0.6286994218826294, 0.9904425740242004, 0.9779598116874695, 0.8931716680526733, 0.9790138006210327, 0.9336985945701599, 0.8454504013061523, 0.9842400550842285, 0.9855570197105408, 0.9433760046958923, 0.9981396198272705, 0.8723190426826477, 0.9818428754806519, 0.9871718287467957, 0.9978326559066772, 0.9943864345550537, 0.9967964291572571, 0.9858729839324951, 0.9919894933700562, 0.9392961263656616, 0.9492325782775879, 0.9949820637702942, 0.998460054397583, 0.9583221077919006, 0.9798195958137512, 0.8869360685348511, 0.1104937195777893, 0.011414140462875366, 0.06277777254581451, 0.924545407295227, 0.9791246652603149, 0.021678036078810692, 0.9631617665290833, 0.6663377285003662, 0.3313281536102295, 0.6115835309028625, 0.3860184848308563, 0.8603377342224121, 0.9923532009124756, 0.9826090931892395, 0.9490882158279419, 0.8153752684593201, 0.1771567463874817, 0.006813721265643835, 0.25597816705703735, 0.7423366904258728, 0.9340065717697144, 0.9596658945083618, 0.891600489616394, 0.9964084625244141, 0.9621321558952332, 0.8761416077613831, 0.9541027545928955, 0.9620262384414673, 0.9888109564781189, 0.997189998626709, 0.9752143025398254, 0.9348780512809753, 0.028368862345814705, 0.9645413160324097, 0.9135743975639343, 0.9402739405632019, 0.9740520715713501, 0.9393050074577332, 0.9289578795433044, 0.06900829821825027, 0.9782071709632874, 0.5831013321876526, 0.02429588884115219, 0.38873422145843506, 0.9528084397315979, 0.9943654537200928, 0.8504745364189148, 0.1288597732782364, 0.9549459218978882, 0.05835263803601265, 0.9336422085762024, 0.9833600521087646, 0.9904211759567261, 0.9742311239242554, 0.9910714030265808, 0.9933884143829346, 0.004730421118438244, 0.8802446722984314, 0.9968287944793701, 0.9596284627914429, 0.9739980101585388, 0.9904897212982178, 0.9814662337303162, 0.9749079346656799, 0.9364069104194641, 0.09649956971406937, 0.43424805998802185, 0.46871218085289, 0.3457889258861542, 0.1430850774049759, 0.4471408724784851, 0.05365690216422081, 0.25392794609069824, 0.719462513923645, 0.6651328802108765, 0.23704196512699127, 0.7555712461471558, 0.8249586224555969, 0.9710636734962463, 0.9401112794876099, 0.14290598034858704, 0.854260265827179, 0.001587844337336719, 0.6482728123664856, 0.6416621804237366, 0.9605754017829895, 0.014209695160388947, 0.022735511884093285, 0.9762181639671326, 0.9317365288734436, 0.07001488655805588, 0.9968066215515137, 0.9709417223930359, 0.9278919100761414, 0.9993606209754944, 0.005750110372900963, 0.9832689166069031, 0.008625165559351444, 0.9661972522735596, 0.9572811126708984, 0.9673775434494019, 0.9965113401412964, 0.09825246036052704, 0.8842721581459045, 0.017864083871245384, 0.9883000254631042, 0.9921998381614685, 0.9661656022071838, 0.9780835509300232, 0.7574489712715149, 0.24166229367256165, 0.936416745185852, 0.013670314103364944, 0.9842626452445984, 0.9821907877922058, 0.9597365856170654, 0.9768238067626953, 0.019935179501771927, 0.9870649576187134, 0.23187129199504852, 0.753581702709198, 0.9427511692047119, 0.931403636932373, 0.9306918978691101, 0.06809940934181213, 0.956985354423523, 0.9970573782920837, 0.9962818026542664, 0.9848530292510986, 0.39365270733833313, 0.6073498725891113, 0.1710548996925354, 0.8008479475975037, 0.023325668647885323, 0.9389567971229553, 0.9969310164451599, 0.9898278713226318, 0.17991197109222412, 0.8096038699150085, 0.994282603263855, 0.004438761621713638, 0.006126487627625465, 0.9945331811904907, 0.9876658320426941, 0.011139088310301304, 0.9930866360664368, 0.9987745881080627, 0.9775773882865906, 0.9921693801879883, 0.9546511769294739, 0.9938212037086487, 0.9831796884536743, 0.4543899893760681, 0.5452679991722107, 0.05512488633394241, 0.8819981813430786, 0.9522949457168579, 0.9823889136314392, 0.9869580864906311, 0.011749501340091228, 0.9450988173484802, 0.875552237033844, 0.8997578620910645, 0.9181943535804749, 0.984073281288147, 0.9686477780342102, 0.9972965121269226, 0.7429358959197998, 0.2509918510913849, 0.9743627905845642, 0.9950578212738037, 0.9927195310592651, 0.004660654813051224, 0.9837073087692261, 0.9362683892250061, 0.8864843845367432, 0.9958025813102722, 0.9746357798576355, 0.9702216982841492, 0.9129611253738403, 0.9877200722694397, 0.9046569466590881, 0.653975784778595, 0.9966325759887695, 0.5459072589874268, 0.4505901038646698, 0.9468798637390137, 0.9830526113510132, 0.9433513879776001, 0.05437865108251572, 0.9624557495117188, 0.9930341839790344, 0.9744006395339966, 0.43671727180480957, 0.3302008807659149, 0.22368445992469788, 0.9888108372688293, 0.6101222038269043, 0.38875043392181396, 0.5393979549407959, 0.4518516957759857, 0.005648146383464336, 0.17997781932353973, 0.6510962247848511, 0.1288076490163803, 0.040583234280347824, 0.9581787586212158, 0.27834951877593994, 0.08564600348472595, 0.6209335327148438, 0.856048583984375, 0.9446218013763428, 0.945813000202179, 0.9841650128364563, 0.9841464757919312, 0.9917299747467041, 0.8446211218833923, 0.14298123121261597, 0.010318233631551266, 0.9776564240455627, 0.9871212840080261, 0.9818345904350281, 0.9917142391204834, 0.9843094348907471, 0.9891953468322754, 0.032404448837041855, 0.9628750681877136, 0.954295814037323, 0.9172677993774414, 0.7798089981079102, 0.05168875679373741, 0.940735399723053, 0.9979217052459717, 0.9685260057449341, 0.9892029166221619, 0.4823514223098755, 0.24310511350631714, 0.2739756107330322, 0.9906019568443298, 0.9495710134506226, 0.9898139834403992, 0.9803560376167297, 0.1815502941608429, 0.818254828453064, 0.8019376397132874, 0.9344908595085144, 0.9923722147941589, 0.978983461856842, 0.8970111608505249, 0.7368687391281128, 0.245622918009758, 0.978818416595459, 0.9900526404380798, 0.10595358908176422, 0.8900101184844971, 0.0030272454023361206, 0.024082280695438385, 0.9744061231613159, 0.99272221326828, 0.9771460294723511], \"Term\": [\"able\", \"able\", \"actually\", \"additional\", \"alcohol\", \"alot\", \"already\", \"also\", \"also\", \"amazing\", \"amount\", \"anyway\", \"appetize\", \"area\", \"arrive\", \"asian\", \"ask\", \"attention\", \"awkward\", \"back\", \"back\", \"back\", \"bad\", \"bad\", \"bad\", \"bar\", \"basically\", \"basket\", \"basket\", \"beautiful\", \"beef\", \"berry\", \"better\", \"bland\", \"bone_marrow\", \"bottomless\", \"box\", \"bread\", \"broth\", \"brunch\", \"brunch\", \"buffet\", \"buffet\", \"buffet\", \"buy\", \"candy\", \"carving\", \"cashier\", \"charge\", \"cheese\", \"cheesy\", \"chef\", \"chicken\", \"chicken_wing\", \"chit\", \"chocolate_covere\", \"choice\", \"choose\", \"clam\", \"clean\", \"clear\", \"clever\", \"close\", \"close\", \"closing\", \"come\", \"come\", \"come\", \"compare\", \"complain\", \"con\", \"cook\", \"cook\", \"cookie\", \"corn\", \"could\", \"could\", \"could\", \"count\", \"crab\", \"crap\", \"crazy\", \"creamy\", \"culinary\", \"cup\", \"cure\", \"customer\", \"cut\", \"cut\", \"cut\", \"date\", \"day\", \"definitely\", \"definitely\", \"delicious\", \"delicious\", \"dessert\", \"dessert\", \"die\", \"different\", \"different\", \"dinner\", \"dinner\", \"dinner\", \"dip\", \"disappoint\", \"disappointed\", \"dish\", \"dish\", \"dollar\", \"drink\", \"drink\", \"dumpling\", \"eat\", \"eat\", \"eat\", \"egg\", \"else\", \"else\", \"elsewhere\", \"empty\", \"endless\", \"enough\", \"enough\", \"entry\", \"ever\", \"everywhere\", \"example\", \"excellent\", \"expectation\", \"experience\", \"experience\", \"explain\", \"extremely\", \"face\", \"fair\", \"fairly\", \"family\", \"fast\", \"fee\", \"feel\", \"feel\", \"flavor\", \"flavorful\", \"focus\", \"food\", \"food\", \"food\", \"french_toast\", \"fried_chicken\", \"fried_rice\", \"friend\", \"friend\", \"friend\", \"friendly\", \"front\", \"fruit\", \"fruit\", \"fry\", \"fry\", \"gelato\", \"get\", \"get\", \"get\", \"get\", \"giant\", \"girl\", \"give\", \"give\", \"go\", \"go\", \"go\", \"good\", \"good\", \"gratuity\", \"greasy\", \"great\", \"great\", \"grill\", \"grit\", \"group\", \"guy\", \"healthy\", \"high_expectation\", \"highly\", \"home\", \"honestly\", \"horrible\", \"hostess\", \"hot\", \"hotel\", \"hour\", \"hour\", \"however\", \"hungry\", \"imagine\", \"impressive\", \"individually\", \"insane\", \"instead\", \"interesting\", \"issue\", \"item\", \"joke\", \"juice\", \"kind\", \"know\", \"large\", \"last\", \"later\", \"leave\", \"lemon\", \"life\", \"like\", \"line\", \"liquid\", \"list\", \"little\", \"little\", \"long\", \"long\", \"long\", \"look\", \"look\", \"looking\", \"lot\", \"lot\", \"love\", \"love\", \"luckily\", \"mac_cheese\", \"macaron\", \"macaroon\", \"make\", \"make\", \"make\", \"many\", \"many\", \"marshmallow\", \"massive\", \"matter\", \"meat\", \"melt\", \"memory\", \"mess\", \"mind\", \"mini\", \"minute\", \"modern\", \"moment\", \"money\", \"money\", \"month\", \"mousse\", \"mouth\", \"move\", \"much\", \"much\", \"name\", \"never\", \"never\", \"never\", \"nicely\", \"night\", \"noodle\", \"noodle\", \"normally\", \"notice\", \"notice\", \"often\", \"ok\", \"omelet\", \"one\", \"option\", \"option\", \"outdate\", \"overall\", \"overcook\", \"pan\", \"part\", \"party\", \"pass\", \"past\", \"pay\", \"pay\", \"pay\", \"people\", \"people\", \"people\", \"people\", \"perfectly\", \"perfectly\", \"period\", \"person\", \"person\", \"pic\", \"piece\", \"pistachio\", \"place\", \"place\", \"place\", \"plane\", \"planning\", \"plate\", \"plate\", \"plate\", \"plenty\", \"portion\", \"portion\", \"pot\", \"prepare\", \"prepared\", \"pretty\", \"price\", \"price\", \"price\", \"pro\", \"pull\", \"pumpkin\", \"put\", \"quality\", \"quality\", \"quality\", \"quickly\", \"quite\", \"rarely\", \"ravioli\", \"really\", \"really\", \"recent\", \"recommend\", \"recommend\", \"refill\", \"remind\", \"review\", \"review\", \"rice\", \"rich\", \"rich\", \"row\", \"rude\", \"run\", \"run\", \"s\", \"salad\", \"salmon\", \"satisfy\", \"sauce\", \"sauce\", \"say\", \"say\", \"say\", \"scoop\", \"seafood\", \"seat\", \"section\", \"section\", \"see\", \"see\", \"selection\", \"selection\", \"serve\", \"serve\", \"server\", \"service\", \"several\", \"shrimp\", \"sick\", \"side\", \"simply\", \"sit\", \"sit\", \"sized\", \"sized\", \"slightly\", \"slow\", \"small\", \"small\", \"soft\", \"speak\", \"spill\", \"split\", \"spoon\", \"spot\", \"staff\", \"stand\", \"stand\", \"standout\", \"star\", \"station\", \"station\", \"steak\", \"step\", \"stock\", \"stuff\", \"subpar\", \"suggest\", \"surprised\", \"surprisingly\", \"sushi\", \"swear\", \"sweet\", \"table\", \"table\", \"taco\", \"talk\", \"taste\", \"taste\", \"tasteless\", \"tasty\", \"tax\", \"tell\", \"tell\", \"tell\", \"terrible\", \"thing\", \"thing\", \"think\", \"think\", \"think\", \"time\", \"time\", \"time\", \"time\", \"tiny\", \"tip\", \"tip\", \"tip\", \"toast\", \"today\", \"touch\", \"tough\", \"traditional\", \"trip\", \"try\", \"try\", \"try\", \"type\", \"unique\", \"unlimited\", \"use\", \"usually\", \"value\", \"variety\", \"variety\", \"vegetarian\", \"version\", \"vibe\", \"visit\", \"visit\", \"wait\", \"waited\", \"waitress\", \"want\", \"want\", \"want\", \"water\", \"week\", \"weekend\", \"weird\", \"well\", \"well\", \"white\", \"wicke\", \"wicked\", \"wicked_spoon\", \"win\", \"wine\", \"wine\", \"wing\", \"wish\", \"worth\", \"worth\", \"worth\", \"would\", \"would\", \"wrong\", \"yelp\"]}, \"R\": 30, \"lambda.step\": 0.01, \"plot.opts\": {\"xlab\": \"PC1\", \"ylab\": \"PC2\"}, \"topic.order\": [7, 2, 4, 5, 6, 10, 8, 9, 1, 3]};\n",
       "\n",
       "function LDAvis_load_lib(url, callback){\n",
       "  var s = document.createElement('script');\n",
       "  s.src = url;\n",
       "  s.async = true;\n",
       "  s.onreadystatechange = s.onload = callback;\n",
       "  s.onerror = function(){console.warn(\"failed to load library \" + url);};\n",
       "  document.getElementsByTagName(\"head\")[0].appendChild(s);\n",
       "}\n",
       "\n",
       "if(typeof(LDAvis) !== \"undefined\"){\n",
       "   // already loaded: just create the visualization\n",
       "   !function(LDAvis){\n",
       "       new LDAvis(\"#\" + \"ldavis_el5901125403432965587048982\", ldavis_el5901125403432965587048982_data);\n",
       "   }(LDAvis);\n",
       "}else if(typeof define === \"function\" && define.amd){\n",
       "   // require.js is available: use it to load d3/LDAvis\n",
       "   require.config({paths: {d3: \"https://cdnjs.cloudflare.com/ajax/libs/d3/3.5.5/d3.min\"}});\n",
       "   require([\"d3\"], function(d3){\n",
       "      window.d3 = d3;\n",
       "      LDAvis_load_lib(\"https://cdn.rawgit.com/bmabey/pyLDAvis/files/ldavis.v1.0.0.js\", function(){\n",
       "        new LDAvis(\"#\" + \"ldavis_el5901125403432965587048982\", ldavis_el5901125403432965587048982_data);\n",
       "      });\n",
       "    });\n",
       "}else{\n",
       "    // require.js not available: dynamically load d3 & LDAvis\n",
       "    LDAvis_load_lib(\"https://cdnjs.cloudflare.com/ajax/libs/d3/3.5.5/d3.min.js\", function(){\n",
       "         LDAvis_load_lib(\"https://cdn.rawgit.com/bmabey/pyLDAvis/files/ldavis.v1.0.0.js\", function(){\n",
       "                 new LDAvis(\"#\" + \"ldavis_el5901125403432965587048982\", ldavis_el5901125403432965587048982_data);\n",
       "            })\n",
       "         });\n",
       "}\n",
       "</script>"
      ],
      "text/plain": [
       "<IPython.core.display.HTML object>"
      ]
     },
     "execution_count": 36,
     "metadata": {},
     "output_type": "execute_result"
    }
   ],
   "source": [
    "### Visulization\n",
    "vis = pyLDAvis.gensim.prepare(lda_model, corpus, id2word)\n",
    "pyLDAvis.display(vis)"
   ]
  },
  {
   "cell_type": "markdown",
   "metadata": {},
   "source": [
    "## Resturant 2 (Gordon Ramsay BurGR)"
   ]
  },
  {
   "cell_type": "markdown",
   "metadata": {},
   "source": [
    "### Positive reviews: "
   ]
  },
  {
   "cell_type": "code",
   "execution_count": 37,
   "metadata": {},
   "outputs": [],
   "source": [
    "df_res_2 = data[(data[\"business_id\"] == \"cYwJA2A6I12KNkm2rtXd5g\")]"
   ]
  },
  {
   "cell_type": "code",
   "execution_count": 38,
   "metadata": {},
   "outputs": [
    {
     "name": "stdout",
     "output_type": "stream",
     "text": [
      "positive rating but represent negative sentiment: 0.18367713004484304\n",
      "negative rating but represent positive sentiment: 0.21255605381165918\n"
     ]
    }
   ],
   "source": [
    "print (\"positive rating but represent negative sentiment:\", \n",
    "       df_res_2[(df_res_2[\"actual_rate\"] == 1.0) & (df_res_2[\"prediction_rate\"] == 0.0)].shape[0] / df_res_2.shape[0])\n",
    "\n",
    "print (\"negative rating but represent positive sentiment:\", \n",
    "       df_res_2[(df_res_2[\"actual_rate\"] == 0.0) & (df_res_2[\"prediction_rate\"] == 1.0)].shape[0] / df_res_2.shape[0])"
   ]
  },
  {
   "cell_type": "code",
   "execution_count": 39,
   "metadata": {},
   "outputs": [
    {
     "name": "stdout",
     "output_type": "stream",
     "text": [
      "There are 4031 reviews selected\n"
     ]
    }
   ],
   "source": [
    "# Turn the data into a list \n",
    "df_res_2_p = df_res_2[df_res_2[\"prediction_rate\"] == 1.0]\n",
    "print (\"There are\", df_res_2_p.shape[0], \"reviews selected\")\n",
    "data_con = df_res_2_p[\"text\"]\n",
    "data_con_l = data_con.tolist()"
   ]
  },
  {
   "cell_type": "markdown",
   "metadata": {},
   "source": [
    "### Text Cleaning"
   ]
  },
  {
   "cell_type": "code",
   "execution_count": 40,
   "metadata": {},
   "outputs": [
    {
     "name": "stdout",
     "output_type": "stream",
     "text": [
      "['accessibility',\n",
      " 'parking',\n",
      " 'wait',\n",
      " 'time',\n",
      " 'star',\n",
      " 'no',\n",
      " 'wait',\n",
      " 'with',\n",
      " 'reservation',\n",
      " 'service',\n",
      " 'waiter',\n",
      " 'cleanness',\n",
      " 'ambiance',\n",
      " 'star',\n",
      " 'amazing',\n",
      " 'service',\n",
      " 'our',\n",
      " 'waiter',\n",
      " 'was',\n",
      " 'the',\n",
      " 'best',\n",
      " 'friendly',\n",
      " 'descriptive',\n",
      " 'helpful',\n",
      " 'taste',\n",
      " 'not',\n",
      " 'edible',\n",
      " 'edible',\n",
      " 'good',\n",
      " 'average',\n",
      " 'must',\n",
      " 'try',\n",
      " 'stars',\n",
      " 'best',\n",
      " 'shake',\n",
      " 'and',\n",
      " 'burgers',\n",
      " 've',\n",
      " 'ever',\n",
      " 'had',\n",
      " 'in',\n",
      " 'my',\n",
      " 'life',\n",
      " 'got',\n",
      " 'the',\n",
      " 'oreo',\n",
      " 'creme_brulee',\n",
      " 'shake',\n",
      " 'and',\n",
      " 'the',\n",
      " 'farm',\n",
      " 'burger',\n",
      " 'highly_recommended',\n",
      " 'overall',\n",
      " 'experience',\n",
      " 'stars',\n",
      " 'last',\n",
      " 'words',\n",
      " 'gordon',\n",
      " 'ramsay',\n",
      " 'you',\n",
      " 'have',\n",
      " 'new',\n",
      " 'fan']\n"
     ]
    }
   ],
   "source": [
    "# Remove distracting single quotes\n",
    "data_con_1 = [re.sub(\"\\'\", \"\", sent) for sent in data_con_l]\n",
    "\n",
    "data_words = list(sent_to_words(data_con_l))\n",
    "\n",
    "# Build the bigram and trigram models\n",
    "bigram = gensim.models.Phrases(data_words, min_count=5, threshold=100) # higher threshold fewer phrases.\n",
    "trigram = gensim.models.Phrases(bigram[data_words], threshold=100)  \n",
    "\n",
    "# Faster way to get a sentence clubbed as a trigram/bigram\n",
    "bigram_mod = gensim.models.phrases.Phraser(bigram)\n",
    "trigram_mod = gensim.models.phrases.Phraser(trigram)\n",
    "\n",
    "# See trigram example\n",
    "pprint(trigram_mod[bigram_mod[data_words[0]]])\n",
    "\n",
    "# Remove Stop Words\n",
    "data_words_nostops = remove_stopwords(data_words)\n",
    "\n",
    "# Form Bigrams\n",
    "data_words_bigrams = make_bigrams(data_words_nostops)\n",
    "\n",
    "# Initialize spacy 'en' model, keeping only tagger component (for efficiency)\n",
    "\n",
    "nlp = spacy.load('en', disable=['parser', 'ner'])\n",
    "\n",
    "# Do lemmatization keeping only noun, adj, vb, adv\n",
    "data_lemmatized = lemmatization(data_words_bigrams, allowed_postags=['NOUN', 'ADJ', 'VERB', 'ADV'])\n",
    "\n",
    "# pprint(data_lemmatized[:1])"
   ]
  },
  {
   "cell_type": "markdown",
   "metadata": {},
   "source": [
    "### Prepare data for LDA model"
   ]
  },
  {
   "cell_type": "code",
   "execution_count": 41,
   "metadata": {},
   "outputs": [
    {
     "name": "stdout",
     "output_type": "stream",
     "text": [
      "Total vocabulary in the corpus:  7912\n"
     ]
    }
   ],
   "source": [
    "vocab = np.asarray([item for sublist in data_lemmatized for item in sublist])\n",
    "vocab = np.unique(vocab)\n",
    "print (\"Total vocabulary in the corpus: \", len(vocab))"
   ]
  },
  {
   "cell_type": "code",
   "execution_count": 42,
   "metadata": {},
   "outputs": [],
   "source": [
    "vocab = sorted(list(vocab))\n",
    "vocab_index = {}\n",
    "for i, w in enumerate(vocab):\n",
    "    vocab_index[w] = i\n",
    "    \n",
    "new_corpus = []\n",
    "for doc in data_lemmatized:\n",
    "    new_doc = []\n",
    "    for word in doc:\n",
    "        word_idx = vocab_index[word]\n",
    "        new_doc.append(word_idx)\n",
    "    new_corpus.append(new_doc)"
   ]
  },
  {
   "cell_type": "code",
   "execution_count": 43,
   "metadata": {},
   "outputs": [],
   "source": [
    "# Create Dictionary\n",
    "id2word = gensim.corpora.Dictionary(data_lemmatized)\n",
    "\n",
    "# Create Corpus\n",
    "texts = data_lemmatized\n",
    "\n",
    "# Term Document Frequency\n",
    "corpus = [id2word.doc2bow(text) for text in texts]\n",
    "\n",
    "# View\n",
    "# pprint(corpus[:1])\n",
    "# [[(id2word[id], freq) for id, freq in cp] for cp in corpus[:1]]"
   ]
  },
  {
   "cell_type": "markdown",
   "metadata": {},
   "source": [
    "### Model tuning and building"
   ]
  },
  {
   "cell_type": "code",
   "execution_count": 44,
   "metadata": {},
   "outputs": [
    {
     "data": {
      "image/png": "[encoded data removed]",
      "text/plain": [
       "<Figure size 432x288 with 1 Axes>"
      ]
     },
     "metadata": {
      "needs_background": "light"
     },
     "output_type": "display_data"
    }
   ],
   "source": [
    "### This step will cost some time\n",
    "coherence_score = []\n",
    "for i in range(2,16):\n",
    "    lda_model = gensim.models.ldamodel.LdaModel(corpus=corpus,\n",
    "                                           id2word=id2word,\n",
    "                                           num_topics=i, \n",
    "                                           random_state=100,\n",
    "                                           update_every=1,\n",
    "                                           chunksize=100,\n",
    "                                           passes=10,\n",
    "                                           alpha='auto',\n",
    "                                           per_word_topics=True)\n",
    "    coherence_model_lda = gensim.models.coherencemodel.CoherenceModel(model=lda_model, texts=data_lemmatized, dictionary=id2word, coherence='c_v')\n",
    "    coherence_lda = coherence_model_lda.get_coherence()\n",
    "    coherence_score.append(coherence_lda)\n",
    "\n",
    "num_topic = [i for i in range(2,16)]\n",
    "\n",
    "plt.plot(num_topic, coherence_score)\n",
    "plt.xlabel(\"Num Topics\")\n",
    "plt.ylabel(\"Coherence score\")\n",
    "plt.show()"
   ]
  },
  {
   "cell_type": "code",
   "execution_count": 45,
   "metadata": {},
   "outputs": [
    {
     "name": "stdout",
     "output_type": "stream",
     "text": [
      "[(0,\n",
      "  '0.125*\"wing\" + 0.083*\"juicy\" + 0.045*\"possibly\" + 0.037*\"affordable\" + '\n",
      "  '0.026*\"negative\" + 0.025*\"vanilla\" + 0.023*\"similar\" + 0.022*\"fury_chicken\" '\n",
      "  '+ 0.021*\"deliciousness\" + 0.020*\"forever\"'),\n",
      " (1,\n",
      "  '0.044*\"food\" + 0.041*\"wait\" + 0.031*\"time\" + 0.022*\"table\" + 0.022*\"line\" + '\n",
      "  '0.021*\"go\" + 0.021*\"restaurant\" + 0.021*\"say\" + 0.018*\"service\" + '\n",
      "  '0.018*\"take\"'),\n",
      " (2,\n",
      "  '0.040*\"drink\" + 0.039*\"menu\" + 0.025*\"beer\" + 0.020*\"cool\" + 0.019*\"serve\" '\n",
      "  '+ 0.018*\"dessert\" + 0.016*\"fire\" + 0.012*\"let\" + 0.012*\"appetizer\" + '\n",
      "  '0.012*\"suggest\"'),\n",
      " (3,\n",
      "  '0.038*\"cheese\" + 0.031*\"medium\" + 0.030*\"egg\" + 0.029*\"perfectly\" + '\n",
      "  '0.022*\"popper\" + 0.018*\"flavor\" + 0.017*\"cook\" + 0.017*\"bacon\" + '\n",
      "  '0.017*\"bite\" + 0.015*\"thick\"'),\n",
      " (4,\n",
      "  '0.071*\"burger\" + 0.047*\"fry\" + 0.043*\"good\" + 0.026*\"order\" + 0.022*\"get\" + '\n",
      "  '0.021*\"come\" + 0.019*\"place\" + 0.019*\"try\" + 0.017*\"great\" + 0.015*\"also\"'),\n",
      " (5,\n",
      "  '0.064*\"ever\" + 0.031*\"excellent\" + 0.029*\"friendly\" + 0.025*\"awesome\" + '\n",
      "  '0.024*\"staff\" + 0.021*\"best\" + 0.020*\"lunch\" + 0.020*\"perfection\" + '\n",
      "  '0.020*\"must\" + 0.020*\"full\"'),\n",
      " (6,\n",
      "  '0.105*\"care\" + 0.082*\"dress\" + 0.047*\"suck\" + 0.040*\"rare\" + 0.035*\"avoid\" '\n",
      "  '+ 0.025*\"evening\" + 0.024*\"slider\" + 0.022*\"arugula\" + 0.021*\"comment\" + '\n",
      "  '0.019*\"hair\"'),\n",
      " (7,\n",
      "  '0.118*\"cocktail\" + 0.063*\"request\" + 0.056*\"surprisingly\" + 0.044*\"son\" + '\n",
      "  '0.044*\"chip\" + 0.040*\"crap\" + 0.039*\"satisfy\" + 0.021*\"catch\" + '\n",
      "  '0.011*\"confuse\" + 0.011*\"self\"'),\n",
      " (8,\n",
      "  '0.082*\"pass\" + 0.050*\"birthday\" + 0.041*\"door\" + 0.034*\"actual\" + '\n",
      "  '0.031*\"take_reservation\" + 0.026*\"detail\" + 0.025*\"daughter\" + '\n",
      "  '0.023*\"straight\" + 0.023*\"somewhere\" + 0.018*\"notify\"'),\n",
      " (9,\n",
      "  '0.100*\"usually\" + 0.055*\"modern\" + 0.049*\"throw\" + 0.036*\"base\" + '\n",
      "  '0.034*\"crowd\" + 0.034*\"sick\" + 0.028*\"basically\" + 0.026*\"sport\" + '\n",
      "  '0.025*\"skeptical\" + 0.021*\"complement\"'),\n",
      " (10,\n",
      "  '0.102*\"damn\" + 0.050*\"omg\" + 0.035*\"dirty\" + 0.027*\"loved\" + 0.011*\"melted\" '\n",
      "  '+ 0.000*\"prove\" + 0.000*\"natural\" + 0.000*\"overdo\" + 0.000*\"fie\" + '\n",
      "  '0.000*\"mmm\"'),\n",
      " (11,\n",
      "  '0.046*\"downside\" + 0.039*\"version\" + 0.000*\"overdo\" + 0.000*\"prove\" + '\n",
      "  '0.000*\"fangirl\" + 0.000*\"fie\" + 0.000*\"sliiiightly\" + 0.000*\"spiffed\" + '\n",
      "  '0.000*\"mmm\" + 0.000*\"production\"')]\n"
     ]
    }
   ],
   "source": [
    "### Build the model (Choose K = 12 here)\n",
    "\n",
    "lda_model = gensim.models.ldamodel.LdaModel(corpus=corpus,\n",
    "                                           id2word=id2word,\n",
    "                                           num_topics=12, \n",
    "                                           random_state=100,\n",
    "                                           update_every=1,\n",
    "                                           chunksize=100,\n",
    "                                           passes=10,\n",
    "                                           alpha='auto',\n",
    "                                           per_word_topics=True)\n",
    "\n",
    "pprint(lda_model.print_topics())\n",
    "doc_lda = lda_model[corpus]"
   ]
  },
  {
   "cell_type": "code",
   "execution_count": 46,
   "metadata": {},
   "outputs": [
    {
     "name": "stderr",
     "output_type": "stream",
     "text": [
      "/anaconda3/lib/python3.7/site-packages/pyLDAvis/_prepare.py:257: FutureWarning: Sorting because non-concatenation axis is not aligned. A future version\n",
      "of pandas will change to not sort by default.\n",
      "\n",
      "To accept the future behavior, pass 'sort=False'.\n",
      "\n",
      "To retain the current behavior and silence the warning, pass 'sort=True'.\n",
      "\n",
      "  return pd.concat([default_term_info] + list(topic_dfs))\n"
     ]
    },
    {
     "data": {
      "text/html": [
       "\n",
       "<link rel=\"stylesheet\" type=\"text/css\" href=\"https://cdn.rawgit.com/bmabey/pyLDAvis/files/ldavis.v1.0.0.css\">\n",
       "\n",
       "\n",
       "<div id=\"ldavis_el5901125403422168853965231\"></div>\n",
       "<script type=\"text/javascript\">\n",
       "\n",
       "var ldavis_el5901125403422168853965231_data = {\"mdsDat\": {\"x\": [-0.34067268587918736, -0.3313877177257078, -0.1473772258410016, -0.17883787045746502, -0.11402847058944393, 0.1431284601866233, 0.15289650703050056, 0.15711435449823782, 0.16016792018203768, 0.16440423574060517, 0.16736855932116995, 0.1672239335336311], \"y\": [0.09686999494538757, 0.19668604159798947, -0.12205548461077546, -0.006497686601821461, -0.3850715796336155, 0.025779800582449754, 0.029742911240978467, 0.031233147279682637, 0.03223289327489138, 0.03341173732177923, 0.033921072308685934, 0.03374715229436739], \"topics\": [1, 2, 3, 4, 5, 6, 7, 8, 9, 10, 11, 12], \"cluster\": [1, 1, 1, 1, 1, 1, 1, 1, 1, 1, 1, 1], \"Freq\": [50.78582000732422, 27.166059494018555, 7.148613929748535, 6.876199722290039, 5.694950580596924, 0.5762177109718323, 0.48687583208084106, 0.44738849997520447, 0.34830501675605774, 0.32285940647125244, 0.10970430076122284, 0.03700452297925949]}, \"tinfo\": {\"Category\": [\"Default\", \"Default\", \"Default\", \"Default\", \"Default\", \"Default\", \"Default\", \"Default\", \"Default\", \"Default\", \"Default\", \"Default\", \"Default\", \"Default\", \"Default\", \"Default\", \"Default\", \"Default\", \"Default\", \"Default\", \"Default\", \"Default\", \"Default\", \"Default\", \"Default\", \"Default\", \"Default\", \"Default\", \"Default\", \"Default\", \"Topic1\", \"Topic1\", \"Topic1\", \"Topic1\", \"Topic1\", \"Topic1\", \"Topic1\", \"Topic1\", \"Topic1\", \"Topic1\", \"Topic1\", \"Topic1\", \"Topic1\", \"Topic1\", \"Topic1\", \"Topic1\", \"Topic1\", \"Topic1\", \"Topic1\", \"Topic1\", \"Topic1\", \"Topic1\", \"Topic1\", \"Topic1\", \"Topic1\", \"Topic1\", \"Topic1\", \"Topic1\", \"Topic1\", \"Topic1\", \"Topic1\", \"Topic1\", \"Topic1\", \"Topic1\", \"Topic1\", \"Topic1\", \"Topic1\", \"Topic1\", \"Topic1\", \"Topic1\", \"Topic1\", \"Topic1\", \"Topic1\", \"Topic1\", \"Topic1\", \"Topic1\", \"Topic1\", \"Topic1\", \"Topic1\", \"Topic2\", \"Topic2\", \"Topic2\", \"Topic2\", \"Topic2\", \"Topic2\", \"Topic2\", \"Topic2\", \"Topic2\", \"Topic2\", \"Topic2\", \"Topic2\", \"Topic2\", \"Topic2\", \"Topic2\", \"Topic2\", \"Topic2\", \"Topic2\", \"Topic2\", \"Topic2\", \"Topic2\", \"Topic2\", \"Topic2\", \"Topic2\", \"Topic2\", \"Topic2\", \"Topic2\", \"Topic2\", \"Topic2\", \"Topic2\", \"Topic2\", \"Topic2\", \"Topic2\", \"Topic2\", \"Topic2\", \"Topic2\", \"Topic2\", \"Topic2\", \"Topic2\", \"Topic2\", \"Topic2\", \"Topic2\", \"Topic2\", \"Topic2\", \"Topic2\", \"Topic2\", \"Topic2\", \"Topic2\", \"Topic2\", \"Topic2\", \"Topic3\", \"Topic3\", \"Topic3\", \"Topic3\", \"Topic3\", \"Topic3\", \"Topic3\", \"Topic3\", \"Topic3\", \"Topic3\", \"Topic3\", \"Topic3\", \"Topic3\", \"Topic3\", \"Topic3\", \"Topic3\", \"Topic3\", \"Topic3\", \"Topic3\", \"Topic3\", \"Topic3\", \"Topic3\", \"Topic3\", \"Topic3\", \"Topic3\", \"Topic3\", \"Topic3\", \"Topic3\", \"Topic3\", \"Topic3\", \"Topic3\", \"Topic3\", \"Topic3\", \"Topic3\", \"Topic3\", \"Topic3\", \"Topic3\", \"Topic3\", \"Topic3\", \"Topic3\", \"Topic3\", \"Topic3\", \"Topic3\", \"Topic4\", \"Topic4\", \"Topic4\", \"Topic4\", \"Topic4\", \"Topic4\", \"Topic4\", \"Topic4\", \"Topic4\", \"Topic4\", \"Topic4\", \"Topic4\", \"Topic4\", \"Topic4\", \"Topic4\", \"Topic4\", \"Topic4\", \"Topic4\", \"Topic4\", \"Topic4\", \"Topic4\", \"Topic4\", \"Topic4\", \"Topic4\", \"Topic4\", \"Topic4\", \"Topic4\", \"Topic4\", \"Topic4\", \"Topic4\", \"Topic4\", \"Topic4\", \"Topic4\", \"Topic4\", \"Topic4\", \"Topic4\", \"Topic4\", \"Topic4\", \"Topic4\", \"Topic4\", \"Topic4\", \"Topic4\", \"Topic4\", \"Topic5\", \"Topic5\", \"Topic5\", \"Topic5\", \"Topic5\", \"Topic5\", \"Topic5\", \"Topic5\", \"Topic5\", \"Topic5\", \"Topic5\", \"Topic5\", \"Topic5\", \"Topic5\", \"Topic5\", \"Topic5\", \"Topic5\", \"Topic5\", \"Topic5\", \"Topic5\", \"Topic5\", \"Topic5\", \"Topic5\", \"Topic5\", \"Topic5\", \"Topic5\", \"Topic5\", \"Topic5\", \"Topic5\", \"Topic5\", \"Topic5\", \"Topic5\", \"Topic5\", \"Topic5\", \"Topic5\", \"Topic5\", \"Topic5\", \"Topic5\", \"Topic5\", \"Topic5\", \"Topic5\", \"Topic6\", \"Topic6\", \"Topic6\", \"Topic6\", \"Topic6\", \"Topic6\", \"Topic6\", \"Topic6\", \"Topic6\", \"Topic6\", \"Topic6\", \"Topic6\", \"Topic6\", \"Topic6\", \"Topic6\", \"Topic6\", \"Topic6\", \"Topic6\", \"Topic6\", \"Topic6\", \"Topic6\", \"Topic6\", \"Topic6\", \"Topic6\", \"Topic6\", \"Topic6\", \"Topic6\", \"Topic6\", \"Topic6\", \"Topic6\", \"Topic7\", \"Topic7\", \"Topic7\", \"Topic7\", \"Topic7\", \"Topic7\", \"Topic7\", \"Topic7\", \"Topic7\", \"Topic7\", \"Topic7\", \"Topic7\", \"Topic7\", \"Topic7\", \"Topic7\", \"Topic7\", \"Topic7\", \"Topic7\", \"Topic7\", \"Topic7\", \"Topic7\", \"Topic7\", \"Topic7\", \"Topic7\", \"Topic7\", \"Topic7\", \"Topic7\", \"Topic7\", \"Topic7\", \"Topic7\", \"Topic7\", \"Topic7\", \"Topic7\", \"Topic7\", \"Topic7\", \"Topic7\", \"Topic7\", \"Topic8\", \"Topic8\", \"Topic8\", \"Topic8\", \"Topic8\", \"Topic8\", \"Topic8\", \"Topic8\", \"Topic8\", \"Topic8\", \"Topic8\", \"Topic8\", \"Topic8\", \"Topic8\", \"Topic8\", \"Topic8\", \"Topic8\", \"Topic8\", \"Topic8\", \"Topic8\", \"Topic8\", \"Topic8\", \"Topic8\", \"Topic8\", \"Topic8\", \"Topic8\", \"Topic8\", \"Topic8\", \"Topic8\", \"Topic8\", \"Topic8\", \"Topic8\", \"Topic8\", \"Topic8\", \"Topic9\", \"Topic9\", \"Topic9\", \"Topic9\", \"Topic9\", \"Topic9\", \"Topic9\", \"Topic9\", \"Topic9\", \"Topic9\", \"Topic9\", \"Topic9\", \"Topic9\", \"Topic9\", \"Topic9\", \"Topic9\", \"Topic9\", \"Topic9\", \"Topic9\", \"Topic9\", \"Topic9\", \"Topic9\", \"Topic9\", \"Topic9\", \"Topic9\", \"Topic9\", \"Topic9\", \"Topic9\", \"Topic9\", \"Topic9\", \"Topic9\", \"Topic9\", \"Topic9\", \"Topic9\", \"Topic10\", \"Topic10\", \"Topic10\", \"Topic10\", \"Topic10\", \"Topic10\", \"Topic10\", \"Topic10\", \"Topic10\", \"Topic10\", \"Topic10\", \"Topic10\", \"Topic10\", \"Topic10\", \"Topic10\", \"Topic10\", \"Topic10\", \"Topic10\", \"Topic10\", \"Topic10\", \"Topic10\", \"Topic10\", \"Topic10\", \"Topic10\", \"Topic10\", \"Topic10\", \"Topic10\", \"Topic10\", \"Topic10\", \"Topic10\", \"Topic10\", \"Topic10\", \"Topic10\", \"Topic10\", \"Topic10\", \"Topic11\", \"Topic11\", \"Topic11\", \"Topic11\", \"Topic11\", \"Topic11\", \"Topic11\", \"Topic11\", \"Topic11\", \"Topic11\", \"Topic11\", \"Topic11\", \"Topic11\", \"Topic11\", \"Topic11\", \"Topic11\", \"Topic11\", \"Topic11\", \"Topic11\", \"Topic11\", \"Topic11\", \"Topic11\", \"Topic11\", \"Topic11\", \"Topic11\", \"Topic11\", \"Topic11\", \"Topic11\", \"Topic11\", \"Topic11\", \"Topic11\", \"Topic11\", \"Topic11\", \"Topic11\", \"Topic11\", \"Topic11\", \"Topic11\", \"Topic11\", \"Topic11\", \"Topic11\", \"Topic11\", \"Topic11\", \"Topic11\", \"Topic11\", \"Topic12\", \"Topic12\", \"Topic12\", \"Topic12\", \"Topic12\", \"Topic12\", \"Topic12\", \"Topic12\", \"Topic12\", \"Topic12\", \"Topic12\", \"Topic12\", \"Topic12\", \"Topic12\", \"Topic12\", \"Topic12\", \"Topic12\", \"Topic12\", \"Topic12\", \"Topic12\", \"Topic12\", \"Topic12\", \"Topic12\", \"Topic12\", \"Topic12\", \"Topic12\", \"Topic12\", \"Topic12\", \"Topic12\", \"Topic12\", \"Topic12\", \"Topic12\", \"Topic12\", \"Topic12\", \"Topic12\", \"Topic12\", \"Topic12\", \"Topic12\", \"Topic12\", \"Topic12\", \"Topic12\", \"Topic12\"], \"Freq\": [7926.0, 5196.0, 2701.0, 4794.0, 2419.0, 983.0, 1864.0, 650.0, 1291.0, 1092.0, 1321.0, 617.0, 949.0, 1087.0, 628.0, 1371.0, 1076.0, 468.0, 2063.0, 463.0, 437.0, 518.0, 895.0, 1637.0, 387.0, 1643.0, 551.0, 367.0, 3195.0, 1582.0, 5196.13232421875, 1642.774169921875, 1581.7325439453125, 1299.373046875, 1198.7119140625, 1085.31982421875, 1232.3397216796875, 950.2235107421875, 905.5439453125, 882.4486694335938, 861.8758544921875, 811.4046630859375, 675.6424560546875, 666.916748046875, 7918.3984375, 549.564697265625, 484.3177185058594, 441.04425048828125, 436.93743896484375, 427.1243896484375, 412.9456481933594, 397.39910888671875, 397.40716552734375, 393.3460388183594, 394.3068542480469, 367.3406677246094, 362.2316589355469, 358.54742431640625, 4786.1796875, 334.6885986328125, 2055.839599609375, 1424.4439697265625, 810.9146728515625, 777.9523315429688, 1930.9404296875, 1062.462158203125, 713.079345703125, 729.5067749023438, 2914.921630859375, 2069.62841796875, 606.1627197265625, 2345.037109375, 2471.479736328125, 1519.2025146484375, 874.7611694335938, 990.4547729492188, 1307.595458984375, 809.6090087890625, 784.2705078125, 1075.9107666015625, 894.9920654296875, 1290.9556884765625, 806.566650390625, 690.25537109375, 666.828369140625, 592.54248046875, 545.7727661132812, 517.8395385742188, 503.13958740234375, 473.46038818359375, 435.62945556640625, 386.69671630859375, 368.8291320800781, 349.2501525878906, 348.5087585449219, 344.13189697265625, 327.5953063964844, 1860.530517578125, 312.104248046875, 285.46795654296875, 271.684326171875, 263.2976989746094, 255.3502197265625, 242.89254760742188, 230.0247802734375, 210.7340087890625, 215.72012329101562, 199.7114715576172, 198.63470458984375, 2410.266357421875, 1315.114990234375, 817.312744140625, 2581.3203125, 665.012451171875, 751.4323120117188, 371.8377380371094, 1215.1080322265625, 1264.015869140625, 409.8858642578125, 1080.045166015625, 643.7416381835938, 1267.8070068359375, 562.3870239257812, 494.64544677734375, 575.0419921875, 586.8467407226562, 690.5772094726562, 524.4198608398438, 571.2237548828125, 391.7381896972656, 282.4632263183594, 247.9155731201172, 182.96339416503906, 178.71755981445312, 172.77566528320312, 172.03158569335938, 169.9718017578125, 162.42596435546875, 159.41375732421875, 148.73257446289062, 145.16188049316406, 144.98321533203125, 135.11045837402344, 134.2964630126953, 133.89413452148438, 127.99459075927734, 121.38530731201172, 117.52819061279297, 117.1064224243164, 113.60567474365234, 113.30758666992188, 111.74476623535156, 102.8099136352539, 102.40525817871094, 98.967529296875, 94.82686614990234, 94.2594223022461, 93.72896575927734, 93.60324096679688, 608.7269287109375, 626.0877685546875, 189.8475799560547, 316.9058837890625, 110.70022583007812, 293.9223327636719, 124.9526596069336, 150.60313415527344, 141.61813354492188, 159.10565185546875, 194.54518127441406, 179.45089721679688, 129.43850708007812, 462.3464660644531, 436.9254150390625, 317.3779602050781, 300.8863220214844, 295.4485168457031, 204.35971069335938, 187.79840087890625, 182.4178009033203, 158.67852783203125, 157.8257598876953, 155.21315002441406, 150.4530487060547, 148.69606018066406, 141.91940307617188, 139.53469848632812, 131.99742126464844, 129.6767120361328, 125.32003021240234, 119.67167663574219, 119.49434661865234, 114.66744995117188, 113.81880950927734, 113.40240478515625, 106.94855499267578, 101.93085479736328, 101.41828918457031, 101.14952850341797, 96.86688995361328, 95.3308334350586, 92.72298431396484, 964.41552734375, 209.5423583984375, 154.021728515625, 370.5984802246094, 306.370849609375, 163.2498779296875, 209.0576934814453, 298.83575439453125, 124.65895080566406, 363.4826965332031, 264.0257263183594, 132.85281372070312, 129.5989227294922, 467.9326477050781, 387.0923156738281, 366.602783203125, 267.80706787109375, 189.3550262451172, 165.29025268554688, 157.98829650878906, 156.40069580078125, 155.19039916992188, 140.4089813232422, 133.11741638183594, 125.17991638183594, 123.02448272705078, 119.46623229980469, 117.20743560791016, 115.67729949951172, 114.1263198852539, 112.27851104736328, 111.96549224853516, 111.70232391357422, 100.86365509033203, 100.18706512451172, 99.7525405883789, 96.42479705810547, 92.2101821899414, 91.38536071777344, 90.91410827636719, 90.5604248046875, 90.52574920654297, 86.86375427246094, 191.77468872070312, 177.7667694091797, 189.0936279296875, 356.7699279785156, 209.61033630371094, 208.86773681640625, 178.7357940673828, 218.19784545898438, 174.8082733154297, 214.4261474609375, 138.1363067626953, 156.53810119628906, 103.7819595336914, 56.8558464050293, 47.00226593017578, 33.2310905456543, 31.752281188964844, 28.905345916748047, 27.254194259643555, 26.23818016052246, 25.310787200927734, 24.884578704833984, 24.831584930419922, 23.45849609375, 23.110074996948242, 15.11103630065918, 14.995905876159668, 14.840325355529785, 14.670370101928711, 14.359310150146484, 14.160106658935547, 13.779749870300293, 12.059423446655273, 9.6632080078125, 7.9571533203125, 7.509213447570801, 6.536381244659424, 6.107548236846924, 3.719733238220215, 2.8095903396606445, 2.700392246246338, 106.02826690673828, 58.18294143676758, 51.71569061279297, 38.25234603881836, 36.279991149902344, 36.25997543334961, 30.252824783325195, 27.23846435546875, 26.1215763092041, 22.282188415527344, 22.260400772094727, 21.236650466918945, 20.358957290649414, 17.769948959350586, 15.303301811218262, 14.637920379638672, 14.313098907470703, 10.386171340942383, 8.264530181884766, 7.206378936767578, 6.859032154083252, 6.453197479248047, 5.011490345001221, 1.7369201183319092, 0.9730324149131775, 0.06146764010190964, 0.05993393063545227, 0.05951831862330437, 0.059517696499824524, 0.05974140018224716, 0.060232795774936676, 0.0617561936378479, 0.06027257815003395, 0.06062228977680206, 0.06130452826619148, 0.06169339269399643, 0.060772061347961426, 102.73934173583984, 80.17316436767578, 45.634822845458984, 39.10993957519531, 34.32682800292969, 24.276838302612305, 23.482545852661133, 21.332983016967773, 20.273855209350586, 19.02653694152832, 18.465517044067383, 14.228461265563965, 12.908617973327637, 10.211908340454102, 9.806199073791504, 9.611480712890625, 9.47884750366211, 6.853787899017334, 6.018572807312012, 5.038805961608887, 2.8772780895233154, 1.7395637035369873, 0.46166807413101196, 0.42580437660217285, 0.060896582901477814, 0.0609167106449604, 0.06005501002073288, 0.059523772448301315, 0.05952385440468788, 0.059744030237197876, 0.0611683651804924, 0.061360687017440796, 0.06162029877305031, 0.06102779880166054, 90.0219497680664, 47.827857971191406, 42.348236083984375, 33.337799072265625, 33.242794036865234, 30.540254592895508, 29.682401657104492, 16.14857292175293, 8.199027061462402, 8.188882827758789, 7.298810958862305, 6.92667293548584, 6.800604343414307, 3.744142770767212, 3.3150434494018555, 2.3484652042388916, 2.0509684085845947, 0.05272473022341728, 0.052435342222452164, 0.05251440778374672, 0.052401840686798096, 0.0527387373149395, 0.05240289866924286, 0.051234811544418335, 0.05196089297533035, 0.05105802044272423, 0.05012132599949837, 0.050448473542928696, 0.051071327179670334, 0.050662171095609665, 0.0510169118642807, 0.05299963429570198, 0.051449667662382126, 0.051707908511161804, 58.08009338378906, 34.9655647277832, 28.564823150634766, 23.73964500427246, 21.65285301208496, 18.53432273864746, 17.942277908325195, 16.25067901611328, 16.062475204467773, 12.327460289001465, 11.055327415466309, 10.810262680053711, 6.632869243621826, 5.195682048797607, 4.73913049697876, 4.667862415313721, 1.898471713066101, 0.05469028651714325, 0.054472558200359344, 0.054273661226034164, 0.05379921570420265, 0.05466161295771599, 0.05361875519156456, 0.054015155881643295, 0.05349452421069145, 0.0533331073820591, 0.053337156772613525, 0.05392741411924362, 0.053200092166662216, 0.0532105527818203, 0.05355743318796158, 0.05401642993092537, 0.0546700581908226, 0.05394861474633217, 0.05379834398627281, 24.528263092041016, 11.948319435119629, 8.425769805908203, 6.419576168060303, 2.6726529598236084, 0.02388116903603077, 0.023771004751324654, 0.023894790560007095, 0.02426452562212944, 0.02426452562212944, 0.02426452562212944, 0.02426452562212944, 0.02426452562212944, 0.02426452562212944, 0.02426452562212944, 0.024264521896839142, 0.023883966729044914, 0.024264514446258545, 0.024264510720968246, 0.02382764033973217, 0.024299653246998787, 0.023751085624098778, 0.023718494921922684, 0.023657016456127167, 0.023657016456127167, 0.023657016456127167, 0.023751065135002136, 0.023657016456127167, 0.023657014593482018, 0.02365701273083687, 0.023770978674292564, 0.024440588429570198, 0.023883886635303497, 0.02373102493584156, 0.023753687739372253, 0.02373102493584156, 0.024434059858322144, 0.024264266714453697, 0.023814551532268524, 0.023844962939620018, 0.02389882318675518, 0.02381006069481373, 0.02378314733505249, 0.023772897198796272, 3.6909680366516113, 3.185093641281128, 0.009548391215503216, 0.009716425091028214, 0.009716425091028214, 0.009716425091028214, 0.009716425091028214, 0.009716425091028214, 0.009716425091028214, 0.009716425091028214, 0.009716425091028214, 0.009716421365737915, 0.009716421365737915, 0.009722882881760597, 0.009550962597131729, 0.00946095958352089, 0.00946095958352089, 0.009460958652198315, 0.0094916308298707, 0.009460956789553165, 0.009404187090694904, 0.009427765384316444, 0.009427765384316444, 0.009427765384316444, 0.009427765384316444, 0.009408753365278244, 0.009408753365278244, 0.009408753365278244, 0.009389184415340424, 0.009395780973136425, 0.009717029519379139, 0.009437181986868382, 0.009716308675706387, 0.009418653324246407, 0.009716253727674484, 0.009437176398932934, 0.009437167085707188, 0.009548240341246128, 0.009460922330617905, 0.009437181986868382, 0.00946095958352089, 0.009438833221793175], \"Term\": [\"burger\", \"fry\", \"food\", \"good\", \"wait\", \"ever\", \"time\", \"drink\", \"line\", \"cook\", \"table\", \"menu\", \"flavor\", \"amazing\", \"perfectly\", \"say\", \"take\", \"cheese\", \"try\", \"excellent\", \"friendly\", \"staff\", \"long\", \"restaurant\", \"medium\", \"also\", \"meat\", \"egg\", \"order\", \"really\", \"fry\", \"also\", \"really\", \"truffle\", \"shake\", \"love\", \"taste\", \"definitely\", \"price\", \"farm\", \"pretty\", \"much\", \"bit\", \"overall\", \"burger\", \"delicious\", \"share\", \"probably\", \"tasty\", \"enough\", \"like\", \"quality\", \"lot\", \"spicy\", \"recommend\", \"huge\", \"high\", \"sweet\", \"good\", \"fan\", \"try\", \"well\", \"worth\", \"little\", \"great\", \"think\", \"expect\", \"nice\", \"order\", \"place\", \"top\", \"come\", \"get\", \"would\", \"cook\", \"eat\", \"go\", \"amazing\", \"make\", \"take\", \"long\", \"line\", \"seat\", \"minute\", \"ask\", \"bar\", \"tell\", \"sit\", \"waitress\", \"check\", \"hour\", \"always\", \"hostess\", \"walk\", \"arrive\", \"show\", \"night\", \"time\", \"ready\", \"dinner\", \"busy\", \"party\", \"work\", \"stand\", \"manager\", \"text\", \"finally\", \"guy\", \"second\", \"wait\", \"table\", \"server\", \"food\", \"see\", \"first\", \"waiter\", \"say\", \"restaurant\", \"open\", \"service\", \"look\", \"go\", \"know\", \"people\", \"give\", \"experience\", \"make\", \"back\", \"get\", \"beer\", \"dessert\", \"fire\", \"suggest\", \"water\", \"quickly\", \"ipad\", \"ring\", \"stuff\", \"plate\", \"offer\", \"glass\", \"wonderful\", \"dine\", \"tv\", \"job\", \"fun\", \"run\", \"cold\", \"disappointed\", \"greet\", \"main\", \"selection\", \"flame\", \"entrance\", \"cheddar\", \"clean\", \"kid\", \"wall\", \"maui_onion\", \"menu\", \"drink\", \"appetizer\", \"cool\", \"read\", \"serve\", \"room\", \"casino\", \"dining\", \"hard\", \"let\", \"leave\", \"right\", \"excellent\", \"friendly\", \"best\", \"perfection\", \"full\", \"atmosphere\", \"life\", \"attentive\", \"choose\", \"happy\", \"hand\", \"course\", \"fine\", \"highly_recommend\", \"boyfriend\", \"simple\", \"fish\", \"flavorful\", \"helpful\", \"reasonable\", \"provide\", \"incredible\", \"plenty\", \"new\", \"pm\", \"beautiful\", \"sandwich\", \"outstanding\", \"stomach\", \"touch\", \"ever\", \"stop\", \"choice\", \"awesome\", \"lunch\", \"spend\", \"disappoint\", \"must\", \"extremely\", \"staff\", \"amazing\", \"stay\", \"eat\", \"cheese\", \"medium\", \"egg\", \"popper\", \"chicken\", \"onion\", \"grill\", \"blue\", \"soft\", \"jalapeno\", \"pepper\", \"pink\", \"old\", \"salt\", \"bread\", \"dip\", \"bartender\", \"roast\", \"yolk\", \"salad\", \"mouth\", \"pork_belly\", \"style\", \"potato\", \"haha\", \"texture\", \"tomato\", \"apple\", \"wood\", \"solid\", \"thick\", \"season\", \"cut\", \"perfectly\", \"bacon\", \"bite\", \"sauce\", \"flavor\", \"meat\", \"cook\", \"add\", \"wing\", \"juicy\", \"possibly\", \"affordable\", \"negative\", \"vanilla\", \"similar\", \"fury_chicken\", \"deliciousness\", \"forever\", \"element\", \"duck\", \"be\", \"match\", \"gamble\", \"pricy\", \"left\", \"have\", \"sweet_potato\", \"specialty\", \"crumble\", \"beer_selection\", \"strange\", \"category\", \"infuse\", \"accept\", \"amaze\", \"sweat\", \"limp\", \"greatly\", \"usually\", \"modern\", \"throw\", \"base\", \"crowd\", \"sick\", \"basically\", \"sport\", \"skeptical\", \"complement\", \"curry_ketchup\", \"nearly\", \"mostly\", \"technology\", \"highly_recommende\", \"fly\", \"please\", \"mainly\", \"chewy\", \"parking\", \"exception\", \"vegas\", \"bank\", \"gift\", \"severely\", \"hipe\", \"fight\", \"queasy\", \"following\", \"depth\", \"jalapeno_popper\", \"crust\", \"remembered\", \"debate\", \"natural\", \"feeling\", \"friday_night\", \"care\", \"dress\", \"suck\", \"rare\", \"avoid\", \"evening\", \"slider\", \"arugula\", \"comment\", \"hair\", \"woman\", \"male\", \"third\", \"luck\", \"train\", \"blah\", \"convenient\", \"vacation\", \"garbage\", \"exceptionally\", \"outfits\", \"overlooking\", \"cater\", \"din\", \"expo\", \"clearing\", \"lap\", \"assertive\", \"resto\", \"concert\", \"hazelnut\", \"blonde\", \"fake\", \"bore\", \"cocktail\", \"request\", \"surprisingly\", \"son\", \"chip\", \"crap\", \"satisfy\", \"catch\", \"confuse\", \"self\", \"container\", \"oily\", \"effort\", \"english\", \"working\", \"golden\", \"aoli\", \"responsive\", \"college\", \"channel\", \"tangerine\", \"importantly\", \"mint\", \"borderline\", \"freakin\", \"portion_size\", \"crunchie\", \"reasonably\", \"prep\", \"parade\", \"crisps\", \"football\", \"proper\", \"insanely\", \"pass\", \"birthday\", \"door\", \"actual\", \"take_reservation\", \"detail\", \"daughter\", \"straight\", \"somewhere\", \"notify\", \"shave\", \"celebrate\", \"undercooke\", \"crew\", \"initial\", \"jean\", \"shift\", \"model\", \"candle\", \"sing\", \"fiction\", \"browse\", \"weather\", \"accountable\", \"lil\", \"dozen\", \"stranger\", \"car\", \"familie\", \"surrounding\", \"expo\", \"cloth\", \"blonde\", \"smoothly\", \"comparison\", \"damn\", \"omg\", \"dirty\", \"loved\", \"melted\", \"mystify\", \"withdrawal\", \"overpowering\", \"spiffed\", \"transplant\", \"fie\", \"sliiiightly\", \"production\", \"mmm\", \"fangirl\", \"bullshit\", \"lap\", \"crime\", \"essential\", \"fiction\", \"overdo\", \"intake\", \"nut\", \"congealing\", \"drier\", \"fluid\", \"caloric\", \"yellowish\", \"futuristic\", \"impossibly\", \"entire_life\", \"prove\", \"clearing\", \"compensate\", \"failure\", \"moved_quickly\", \"natural\", \"fake\", \"cucumber\", \"selfie\", \"bore\", \"palate\", \"lackluster\", \"represent\", \"downside\", \"version\", \"mill\", \"fangirl\", \"spiffed\", \"transplant\", \"fie\", \"mmm\", \"sliiiightly\", \"production\", \"bullshit\", \"crime\", \"essential\", \"overdo\", \"price_tag\", \"stamp\", \"oft\", \"modify\", \"reference\", \"remark\", \"auntie\", \"uuhum\", \"streak\", \"nap\", \"island\", \"guessed\", \"rump\", \"buttcheek\", \"deafening\", \"sanding\", \"prove\", \"sweetie\", \"fake\", \"adventure\", \"natural\", \"remade\", \"dumb\", \"needless\", \"image\", \"nonsense\", \"overseas\", \"feed\"], \"Total\": [7926.0, 5196.0, 2701.0, 4794.0, 2419.0, 983.0, 1864.0, 650.0, 1291.0, 1092.0, 1321.0, 617.0, 949.0, 1087.0, 628.0, 1371.0, 1076.0, 468.0, 2063.0, 463.0, 437.0, 518.0, 895.0, 1637.0, 387.0, 1643.0, 551.0, 367.0, 3195.0, 1582.0, 5196.78369140625, 1643.4249267578125, 1582.384033203125, 1300.0235595703125, 1199.3624267578125, 1085.9703369140625, 1233.081298828125, 950.8806762695312, 906.1944580078125, 883.0991821289062, 862.5265502929688, 812.05517578125, 676.29296875, 667.5673217773438, 7926.72900390625, 550.2650756835938, 484.96826171875, 441.69482421875, 437.5880126953125, 427.77496337890625, 413.5962219238281, 398.0496826171875, 398.0577392578125, 393.9966125488281, 394.9648132324219, 367.9912414550781, 362.8822326660156, 359.1979675292969, 4794.96826171875, 335.33978271484375, 2063.11181640625, 1434.00390625, 819.4677734375, 790.1297607421875, 2022.1431884765625, 1094.21875, 728.4816284179688, 747.0380249023438, 3195.263671875, 2270.39697265625, 624.4124145507812, 2786.214599609375, 3044.067626953125, 1853.8995361328125, 1092.343017578125, 1369.364990234375, 2579.736572265625, 1087.63134765625, 1548.1839599609375, 1076.6058349609375, 895.6428833007812, 1291.942626953125, 807.2174682617188, 690.9061889648438, 667.4791870117188, 593.193359375, 546.423583984375, 518.4903564453125, 503.7904357910156, 474.1112365722656, 436.2803039550781, 387.3475646972656, 369.47998046875, 349.9010314941406, 349.15960693359375, 344.78277587890625, 328.24615478515625, 1864.2943115234375, 312.7550964355469, 286.1188049316406, 272.3351745605469, 263.94854736328125, 256.00103759765625, 243.5433807373047, 230.6756134033203, 211.3848419189453, 216.42236328125, 200.36231994628906, 199.28553771972656, 2419.2236328125, 1321.163330078125, 833.0906372070312, 2701.947265625, 677.9044189453125, 805.0072021484375, 381.8799133300781, 1371.2698974609375, 1637.2366943359375, 443.0637512207031, 1677.1923828125, 832.9676513671875, 2579.736572265625, 790.760009765625, 641.5616455078125, 922.9478149414062, 997.7664184570312, 1548.1839599609375, 1242.958251953125, 3044.067626953125, 392.3913269042969, 283.1163635253906, 248.5687255859375, 183.6165313720703, 179.37069702148438, 173.42881774902344, 172.68470764160156, 170.6249237060547, 163.0791015625, 160.06687927246094, 149.38571166992188, 145.81500244140625, 145.63636779785156, 135.76361083984375, 134.94960021972656, 134.54725646972656, 128.64772033691406, 122.03843688964844, 118.18131256103516, 117.75955200195312, 114.25880432128906, 113.96455383300781, 112.39788818359375, 103.4630355834961, 103.05838775634766, 99.62065887451172, 95.47999572753906, 94.91254425048828, 94.38209533691406, 94.2563705444336, 617.9540405273438, 650.85107421875, 195.12887573242188, 337.60430908203125, 114.12709045410156, 391.119384765625, 133.0688018798828, 174.01829528808594, 162.00250244140625, 226.14305114746094, 422.2088623046875, 392.5303955078125, 593.4945068359375, 463.0018615722656, 437.580810546875, 318.0333251953125, 301.541748046875, 296.2864685058594, 205.01512145996094, 188.4538116455078, 183.07321166992188, 159.3339385986328, 158.48117065429688, 155.86856079101562, 151.10845947265625, 149.35147094726562, 142.57481384277344, 140.1901092529297, 132.65283203125, 130.33212280273438, 125.97543334960938, 120.32707977294922, 120.14974975585938, 115.32286071777344, 114.47421264648438, 114.05780792236328, 107.60395812988281, 102.58625793457031, 102.0737075805664, 101.804931640625, 97.52229309082031, 95.98626708984375, 93.37838745117188, 983.439697265625, 212.85397338867188, 156.52371215820312, 386.1884765625, 317.82989501953125, 167.87197875976562, 236.45506286621094, 367.8441467285156, 128.76560974121094, 518.6734008789062, 1087.63134765625, 184.62149047851562, 1369.364990234375, 468.5883483886719, 387.75335693359375, 367.2584228515625, 268.46270751953125, 190.01068115234375, 165.94589233398438, 158.64395141601562, 157.05633544921875, 155.89337158203125, 141.0646209716797, 133.77305603027344, 125.83555603027344, 123.68014526367188, 120.12187194824219, 117.87034606933594, 116.33653259277344, 114.78197479248047, 112.93414306640625, 112.62113189697266, 112.35796356201172, 101.51929473876953, 100.84269714355469, 100.40818786621094, 97.08043670654297, 92.8658676147461, 92.041015625, 91.56977844238281, 91.21607208251953, 91.18144226074219, 87.51940155029297, 193.9066619873047, 186.06640625, 207.28684997558594, 628.5108642578125, 312.7946472167969, 339.419921875, 513.7389526367188, 949.6499633789062, 551.9219970703125, 1092.343017578125, 308.806396484375, 157.2191619873047, 104.46302795410156, 57.53693771362305, 47.6833381652832, 33.912166595458984, 32.43334197998047, 29.586410522460938, 27.93524742126465, 26.919269561767578, 25.991849899291992, 25.565677642822266, 25.51263999938965, 24.139551162719727, 23.79117202758789, 15.792091369628906, 15.676968574523926, 15.52137565612793, 15.35142707824707, 15.040360450744629, 14.841172218322754, 14.46080493927002, 12.740468978881836, 10.34426498413086, 8.638222694396973, 8.190271377563477, 7.217473030090332, 6.788629055023193, 4.4008378982543945, 3.490645408630371, 3.381436586380005, 106.7098617553711, 58.86455535888672, 52.39730453491211, 38.933937072753906, 36.96158218383789, 36.941566467285156, 30.934412002563477, 27.92006492614746, 26.80318832397461, 22.963787078857422, 22.942014694213867, 21.918241500854492, 21.040559768676758, 18.451576232910156, 15.984901428222656, 15.319515228271484, 14.994686126708984, 11.067792892456055, 8.946114540100098, 7.887983798980713, 7.540619373321533, 7.134782791137695, 5.693084239959717, 2.418510913848877, 1.6546155214309692, 0.74726402759552, 0.7498659491539001, 0.7457242012023926, 0.7458019256591797, 0.7487644553184509, 0.7554978132247925, 0.7803730964660645, 0.7576603293418884, 0.7644422650337219, 0.7823408842086792, 0.7923635244369507, 0.7888100743293762, 103.42086029052734, 80.85469055175781, 46.31633758544922, 39.791439056396484, 35.00834274291992, 24.958337783813477, 24.164052963256836, 22.014507293701172, 20.955371856689453, 19.70804214477539, 19.147031784057617, 14.909991264343262, 13.590124130249023, 10.893410682678223, 10.487698554992676, 10.292989730834961, 10.160354614257812, 7.535281181335449, 6.7000837326049805, 5.720309734344482, 3.5589120388031006, 2.421069383621216, 1.1431688070297241, 1.1072967052459717, 0.749419629573822, 0.7506507039070129, 0.7466745376586914, 0.7445957660675049, 0.7446926236152649, 0.747675359249115, 0.765957772731781, 0.7691726088523865, 0.7749804258346558, 0.7746880650520325, 90.7123031616211, 48.518218994140625, 43.03859329223633, 34.02814865112305, 33.93314743041992, 31.23061752319336, 30.372753143310547, 16.83892059326172, 8.889374732971191, 8.87923526763916, 7.989173889160156, 7.61702823638916, 7.490962505340576, 4.434514999389648, 4.005422592163086, 3.0388400554656982, 2.7413113117218018, 0.7570451498031616, 0.7583625912666321, 0.7598044872283936, 0.7582003474235535, 0.7635658979415894, 0.7649336457252502, 0.7525888085365295, 0.7672876119613647, 0.7558269500732422, 0.7437537312507629, 0.7491492629051208, 0.7592551708221436, 0.7532446980476379, 0.7598418593406677, 0.8035126328468323, 0.7721928358078003, 0.7898672819137573, 58.7674674987793, 35.652931213378906, 29.252197265625, 24.427024841308594, 22.34023094177246, 19.221694946289062, 18.62965202331543, 16.938053131103516, 16.749858856201172, 13.014840126037598, 11.742715835571289, 11.497638702392578, 7.320249080657959, 5.883115291595459, 5.426497936248779, 5.3552446365356445, 2.5858314037323, 0.7480348348617554, 0.748711884021759, 0.7470328211784363, 0.7451013326644897, 0.7574653029441833, 0.7463347315788269, 0.7522931098937988, 0.7458093166351318, 0.7444620132446289, 0.745223343372345, 0.7534987926483154, 0.7439579367637634, 0.7442762851715088, 0.749419629573822, 0.7574498653411865, 0.7691726088523865, 0.7568641304969788, 0.8064876794815063, 25.244243621826172, 12.66429328918457, 9.141758918762207, 7.135547161102295, 3.388631820678711, 0.7440509796142578, 0.7413089275360107, 0.7454073429107666, 0.7580302953720093, 0.7580302953720093, 0.7580302953720093, 0.7580302953720093, 0.7580302953720093, 0.7580302953720093, 0.7580302953720093, 0.7580520510673523, 0.7466745376586914, 0.7587447166442871, 0.7587502002716064, 0.7451013326644897, 0.759864330291748, 0.7428592443466187, 0.7425200939178467, 0.7414550185203552, 0.7414550185203552, 0.7414550185203552, 0.7444351315498352, 0.741500973701477, 0.7415745854377747, 0.7416414618492126, 0.7452868223190308, 0.7671250700950623, 0.7506507039070129, 0.7446605563163757, 0.7457530498504639, 0.7448342442512512, 0.7823408842086792, 0.7749804258346558, 0.7511815428733826, 0.7564099431037903, 0.7746880650520325, 0.7572506070137024, 0.7527934312820435, 0.750858724117279, 4.421051979064941, 3.9151618480682373, 0.7448145747184753, 0.7580302953720093, 0.7580302953720093, 0.7580302953720093, 0.7580302953720093, 0.7580302953720093, 0.7580302953720093, 0.7580302953720093, 0.7580520510673523, 0.7587447166442871, 0.7587502002716064, 0.759864330291748, 0.7471644282341003, 0.7430804371833801, 0.7430804371833801, 0.7432267665863037, 0.7458977103233337, 0.7439074516296387, 0.7403611540794373, 0.7422659397125244, 0.7422659397125244, 0.7423692345619202, 0.7426058650016785, 0.7418408393859863, 0.7418408393859863, 0.7418408393859863, 0.7404231429100037, 0.740953803062439, 0.7671250700950623, 0.7443718910217285, 0.7749804258346558, 0.7428997755050659, 0.7823408842086792, 0.7461327314376831, 0.7487320899963379, 0.7949158549308777, 0.7649516463279724, 0.7499644160270691, 0.772379994392395, 0.7658268213272095], \"loglift\": [30.0, 29.0, 28.0, 27.0, 26.0, 25.0, 24.0, 23.0, 22.0, 21.0, 20.0, 19.0, 18.0, 17.0, 16.0, 15.0, 14.0, 13.0, 12.0, 11.0, 10.0, 9.0, 8.0, 7.0, 6.0, 5.0, 4.0, 3.0, 2.0, 1.0, 0.6773999929428101, 0.6772000193595886, 0.6771000027656555, 0.6771000027656555, 0.6769999861717224, 0.6769999861717224, 0.6769999861717224, 0.6769000291824341, 0.676800012588501, 0.676800012588501, 0.676800012588501, 0.676800012588501, 0.6765999794006348, 0.6765999794006348, 0.6765000224113464, 0.6762999892234802, 0.6761999726295471, 0.6761000156402588, 0.6761000156402588, 0.6759999990463257, 0.6759999990463257, 0.6758999824523926, 0.6758999824523926, 0.6758999824523926, 0.6758999824523926, 0.6758000254631042, 0.6758000254631042, 0.6757000088691711, 0.6757000088691711, 0.675599992275238, 0.6740000247955322, 0.6708999872207642, 0.6671000123023987, 0.6620000004768372, 0.6313999891281128, 0.6481000185012817, 0.6561999917030334, 0.6538000106811523, 0.5856999754905701, 0.5849999785423279, 0.6478999853134155, 0.5052000284194946, 0.4691999852657318, 0.47839999198913574, 0.4553999900817871, 0.35359999537467957, -0.0019000000320374966, 0.3822999894618988, -0.0024999999441206455, 1.3026000261306763, 1.3025000095367432, 1.30239999294281, 1.30239999294281, 1.302299976348877, 1.3021999597549438, 1.3020999431610107, 1.3020000457763672, 1.301900029182434, 1.301900029182434, 1.301800012588501, 1.3016999959945679, 1.3014999628067017, 1.3013999462127686, 1.301300048828125, 1.301300048828125, 1.301300048828125, 1.301200032234192, 1.301200032234192, 1.3011000156402588, 1.3008999824523926, 1.3007999658584595, 1.3006999492645264, 1.3006999492645264, 1.3005000352859497, 1.3004000186920166, 1.3000999689102173, 1.2999999523162842, 1.2999000549316406, 1.2999000549316406, 1.2994999885559082, 1.2985999584197998, 1.28410005569458, 1.2575000524520874, 1.284000039100647, 1.2343000173568726, 1.2766000032424927, 1.1822999715805054, 1.0444999933242798, 1.2253999710083008, 0.863099992275238, 1.0455000400543213, 0.5928000211715698, 0.9624000191688538, 1.0430999994277954, 0.8300999999046326, 0.7724000215530396, 0.4959000051021576, 0.44020000100135803, -0.3700000047683716, 2.6366000175476074, 2.6359000205993652, 2.6356000900268555, 2.634700059890747, 2.6345999240875244, 2.634500026702881, 2.634500026702881, 2.634399890899658, 2.634200096130371, 2.634200096130371, 2.6338999271392822, 2.6338000297546387, 2.6338000297546387, 2.6333999633789062, 2.6333999633789062, 2.6333999633789062, 2.63319993019104, 2.6328999996185303, 2.632699966430664, 2.632699966430664, 2.632499933242798, 2.632499933242798, 2.6324000358581543, 2.6319000720977783, 2.6319000720977783, 2.631700038909912, 2.6314001083374023, 2.6312999725341797, 2.6312999725341797, 2.6312999725341797, 2.623199939727783, 2.5994999408721924, 2.61080002784729, 2.575000047683716, 2.607800006866455, 2.35260009765625, 2.5752999782562256, 2.4937000274658203, 2.5037999153137207, 2.2867000102996826, 1.8633999824523926, 1.8554999828338623, 1.115399956703186, 2.6756999492645264, 2.675600051879883, 2.674999952316284, 2.6749000549316406, 2.674299955368042, 2.6738998889923096, 2.6735999584198, 2.6735000610351562, 2.6730000972747803, 2.6730000972747803, 2.6728999614715576, 2.672800064086914, 2.6726999282836914, 2.672499895095825, 2.6723999977111816, 2.6721999645233154, 2.672100067138672, 2.6719000339508057, 2.671600103378296, 2.671600103378296, 2.6714000701904297, 2.6714000701904297, 2.671299934387207, 2.6710000038146973, 2.6707000732421875, 2.6707000732421875, 2.670599937438965, 2.6703999042510986, 2.670300006866455, 2.670099973678589, 2.657599925994873, 2.661400079727173, 2.6610000133514404, 2.6359000205993652, 2.640399932861328, 2.649199962615967, 2.553999900817871, 2.4693000316619873, 2.644700050354004, 2.3215999603271484, 1.2613999843597412, 2.3480000495910645, 0.31940001249313354, 2.8642001152038574, 2.8638999462127686, 2.863800048828125, 2.863100051879883, 2.8620998859405518, 2.861599922180176, 2.8613998889923096, 2.8613998889923096, 2.8610999584198, 2.8608999252319336, 2.8606998920440674, 2.8603999614715576, 2.860300064086914, 2.860100030899048, 2.859999895095825, 2.8598999977111816, 2.8598999977111816, 2.859800100326538, 2.859800100326538, 2.8596999645233154, 2.859100103378296, 2.859100103378296, 2.8589999675750732, 2.858799934387207, 2.8585000038146973, 2.8584001064300537, 2.8584001064300537, 2.8584001064300537, 2.8584001064300537, 2.858099937438965, 2.8545000553131104, 2.819999933242798, 2.773699998855591, 2.299299955368042, 2.4653000831604004, 2.3801000118255615, 1.8098000288009644, 1.3948999643325806, 1.71589994430542, 1.2374999523162842, 2.0611000061035156, 5.152100086212158, 5.149899959564209, 5.144499778747559, 5.142099857330322, 5.136199951171875, 5.135200023651123, 5.133200168609619, 5.131800174713135, 5.130799770355225, 5.129899978637695, 5.12939977645874, 5.12939977645874, 5.127799987792969, 5.127399921417236, 5.112400054931641, 5.111999988555908, 5.111599922180176, 5.111100196838379, 5.110099792480469, 5.109499931335449, 5.1082000732421875, 5.101500034332275, 5.0883002281188965, 5.0742998123168945, 5.0696001052856445, 5.057300090789795, 5.0507001876831055, 4.98829984664917, 4.9394001960754395, 4.93149995803833, 5.31850004196167, 5.313300132751465, 5.311800003051758, 5.307300090789795, 5.306300163269043, 5.306300163269043, 5.302599906921387, 5.30019998550415, 5.299200057983398, 5.2947998046875, 5.2947998046875, 5.293300151824951, 5.291999816894531, 5.287300109863281, 5.281300067901611, 5.279399871826172, 5.27839994430542, 5.26140022277832, 5.245699882507324, 5.234499931335449, 5.230199813842773, 5.2245001792907715, 5.197400093078613, 4.993899822235107, 4.794000148773193, 2.8269999027252197, 2.79830002784729, 2.796799898147583, 2.7967000007629395, 2.7964999675750732, 2.795799970626831, 2.788300037384033, 2.793600082397461, 2.7904000282287598, 2.7785000801086426, 2.7720999717712402, 2.7614998817443848, 5.402900218963623, 5.401000022888184, 5.394700050354004, 5.392199993133545, 5.389800071716309, 5.381800174713135, 5.380899906158447, 5.3780999183654785, 5.376399993896484, 5.374300003051758, 5.373300075531006, 5.36269998550415, 5.357999801635742, 5.344900131225586, 5.342299938201904, 5.341000080108643, 5.340099811553955, 5.314700126647949, 5.302199840545654, 5.282599925994873, 5.196899890899658, 5.07889986038208, 4.502799987792969, 4.453800201416016, 2.899399995803833, 2.898099899291992, 2.8891000747680664, 2.882999897003174, 2.8828999996185303, 2.8826000690460205, 2.881999969482422, 2.88100004196167, 2.877700090408325, 2.8684000968933105, 5.652200222015381, 5.645500183105469, 5.643700122833252, 5.639400005340576, 5.6392998695373535, 5.637499809265137, 5.636899948120117, 5.618000030517578, 5.578999996185303, 5.57889986038208, 5.569499969482422, 5.564799785614014, 5.563199996948242, 5.490600109100342, 5.470699787139893, 5.402100086212158, 5.369699954986572, 2.995500087738037, 2.988300085067749, 2.9879000186920166, 2.987799882888794, 2.9872000217437744, 2.9790000915527344, 2.9727001190185547, 2.9674999713897705, 2.9649999141693115, 2.962599992752075, 2.961899995803833, 2.960700035095215, 2.960599899291992, 2.958899974822998, 2.9410998821258545, 2.951200008392334, 2.9335999488830566, 5.723899841308594, 5.71619987487793, 5.711900234222412, 5.707200050354004, 5.704500198364258, 5.6992998123168945, 5.6981000900268555, 5.694300174713135, 5.69379997253418, 5.681399822235107, 5.6753997802734375, 5.674099922180176, 5.6371002197265625, 5.611400127410889, 5.600299835205078, 5.598299980163574, 5.426700115203857, 3.1198999881744385, 3.1150999069213867, 3.113600015640259, 3.1073999404907227, 3.1068999767303467, 3.102400064468384, 3.101799964904785, 3.100800037384033, 3.099600076675415, 3.0987000465393066, 3.098599910736084, 3.0978000164031982, 3.097599983215332, 3.0971999168395996, 3.0950000286102295, 3.0917000770568848, 3.094599962234497, 3.0283000469207764, 6.786399841308594, 6.756899833679199, 6.73360013961792, 6.709400177001953, 6.5777997970581055, 3.3761000633239746, 3.375200033187866, 3.3749001026153564, 3.3733999729156494, 3.3733999729156494, 3.3733999729156494, 3.3733999729156494, 3.3733999729156494, 3.3733999729156494, 3.3733999729156494, 3.3733999729156494, 3.3726999759674072, 3.372499942779541, 3.372499942779541, 3.372499942779541, 3.372499942779541, 3.372299909591675, 3.371299982070923, 3.3701999187469482, 3.3701999187469482, 3.3701999187469482, 3.3701000213623047, 3.3701000213623047, 3.369999885559082, 3.3698999881744385, 3.369800090789795, 3.3687000274658203, 3.3673999309539795, 3.36899995803833, 3.368499994277954, 3.368799924850464, 3.34879994392395, 3.351300001144409, 3.363800048828125, 3.358099937438965, 3.3364999294281006, 3.355600118637085, 3.360300064086914, 3.362499952316284, 7.721399784088135, 7.695499897003174, 3.545099973678589, 3.5450000762939453, 3.5450000762939453, 3.5450000762939453, 3.5450000762939453, 3.5450000762939453, 3.5450000762939453, 3.5450000762939453, 3.5450000762939453, 3.5439999103546143, 3.5439999103546143, 3.5432000160217285, 3.5422000885009766, 3.538300037384033, 3.538300037384033, 3.538100004196167, 3.5376999378204346, 3.537100076675415, 3.535900115966797, 3.535799980163574, 3.535799980163574, 3.5357000827789307, 3.535399913787842, 3.53439998626709, 3.53439998626709, 3.53439998626709, 3.5341999530792236, 3.5341999530792236, 3.533099889755249, 3.5339999198913574, 3.522900104522705, 3.5339999198913574, 3.513400077819824, 3.531599998474121, 3.5281999111175537, 3.4800000190734863, 3.509200096130371, 3.5264999866485596, 3.4995999336242676, 3.5058000087738037], \"logprob\": [30.0, 29.0, 28.0, 27.0, 26.0, 25.0, 24.0, 23.0, 22.0, 21.0, 20.0, 19.0, 18.0, 17.0, 16.0, 15.0, 14.0, 13.0, 12.0, 11.0, 10.0, 9.0, 8.0, 7.0, 6.0, 5.0, 4.0, 3.0, 2.0, 1.0, -3.0597000122070312, -4.21120023727417, -4.249100208282471, -4.445700168609619, -4.526299953460693, -4.625699996948242, -4.498700141906738, -4.758600234985352, -4.80679988861084, -4.832600116729736, -4.856200218200684, -4.916600227355957, -5.099699974060059, -5.11269998550415, -2.638400077819824, -5.30620002746582, -5.432600021362305, -5.526199817657471, -5.5355000495910645, -5.558300018310547, -5.5920000076293945, -5.63040018081665, -5.63040018081665, -5.640600204467773, -5.638199806213379, -5.709000110626221, -5.723100185394287, -5.73330020904541, -3.141900062561035, -5.80210018157959, -3.9869000911712646, -4.353799819946289, -4.917200088500977, -4.958700180053711, -4.049600124359131, -4.646999835968018, -5.0457000732421875, -5.0229997634887695, -3.637700080871582, -3.9802000522613525, -5.208199977874756, -3.855299949645996, -3.802799940109253, -4.289400100708008, -4.841400146484375, -4.717199802398682, -4.4394001960754395, -4.918799877166748, -4.9506001472473145, -4.008800029754639, -4.19290018081665, -3.8266000747680664, -4.296899795532227, -4.452600002288818, -4.487199783325195, -4.605299949645996, -4.6875, -4.739999771118164, -4.768799781799316, -4.829599857330322, -4.912899971008301, -5.0320000648498535, -5.079400062561035, -5.133900165557861, -5.136000156402588, -5.14870023727417, -5.19789981842041, -3.4611001014709473, -5.246399879455566, -5.335599899291992, -5.385000228881836, -5.416399955749512, -5.4471001625061035, -5.497099876403809, -5.551499843597412, -5.639100074768066, -5.615699768066406, -5.692800045013428, -5.698200225830078, -3.202199935913086, -3.808000087738037, -4.283699989318848, -3.1335999965667725, -4.4899001121521, -4.367700099945068, -5.071199893951416, -3.8870999813079834, -3.847599983215332, -4.973800182342529, -4.004899978637695, -4.52239990234375, -3.844599962234497, -4.65749979019165, -4.785799980163574, -4.635200023651123, -4.6149001121521, -4.452199935913086, -4.727399826049805, -4.641900062561035, -3.684000015258789, -4.011099815368652, -4.141600131988525, -4.445400238037109, -4.468800067901611, -4.502600193023682, -4.506999969482422, -4.519000053405762, -4.5644001960754395, -4.583099842071533, -4.652500152587891, -4.676799774169922, -4.677999973297119, -4.748499870300293, -4.7546000480651855, -4.757599830627441, -4.802700042724609, -4.8557000160217285, -4.888000011444092, -4.891600131988525, -4.921899795532227, -4.924499988555908, -4.938399791717529, -5.0218000411987305, -5.025700092315674, -5.059800148010254, -5.10260009765625, -5.10860013961792, -5.114200115203857, -5.115600109100342, -3.243299961090088, -3.2151999473571777, -4.408400058746338, -3.8959999084472656, -4.947800159454346, -3.971299886703491, -4.826700210571289, -4.639999866485596, -4.701499938964844, -4.585100173950195, -4.383999824523926, -4.464700222015381, -4.791399955749512, -3.4795000553131104, -3.5360000133514404, -3.8557000160217285, -3.90910005569458, -3.927299976348877, -4.295899868011475, -4.38040018081665, -4.4095001220703125, -4.548900127410889, -4.554299831390381, -4.571000099182129, -4.602099895477295, -4.613900184631348, -4.6605000495910645, -4.677499771118164, -4.732999801635742, -4.750699996948242, -4.784900188446045, -4.830999851226807, -4.832499980926514, -4.873799800872803, -4.881199836730957, -4.884799957275391, -4.943399906158447, -4.991499900817871, -4.996500015258789, -4.999199867248535, -5.042500019073486, -5.0584001541137695, -5.08620023727417, -2.74429988861084, -4.270899772644043, -4.578700065612793, -3.700700044631958, -3.8910000324249268, -4.520500183105469, -4.273200035095215, -3.9158999919891357, -4.790200233459473, -3.720099925994873, -4.039700031280518, -4.726500034332275, -4.751299858093262, -3.2790000438690186, -3.468600034713745, -3.5230000019073486, -3.8369998931884766, -4.183700084686279, -4.3196001052856445, -4.364799976348877, -4.374899864196777, -4.382599830627441, -4.482699871063232, -4.536099910736084, -4.597599983215332, -4.6149001121521, -4.6442999839782715, -4.663400173187256, -4.676499843597412, -4.690000057220459, -4.706299781799316, -4.709099769592285, -4.71150016784668, -4.813499927520752, -4.820300102233887, -4.8246002197265625, -4.858500003814697, -4.903200149536133, -4.912199974060059, -4.917399883270264, -4.921299934387207, -4.9217000007629395, -4.9629998207092285, -4.171000003814697, -4.246799945831299, -4.185100078582764, -3.5501999855041504, -4.082099914550781, -4.085599899291992, -4.241399765014648, -4.041900157928467, -4.263599872589111, -4.059299945831299, -4.499100208282471, -2.083199977874756, -2.4941999912261963, -3.095900058746338, -3.28629994392395, -3.632999897003174, -3.678499937057495, -3.77239990234375, -3.831199884414673, -3.8691999912261963, -3.9052000045776367, -3.9221999645233154, -3.924299955368042, -3.9811999797821045, -3.9962000846862793, -4.421000003814697, -4.428699970245361, -4.4390997886657715, -4.4506001472473145, -4.472099781036377, -4.486000061035156, -4.513299942016602, -4.646599769592285, -4.868100166320801, -5.062399864196777, -5.120299816131592, -5.259099960327148, -5.326900005340576, -5.822800159454346, -6.103400230407715, -6.143099784851074, -2.30430006980896, -2.904400110244751, -3.022200107574463, -3.3238000869750977, -3.376699924468994, -3.3773000240325928, -3.5583999156951904, -3.663300037384033, -3.705199956893921, -3.8642001152038574, -3.8652000427246094, -3.9121999740600586, -3.9544999599456787, -4.0904998779296875, -4.2399001121521, -4.28439998626709, -4.30679988861084, -4.627500057220459, -4.855999946594238, -4.993000030517578, -5.042399883270264, -5.103400230407715, -5.356200218200684, -6.415900230407715, -6.995299816131592, -9.757200241088867, -9.782500267028809, -9.789400100708008, -9.78950023651123, -9.785699844360352, -9.77750015258789, -9.7524995803833, -9.776900291442871, -9.771100044250488, -9.759900093078613, -9.753600120544434, -9.768600463867188, -2.251199960708618, -2.4992001056671143, -3.062700033187866, -3.2170000076293945, -3.3475000858306885, -3.6939001083374023, -3.727099895477295, -3.8231000900268555, -3.8740999698638916, -3.9375998973846436, -3.9674999713897705, -4.2281999588012695, -4.325500011444092, -4.559800148010254, -4.600399971008301, -4.6203999519348145, -4.634300231933594, -4.958600044250488, -5.088500022888184, -5.266200065612793, -5.826499938964844, -6.329800128936768, -7.656300067901611, -7.737199783325195, -9.682000160217285, -9.681599617004395, -9.695899963378906, -9.70479965209961, -9.70479965209961, -9.70110034942627, -9.677499771118164, -9.674400329589844, -9.67020034790039, -9.679800033569336, -2.132999897003174, -2.765399932861328, -2.8870999813079834, -3.1263999938964844, -3.129199981689453, -3.2139999866485596, -3.242500066757202, -3.8512001037597656, -4.5289998054504395, -4.530300140380859, -4.645299911499023, -4.697700023651123, -4.716000080108643, -5.312900066375732, -5.434599876403809, -5.779300212860107, -5.914700031280518, -9.575699806213379, -9.581199645996094, -9.579700469970703, -9.581899642944336, -9.575499534606934, -9.58180046081543, -9.604399681091309, -9.590299606323242, -9.607799530029297, -9.626399993896484, -9.619799613952637, -9.607600212097168, -9.615599632263184, -9.608599662780762, -9.570500373840332, -9.600199699401855, -9.595199584960938, -2.4953999519348145, -3.0027999877929688, -3.2049999237060547, -3.390000104904175, -3.4820001125335693, -3.6375999450683594, -3.6700000762939453, -3.7690000534057617, -3.7806999683380127, -4.045400142669678, -4.154300212860107, -4.176700115203857, -4.66510009765625, -4.90939998626709, -5.001299858093262, -5.016499996185303, -5.916100025177002, -9.463299751281738, -9.46720027923584, -9.47089958190918, -9.479700088500977, -9.463800430297852, -9.482999801635742, -9.475700378417969, -9.485400199890137, -9.48840045928955, -9.488300323486328, -9.477299690246582, -9.490900039672852, -9.490699768066406, -9.484199523925781, -9.475700378417969, -9.463600158691406, -9.476900100708008, -9.479700088500977, -2.277899980545044, -2.9972000122070312, -3.3464999198913574, -3.6184000968933105, -4.494699954986572, -9.212400436401367, -9.217000007629395, -9.211799621582031, -9.196499824523926, -9.196499824523926, -9.196499824523926, -9.196499824523926, -9.196499824523926, -9.196499824523926, -9.196499824523926, -9.196499824523926, -9.212300300598145, -9.196499824523926, -9.196499824523926, -9.214699745178223, -9.194999694824219, -9.217900276184082, -9.219300270080566, -9.22189998626709, -9.22189998626709, -9.22189998626709, -9.217900276184082, -9.22189998626709, -9.22189998626709, -9.22189998626709, -9.217000007629395, -9.189299583435059, -9.212300300598145, -9.218700408935547, -9.21780014038086, -9.218700408935547, -9.189499855041504, -9.196499824523926, -9.215200424194336, -9.213899612426758, -9.211700439453125, -9.215399742126465, -9.216500282287598, -9.217000007629395, -3.085099935531616, -3.2325000762939453, -9.042400360107422, -9.024900436401367, -9.024900436401367, -9.024900436401367, -9.024900436401367, -9.024900436401367, -9.024900436401367, -9.024900436401367, -9.024900436401367, -9.024900436401367, -9.024900436401367, -9.024299621582031, -9.042099952697754, -9.051600456237793, -9.051600456237793, -9.051600456237793, -9.048399925231934, -9.051600456237793, -9.057600021362305, -9.055100440979004, -9.055100440979004, -9.055100440979004, -9.055100440979004, -9.057100296020508, -9.057100296020508, -9.057100296020508, -9.059200286865234, -9.058500289916992, -9.024900436401367, -9.054100036621094, -9.024999618530273, -9.056099891662598, -9.024999618530273, -9.054100036621094, -9.054100036621094, -9.042400360107422, -9.051600456237793, -9.054100036621094, -9.051600456237793, -9.053899765014648]}, \"token.table\": {\"Topic\": [6, 10, 1, 5, 6, 1, 2, 6, 1, 2, 4, 9, 1, 3, 5, 2, 8, 2, 4, 4, 8, 1, 2, 4, 1, 2, 1, 5, 7, 2, 5, 7, 7, 6, 4, 3, 6, 4, 10, 1, 1, 5, 8, 5, 4, 5, 1, 4, 2, 8, 2, 3, 9, 6, 10, 2, 3, 5, 7, 5, 9, 1, 4, 4, 3, 9, 3, 1, 2, 3, 8, 7, 9, 9, 8, 1, 4, 5, 1, 3, 4, 9, 10, 7, 6, 7, 1, 5, 11, 10, 1, 1, 6, 3, 10, 3, 1, 2, 3, 2, 5, 11, 2, 4, 3, 10, 12, 8, 2, 3, 6, 1, 2, 4, 9, 5, 6, 9, 1, 3, 8, 1, 4, 4, 7, 8, 1, 2, 1, 2, 4, 1, 4, 1, 1, 2, 4, 3, 1, 2, 4, 3, 1, 5, 4, 7, 1, 2, 6, 4, 1, 4, 3, 6, 6, 8, 1, 2, 3, 7, 1, 2, 3, 1, 2, 4, 9, 1, 2, 1, 2, 4, 6, 3, 5, 2, 5, 8, 4, 4, 1, 3, 6, 4, 1, 4, 7, 2, 2, 1, 4, 6, 10, 3, 5, 10, 3, 6, 3, 1, 2, 3, 1, 2, 3, 6, 1, 2, 3, 4, 1, 6, 2, 1, 3, 2, 1, 2, 3, 1, 1, 11, 8, 2, 4, 3, 7, 1, 2, 3, 4, 8, 2, 6, 3, 1, 5, 5, 11, 1, 3, 2, 7, 7, 5, 1, 1, 4, 7, 6, 4, 1, 2, 4, 2, 10, 3, 9, 5, 11, 5, 2, 3, 1, 2, 8, 4, 1, 8, 7, 2, 10, 1, 2, 5, 4, 1, 4, 5, 5, 1, 2, 3, 7, 4, 4, 5, 5, 6, 5, 1, 1, 6, 1, 4, 1, 3, 8, 1, 3, 2, 1, 4, 1, 9, 1, 2, 3, 4, 1, 2, 3, 4, 3, 5, 2, 3, 3, 5, 5, 4, 9, 1, 5, 1, 2, 1, 5, 2, 2, 2, 3, 3, 9, 1, 3, 5, 2, 4, 1, 2, 4, 7, 1, 1, 10, 10, 2, 7, 6, 4, 2, 7, 8, 5, 5, 10, 9, 6, 2, 4, 1, 7, 2, 4, 2, 3, 4, 4, 2, 4, 10, 6, 3, 5, 8, 3, 9, 6, 1, 6, 2, 3, 2, 10, 1, 1, 7, 2, 2, 5, 1, 5, 1, 2, 8, 7, 1, 2, 5, 1, 5, 4, 8, 1, 1, 2, 3, 10, 7, 8, 6, 7, 12, 1, 2, 2, 3, 2, 2, 3, 3, 1, 2, 6, 8, 3, 5, 2, 9, 1, 2, 1, 2, 5], \"Freq\": [0.969868540763855, 0.9825183153152466, 0.5505067110061646, 0.4468819200992584, 0.9856692552566528, 0.9997414350509644, 0.9991027116775513, 0.8838309049606323, 0.7447376251220703, 0.012872008606791496, 0.2427293062210083, 0.7295778393745422, 0.025624090805649757, 0.9737154245376587, 0.9976311922073364, 0.9995428919792175, 0.9539164304733276, 0.9992821216583252, 0.9950485825538635, 0.9941378235816956, 0.9711970686912537, 0.028483500704169273, 0.010357636958360672, 0.9606708288192749, 0.5776541829109192, 0.4215748906135559, 0.3292895257472992, 0.6713669896125793, 0.8782585859298706, 0.9996740221977234, 0.9931873083114624, 0.9760122895240784, 0.9697937965393066, 0.9527931809425354, 0.9894810318946838, 0.9990026950836182, 0.9418805837631226, 0.9967508912086487, 0.9816864728927612, 0.9995667934417725, 0.38300639390945435, 0.6157564520835876, 0.9715350270271301, 0.9932741522789001, 0.9986439347267151, 0.9926160573959351, 0.9988988041877747, 0.0010092435404658318, 0.9987692832946777, 0.9959306120872498, 0.13217000663280487, 0.8677248358726501, 0.9501796960830688, 0.926116406917572, 0.9567182064056396, 0.9976561665534973, 0.9937697649002075, 0.9987444281578064, 0.8942429423332214, 0.9946809411048889, 0.9725004434585571, 0.012777616269886494, 0.9838764667510986, 0.9979041814804077, 0.994972825050354, 0.99214768409729, 0.9984658360481262, 0.8416436910629272, 0.1568436324596405, 0.0014356395695358515, 0.9544092416763306, 0.958030104637146, 0.8999508023262024, 0.8761857151985168, 0.8857958316802979, 0.8010304570198059, 0.0027463899459689856, 0.19590915739536285, 0.05924094840884209, 0.938969075679779, 0.9926644563674927, 0.9926156401634216, 0.849889874458313, 0.9739843010902405, 0.9681342244148254, 0.9589393138885498, 0.08683618903160095, 0.9117799997329712, 0.9903247952461243, 0.9662016034126282, 0.9990738034248352, 0.9995182752609253, 0.9658508896827698, 0.996056854724884, 0.9884664416313171, 0.994375467300415, 0.08641842007637024, 0.0370364636182785, 0.8765296936035156, 0.9960896968841553, 0.9971072673797607, 0.8751051425933838, 0.1141865998506546, 0.8838889002799988, 0.9935500025749207, 0.9913785457611084, 0.9047620296478271, 0.9894292950630188, 0.03687479346990585, 0.9618175625801086, 0.979906439781189, 0.7229628562927246, 0.1818361133337021, 0.09493451565504074, 0.9344593286514282, 0.9992963671684265, 0.9778735637664795, 0.902015209197998, 0.9981883764266968, 0.9897302389144897, 0.961602509021759, 0.018303105607628822, 0.9802329540252686, 0.997836172580719, 0.9283056855201721, 0.8740785717964172, 0.978748083114624, 0.020590772852301598, 0.31670740246772766, 0.5883140563964844, 0.0942104235291481, 0.031064195558428764, 0.9707561135292053, 0.9989867806434631, 0.9987553358078003, 0.9980484247207642, 0.997646689414978, 0.9977120161056519, 0.06583791971206665, 0.9329109191894531, 0.9974517226219177, 0.9955246448516846, 0.7697573304176331, 0.22955827414989471, 0.9922569394111633, 0.9791432619094849, 0.044412415474653244, 0.9552369713783264, 0.9618399739265442, 0.9986726641654968, 0.9998492002487183, 0.9956580400466919, 0.994965136051178, 0.9665209054946899, 0.9498425126075745, 0.8955112099647522, 0.8117427825927734, 0.1875779628753662, 0.00032850782736204565, 0.8269551396369934, 0.375969260931015, 0.6230037808418274, 0.9944106936454773, 0.5070285201072693, 0.49152305722236633, 0.0015505459159612656, 0.6581458449363708, 0.998129665851593, 0.0016684156144037843, 0.9549274444580078, 0.009395971894264221, 0.035111263394355774, 0.8871968984603882, 0.9977349042892456, 0.9959409236907959, 0.9981916546821594, 0.9906761646270752, 0.9640734195709229, 0.9944276213645935, 0.9969638586044312, 0.29185065627098083, 0.7030947804450989, 0.9771078824996948, 0.9972817301750183, 0.9975688457489014, 0.9959683418273926, 0.938385546207428, 0.9987009167671204, 0.9993575215339661, 0.9973063468933105, 0.9958574771881104, 0.9767686128616333, 0.9214046001434326, 0.9960349202156067, 0.9924529790878296, 0.9336641430854797, 0.9959325790405273, 0.9955675601959229, 0.9903854131698608, 0.23015832901000977, 0.7107086777687073, 0.056907277554273605, 0.18597285449504852, 0.35666027665138245, 0.4560156464576721, 0.9664092063903809, 0.12316179275512695, 0.4144867956638336, 0.4618567228317261, 0.9975919127464294, 0.9985584616661072, 0.8594399094581604, 0.9992703795433044, 0.9846484065055847, 0.013921763747930527, 0.99928218126297, 0.20649060606956482, 0.773139238357544, 0.020408956333994865, 0.9973427653312683, 0.9991064667701721, 0.8408605456352234, 0.9179861545562744, 0.034609708935022354, 0.96277916431427, 0.9915363788604736, 0.9035224914550781, 0.5063997507095337, 0.44632938504219055, 0.0167938694357872, 0.02971223182976246, 0.9389677047729492, 0.9970711469650269, 0.966745138168335, 0.9972800612449646, 0.6830675601959229, 0.317073792219162, 0.9980571269989014, 0.8853130340576172, 0.014564190059900284, 0.9855101704597473, 0.9986883997917175, 0.985312819480896, 0.950545072555542, 0.9948847889900208, 0.9987006187438965, 0.18486090004444122, 0.8128442764282227, 0.9581060409545898, 0.9731020927429199, 0.9943872094154358, 0.9771925806999207, 0.018740680068731308, 0.004015859682112932, 0.9992501139640808, 0.9220243692398071, 0.9974179863929749, 0.9189935922622681, 0.9945007562637329, 0.9475459456443787, 0.9943000078201294, 0.9253747463226318, 0.07448138296604156, 0.9122877717018127, 0.08731673657894135, 0.8429542183876038, 0.9946443438529968, 0.9991501569747925, 0.8260812163352966, 0.8874257802963257, 0.9964063167572021, 0.9869406223297119, 0.22756971418857574, 0.7715548276901245, 0.9942211508750916, 0.9982033967971802, 0.4248136579990387, 0.006364249624311924, 0.5680092573165894, 0.9933599233627319, 0.9117348194122314, 0.08809032291173935, 0.9933347702026367, 0.933664083480835, 0.9907256960868835, 0.9942852258682251, 0.9982764720916748, 0.9916434288024902, 0.9906679391860962, 0.9888706803321838, 0.9993895292282104, 0.9997854232788086, 0.956817626953125, 0.9984269142150879, 0.9972003698348999, 0.9973629117012024, 0.9975274205207825, 0.9801103472709656, 0.02628648467361927, 0.9725999236106873, 0.997585654258728, 0.9997572898864746, 0.9904307126998901, 0.9975572228431702, 0.9893190860748291, 0.12887568771839142, 0.7720325589179993, 0.026874549686908722, 0.07207265496253967, 0.6099466681480408, 0.11289068311452866, 0.21735668182373047, 0.05897274613380432, 0.9963374137878418, 0.9917284250259399, 0.060119275003671646, 0.9393636584281921, 0.99149090051651, 0.9968140721321106, 0.990660548210144, 0.9920933842658997, 0.9877274036407471, 0.6501356363296509, 0.3484259843826294, 0.11376316100358963, 0.8860400319099426, 0.0429954007267952, 0.9566476941108704, 0.9997305870056152, 0.9985671639442444, 0.9809642434120178, 0.017701610922813416, 0.9964600205421448, 0.9009785056114197, 0.11505438387393951, 0.7516886591911316, 0.1329517364501953, 0.9806855916976929, 0.018005244433879852, 0.3523746132850647, 0.6439332962036133, 0.003577407216653228, 0.6043699979782104, 0.9996978044509888, 0.9980034828186035, 0.9367509484291077, 0.7734456062316895, 0.9977296590805054, 0.974511981010437, 0.9801797270774841, 0.9950786232948303, 0.9990542531013489, 0.9700338244438171, 0.9518271088600159, 0.9942693710327148, 0.9940652847290039, 0.9552319049835205, 0.9697853326797485, 0.943321704864502, 0.023827681317925453, 0.9709780216217041, 0.997470498085022, 0.9670464396476746, 0.2988393008708954, 0.6998623609542847, 0.9977688789367676, 0.27624085545539856, 0.7203928232192993, 0.9897249341011047, 0.01409416925162077, 0.9865918755531311, 0.9446185827255249, 0.9667192697525024, 0.9933829307556152, 0.9959347248077393, 0.9931700825691223, 0.9966422915458679, 0.9758683443069458, 0.9089178442955017, 0.999448835849762, 0.9308287501335144, 0.9953349232673645, 0.0037845433689653873, 0.9994372725486755, 0.9847704768180847, 0.9991230964660645, 0.9986562132835388, 0.9755263924598694, 0.9992247819900513, 0.9981794357299805, 0.988689661026001, 0.01031424105167389, 0.9901671409606934, 0.9705554842948914, 0.028330715373158455, 0.9565770030021667, 0.9924174547195435, 0.001609188038855791, 0.9982329607009888, 0.9937776327133179, 0.9705123901367188, 0.02882710099220276, 0.9959477782249451, 0.9534980654716492, 0.9992126822471619, 0.9965528845787048, 0.0033929329365491867, 0.9929633140563965, 0.9562516212463379, 0.9933477640151978, 0.9289633631706238, 0.9866390228271484, 0.840950608253479, 0.7662518620491028, 0.0033068459015339613, 0.9961873292922974, 0.974128246307373, 0.023567618802189827, 0.9984310269355774, 0.9974249005317688, 0.9959515929222107, 0.9979333281517029, 0.9930238127708435, 0.006276133470237255, 0.9986060261726379, 0.9400935173034668, 0.9956304430961609, 0.9980100989341736, 0.9960896968841553, 0.7489846348762512, 0.989666759967804, 0.009762434288859367, 0.8193539977073669, 0.180160790681839, 0.9944847822189331], \"Term\": [\"accept\", \"actual\", \"add\", \"add\", \"affordable\", \"also\", \"always\", \"amaze\", \"amazing\", \"amazing\", \"amazing\", \"aoli\", \"appetizer\", \"appetizer\", \"apple\", \"arrive\", \"arugula\", \"ask\", \"atmosphere\", \"attentive\", \"avoid\", \"awesome\", \"awesome\", \"awesome\", \"back\", \"back\", \"bacon\", \"bacon\", \"bank\", \"bar\", \"bartender\", \"base\", \"basically\", \"be\", \"beautiful\", \"beer\", \"beer_selection\", \"best\", \"birthday\", \"bit\", \"bite\", \"bite\", \"blah\", \"blue\", \"boyfriend\", \"bread\", \"burger\", \"burger\", \"busy\", \"care\", \"casino\", \"casino\", \"catch\", \"category\", \"celebrate\", \"check\", \"cheddar\", \"cheese\", \"chewy\", \"chicken\", \"chip\", \"choice\", \"choice\", \"choose\", \"clean\", \"cocktail\", \"cold\", \"come\", \"come\", \"come\", \"comment\", \"complement\", \"confuse\", \"container\", \"convenient\", \"cook\", \"cook\", \"cook\", \"cool\", \"cool\", \"course\", \"crap\", \"crew\", \"crowd\", \"crumble\", \"curry_ketchup\", \"cut\", \"cut\", \"damn\", \"daughter\", \"definitely\", \"delicious\", \"deliciousness\", \"dessert\", \"detail\", \"dine\", \"dining\", \"dining\", \"dining\", \"dinner\", \"dip\", \"dirty\", \"disappoint\", \"disappoint\", \"disappointed\", \"door\", \"downside\", \"dress\", \"drink\", \"drink\", \"duck\", \"eat\", \"eat\", \"eat\", \"effort\", \"egg\", \"element\", \"english\", \"enough\", \"entrance\", \"evening\", \"ever\", \"ever\", \"excellent\", \"exception\", \"exceptionally\", \"expect\", \"expect\", \"experience\", \"experience\", \"experience\", \"extremely\", \"extremely\", \"fan\", \"farm\", \"finally\", \"fine\", \"fire\", \"first\", \"first\", \"fish\", \"flame\", \"flavor\", \"flavor\", \"flavorful\", \"fly\", \"food\", \"food\", \"forever\", \"friendly\", \"fry\", \"full\", \"fun\", \"fury_chicken\", \"gamble\", \"garbage\", \"get\", \"get\", \"get\", \"gift\", \"give\", \"give\", \"glass\", \"go\", \"go\", \"go\", \"golden\", \"good\", \"good\", \"great\", \"great\", \"great\", \"greatly\", \"greet\", \"grill\", \"guy\", \"haha\", \"hair\", \"hand\", \"happy\", \"hard\", \"hard\", \"have\", \"helpful\", \"high\", \"highly_recommend\", \"highly_recommende\", \"hostess\", \"hour\", \"huge\", \"incredible\", \"infuse\", \"initial\", \"ipad\", \"jalapeno\", \"jean\", \"job\", \"juicy\", \"kid\", \"know\", \"know\", \"know\", \"leave\", \"leave\", \"leave\", \"left\", \"let\", \"let\", \"let\", \"life\", \"like\", \"limp\", \"line\", \"little\", \"little\", \"long\", \"look\", \"look\", \"look\", \"lot\", \"love\", \"loved\", \"luck\", \"lunch\", \"lunch\", \"main\", \"mainly\", \"make\", \"make\", \"make\", \"make\", \"male\", \"manager\", \"match\", \"maui_onion\", \"meat\", \"meat\", \"medium\", \"melted\", \"menu\", \"menu\", \"minute\", \"modern\", \"mostly\", \"mouth\", \"much\", \"must\", \"must\", \"nearly\", \"negative\", \"new\", \"nice\", \"nice\", \"nice\", \"night\", \"notify\", \"offer\", \"oily\", \"old\", \"omg\", \"onion\", \"open\", \"open\", \"order\", \"order\", \"outfits\", \"outstanding\", \"overall\", \"overlooking\", \"parking\", \"party\", \"pass\", \"people\", \"people\", \"pepper\", \"perfection\", \"perfectly\", \"perfectly\", \"perfectly\", \"pink\", \"place\", \"place\", \"plate\", \"please\", \"plenty\", \"pm\", \"popper\", \"pork_belly\", \"possibly\", \"potato\", \"pretty\", \"price\", \"pricy\", \"probably\", \"provide\", \"quality\", \"quickly\", \"rare\", \"read\", \"read\", \"ready\", \"really\", \"reasonable\", \"recommend\", \"request\", \"restaurant\", \"restaurant\", \"restaurant\", \"restaurant\", \"right\", \"right\", \"right\", \"right\", \"ring\", \"roast\", \"room\", \"room\", \"run\", \"salad\", \"salt\", \"sandwich\", \"satisfy\", \"sauce\", \"sauce\", \"say\", \"say\", \"season\", \"season\", \"seat\", \"second\", \"see\", \"see\", \"selection\", \"self\", \"serve\", \"serve\", \"serve\", \"server\", \"server\", \"service\", \"service\", \"service\", \"severely\", \"shake\", \"share\", \"shave\", \"shift\", \"show\", \"sick\", \"similar\", \"simple\", \"sit\", \"skeptical\", \"slider\", \"soft\", \"solid\", \"somewhere\", \"son\", \"specialty\", \"spend\", \"spend\", \"spicy\", \"sport\", \"staff\", \"staff\", \"stand\", \"stay\", \"stay\", \"stomach\", \"stop\", \"stop\", \"straight\", \"strange\", \"stuff\", \"style\", \"suck\", \"suggest\", \"surprisingly\", \"sweat\", \"sweet\", \"sweet_potato\", \"table\", \"table\", \"take\", \"take_reservation\", \"taste\", \"tasty\", \"technology\", \"tell\", \"text\", \"texture\", \"thick\", \"thick\", \"think\", \"think\", \"third\", \"throw\", \"time\", \"time\", \"tomato\", \"top\", \"top\", \"touch\", \"train\", \"truffle\", \"try\", \"try\", \"tv\", \"undercooke\", \"usually\", \"vacation\", \"vanilla\", \"vegas\", \"version\", \"wait\", \"wait\", \"waiter\", \"waiter\", \"waitress\", \"walk\", \"wall\", \"water\", \"well\", \"well\", \"wing\", \"woman\", \"wonderful\", \"wood\", \"work\", \"working\", \"worth\", \"worth\", \"would\", \"would\", \"yolk\"]}, \"R\": 30, \"lambda.step\": 0.01, \"plot.opts\": {\"xlab\": \"PC1\", \"ylab\": \"PC2\"}, \"topic.order\": [5, 2, 3, 6, 4, 1, 10, 7, 8, 9, 11, 12]};\n",
       "\n",
       "function LDAvis_load_lib(url, callback){\n",
       "  var s = document.createElement('script');\n",
       "  s.src = url;\n",
       "  s.async = true;\n",
       "  s.onreadystatechange = s.onload = callback;\n",
       "  s.onerror = function(){console.warn(\"failed to load library \" + url);};\n",
       "  document.getElementsByTagName(\"head\")[0].appendChild(s);\n",
       "}\n",
       "\n",
       "if(typeof(LDAvis) !== \"undefined\"){\n",
       "   // already loaded: just create the visualization\n",
       "   !function(LDAvis){\n",
       "       new LDAvis(\"#\" + \"ldavis_el5901125403422168853965231\", ldavis_el5901125403422168853965231_data);\n",
       "   }(LDAvis);\n",
       "}else if(typeof define === \"function\" && define.amd){\n",
       "   // require.js is available: use it to load d3/LDAvis\n",
       "   require.config({paths: {d3: \"https://cdnjs.cloudflare.com/ajax/libs/d3/3.5.5/d3.min\"}});\n",
       "   require([\"d3\"], function(d3){\n",
       "      window.d3 = d3;\n",
       "      LDAvis_load_lib(\"https://cdn.rawgit.com/bmabey/pyLDAvis/files/ldavis.v1.0.0.js\", function(){\n",
       "        new LDAvis(\"#\" + \"ldavis_el5901125403422168853965231\", ldavis_el5901125403422168853965231_data);\n",
       "      });\n",
       "    });\n",
       "}else{\n",
       "    // require.js not available: dynamically load d3 & LDAvis\n",
       "    LDAvis_load_lib(\"https://cdnjs.cloudflare.com/ajax/libs/d3/3.5.5/d3.min.js\", function(){\n",
       "         LDAvis_load_lib(\"https://cdn.rawgit.com/bmabey/pyLDAvis/files/ldavis.v1.0.0.js\", function(){\n",
       "                 new LDAvis(\"#\" + \"ldavis_el5901125403422168853965231\", ldavis_el5901125403422168853965231_data);\n",
       "            })\n",
       "         });\n",
       "}\n",
       "</script>"
      ],
      "text/plain": [
       "<IPython.core.display.HTML object>"
      ]
     },
     "execution_count": 46,
     "metadata": {},
     "output_type": "execute_result"
    }
   ],
   "source": [
    "### Visulization\n",
    "vis = pyLDAvis.gensim.prepare(lda_model, corpus, id2word)\n",
    "pyLDAvis.display(vis)"
   ]
  },
  {
   "cell_type": "markdown",
   "metadata": {},
   "source": [
    "### Negative reviews: "
   ]
  },
  {
   "cell_type": "code",
   "execution_count": 47,
   "metadata": {},
   "outputs": [
    {
     "name": "stdout",
     "output_type": "stream",
     "text": [
      "There are 1544 reviews selected\n"
     ]
    }
   ],
   "source": [
    "# Turn the data into a list \n",
    "df_res_2_n = df_res_2[df_res_2[\"prediction_rate\"] == 0.0]\n",
    "print (\"There are\", df_res_2_n.shape[0], \"reviews selected\")\n",
    "data_con = df_res_2_n[\"text\"]\n",
    "data_con_l = data_con.tolist()"
   ]
  },
  {
   "cell_type": "markdown",
   "metadata": {},
   "source": [
    "### Text cleaning"
   ]
  },
  {
   "cell_type": "code",
   "execution_count": 48,
   "metadata": {},
   "outputs": [
    {
     "name": "stdout",
     "output_type": "stream",
     "text": [
      "['literally',\n",
      " 'the',\n",
      " 'best',\n",
      " 'burger',\n",
      " 've',\n",
      " 'had',\n",
      " 'in',\n",
      " 'my',\n",
      " 'entire',\n",
      " 'life',\n",
      " 'only',\n",
      " 'downside',\n",
      " 'to',\n",
      " 'eating',\n",
      " 'here',\n",
      " 'is',\n",
      " 'the',\n",
      " 'super',\n",
      " 'long',\n",
      " 'wait',\n",
      " 'we',\n",
      " 'went',\n",
      " 'on',\n",
      " 'sunday',\n",
      " 'and',\n",
      " 'it',\n",
      " 'was',\n",
      " 'packed',\n",
      " 'all',\n",
      " 'day',\n",
      " 'waited',\n",
      " 'minutes',\n",
      " 'for',\n",
      " 'table',\n",
      " 'but',\n",
      " 'it',\n",
      " 'was',\n",
      " 'worth',\n",
      " 'the',\n",
      " 'wait',\n",
      " 'got',\n",
      " 'the',\n",
      " 'euro',\n",
      " 'burger',\n",
      " 'which',\n",
      " 'was',\n",
      " 'gordon_ramsay',\n",
      " 'burger',\n",
      " 'with',\n",
      " 'goats',\n",
      " 'cheese',\n",
      " 'arugula',\n",
      " 'truffle',\n",
      " 'aioli',\n",
      " 'and',\n",
      " 'roasted_tomatoes',\n",
      " 'so',\n",
      " 'freakin',\n",
      " 'good',\n",
      " 'you',\n",
      " 'should',\n",
      " 'eat',\n",
      " 'here',\n",
      " 'if',\n",
      " 'you',\n",
      " 're',\n",
      " 'in',\n",
      " 'the',\n",
      " 'area',\n",
      " 'or',\n",
      " 'you',\n",
      " 're',\n",
      " 'missing',\n",
      " 'out']\n"
     ]
    }
   ],
   "source": [
    "# Remove distracting single quotes\n",
    "data_con_1 = [re.sub(\"\\'\", \"\", sent) for sent in data_con_l]\n",
    "\n",
    "data_words = list(sent_to_words(data_con_l))\n",
    "\n",
    "# Build the bigram and trigram models\n",
    "bigram = gensim.models.Phrases(data_words, min_count=5, threshold=100) # higher threshold fewer phrases.\n",
    "trigram = gensim.models.Phrases(bigram[data_words], threshold=100)  \n",
    "\n",
    "# Faster way to get a sentence clubbed as a trigram/bigram\n",
    "bigram_mod = gensim.models.phrases.Phraser(bigram)\n",
    "trigram_mod = gensim.models.phrases.Phraser(trigram)\n",
    "\n",
    "# See trigram example\n",
    "pprint(trigram_mod[bigram_mod[data_words[0]]])\n",
    "\n",
    "# Remove Stop Words\n",
    "data_words_nostops = remove_stopwords(data_words)\n",
    "\n",
    "# Form Bigrams\n",
    "data_words_bigrams = make_bigrams(data_words_nostops)\n",
    "\n",
    "# Initialize spacy 'en' model, keeping only tagger component (for efficiency)\n",
    "\n",
    "nlp = spacy.load('en', disable=['parser', 'ner'])\n",
    "\n",
    "# Do lemmatization keeping only noun, adj, vb, adv\n",
    "data_lemmatized = lemmatization(data_words_bigrams, allowed_postags=['NOUN', 'ADJ', 'VERB', 'ADV'])\n",
    "\n",
    "#pprint(data_lemmatized[:1])"
   ]
  },
  {
   "cell_type": "markdown",
   "metadata": {},
   "source": [
    "### Prepare data for LDA"
   ]
  },
  {
   "cell_type": "code",
   "execution_count": 49,
   "metadata": {},
   "outputs": [
    {
     "name": "stdout",
     "output_type": "stream",
     "text": [
      "Total vocabulary in the corpus:  4460\n"
     ]
    }
   ],
   "source": [
    "vocab = np.asarray([item for sublist in data_lemmatized for item in sublist])\n",
    "vocab = np.unique(vocab)\n",
    "print (\"Total vocabulary in the corpus: \", len(vocab))"
   ]
  },
  {
   "cell_type": "code",
   "execution_count": 50,
   "metadata": {},
   "outputs": [],
   "source": [
    "vocab = sorted(list(vocab))\n",
    "vocab_index = {}\n",
    "for i, w in enumerate(vocab):\n",
    "    vocab_index[w] = i\n",
    "    \n",
    "new_corpus = []\n",
    "for doc in data_lemmatized:\n",
    "    new_doc = []\n",
    "    for word in doc:\n",
    "        word_idx = vocab_index[word]\n",
    "        new_doc.append(word_idx)\n",
    "    new_corpus.append(new_doc)"
   ]
  },
  {
   "cell_type": "code",
   "execution_count": 51,
   "metadata": {},
   "outputs": [],
   "source": [
    "# Create Dictionary\n",
    "id2word = gensim.corpora.Dictionary(data_lemmatized)\n",
    "\n",
    "# Create Corpus\n",
    "texts = data_lemmatized\n",
    "\n",
    "# Term Document Frequency\n",
    "corpus = [id2word.doc2bow(text) for text in texts]\n",
    "\n",
    "# View\n",
    "# pprint(corpus[:1])\n",
    "# [[(id2word[id], freq) for id, freq in cp] for cp in corpus[:1]]"
   ]
  },
  {
   "cell_type": "markdown",
   "metadata": {},
   "source": [
    "### Model tuning and building"
   ]
  },
  {
   "cell_type": "code",
   "execution_count": 52,
   "metadata": {},
   "outputs": [
    {
     "data": {
      "image/png": "[encoded data removed]",
      "text/plain": [
       "<Figure size 432x288 with 1 Axes>"
      ]
     },
     "metadata": {
      "needs_background": "light"
     },
     "output_type": "display_data"
    }
   ],
   "source": [
    "### This step will cost some time\n",
    "coherence_score = []\n",
    "for i in range(2,16):\n",
    "    lda_model = gensim.models.ldamodel.LdaModel(corpus=corpus,\n",
    "                                           id2word=id2word,\n",
    "                                           num_topics=i, \n",
    "                                           random_state=100,\n",
    "                                           update_every=1,\n",
    "                                           chunksize=100,\n",
    "                                           passes=10,\n",
    "                                           alpha='auto',\n",
    "                                           per_word_topics=True)\n",
    "    coherence_model_lda = gensim.models.coherencemodel.CoherenceModel(model=lda_model, texts=data_lemmatized, dictionary=id2word, coherence='c_v')\n",
    "    coherence_lda = coherence_model_lda.get_coherence()\n",
    "    coherence_score.append(coherence_lda)\n",
    "\n",
    "num_topic = [i for i in range(2,16)]\n",
    "\n",
    "plt.plot(num_topic, coherence_score)\n",
    "plt.xlabel(\"Num Topics\")\n",
    "plt.ylabel(\"Coherence score\")\n",
    "plt.show()"
   ]
  },
  {
   "cell_type": "code",
   "execution_count": 53,
   "metadata": {},
   "outputs": [
    {
     "name": "stdout",
     "output_type": "stream",
     "text": [
      "[(0,\n",
      "  '0.069*\"disappoint\" + 0.036*\"surprise\" + 0.035*\"ok\" + 0.032*\"send\" + '\n",
      "  '0.031*\"due\" + 0.030*\"excited\" + 0.026*\"provide\" + 0.021*\"sugar\" + '\n",
      "  '0.019*\"completely\" + 0.018*\"mom\"'),\n",
      " (1,\n",
      "  '0.029*\"effort\" + 0.028*\"basically\" + 0.026*\"complete\" + 0.023*\"scream\" + '\n",
      "  '0.022*\"tonight\" + 0.018*\"wow\" + 0.015*\"sorry\" + 0.014*\"self\" + '\n",
      "  '0.013*\"applebee\" + 0.012*\"definite\"'),\n",
      " (2,\n",
      "  '0.053*\"tap\" + 0.032*\"flat\" + 0.022*\"ton\" + 0.021*\"classic\" + '\n",
      "  '0.019*\"homemade\" + 0.016*\"lady\" + 0.016*\"actual\" + 0.015*\"eventually\" + '\n",
      "  '0.010*\"tend\" + 0.008*\"terribly\"'),\n",
      " (3,\n",
      "  '0.045*\"flavor\" + 0.021*\"maybe\" + 0.020*\"meat\" + 0.018*\"spicy\" + '\n",
      "  '0.018*\"favorite\" + 0.017*\"add\" + 0.016*\"feel\" + 0.014*\"aioli\" + '\n",
      "  '0.014*\"couple\" + 0.011*\"expectation\"'),\n",
      " (4,\n",
      "  '0.041*\"minute\" + 0.040*\"table\" + 0.030*\"take\" + 0.023*\"server\" + '\n",
      "  '0.021*\"ask\" + 0.018*\"tell\" + 0.017*\"food\" + 0.016*\"would\" + 0.015*\"order\" + '\n",
      "  '0.014*\"wait\"'),\n",
      " (5,\n",
      "  '0.033*\"receive\" + 0.028*\"pork\" + 0.022*\"prompt\" + 0.022*\"certainly\" + '\n",
      "  '0.020*\"describe\" + 0.020*\"simply\" + 0.017*\"figure\" + 0.017*\"conversation\" + '\n",
      "  '0.015*\"man\" + 0.015*\"deliver\"'),\n",
      " (6,\n",
      "  '0.072*\"new\" + 0.049*\"ridiculous\" + 0.038*\"chance\" + 0.034*\"flavorful\" + '\n",
      "  '0.033*\"regret\" + 0.031*\"similar\" + 0.024*\"twice\" + 0.022*\"overprice\" + '\n",
      "  '0.015*\"generous\" + 0.014*\"case\"'),\n",
      " (7,\n",
      "  '0.086*\"shake\" + 0.042*\"top\" + 0.029*\"cheese\" + 0.026*\"fresh\" + '\n",
      "  '0.024*\"milkshake\" + 0.023*\"pudde\" + 0.021*\"egg\" + 0.020*\"sweet\" + '\n",
      "  '0.017*\"pudding\" + 0.015*\"onion\"'),\n",
      " (8,\n",
      "  '0.094*\"level\" + 0.049*\"compare\" + 0.041*\"kitchen\" + 0.020*\"tasteless\" + '\n",
      "  '0.014*\"uniqueness\" + 0.011*\"often\" + 0.010*\"thankfully\" + 0.009*\"peak\" + '\n",
      "  '0.009*\"anytime\" + 0.007*\"rage\"'),\n",
      " (9,\n",
      "  '0.050*\"burger\" + 0.031*\"good\" + 0.031*\"fry\" + 0.022*\"get\" + 0.019*\"wait\" + '\n",
      "  '0.018*\"order\" + 0.017*\"come\" + 0.017*\"food\" + 0.016*\"place\" + 0.015*\"go\"')]\n"
     ]
    }
   ],
   "source": [
    "### Build the model (Choose K = 10 here)\n",
    "\n",
    "lda_model = gensim.models.ldamodel.LdaModel(corpus=corpus,\n",
    "                                           id2word=id2word,\n",
    "                                           num_topics=10, \n",
    "                                           random_state=100,\n",
    "                                           update_every=1,\n",
    "                                           chunksize=100,\n",
    "                                           passes=10,\n",
    "                                           alpha='auto',\n",
    "                                           per_word_topics=True)\n",
    "\n",
    "pprint(lda_model.print_topics())\n",
    "doc_lda = lda_model[corpus]"
   ]
  },
  {
   "cell_type": "code",
   "execution_count": 54,
   "metadata": {},
   "outputs": [
    {
     "name": "stderr",
     "output_type": "stream",
     "text": [
      "/anaconda3/lib/python3.7/site-packages/pyLDAvis/_prepare.py:257: FutureWarning: Sorting because non-concatenation axis is not aligned. A future version\n",
      "of pandas will change to not sort by default.\n",
      "\n",
      "To accept the future behavior, pass 'sort=False'.\n",
      "\n",
      "To retain the current behavior and silence the warning, pass 'sort=True'.\n",
      "\n",
      "  return pd.concat([default_term_info] + list(topic_dfs))\n"
     ]
    },
    {
     "data": {
      "text/html": [
       "\n",
       "<link rel=\"stylesheet\" type=\"text/css\" href=\"https://cdn.rawgit.com/bmabey/pyLDAvis/files/ldavis.v1.0.0.css\">\n",
       "\n",
       "\n",
       "<div id=\"ldavis_el5901125403431761475680391\"></div>\n",
       "<script type=\"text/javascript\">\n",
       "\n",
       "var ldavis_el5901125403431761475680391_data = {\"mdsDat\": {\"x\": [0.36099496116942686, 0.320315688730855, -0.008211550959688917, -0.07158786786109911, -0.11192134397637506, -0.10681190291939452, -0.09894772962900113, -0.09453506065889662, -0.0957840740059004, -0.09351111988992564], \"y\": [0.004836580082411799, -0.0912204825254509, 0.3821335689958948, 0.02147147122307236, -0.06846939703067596, -0.059726601915773246, -0.05061385513664727, -0.04598228877967481, -0.04728405512856285, -0.04514493978459413], \"topics\": [1, 2, 3, 4, 5, 6, 7, 8, 9, 10], \"cluster\": [1, 1, 1, 1, 1, 1, 1, 1, 1, 1], \"Freq\": [66.84829711914062, 17.235166549682617, 7.520387172698975, 4.686976909637451, 1.2836251258850098, 1.065420150756836, 0.4748174548149109, 0.3074802756309509, 0.29794830083847046, 0.2798788547515869]}, \"tinfo\": {\"Category\": [\"Default\", \"Default\", \"Default\", \"Default\", \"Default\", \"Default\", \"Default\", \"Default\", \"Default\", \"Default\", \"Default\", \"Default\", \"Default\", \"Default\", \"Default\", \"Default\", \"Default\", \"Default\", \"Default\", \"Default\", \"Default\", \"Default\", \"Default\", \"Default\", \"Default\", \"Default\", \"Default\", \"Default\", \"Default\", \"Default\", \"Topic1\", \"Topic1\", \"Topic1\", \"Topic1\", \"Topic1\", \"Topic1\", \"Topic1\", \"Topic1\", \"Topic1\", \"Topic1\", \"Topic1\", \"Topic1\", \"Topic1\", \"Topic1\", \"Topic1\", \"Topic1\", \"Topic1\", \"Topic1\", \"Topic1\", \"Topic1\", \"Topic1\", \"Topic1\", \"Topic1\", \"Topic1\", \"Topic1\", \"Topic1\", \"Topic1\", \"Topic1\", \"Topic1\", \"Topic1\", \"Topic1\", \"Topic1\", \"Topic1\", \"Topic1\", \"Topic1\", \"Topic1\", \"Topic1\", \"Topic1\", \"Topic1\", \"Topic1\", \"Topic1\", \"Topic1\", \"Topic1\", \"Topic1\", \"Topic1\", \"Topic1\", \"Topic2\", \"Topic2\", \"Topic2\", \"Topic2\", \"Topic2\", \"Topic2\", \"Topic2\", \"Topic2\", \"Topic2\", \"Topic2\", \"Topic2\", \"Topic2\", \"Topic2\", \"Topic2\", \"Topic2\", \"Topic2\", \"Topic2\", \"Topic2\", \"Topic2\", \"Topic2\", \"Topic2\", \"Topic2\", \"Topic2\", \"Topic2\", \"Topic2\", \"Topic2\", \"Topic2\", \"Topic2\", \"Topic2\", \"Topic2\", \"Topic2\", \"Topic2\", \"Topic2\", \"Topic2\", \"Topic2\", \"Topic2\", \"Topic2\", \"Topic2\", \"Topic2\", \"Topic2\", \"Topic2\", \"Topic2\", \"Topic2\", \"Topic2\", \"Topic2\", \"Topic2\", \"Topic2\", \"Topic2\", \"Topic2\", \"Topic2\", \"Topic2\", \"Topic2\", \"Topic2\", \"Topic2\", \"Topic2\", \"Topic3\", \"Topic3\", \"Topic3\", \"Topic3\", \"Topic3\", \"Topic3\", \"Topic3\", \"Topic3\", \"Topic3\", \"Topic3\", \"Topic3\", \"Topic3\", \"Topic3\", \"Topic3\", \"Topic3\", \"Topic3\", \"Topic3\", \"Topic3\", \"Topic3\", \"Topic3\", \"Topic3\", \"Topic3\", \"Topic3\", \"Topic3\", \"Topic3\", \"Topic3\", \"Topic3\", \"Topic3\", \"Topic3\", \"Topic3\", \"Topic3\", \"Topic3\", \"Topic3\", \"Topic3\", \"Topic3\", \"Topic3\", \"Topic3\", \"Topic3\", \"Topic4\", \"Topic4\", \"Topic4\", \"Topic4\", \"Topic4\", \"Topic4\", \"Topic4\", \"Topic4\", \"Topic4\", \"Topic4\", \"Topic4\", \"Topic4\", \"Topic4\", \"Topic4\", \"Topic4\", \"Topic4\", \"Topic4\", \"Topic4\", \"Topic4\", \"Topic4\", \"Topic4\", \"Topic4\", \"Topic4\", \"Topic4\", \"Topic4\", \"Topic4\", \"Topic4\", \"Topic4\", \"Topic4\", \"Topic4\", \"Topic4\", \"Topic4\", \"Topic4\", \"Topic4\", \"Topic4\", \"Topic5\", \"Topic5\", \"Topic5\", \"Topic5\", \"Topic5\", \"Topic5\", \"Topic5\", \"Topic5\", \"Topic5\", \"Topic5\", \"Topic5\", \"Topic5\", \"Topic5\", \"Topic5\", \"Topic5\", \"Topic5\", \"Topic5\", \"Topic5\", \"Topic5\", \"Topic5\", \"Topic5\", \"Topic5\", \"Topic5\", \"Topic5\", \"Topic5\", \"Topic5\", \"Topic5\", \"Topic5\", \"Topic5\", \"Topic5\", \"Topic6\", \"Topic6\", \"Topic6\", \"Topic6\", \"Topic6\", \"Topic6\", \"Topic6\", \"Topic6\", \"Topic6\", \"Topic6\", \"Topic6\", \"Topic6\", \"Topic6\", \"Topic6\", \"Topic6\", \"Topic6\", \"Topic6\", \"Topic6\", \"Topic6\", \"Topic6\", \"Topic6\", \"Topic6\", \"Topic6\", \"Topic6\", \"Topic6\", \"Topic6\", \"Topic6\", \"Topic6\", \"Topic6\", \"Topic6\", \"Topic7\", \"Topic7\", \"Topic7\", \"Topic7\", \"Topic7\", \"Topic7\", \"Topic7\", \"Topic7\", \"Topic7\", \"Topic7\", \"Topic7\", \"Topic7\", \"Topic7\", \"Topic7\", \"Topic7\", \"Topic7\", \"Topic7\", \"Topic7\", \"Topic7\", \"Topic7\", \"Topic7\", \"Topic7\", \"Topic7\", \"Topic7\", \"Topic7\", \"Topic7\", \"Topic7\", \"Topic7\", \"Topic7\", \"Topic7\", \"Topic7\", \"Topic8\", \"Topic8\", \"Topic8\", \"Topic8\", \"Topic8\", \"Topic8\", \"Topic8\", \"Topic8\", \"Topic8\", \"Topic8\", \"Topic8\", \"Topic8\", \"Topic8\", \"Topic8\", \"Topic8\", \"Topic8\", \"Topic8\", \"Topic8\", \"Topic8\", \"Topic8\", \"Topic8\", \"Topic8\", \"Topic8\", \"Topic8\", \"Topic8\", \"Topic8\", \"Topic8\", \"Topic8\", \"Topic8\", \"Topic8\", \"Topic8\", \"Topic8\", \"Topic8\", \"Topic8\", \"Topic8\", \"Topic8\", \"Topic8\", \"Topic8\", \"Topic8\", \"Topic8\", \"Topic8\", \"Topic8\", \"Topic8\", \"Topic9\", \"Topic9\", \"Topic9\", \"Topic9\", \"Topic9\", \"Topic9\", \"Topic9\", \"Topic9\", \"Topic9\", \"Topic9\", \"Topic9\", \"Topic9\", \"Topic9\", \"Topic9\", \"Topic9\", \"Topic9\", \"Topic9\", \"Topic9\", \"Topic9\", \"Topic9\", \"Topic9\", \"Topic9\", \"Topic9\", \"Topic9\", \"Topic9\", \"Topic9\", \"Topic9\", \"Topic9\", \"Topic9\", \"Topic9\", \"Topic9\", \"Topic10\", \"Topic10\", \"Topic10\", \"Topic10\", \"Topic10\", \"Topic10\", \"Topic10\", \"Topic10\", \"Topic10\", \"Topic10\", \"Topic10\", \"Topic10\", \"Topic10\", \"Topic10\", \"Topic10\", \"Topic10\", \"Topic10\", \"Topic10\", \"Topic10\", \"Topic10\", \"Topic10\", \"Topic10\", \"Topic10\", \"Topic10\", \"Topic10\", \"Topic10\", \"Topic10\", \"Topic10\", \"Topic10\", \"Topic10\", \"Topic10\", \"Topic10\", \"Topic10\"], \"Freq\": [260.0, 558.0, 2040.0, 490.0, 409.0, 213.0, 1291.0, 1268.0, 383.0, 227.0, 127.0, 865.0, 188.0, 580.0, 896.0, 894.0, 128.0, 130.0, 85.0, 211.0, 936.0, 95.0, 657.0, 83.0, 313.0, 74.0, 113.0, 335.0, 181.0, 605.0, 2040.3291015625, 1290.7431640625, 1267.98974609375, 657.4365234375, 604.6531982421875, 579.9435424804688, 552.4752197265625, 326.63397216796875, 894.4745483398438, 291.0931701660156, 281.1371765136719, 275.4609069824219, 272.3162841796875, 271.60137939453125, 229.5203094482422, 227.20083618164062, 374.3236389160156, 208.7698211669922, 208.31463623046875, 202.37022399902344, 208.24473571777344, 193.15513610839844, 172.95819091796875, 172.88160705566406, 381.7809753417969, 166.88552856445312, 166.21237182617188, 186.47128295898438, 158.75653076171875, 154.64517211914062, 635.3291625976562, 387.8012390136719, 204.64161682128906, 351.3782958984375, 236.2782440185547, 388.6113586425781, 589.1851196289062, 696.866455078125, 352.93316650390625, 477.6899108886719, 788.8013916015625, 730.0468139648438, 401.9788818359375, 681.5087280273438, 313.91656494140625, 409.72723388671875, 226.78309631347656, 187.49522399902344, 121.6622085571289, 113.4495620727539, 75.45504760742188, 68.7510757446289, 67.10844421386719, 64.29075622558594, 58.72528076171875, 57.222537994384766, 55.385013580322266, 46.40676498413086, 45.53572463989258, 45.51335525512695, 45.46590042114258, 45.04136276245117, 63.46527099609375, 44.092742919921875, 43.20853805541992, 43.22046661376953, 43.160560607910156, 41.07481384277344, 37.518070220947266, 37.098812103271484, 36.236717224121094, 36.156551361083984, 35.572654724121094, 35.46504211425781, 35.02082061767578, 33.882965087890625, 88.74012756347656, 86.53873443603516, 51.44316101074219, 99.39463806152344, 122.30885314941406, 420.31219482421875, 79.64554595947266, 434.72991943359375, 72.87960052490234, 318.4956359863281, 103.92478942871094, 124.27580261230469, 248.87242126464844, 143.35601806640625, 124.93971252441406, 78.32061004638672, 85.66621398925781, 88.4086685180664, 170.38963317871094, 125.27833557128906, 183.49746704101562, 121.58761596679688, 164.41217041015625, 147.29763793945312, 76.77691650390625, 95.2400894165039, 84.86162567138672, 83.33123779296875, 80.92845153808594, 66.60565948486328, 64.42436981201172, 52.83909225463867, 50.576637268066406, 47.079803466796875, 45.10557556152344, 42.64299774169922, 41.7493782043457, 38.45724105834961, 35.89051055908203, 34.74106216430664, 34.13956069946289, 33.953285217285156, 32.74708938598633, 32.345680236816406, 32.006404876708984, 30.03897476196289, 29.820777893066406, 28.99897003173828, 26.98912239074707, 26.541749954223633, 26.51262092590332, 26.017393112182617, 25.62723731994629, 25.4438533782959, 25.035503387451172, 207.9332733154297, 41.477848052978516, 92.1263198852539, 76.3685531616211, 39.7571907043457, 35.46502685546875, 32.32381820678711, 30.895631790161133, 84.59947967529297, 74.21090698242188, 70.38279724121094, 66.75465393066406, 59.389888763427734, 48.954872131347656, 43.33671188354492, 39.0130615234375, 38.43529510498047, 36.37042999267578, 33.311702728271484, 30.113948822021484, 27.870464324951172, 27.41477394104004, 23.471755981445312, 22.609521865844727, 22.436189651489258, 21.10028076171875, 20.86343765258789, 20.102020263671875, 19.58780860900879, 19.285043716430664, 19.117090225219727, 18.77215003967285, 17.913835525512695, 17.108661651611328, 15.830025672912598, 15.706255912780762, 15.332927703857422, 15.159708976745605, 247.66978454589844, 121.7170639038086, 57.24555587768555, 31.677404403686523, 17.5755615234375, 26.27880096435547, 21.75151252746582, 17.675302505493164, 17.511552810668945, 15.778848648071289, 15.514904975891113, 13.59171199798584, 13.068270683288574, 12.0779447555542, 11.470720291137695, 11.120020866394043, 10.577007293701172, 9.730003356933594, 9.661243438720703, 9.448692321777344, 9.347038269042969, 9.194488525390625, 8.835002899169922, 8.741305351257324, 8.169208526611328, 7.811809539794922, 7.605763912200928, 6.9144721031188965, 6.825790882110596, 6.774023532867432, 6.506894111633301, 6.421845436096191, 6.32174015045166, 6.1757283210754395, 5.800731182098389, 45.46456527709961, 23.698883056640625, 23.207895278930664, 21.187164306640625, 20.369293212890625, 19.59127426147461, 16.886005401611328, 13.599563598632812, 12.347776412963867, 11.652294158935547, 11.114545822143555, 10.414313316345215, 9.083769798278809, 7.936465740203857, 7.3960771560668945, 6.577639102935791, 6.359898090362549, 6.30501651763916, 6.219719409942627, 5.773533344268799, 5.644888401031494, 5.1762471199035645, 4.719202518463135, 4.670933723449707, 4.216899394989014, 3.4528141021728516, 3.321822166442871, 3.0874710083007812, 2.9848551750183105, 2.6648457050323486, 20.974294662475586, 14.455180168151855, 11.177420616149902, 9.996768951416016, 9.539909362792969, 8.995311737060547, 6.879740238189697, 6.320279121398926, 4.280066967010498, 4.02085018157959, 3.4600863456726074, 2.0168659687042236, 1.661051869392395, 1.5969780683517456, 1.4628136157989502, 1.1487151384353638, 0.6196045279502869, 0.6140267252922058, 0.6003879904747009, 0.48198556900024414, 0.4039781391620636, 0.3931618630886078, 0.35213977098464966, 0.05252647399902344, 0.05504123866558075, 0.0505807064473629, 0.0505807064473629, 0.0505807064473629, 0.0505807064473629, 0.05531882867217064, 0.05229383334517479, 5.512057781219482, 5.281482696533203, 4.922965049743652, 4.4068121910095215, 4.227341175079346, 3.489396572113037, 2.8349175453186035, 2.5594382286071777, 2.5351648330688477, 2.3286004066467285, 1.785023808479309, 1.7009861469268799, 1.6401835680007935, 1.5908024311065674, 1.502851963043213, 1.2827790975570679, 1.1778621673583984, 1.1200098991394043, 1.0151876211166382, 0.9118910431861877, 0.15184541046619415, 0.04262978583574295, 0.037936121225357056, 0.037765469402074814, 0.03785629943013191, 0.040197648108005524, 0.03494415432214737, 0.03632722049951553, 0.03632722049951553, 0.03632722049951553, 0.03632722049951553, 0.03632722049951553, 0.03632722049951553, 0.03632722049951553, 0.03632722049951553, 0.03632722049951553, 0.03787878900766373, 0.03787878900766373, 0.03787878900766373, 0.03787878900766373, 0.03787878900766373, 0.03787878900766373, 0.03787878900766373, 17.180776596069336, 8.986560821533203, 7.582427024841309, 3.73689866065979, 2.6356453895568848, 2.0518786907196045, 1.763038158416748, 1.6375477313995361, 1.588343858718872, 1.2559983730316162, 1.2561229467391968, 1.198398232460022, 1.1799767017364502, 1.1070952415466309, 1.0207504034042358, 0.682386577129364, 0.5872151851654053, 0.5489675998687744, 0.2564641833305359, 0.13903261721134186, 0.05687680095434189, 0.04764325171709061, 0.04764325171709061, 0.04764325171709061, 0.04764325171709061, 0.04764325171709061, 0.04764325171709061, 0.04764325171709061, 0.03810463473200798, 0.03810463473200798, 0.03810463473200798, 9.216859817504883, 5.5748291015625, 3.7203617095947266, 3.5734212398529053, 3.3454887866973877, 2.819969892501831, 2.7433383464813232, 2.573368787765503, 1.6396839618682861, 1.3314714431762695, 1.193509817123413, 1.0330113172531128, 0.9306883811950684, 0.8132564425468445, 0.7612783312797546, 0.6990142464637756, 0.6515933275222778, 0.6016796231269836, 0.4835617244243622, 0.4114678204059601, 0.15683872997760773, 0.14048321545124054, 0.03745771199464798, 0.034271933138370514, 0.034271933138370514, 0.034233566373586655, 0.033191028982400894, 0.03423992916941643, 0.03142201900482178, 0.03160490468144417, 0.03288634866476059, 0.031834542751312256, 0.03267878293991089], \"Term\": [\"shake\", \"minute\", \"burger\", \"table\", \"take\", \"flavor\", \"good\", \"fry\", \"server\", \"ask\", \"top\", \"food\", \"tell\", \"would\", \"get\", \"order\", \"sauce\", \"meat\", \"cheese\", \"drink\", \"wait\", \"maybe\", \"place\", \"sweet\", \"seat\", \"fresh\", \"feel\", \"say\", \"see\", \"really\", \"burger\", \"good\", \"fry\", \"place\", \"really\", \"great\", \"try\", \"also\", \"get\", \"amazing\", \"want\", \"definitely\", \"long\", \"love\", \"worth\", \"farm\", \"eat\", \"nice\", \"menu\", \"ever\", \"little\", \"bit\", \"price\", \"staff\", \"well\", \"delicious\", \"way\", \"burgr\", \"enjoy\", \"friendly\", \"go\", \"truffle\", \"expect\", \"line\", \"much\", \"make\", \"service\", \"come\", \"back\", \"time\", \"wait\", \"order\", \"restaurant\", \"food\", \"taste\", \"would\", \"ask\", \"tell\", \"hostess\", \"manager\", \"finally\", \"arrive\", \"else\", \"wife\", \"water\", \"empty\", \"walk\", \"help\", \"text\", \"slow\", \"money\", \"option\", \"ready\", \"girl\", \"min\", \"read\", \"bill\", \"ketchup\", \"salad\", \"close\", \"problem\", \"charge\", \"free\", \"issue\", \"run\", \"sick\", \"bring\", \"review\", \"however\", \"customer\", \"check\", \"table\", \"busy\", \"minute\", \"least\", \"take\", \"many\", \"never\", \"server\", \"drink\", \"see\", \"leave\", \"waitress\", \"sit\", \"would\", \"seat\", \"food\", \"say\", \"order\", \"wait\", \"hour\", \"maybe\", \"spicy\", \"favorite\", \"add\", \"aioli\", \"couple\", \"expectation\", \"hamburger\", \"boyfriend\", \"especially\", \"reasonable\", \"roast\", \"parmesan\", \"special\", \"combination\", \"salt\", \"extra\", \"beef\", \"mind\", \"home\", \"outstanding\", \"stuff\", \"joint\", \"attention\", \"inside\", \"grill\", \"spice\", \"pink\", \"buck\", \"standard\", \"flavor\", \"spend\", \"meat\", \"feel\", \"use\", \"thick\", \"perfectly\", \"wing\", \"cheese\", \"fresh\", \"milkshake\", \"pudde\", \"egg\", \"pudding\", \"onion\", \"fast\", \"fill\", \"wonderful\", \"dipping_sauce\", \"dip\", \"personal\", \"pork_belly\", \"soft\", \"vegetarian\", \"coffee\", \"town\", \"chocolate\", \"cookie\", \"rich\", \"promptly\", \"thought\", \"stick\", \"old\", \"wood\", \"total\", \"meet\", \"suggestion\", \"lettuce\", \"shake\", \"top\", \"sweet\", \"sauce\", \"dessert\", \"receive\", \"pork\", \"prompt\", \"certainly\", \"describe\", \"simply\", \"figure\", \"conversation\", \"man\", \"deliver\", \"blame\", \"management\", \"holstein\", \"follow\", \"replace\", \"ensure\", \"rare\", \"ice\", \"apology\", \"desert\", \"survey\", \"properly\", \"correctly\", \"spill\", \"corner\", \"raw\", \"decor\", \"temp\", \"female\", \"appeal\", \"disappoint\", \"surprise\", \"ok\", \"send\", \"due\", \"excited\", \"provide\", \"sugar\", \"completely\", \"mom\", \"runny\", \"cause\", \"anyway\", \"anniversary\", \"dream\", \"substitute\", \"equally\", \"fail\", \"greasy\", \"funny\", \"window\", \"cent\", \"will\", \"stale\", \"addition\", \"design\", \"push\", \"allergy\", \"desire\", \"scratch\", \"new\", \"ridiculous\", \"chance\", \"flavorful\", \"regret\", \"similar\", \"twice\", \"overprice\", \"generous\", \"case\", \"swiss\", \"delectable\", \"sweetness\", \"culinary\", \"combo\", \"coworker\", \"feature\", \"inhale\", \"oven_roaste\", \"blt\", \"edible\", \"country\", \"buddy\", \"doughnut\", \"cesar\", \"partnership\", \"marketing\", \"despondent\", \"presence\", \"study\", \"central\", \"effort\", \"basically\", \"complete\", \"scream\", \"tonight\", \"wow\", \"sorry\", \"self\", \"applebee\", \"definite\", \"pub\", \"straw\", \"take_reservation\", \"street\", \"feeling\", \"hardly\", \"round\", \"nothing_special\", \"opposite\", \"parking\", \"tantalize\", \"ear\", \"explosive\", \"hazelnut_pudding\", \"robot\", \"central\", \"branch\", \"dressed\", \"goggle\", \"individually\", \"collect\", \"booze\", \"unappealing\", \"shot_glasse\", \"reveal\", \"exact\", \"broad\", \"promotional\", \"hyperbole\", \"entirely\", \"cosmo\", \"attendant\", \"deck\", \"level\", \"compare\", \"kitchen\", \"tasteless\", \"uniqueness\", \"often\", \"thankfully\", \"peak\", \"anytime\", \"prime\", \"rage\", \"brit\", \"eatery\", \"stunning\", \"explore\", \"entertaining\", \"unconventional\", \"wowed\", \"pant\", \"got\", \"godawful\", \"broad\", \"cosmo\", \"entirely\", \"attendant\", \"deck\", \"promotional\", \"hyperbole\", \"prosciutto\", \"infinitely\", \"abominable\", \"tap\", \"flat\", \"ton\", \"classic\", \"homemade\", \"lady\", \"actual\", \"eventually\", \"tend\", \"terribly\", \"city\", \"fiance\", \"specifically\", \"drinking\", \"separate\", \"drunk\", \"logo\", \"ginger\", \"sticky\", \"char\", \"novelty\", \"property\", \"bind\", \"delightfully\", \"constitute\", \"elaborate\", \"poppers\", \"distance\", \"sensational\", \"outrage\", \"fulfil\", \"sriracha\", \"frisee\"], \"Total\": [260.0, 558.0, 2040.0, 490.0, 409.0, 213.0, 1291.0, 1268.0, 383.0, 227.0, 127.0, 865.0, 188.0, 580.0, 896.0, 894.0, 128.0, 130.0, 85.0, 211.0, 936.0, 95.0, 657.0, 83.0, 313.0, 74.0, 113.0, 335.0, 181.0, 605.0, 2040.8909912109375, 1291.2811279296875, 1268.7012939453125, 657.9746704101562, 605.1912841796875, 580.4815673828125, 553.0133056640625, 327.180419921875, 896.0961303710938, 291.6312561035156, 281.6760559082031, 275.9989929199219, 272.8543395996094, 272.13946533203125, 230.05833435058594, 227.73887634277344, 375.2315979003906, 209.30784606933594, 208.8527374267578, 202.9082489013672, 208.799560546875, 193.69317626953125, 173.4962158203125, 173.4197235107422, 382.97515869140625, 167.42356872558594, 166.75045776367188, 187.09774780273438, 159.29457092285156, 155.18321228027344, 640.8079223632812, 389.5146179199219, 205.5986328125, 356.8705749511719, 238.89991760253906, 399.62286376953125, 625.90576171875, 763.861083984375, 369.82177734375, 529.906005859375, 936.544677734375, 894.9046630859375, 455.01141357421875, 865.451904296875, 339.91436767578125, 580.5626220703125, 227.3302001953125, 188.04237365722656, 122.23171997070312, 113.99664306640625, 76.00211334228516, 69.29817199707031, 67.65557098388672, 64.83796691894531, 59.27237319946289, 57.76961898803711, 55.93207931518555, 46.95389175415039, 46.08283996582031, 46.06043243408203, 46.01300811767578, 45.5885009765625, 64.2497787475586, 44.63982391357422, 43.75559997558594, 43.7676887512207, 43.70764923095703, 41.62198257446289, 38.06520462036133, 37.64600372314453, 36.7838134765625, 36.703643798828125, 36.11978530883789, 36.01214599609375, 35.567935943603516, 34.430091857910156, 90.35249328613281, 88.1233901977539, 52.543312072753906, 104.57195281982422, 131.9890594482422, 490.1767883300781, 86.48815155029297, 558.7259521484375, 78.60575103759766, 409.4787292480469, 116.9980697631836, 153.93995666503906, 383.1587219238281, 211.30975341796875, 181.4345245361328, 99.969482421875, 131.26280212402344, 151.347412109375, 580.5626220703125, 313.9044494628906, 865.451904296875, 335.7852478027344, 894.9046630859375, 936.544677734375, 122.06230163574219, 95.78422546386719, 85.41302490234375, 83.8753662109375, 81.47303009033203, 67.1497802734375, 64.96855163574219, 53.38320541381836, 51.1207389831543, 47.62390899658203, 45.64973068237305, 43.187191009521484, 42.31822204589844, 39.001373291015625, 36.43461227416992, 35.285221099853516, 34.683650970458984, 34.49739456176758, 33.29119110107422, 32.88982009887695, 32.550601959228516, 30.583078384399414, 30.364906311035156, 29.543067932128906, 27.53333854675293, 27.085908889770508, 27.056791305541992, 26.561622619628906, 26.171348571777344, 25.98797035217285, 25.57961654663086, 213.3817901611328, 42.674705505371094, 130.35336303710938, 113.92860412597656, 48.52374267578125, 54.77717971801758, 55.998451232910156, 63.555870056152344, 85.14982604980469, 74.76130676269531, 70.93305969238281, 67.30490112304688, 59.940185546875, 49.50513458251953, 43.88700866699219, 39.563331604003906, 38.985774993896484, 36.92074203491211, 33.86204147338867, 30.664257049560547, 28.420915603637695, 27.96508026123047, 24.02204132080078, 23.159826278686523, 22.986425399780273, 21.65058135986328, 21.4136905670166, 20.652297973632812, 20.138105392456055, 19.835708618164062, 19.66736602783203, 19.322620391845703, 18.46418571472168, 17.659107208251953, 16.380325317382812, 16.256580352783203, 15.883387565612793, 15.710043907165527, 260.1119079589844, 127.71480560302734, 83.63711547851562, 128.10989379882812, 68.11103057861328, 26.85102081298828, 22.32371711730957, 18.24782943725586, 18.08386993408203, 16.35118865966797, 16.08718490600586, 14.163985252380371, 13.640549659729004, 12.650197982788086, 12.042997360229492, 11.692615509033203, 11.149262428283691, 10.30229377746582, 10.233497619628906, 10.02095890045166, 9.919343948364258, 9.76672077178955, 9.407301902770996, 9.313599586486816, 8.741496086120605, 8.384157180786133, 8.178037643432617, 7.486708164215088, 7.398187160491943, 7.34640645980835, 7.079173564910889, 6.994053840637207, 6.894665718078613, 6.7479448318481445, 6.3730058670043945, 46.03838348388672, 24.272798538208008, 23.781715393066406, 21.76096534729004, 20.943450927734375, 20.165042877197266, 17.45992660522461, 14.17338752746582, 12.921540260314941, 12.226225852966309, 11.68857479095459, 10.988093376159668, 9.657647132873535, 8.51027774810791, 7.970052719116211, 7.151449680328369, 6.933835029602051, 6.8789286613464355, 6.793481349945068, 6.347355842590332, 6.219035625457764, 5.750621795654297, 5.29299259185791, 5.244776725769043, 4.790699481964111, 4.026601791381836, 3.8956096172332764, 3.6612961292266846, 3.5585875511169434, 3.238999843597412, 21.57329750061035, 15.054304122924805, 11.776423454284668, 10.59565544128418, 10.138825416564941, 9.594353675842285, 7.478622913360596, 6.9191694259643555, 4.879017353057861, 4.619998455047607, 4.059304714202881, 2.615795612335205, 2.26020884513855, 2.1958608627319336, 2.061755418777466, 1.747665524482727, 1.2184427976608276, 1.2129188776016235, 1.1992944478988647, 1.0809718370437622, 1.0027967691421509, 0.9920291900634766, 0.9510555267333984, 0.684823751449585, 0.7433282136917114, 0.6843146085739136, 0.6843146085739136, 0.6843146085739136, 0.6843146085739136, 0.7580111026763916, 0.737012505531311, 6.120859146118164, 5.8901591300964355, 5.531792163848877, 5.015661716461182, 4.836026191711426, 4.098761081695557, 3.443664073944092, 3.1681480407714844, 3.144256114959717, 2.939656972885132, 2.393777370452881, 2.309828519821167, 2.2487759590148926, 2.199427604675293, 2.111527442932129, 1.8917783498764038, 1.786511778831482, 1.7285887002944946, 1.6238713264465332, 1.5204617977142334, 0.7604470252990723, 0.6863091588020325, 0.6663119196891785, 0.6757257580757141, 0.6796266436576843, 0.737012505531311, 0.6473149061203003, 0.6791391968727112, 0.6791391968727112, 0.6791391968727112, 0.6791391968727112, 0.6791391968727112, 0.6791391968727112, 0.6791391968727112, 0.6791391968727112, 0.6791391968727112, 0.8330457806587219, 0.8330457806587219, 0.8330457806587219, 0.8330457806587219, 0.8330457806587219, 0.8330457806587219, 0.8330457806587219, 17.791929244995117, 9.597580909729004, 8.193455696105957, 4.347970485687256, 3.246981382369995, 2.662799596786499, 2.37479567527771, 2.248469352722168, 2.199314832687378, 1.8669204711914062, 1.87098228931427, 1.809902310371399, 1.790977954864502, 1.7187883853912354, 1.631771445274353, 1.293969750404358, 1.1981687545776367, 1.1599608659744263, 0.8673795461654663, 0.7499216794967651, 0.7209628820419312, 0.8330457806587219, 0.8330457806587219, 0.8330457806587219, 0.8330457806587219, 0.8330457806587219, 0.8330457806587219, 0.8330457806587219, 0.6748101711273193, 0.6748101711273193, 0.6748101711273193, 9.82759952545166, 6.186307907104492, 4.331037998199463, 4.18430757522583, 3.956235885620117, 3.4306633472442627, 3.354172706604004, 3.1843349933624268, 2.250338077545166, 1.9421820640563965, 1.8041656017303467, 1.6436365842819214, 1.5414515733718872, 1.424057960510254, 1.3719080686569214, 1.3096392154693604, 1.2629389762878418, 1.2122938632965088, 1.0942504405975342, 1.0220927000045776, 0.7674869298934937, 0.7510751485824585, 0.6852145791053772, 0.6896160244941711, 0.6896160244941711, 0.6891310811042786, 0.6728686690330505, 0.7056238651275635, 0.6571620106697083, 0.6609922647476196, 0.724218487739563, 0.6804261207580566, 0.7947221994400024], \"loglift\": [30.0, 29.0, 28.0, 27.0, 26.0, 25.0, 24.0, 23.0, 22.0, 21.0, 20.0, 19.0, 18.0, 17.0, 16.0, 15.0, 14.0, 13.0, 12.0, 11.0, 10.0, 9.0, 8.0, 7.0, 6.0, 5.0, 4.0, 3.0, 2.0, 1.0, 0.4025000035762787, 0.40230000019073486, 0.40220001339912415, 0.4018999934196472, 0.4018999934196472, 0.4018000066280365, 0.4018000066280365, 0.4011000096797943, 0.4009000062942505, 0.4009000062942505, 0.4007999897003174, 0.4007999897003174, 0.4007999897003174, 0.4007999897003174, 0.4004000127315521, 0.4004000127315521, 0.400299996137619, 0.4002000093460083, 0.4002000093460083, 0.4000999927520752, 0.4000999927520752, 0.4000000059604645, 0.39959999918937683, 0.39959999918937683, 0.39959999918937683, 0.3995000123977661, 0.3995000123977661, 0.399399995803833, 0.399399995803833, 0.3993000090122223, 0.39419999718666077, 0.3982999920845032, 0.39809998869895935, 0.3871999979019165, 0.39169999957084656, 0.3747999966144562, 0.3422999978065491, 0.3109999895095825, 0.35600000619888306, 0.29899999499320984, 0.23109999299049377, 0.19910000264644623, 0.27880001068115234, 0.16380000114440918, 0.323199987411499, 0.05420000106096268, 1.7558000087738037, 1.7553000450134277, 1.753499984741211, 1.7533999681472778, 1.7510000467300415, 1.7503000497817993, 1.750100016593933, 1.7496999502182007, 1.748900055885315, 1.7487000226974487, 1.7483999729156494, 1.746500015258789, 1.7462999820709229, 1.7462999820709229, 1.7462999820709229, 1.7460999488830566, 1.74590003490448, 1.74590003490448, 1.7455999851226807, 1.7455999851226807, 1.7455999851226807, 1.7450000047683716, 1.7437000274658203, 1.7436000108718872, 1.7431999444961548, 1.7431999444961548, 1.7430000305175781, 1.742900013923645, 1.7426999807357788, 1.7422000169754028, 1.7402000427246094, 1.7401000261306763, 1.7371000051498413, 1.7073999643325806, 1.6820000410079956, 1.6045000553131104, 1.6757999658584595, 1.5073000192642212, 1.6826000213623047, 1.5068999528884888, 1.6397000551223755, 1.5441999435424805, 1.32669997215271, 1.3702000379562378, 1.385200023651123, 1.51419997215271, 1.3315000534057617, 1.2206000089645386, 0.5322999954223633, 0.8396999835968018, 0.20720000565052032, 0.7423999905586243, 0.06390000134706497, -0.09149999916553497, 1.294600009918213, 2.581899881362915, 2.5810999870300293, 2.5810000896453857, 2.5808000564575195, 2.579400062561035, 2.5790998935699463, 2.5773000717163086, 2.576900005340576, 2.5761001110076904, 2.5755999088287354, 2.574899911880493, 2.5739998817443848, 2.573499917984009, 2.572499990463257, 2.572000026702881, 2.571700096130371, 2.571700096130371, 2.5710999965667725, 2.5708999633789062, 2.57069993019104, 2.5696001052856445, 2.569499969482422, 2.569000005722046, 2.5676000118255615, 2.5673000812530518, 2.567199945449829, 2.5669000148773193, 2.566499948501587, 2.5664000511169434, 2.5660998821258545, 2.5617001056671143, 2.5590999126434326, 2.240499973297119, 2.1875998973846436, 2.3882999420166016, 2.1528000831604004, 2.0380001068115234, 1.8661999702453613, 3.0539000034332275, 3.052999973297119, 3.0525999069213867, 3.0522000789642334, 3.0511999130249023, 3.0492000579833984, 3.047800064086914, 3.0464000701904297, 3.0462000370025635, 3.0453999042510986, 3.0439999103546143, 3.04229998588562, 3.040800094604492, 3.0404999256134033, 3.0371999740600586, 3.03629994392395, 3.0362000465393066, 3.034600019454956, 3.03439998626709, 3.033400058746338, 3.0327000617980957, 3.0322000980377197, 3.0320000648498535, 3.0315001010894775, 3.030100107192993, 3.028700113296509, 3.02620005607605, 3.025899887084961, 3.025099992752075, 3.0246999263763428, 3.011399984359741, 3.0123000144958496, 2.6812000274658203, 1.663100004196167, 1.7058000564575195, 4.333899974822998, 4.329500198364258, 4.323599815368652, 4.323299884796143, 4.319900035858154, 4.319300174713135, 4.314199924468994, 4.312600135803223, 4.309199810028076, 4.30679988861084, 4.305300235748291, 4.302800178527832, 4.298299789428711, 4.297900199890137, 4.2967000007629395, 4.29610013961792, 4.295100212097168, 4.292699813842773, 4.292099952697754, 4.287799835205078, 4.284800052642822, 4.282899856567383, 4.276000022888184, 4.275000095367432, 4.274400234222412, 4.271200180053711, 4.270100116729736, 4.268700122833252, 4.266900062561035, 4.26140022277832, 4.529300212860107, 4.517899990081787, 4.517399787902832, 4.515100002288818, 4.513999938964844, 4.512899875640869, 4.508399963378906, 4.500500202178955, 4.496399879455566, 4.49370002746582, 4.491399765014648, 4.4882001876831055, 4.480500221252441, 4.4720001220703125, 4.467100143432617, 4.458199977874756, 4.455399990081787, 4.454699993133545, 4.45359992980957, 4.447000026702881, 4.444900035858154, 4.436600208282471, 4.42710018157959, 4.425899982452393, 4.4141998291015625, 4.3881001472473145, 4.382500171661377, 4.371300220489502, 4.366000175476074, 4.346700191497803, 5.321800231933594, 5.3094000816345215, 5.297800064086914, 5.291800022125244, 5.289100170135498, 5.2855000495910645, 5.266499996185303, 5.259500026702881, 5.218999862670898, 5.211100101470947, 5.190299987792969, 5.090000152587891, 5.041999816894531, 5.031499862670898, 5.006800174713135, 4.9303998947143555, 4.673699855804443, 4.6691999435424805, 4.658100128173828, 4.542300224304199, 4.440800189971924, 4.424499988555908, 4.356500148773193, 2.7822000980377197, 2.7469000816345215, 2.7451000213623047, 2.7451000213623047, 2.7451000213623047, 2.7451000213623047, 2.7323999404907227, 2.7042999267578125, 5.679800033569336, 5.6753997802734375, 5.667900085449219, 5.655099868774414, 5.650000095367432, 5.623600006103516, 5.590000152587891, 5.571199893951416, 5.569200038909912, 5.551499843597412, 5.491099834442139, 5.478499889373779, 5.468900203704834, 5.460599899291992, 5.444499969482422, 5.395999908447266, 5.368000030517578, 5.350500106811523, 5.314799785614014, 5.2733001708984375, 4.173500061035156, 3.00570011138916, 2.9186999797821045, 2.900099992752075, 2.8968000411987305, 2.875699996948242, 2.8654000759124756, 2.856300115585327, 2.856300115585327, 2.856300115585327, 2.856300115585327, 2.856300115585327, 2.856300115585327, 2.856300115585327, 2.856300115585327, 2.856300115585327, 2.6937999725341797, 2.6937999725341797, 2.6937999725341797, 2.6937999725341797, 2.6937999725341797, 2.6937999725341797, 2.6937999725341797, 5.781099796295166, 5.750199794769287, 5.738500118255615, 5.664599895477295, 5.607399940490723, 5.5553998947143555, 5.518099784851074, 5.499000072479248, 5.490600109100342, 5.419600009918213, 5.417600154876709, 5.40369987487793, 5.39870023727417, 5.376100063323975, 5.34689998626709, 5.17609977722168, 5.102799892425537, 5.06790018081665, 4.597499847412109, 4.13070011138916, 3.2762999534606934, 2.954699993133545, 2.954699993133545, 2.954699993133545, 2.954699993133545, 2.954699993133545, 2.954699993133545, 2.954699993133545, 2.9419000148773193, 2.9419000148773193, 2.9419000148773193, 5.8144001960754395, 5.774499893188477, 5.726600170135498, 5.720799922943115, 5.710899829864502, 5.682499885559082, 5.677499771118164, 5.665500164031982, 5.561999797821045, 5.500999927520752, 5.465400218963623, 5.414100170135498, 5.374000072479248, 5.318299770355225, 5.289599895477295, 5.250699996948242, 5.216800212860107, 5.177999973297119, 5.0619001388549805, 4.968699932098389, 4.2906999588012695, 4.202199935913086, 2.9719998836517334, 2.876800060272217, 2.876800060272217, 2.876300096511841, 2.86929988861084, 2.8529000282287598, 2.838099956512451, 2.838099956512451, 2.7864999771118164, 2.8164000511169434, 2.687299966812134], \"logprob\": [30.0, 29.0, 28.0, 27.0, 26.0, 25.0, 24.0, 23.0, 22.0, 21.0, 20.0, 19.0, 18.0, 17.0, 16.0, 15.0, 14.0, 13.0, 12.0, 11.0, 10.0, 9.0, 8.0, 7.0, 6.0, 5.0, 4.0, 3.0, 2.0, 1.0, -3.004300117492676, -3.462100028991699, -3.4798998832702637, -4.1367998123168945, -4.2204999923706055, -4.262199878692627, -4.310699939727783, -4.836299896240234, -3.828900098800659, -4.951499938964844, -4.986299991607666, -5.006700038909912, -5.018199920654297, -5.0208001136779785, -5.1890997886657715, -5.1992998123168945, -4.699999809265137, -5.283899784088135, -5.286099910736084, -5.315000057220459, -5.286399841308594, -5.361599922180176, -5.472099781036377, -5.472499847412109, -4.680300235748291, -5.507800102233887, -5.511899948120117, -5.3968000411987305, -5.557700157165527, -5.584000110626221, -4.171000003814697, -4.664599895477295, -5.303899765014648, -4.763299942016602, -5.160099983215332, -4.662499904632568, -4.246399879455566, -4.078499794006348, -4.758800029754639, -4.456200122833252, -3.9546000957489014, -4.0320000648498535, -4.628699779510498, -4.100800037384033, -4.875999927520752, -4.609600067138672, -3.8457000255584717, -4.035900115966797, -4.468400001525879, -4.538300037384033, -4.946100234985352, -5.0391998291015625, -5.063300132751465, -5.106200218200684, -5.196800231933594, -5.222700119018555, -5.255300045013428, -5.432199954986572, -5.451200008392334, -5.451600074768066, -5.452700138092041, -5.462100028991699, -5.119200229644775, -5.483399868011475, -5.503600120544434, -5.503300189971924, -5.504700183868408, -5.554299831390381, -5.644800186157227, -5.656099796295166, -5.679599761962891, -5.68179988861084, -5.6981000900268555, -5.701099872589111, -5.713699817657471, -5.746699810028076, -4.783899784088135, -4.809100151062012, -5.32919979095459, -4.670499801635742, -4.463099956512451, -3.228600025177002, -4.892099857330322, -3.1949000358581543, -4.980800151824951, -3.50600004196167, -4.625999927520752, -4.4471001625061035, -3.752700090408325, -4.304299831390381, -4.441800117492676, -4.90880012512207, -4.819200038909912, -4.787700176239014, -4.1315999031066895, -4.4390997886657715, -4.057400226593018, -4.468999862670898, -4.167300224304199, -4.277200222015381, -4.928699970245361, -3.8838999271392822, -3.999300003051758, -4.017499923706055, -4.0467000007629395, -4.241499900817871, -4.274799823760986, -4.473100185394287, -4.5167999267578125, -4.588500022888184, -4.63129997253418, -4.687399864196777, -4.708600044250488, -4.790800094604492, -4.859799861907959, -4.892399787902832, -4.909900188446045, -4.915299892425537, -4.951499938964844, -4.963799953460693, -4.974400043487549, -5.037799835205078, -5.045100212097168, -5.0731000900268555, -5.144899845123291, -5.161600112915039, -5.162700176239014, -5.18149995803833, -5.196700096130371, -5.203800201416016, -5.21999979019165, -3.103100061416626, -4.715199947357178, -3.9172000885009766, -4.104700088500977, -4.757500171661377, -4.871799945831299, -4.9644999504089355, -5.009699821472168, -3.529599905014038, -3.660599946975708, -3.7135000228881836, -3.7664999961853027, -3.8833999633789062, -4.076600074768066, -4.198500156402588, -4.303599834442139, -4.31850004196167, -4.373700141906738, -4.461599826812744, -4.5625, -4.639900207519531, -4.656400203704834, -4.811699867248535, -4.849100112915039, -4.856800079345703, -4.9182000160217285, -4.929500102996826, -4.966700077056885, -4.992599964141846, -5.008200168609619, -5.016900062561035, -5.035099983215332, -5.081900119781494, -5.127900123596191, -5.205599784851074, -5.213399887084961, -5.237500190734863, -5.248799800872803, -2.455399990081787, -3.165800094604492, -3.920099973678589, -4.511899948120117, -5.10099983215332, -3.403599977493286, -3.5927000045776367, -3.8001999855041504, -3.809499979019165, -3.9137001037597656, -3.9305999279022217, -4.062900066375732, -4.102200031280518, -4.181000232696533, -4.232600212097168, -4.263599872589111, -4.313700199127197, -4.397200107574463, -4.404300212860107, -4.426499843597412, -4.437300205230713, -4.453800201416016, -4.49370002746582, -4.504300117492676, -4.572000026702881, -4.616700172424316, -4.643499851226807, -4.738800048828125, -4.751699924468994, -4.759300231933594, -4.799499988555908, -4.812699794769287, -4.828400135040283, -4.851799964904785, -4.914400100708008, -2.669100046157837, -3.3206000328063965, -3.341599941253662, -3.4326999187469482, -3.4719998836517334, -3.510999917984009, -3.659600019454956, -3.875999927520752, -3.972599983215332, -4.030600070953369, -4.0777997970581055, -4.142899990081787, -4.279600143432617, -4.414599895477295, -4.485099792480469, -4.602399826049805, -4.636099815368652, -4.644700050354004, -4.658299922943115, -4.732800006866455, -4.755300045013428, -4.8420000076293945, -4.9344000816345215, -4.944699764251709, -5.046999931335449, -5.2469000816345215, -5.285600185394287, -5.358699798583984, -5.392499923706055, -5.505899906158447, -2.6345999240875244, -3.0067999362945557, -3.2639999389648438, -3.3756000995635986, -3.4223999977111816, -3.4811999797821045, -3.749300003051758, -3.8341000080108643, -4.223899841308594, -4.286399841308594, -4.436600208282471, -4.97629976272583, -5.170400142669678, -5.209799766540527, -5.297500133514404, -5.5391998291015625, -6.156499862670898, -6.165599822998047, -6.188000202178955, -6.407700061798096, -6.5843000411987305, -6.611400127410889, -6.72160005569458, -8.624300003051758, -8.577500343322754, -8.662099838256836, -8.662099838256836, -8.662099838256836, -8.662099838256836, -8.572500228881836, -8.628700256347656, -3.536400079727173, -3.5790998935699463, -3.649399995803833, -3.760200023651123, -3.801800012588501, -3.9935998916625977, -4.201300144195557, -4.303599834442139, -4.3130998611450195, -4.398099899291992, -4.663899898529053, -4.712100028991699, -4.748499870300293, -4.779099941253662, -4.835999965667725, -4.99429988861084, -5.079599857330322, -5.130000114440918, -5.228300094604492, -5.335599899291992, -7.128200054168701, -8.398599624633789, -8.515199661254883, -8.519700050354004, -8.51729965209961, -8.457300186157227, -8.597399711608887, -8.558500289916992, -8.558500289916992, -8.558500289916992, -8.558500289916992, -8.558500289916992, -8.558500289916992, -8.558500289916992, -8.558500289916992, -8.558500289916992, -8.51669979095459, -8.51669979095459, -8.51669979095459, -8.51669979095459, -8.51669979095459, -8.51669979095459, -8.51669979095459, -2.3680999279022217, -3.0160999298095703, -3.186000108718872, -3.8935999870300293, -4.242700099945068, -4.493100166320801, -4.644800186157227, -4.718699932098389, -4.749199867248535, -4.98390007019043, -4.983799934387207, -5.030900001525879, -5.04640007019043, -5.110099792480469, -5.191299915313721, -5.593999862670898, -5.744200229644775, -5.811600208282471, -6.5725998878479, -7.184899806976318, -8.078700065612793, -8.255900382995605, -8.255900382995605, -8.255900382995605, -8.255900382995605, -8.255900382995605, -8.255900382995605, -8.255900382995605, -8.479299545288086, -8.479299545288086, -8.479299545288086, -2.928299903869629, -3.430999994277954, -3.8355000019073486, -3.8757998943328857, -3.941699981689453, -4.112599849700928, -4.140100002288818, -4.204100131988525, -4.654799938201904, -4.86299991607666, -4.972400188446045, -5.116799831390381, -5.221099853515625, -5.355999946594238, -5.422100067138672, -5.507400035858154, -5.577600002288818, -5.657299995422363, -5.875899791717529, -6.037300109863281, -7.001800060272217, -7.111999988555908, -8.433799743652344, -8.522700309753418, -8.522700309753418, -8.523799896240234, -8.554800033569336, -8.523699760437012, -8.60949993133545, -8.603699684143066, -8.564000129699707, -8.596500396728516, -8.570300102233887]}, \"token.table\": {\"Topic\": [10, 3, 6, 3, 6, 1, 1, 6, 9, 6, 5, 5, 8, 2, 2, 3, 1, 2, 8, 3, 2, 1, 5, 3, 1, 2, 9, 3, 1, 1, 1, 2, 7, 6, 6, 5, 7, 2, 1, 2, 4, 4, 10, 10, 2, 4, 3, 7, 1, 2, 9, 8, 6, 5, 4, 5, 5, 3, 7, 7, 1, 2, 5, 8, 1, 7, 1, 5, 5, 5, 6, 6, 1, 4, 4, 4, 6, 6, 1, 2, 10, 10, 6, 1, 9, 8, 4, 2, 2, 1, 5, 9, 6, 3, 10, 1, 6, 1, 2, 3, 9, 3, 6, 1, 4, 3, 7, 1, 2, 3, 8, 5, 10, 5, 4, 2, 10, 1, 3, 4, 7, 5, 1, 2, 2, 4, 1, 1, 6, 7, 1, 2, 10, 2, 1, 2, 1, 6, 1, 3, 3, 8, 2, 5, 3, 10, 2, 1, 2, 1, 2, 5, 7, 3, 2, 3, 2, 9, 10, 1, 2, 1, 2, 4, 9, 1, 2, 1, 10, 1, 1, 1, 2, 3, 5, 5, 2, 1, 2, 3, 1, 2, 3, 4, 4, 1, 4, 2, 3, 1, 2, 6, 2, 1, 2, 3, 1, 2, 7, 1, 8, 9, 6, 4, 4, 8, 2, 1, 2, 3, 7, 7, 8, 3, 9, 1, 3, 4, 4, 3, 1, 5, 4, 1, 9, 2, 5, 4, 5, 6, 8, 4, 4, 6, 9, 5, 5, 2, 2, 1, 3, 5, 7, 5, 1, 2, 2, 3, 4, 7, 3, 8, 2, 6, 2, 3, 1, 4, 1, 2, 6, 8, 1, 2, 1, 2, 8, 6, 10, 1, 2, 1, 2, 1, 4, 2, 7, 5, 1, 2, 2, 4, 8, 3, 10, 2, 3, 3, 3, 5, 1, 6, 3, 4, 8, 8, 3, 9, 6, 6, 4, 6, 5, 1, 4, 7, 7, 1, 2, 1, 2, 8, 10, 1, 3, 4, 9, 2, 5, 10, 10, 2, 9, 1, 3, 4, 1, 2, 10, 8, 1, 4, 4, 4, 1, 3, 1, 7, 9, 9, 2, 3, 4, 1, 2, 1, 2, 2, 1, 2, 1, 1, 3, 2, 6, 6, 1, 3, 4, 4, 1, 1, 2, 8, 9], \"Freq\": [0.8944083452224731, 0.9941940307617188, 0.8349511623382568, 0.9977694749832153, 0.8193819522857666, 0.9994485378265381, 0.9978354573249817, 0.9400398135185242, 0.9093741178512573, 0.9319040179252625, 0.9663288593292236, 0.9414709806442261, 0.9541207551956177, 0.9956972599029541, 0.9985474944114685, 0.9806293249130249, 0.9545138478279114, 0.043264083564281464, 0.848873496055603, 0.9912531971931458, 0.9838094711303711, 0.9964212775230408, 0.9407647252082825, 0.9868992567062378, 0.011067762970924377, 0.9850309491157532, 0.552515983581543, 0.9619835615158081, 0.999563455581665, 0.9941327571868896, 0.06937366724014282, 0.9249821901321411, 0.8658011555671692, 0.9100760221481323, 0.8694711923599243, 0.9953621625900269, 0.9340696930885315, 0.9808290600776672, 0.06818746775388718, 0.9243190288543701, 0.9982404708862305, 0.9806810021400452, 0.5542728304862976, 0.9559526443481445, 0.9828400611877441, 0.9570866227149963, 0.9919167160987854, 0.4850235879421234, 0.9124695658683777, 0.08771228045225143, 0.9377362728118896, 0.9038662314414978, 0.9286818504333496, 0.9530407786369324, 0.9684152603149414, 0.9528468251228333, 0.9349903464317322, 0.9850919842720032, 0.5721918940544128, 0.9108045101165771, 0.04781396687030792, 0.9467165470123291, 0.8578715920448303, 0.6803514957427979, 0.9963804483413696, 0.7645857334136963, 0.9974700808525085, 0.9133938550949097, 0.9785221219062805, 0.9151751399040222, 0.7450451254844666, 0.843031108379364, 0.7340955138206482, 0.26427438855171204, 0.9783377647399902, 0.9745425581932068, 0.9774452447891235, 0.8782877922058105, 0.3218024671077728, 0.6767316460609436, 0.7022185921669006, 0.7635690569877625, 0.9549524784088135, 0.9967177510261536, 0.5583541393280029, 0.9802545309066772, 0.9843146204948425, 0.9903101921081543, 0.9866777658462524, 0.9981507658958435, 0.9073180556297302, 0.7728155851364136, 0.8653219938278198, 0.9857670664787292, 0.9421119093894958, 0.9955238699913025, 0.9918153882026672, 0.9970883131027222, 0.0048638456501066685, 0.9928216338157654, 0.6128309369087219, 0.9855816960334778, 0.8722288608551025, 0.9967555999755859, 0.985761284828186, 0.9895634651184082, 0.8207197189331055, 0.16677111387252808, 0.16677111387252808, 0.6670844554901123, 0.9471816420555115, 0.889159619808197, 0.6084070205688477, 0.9884223937988281, 0.9747145175933838, 0.9868146777153015, 0.9698837995529175, 0.014059306122362614, 0.9747785925865173, 0.009372871369123459, 0.9437830448150635, 0.9771829843521118, 0.7880276441574097, 0.2114502191543579, 0.996683657169342, 0.9898168444633484, 0.9988193511962891, 0.999447226524353, 0.9452754855155945, 0.819837212562561, 0.9976608157157898, 0.0011159516870975494, 0.8248825073242188, 0.9856669902801514, 0.9909365773200989, 0.007802650332450867, 0.9997822642326355, 0.8831995725631714, 0.9991704225540161, 0.9979010224342346, 0.9976381659507751, 0.5286031365394592, 0.9796844720840454, 0.9706576466560364, 0.9830847382545471, 0.758296549320221, 0.9981042742729187, 0.3686642050743103, 0.630825400352478, 0.019031917676329613, 0.9706277847290039, 0.9567036628723145, 0.8244574666023254, 0.9968282580375671, 0.9718943238258362, 0.9816177487373352, 0.9850564002990723, 0.9763889908790588, 0.8744664788246155, 0.0636085793375969, 0.9286852478981018, 0.2100641131401062, 0.7802380919456482, 0.9548031687736511, 0.9554893970489502, 0.9835498332977295, 0.01401068177074194, 0.996170699596405, 0.7918038964271545, 0.996868908405304, 0.9994875192642212, 0.9734177589416504, 0.02001887373626232, 0.007507077883929014, 0.9486017823219299, 0.9866123199462891, 0.9912572503089905, 0.11111294478178024, 0.8889035582542419, 0.9918125867843628, 0.19178637862205505, 0.0076714553870260715, 0.7057738900184631, 0.09205746650695801, 0.9842168092727661, 0.995917022228241, 0.9868459105491638, 0.9827313423156738, 0.9729454517364502, 0.2219334840774536, 0.7785570025444031, 0.9814966917037964, 0.9779843091964722, 0.9878613948822021, 0.004185853060334921, 0.004185853060334921, 0.18838514387607574, 0.8055088520050049, 0.9734256267547607, 0.9985291957855225, 0.578506588935852, 0.7510892152786255, 0.9671295881271362, 0.9748601913452148, 0.9797888398170471, 0.615812361240387, 0.9870910048484802, 0.8157293796539307, 0.1832597404718399, 0.9809346199035645, 0.833823561668396, 0.8671560883522034, 0.657694935798645, 0.974324643611908, 0.889494001865387, 0.33929508924484253, 0.5714443922042847, 0.07143054902553558, 0.9851899147033691, 0.9934528470039368, 0.998518705368042, 0.9854989647865295, 0.9654898047447205, 0.9971399307250977, 0.5356414318084717, 0.9786913394927979, 0.9864186644554138, 0.9578684568405151, 0.9782297611236572, 0.9736581444740295, 0.8354995846748352, 0.995469868183136, 0.9897963404655457, 0.7700976729393005, 0.5344786047935486, 0.9214966297149658, 0.98881596326828, 0.9824599027633667, 0.9805481433868408, 0.9996839165687561, 0.9956656098365784, 0.9683058261871338, 0.9863075613975525, 0.8981176614761353, 0.8834943175315857, 0.11648059636354446, 0.9872520565986633, 0.011347725056111813, 0.9931420683860779, 0.9299665689468384, 0.9924802780151367, 0.5597500205039978, 0.9840323328971863, 0.941089928150177, 0.9982870221138, 0.9802889823913574, 0.7493566274642944, 0.24978554248809814, 0.637312114238739, 0.3633274435997009, 0.9262118339538574, 0.7975019216537476, 0.5989083647727966, 0.398210346698761, 0.30865129828453064, 0.6889537572860718, 0.9469254612922668, 0.9650307297706604, 0.728911817073822, 0.34972453117370605, 0.649861216545105, 0.9410362243652344, 0.05751664564013481, 0.04613398760557175, 0.9534357786178589, 0.987508237361908, 0.938051700592041, 0.9945804476737976, 0.40965351462364197, 0.581443727016449, 0.9986879825592041, 0.9574540257453918, 0.8711650967597961, 0.9880714416503906, 0.6487391591072083, 0.023433085530996323, 0.9607564806938171, 0.9788558483123779, 0.9951643943786621, 0.9461777210235596, 0.9975797533988953, 0.9533294439315796, 0.9773406982421875, 0.9833034873008728, 0.865865170955658, 0.909327507019043, 0.9879826307296753, 0.5818051695823669, 0.9788225293159485, 0.987766683101654, 0.944382905960083, 0.9887611269950867, 0.9541805982589722, 0.3108667731285095, 0.681515634059906, 0.8848739862442017, 0.7390428185462952, 0.14076553285121918, 0.8568336963653564, 0.22223377227783203, 0.7765971422195435, 0.889372706413269, 0.9157882332801819, 0.9237620830535889, 0.06472218036651611, 0.011767669580876827, 0.9199694395065308, 0.9944567084312439, 0.8702380061149597, 0.8887553215026855, 0.5148847699165344, 0.998202383518219, 0.84217768907547, 0.34685978293418884, 0.6389521956443787, 0.9660673141479492, 0.9020467400550842, 0.09813061356544495, 0.9235661029815674, 0.8271253705024719, 0.04697967320680618, 0.9552533626556396, 0.9767816066741943, 0.9699508547782898, 0.9961115121841431, 0.0025672977790236473, 0.9981676936149597, 0.936001181602478, 0.834606945514679, 0.923935055732727, 0.16486774384975433, 0.8243387341499329, 0.9930989742279053, 0.8424584865570068, 0.15695995092391968, 0.34282371401786804, 0.655174195766449, 0.9833354949951172, 0.9975998997688293, 0.9954047203063965, 0.9954994916915894, 0.9974537491798401, 0.0026111353654414415, 0.9870759844779968, 0.9446451663970947, 0.964779794216156, 0.5034940242767334, 0.4877598285675049, 0.9750616550445557, 0.9626760482788086, 0.9997464418411255, 0.706211507320404, 0.29281941056251526, 0.7319284677505493, 0.8620980381965637], \"Term\": [\"actual\", \"add\", \"addition\", \"aioli\", \"allergy\", \"also\", \"amazing\", \"anniversary\", \"anytime\", \"anyway\", \"apology\", \"appeal\", \"applebee\", \"arrive\", \"ask\", \"attention\", \"back\", \"back\", \"basically\", \"beef\", \"bill\", \"bit\", \"blame\", \"boyfriend\", \"bring\", \"bring\", \"brit\", \"buck\", \"burger\", \"burgr\", \"busy\", \"busy\", \"case\", \"cause\", \"cent\", \"certainly\", \"chance\", \"charge\", \"check\", \"check\", \"cheese\", \"chocolate\", \"city\", \"classic\", \"close\", \"coffee\", \"combination\", \"combo\", \"come\", \"come\", \"compare\", \"complete\", \"completely\", \"conversation\", \"cookie\", \"corner\", \"correctly\", \"couple\", \"coworker\", \"culinary\", \"customer\", \"customer\", \"decor\", \"definite\", \"definitely\", \"delectable\", \"delicious\", \"deliver\", \"describe\", \"desert\", \"design\", \"desire\", \"dessert\", \"dessert\", \"dip\", \"dipping_sauce\", \"disappoint\", \"dream\", \"drink\", \"drink\", \"drinking\", \"drunk\", \"due\", \"eat\", \"eatery\", \"effort\", \"egg\", \"else\", \"empty\", \"enjoy\", \"ensure\", \"entertaining\", \"equally\", \"especially\", \"eventually\", \"ever\", \"excited\", \"expect\", \"expect\", \"expectation\", \"explore\", \"extra\", \"fail\", \"farm\", \"fast\", \"favorite\", \"feature\", \"feel\", \"feel\", \"feel\", \"feeling\", \"female\", \"fiance\", \"figure\", \"fill\", \"finally\", \"flat\", \"flavor\", \"flavor\", \"flavor\", \"flavorful\", \"follow\", \"food\", \"food\", \"free\", \"fresh\", \"friendly\", \"fry\", \"funny\", \"generous\", \"get\", \"get\", \"ginger\", \"girl\", \"go\", \"go\", \"good\", \"greasy\", \"great\", \"grill\", \"hamburger\", \"hardly\", \"help\", \"holstein\", \"home\", \"homemade\", \"hostess\", \"hour\", \"hour\", \"however\", \"however\", \"ice\", \"inhale\", \"inside\", \"issue\", \"joint\", \"ketchup\", \"kitchen\", \"lady\", \"least\", \"least\", \"leave\", \"leave\", \"lettuce\", \"level\", \"line\", \"line\", \"little\", \"logo\", \"long\", \"love\", \"make\", \"make\", \"make\", \"man\", \"management\", \"manager\", \"many\", \"many\", \"maybe\", \"meat\", \"meat\", \"meat\", \"meat\", \"meet\", \"menu\", \"milkshake\", \"min\", \"mind\", \"minute\", \"minute\", \"mom\", \"money\", \"much\", \"much\", \"much\", \"never\", \"never\", \"new\", \"nice\", \"nothing_special\", \"often\", \"ok\", \"old\", \"onion\", \"opposite\", \"option\", \"order\", \"order\", \"outstanding\", \"oven_roaste\", \"overprice\", \"parking\", \"parmesan\", \"peak\", \"perfectly\", \"perfectly\", \"perfectly\", \"personal\", \"pink\", \"place\", \"pork\", \"pork_belly\", \"price\", \"prime\", \"problem\", \"prompt\", \"promptly\", \"properly\", \"provide\", \"pub\", \"pudde\", \"pudding\", \"push\", \"rage\", \"rare\", \"raw\", \"read\", \"ready\", \"really\", \"reasonable\", \"receive\", \"regret\", \"replace\", \"restaurant\", \"restaurant\", \"review\", \"review\", \"rich\", \"ridiculous\", \"roast\", \"round\", \"run\", \"runny\", \"salad\", \"salt\", \"sauce\", \"sauce\", \"say\", \"say\", \"scratch\", \"scream\", \"seat\", \"seat\", \"see\", \"see\", \"self\", \"send\", \"separate\", \"server\", \"server\", \"service\", \"service\", \"shake\", \"shake\", \"sick\", \"similar\", \"simply\", \"sit\", \"sit\", \"slow\", \"soft\", \"sorry\", \"special\", \"specifically\", \"spend\", \"spend\", \"spice\", \"spicy\", \"spill\", \"staff\", \"stale\", \"standard\", \"stick\", \"straw\", \"street\", \"stuff\", \"stunning\", \"substitute\", \"sugar\", \"suggestion\", \"surprise\", \"survey\", \"sweet\", \"sweet\", \"sweetness\", \"swiss\", \"table\", \"table\", \"take\", \"take\", \"take_reservation\", \"tap\", \"taste\", \"taste\", \"taste\", \"tasteless\", \"tell\", \"temp\", \"tend\", \"terribly\", \"text\", \"thankfully\", \"thick\", \"thick\", \"thought\", \"time\", \"time\", \"ton\", \"tonight\", \"top\", \"top\", \"total\", \"town\", \"truffle\", \"truffle\", \"try\", \"twice\", \"unconventional\", \"uniqueness\", \"use\", \"use\", \"vegetarian\", \"wait\", \"wait\", \"waitress\", \"waitress\", \"walk\", \"want\", \"water\", \"way\", \"well\", \"well\", \"wife\", \"will\", \"window\", \"wing\", \"wing\", \"wonderful\", \"wood\", \"worth\", \"would\", \"would\", \"wow\", \"wowed\"]}, \"R\": 30, \"lambda.step\": 0.01, \"plot.opts\": {\"xlab\": \"PC1\", \"ylab\": \"PC2\"}, \"topic.order\": [10, 5, 4, 8, 6, 1, 7, 2, 9, 3]};\n",
       "\n",
       "function LDAvis_load_lib(url, callback){\n",
       "  var s = document.createElement('script');\n",
       "  s.src = url;\n",
       "  s.async = true;\n",
       "  s.onreadystatechange = s.onload = callback;\n",
       "  s.onerror = function(){console.warn(\"failed to load library \" + url);};\n",
       "  document.getElementsByTagName(\"head\")[0].appendChild(s);\n",
       "}\n",
       "\n",
       "if(typeof(LDAvis) !== \"undefined\"){\n",
       "   // already loaded: just create the visualization\n",
       "   !function(LDAvis){\n",
       "       new LDAvis(\"#\" + \"ldavis_el5901125403431761475680391\", ldavis_el5901125403431761475680391_data);\n",
       "   }(LDAvis);\n",
       "}else if(typeof define === \"function\" && define.amd){\n",
       "   // require.js is available: use it to load d3/LDAvis\n",
       "   require.config({paths: {d3: \"https://cdnjs.cloudflare.com/ajax/libs/d3/3.5.5/d3.min\"}});\n",
       "   require([\"d3\"], function(d3){\n",
       "      window.d3 = d3;\n",
       "      LDAvis_load_lib(\"https://cdn.rawgit.com/bmabey/pyLDAvis/files/ldavis.v1.0.0.js\", function(){\n",
       "        new LDAvis(\"#\" + \"ldavis_el5901125403431761475680391\", ldavis_el5901125403431761475680391_data);\n",
       "      });\n",
       "    });\n",
       "}else{\n",
       "    // require.js not available: dynamically load d3 & LDAvis\n",
       "    LDAvis_load_lib(\"https://cdnjs.cloudflare.com/ajax/libs/d3/3.5.5/d3.min.js\", function(){\n",
       "         LDAvis_load_lib(\"https://cdn.rawgit.com/bmabey/pyLDAvis/files/ldavis.v1.0.0.js\", function(){\n",
       "                 new LDAvis(\"#\" + \"ldavis_el5901125403431761475680391\", ldavis_el5901125403431761475680391_data);\n",
       "            })\n",
       "         });\n",
       "}\n",
       "</script>"
      ],
      "text/plain": [
       "<IPython.core.display.HTML object>"
      ]
     },
     "execution_count": 54,
     "metadata": {},
     "output_type": "execute_result"
    }
   ],
   "source": [
    "### Visulization\n",
    "vis = pyLDAvis.gensim.prepare(lda_model, corpus, id2word)\n",
    "pyLDAvis.display(vis)"
   ]
  },
  {
   "cell_type": "markdown",
   "metadata": {},
   "source": [
    "## Resturant 3  (Serendipity 3)"
   ]
  },
  {
   "cell_type": "code",
   "execution_count": 55,
   "metadata": {},
   "outputs": [],
   "source": [
    "df_res_3 = data[(data[\"business_id\"] == \"eoHdUeQDNgQ6WYEnP2aiRw\")]"
   ]
  },
  {
   "cell_type": "code",
   "execution_count": 56,
   "metadata": {},
   "outputs": [
    {
     "name": "stdout",
     "output_type": "stream",
     "text": [
      "positive rating but represent negative sentiment: 0.15177234148776836\n",
      "negative rating but represent positive sentiment: 0.35771342985521715\n"
     ]
    }
   ],
   "source": [
    "print (\"positive rating but represent negative sentiment:\", \n",
    "       df_res_3[(df_res_3[\"actual_rate\"] == 1.0) & (df_res_3[\"prediction_rate\"] == 0.0)].shape[0] / df_res_3.shape[0])\n",
    "\n",
    "print (\"negative rating but represent positive sentiment:\", \n",
    "       df_res_3[(df_res_3[\"actual_rate\"] == 0.0) & (df_res_3[\"prediction_rate\"] == 1.0)].shape[0] / df_res_3.shape[0])"
   ]
  },
  {
   "cell_type": "code",
   "execution_count": 57,
   "metadata": {},
   "outputs": [
    {
     "name": "stdout",
     "output_type": "stream",
     "text": [
      "There are 2447 reviews selected\n"
     ]
    }
   ],
   "source": [
    "# Turn the data into a list \n",
    "df_res_3_p = df_res_3[df_res_3[\"prediction_rate\"] == 1.0]\n",
    "print (\"There are\", df_res_3_p.shape[0], \"reviews selected\")\n",
    "data_con = df_res_3_p[\"text\"]\n",
    "data_con_l = data_con.tolist()"
   ]
  },
  {
   "cell_type": "markdown",
   "metadata": {},
   "source": [
    "### Text cleaning"
   ]
  },
  {
   "cell_type": "code",
   "execution_count": 58,
   "metadata": {},
   "outputs": [
    {
     "name": "stdout",
     "output_type": "stream",
     "text": [
      "['the',\n",
      " 'food',\n",
      " 'was',\n",
      " 'amazing',\n",
      " 'huge',\n",
      " 'portions',\n",
      " 'and',\n",
      " 'all',\n",
      " 'around',\n",
      " 'good',\n",
      " 'we',\n",
      " 'fed',\n",
      " 'six',\n",
      " 'people',\n",
      " 'for',\n",
      " 'about',\n",
      " 'in',\n",
      " 'vegas',\n",
      " 'this',\n",
      " 'is',\n",
      " 'actually',\n",
      " 'pretty',\n",
      " 'good',\n",
      " 'price',\n",
      " 'the',\n",
      " 'reason',\n",
      " 'didn',\n",
      " 'give',\n",
      " 'five',\n",
      " 'stars',\n",
      " 'was',\n",
      " 'because',\n",
      " 'of',\n",
      " 'the',\n",
      " 'customer',\n",
      " 'service',\n",
      " 'asked',\n",
      " 'the',\n",
      " 'waitress',\n",
      " 'to',\n",
      " 'bring',\n",
      " 'my',\n",
      " 'daughter',\n",
      " 'frozen',\n",
      " 'hot',\n",
      " 'chocolate',\n",
      " 'with',\n",
      " 'candle',\n",
      " 'in',\n",
      " 'it',\n",
      " 'for',\n",
      " 'her',\n",
      " 'birthday',\n",
      " 'saw',\n",
      " 'that',\n",
      " 'someone',\n",
      " 'else',\n",
      " 'had',\n",
      " 'this',\n",
      " 'done',\n",
      " 'so',\n",
      " 'that',\n",
      " 'why',\n",
      " 'knew',\n",
      " 'it',\n",
      " 'was',\n",
      " 'possible',\n",
      " 'she',\n",
      " 'came',\n",
      " 'to',\n",
      " 'the',\n",
      " 'table',\n",
      " 'with',\n",
      " 'my',\n",
      " 'husbands',\n",
      " 'banana_split',\n",
      " 'with',\n",
      " 'candle',\n",
      " 'in',\n",
      " 'it',\n",
      " 'asked',\n",
      " 'her',\n",
      " 'where',\n",
      " 'the',\n",
      " 'frozen',\n",
      " 'hot',\n",
      " 'chocolate',\n",
      " 'was',\n",
      " 'and',\n",
      " 'she',\n",
      " 'said',\n",
      " 'oh',\n",
      " 'well',\n",
      " 'we',\n",
      " 'll',\n",
      " 'just',\n",
      " 'use',\n",
      " 'this',\n",
      " 'purposely',\n",
      " 'went',\n",
      " 'and',\n",
      " 'secretly',\n",
      " 'asked',\n",
      " 'them',\n",
      " 'to',\n",
      " 'do',\n",
      " 'this',\n",
      " 'for',\n",
      " 'her',\n",
      " 'and',\n",
      " 'then',\n",
      " 'the',\n",
      " 'waitress',\n",
      " 'pretty',\n",
      " 'much',\n",
      " 'ruined',\n",
      " 'it',\n",
      " 'other',\n",
      " 'than',\n",
      " 'that',\n",
      " 'it',\n",
      " 'was',\n",
      " 'really',\n",
      " 'great',\n",
      " 'place',\n",
      " 'to',\n",
      " 'eat',\n",
      " 'overlooking',\n",
      " 'the',\n",
      " 'strip',\n",
      " 'while',\n",
      " 'we',\n",
      " 'ate',\n",
      " 'was',\n",
      " 'cool']\n"
     ]
    }
   ],
   "source": [
    "# Remove distracting single quotes\n",
    "data_con_1 = [re.sub(\"\\'\", \"\", sent) for sent in data_con_l]\n",
    "\n",
    "data_words = list(sent_to_words(data_con_l))\n",
    "\n",
    "# Build the bigram and trigram models\n",
    "bigram = gensim.models.Phrases(data_words, min_count=5, threshold=100) # higher threshold fewer phrases.\n",
    "trigram = gensim.models.Phrases(bigram[data_words], threshold=100)  \n",
    "\n",
    "# Faster way to get a sentence clubbed as a trigram/bigram\n",
    "bigram_mod = gensim.models.phrases.Phraser(bigram)\n",
    "trigram_mod = gensim.models.phrases.Phraser(trigram)\n",
    "\n",
    "# See trigram example\n",
    "pprint(trigram_mod[bigram_mod[data_words[0]]])\n",
    "\n",
    "# Remove Stop Words\n",
    "data_words_nostops = remove_stopwords(data_words)\n",
    "\n",
    "# Form Bigrams\n",
    "data_words_bigrams = make_bigrams(data_words_nostops)\n",
    "\n",
    "# Initialize spacy 'en' model, keeping only tagger component (for efficiency)\n",
    "\n",
    "nlp = spacy.load('en', disable=['parser', 'ner'])\n",
    "\n",
    "# Do lemmatization keeping only noun, adj, vb, adv\n",
    "data_lemmatized = lemmatization(data_words_bigrams, allowed_postags=['NOUN', 'ADJ', 'VERB', 'ADV'])\n",
    "\n",
    "# print(data_lemmatized[:1])"
   ]
  },
  {
   "cell_type": "markdown",
   "metadata": {},
   "source": [
    "### Prepare data for LDA"
   ]
  },
  {
   "cell_type": "code",
   "execution_count": 59,
   "metadata": {},
   "outputs": [
    {
     "name": "stdout",
     "output_type": "stream",
     "text": [
      "Total vocabulary in the corpus:  6358\n"
     ]
    }
   ],
   "source": [
    "vocab = np.asarray([item for sublist in data_lemmatized for item in sublist])\n",
    "vocab = np.unique(vocab)\n",
    "print (\"Total vocabulary in the corpus: \", len(vocab))"
   ]
  },
  {
   "cell_type": "code",
   "execution_count": 60,
   "metadata": {},
   "outputs": [],
   "source": [
    "vocab = sorted(list(vocab))\n",
    "vocab_index = {}\n",
    "for i, w in enumerate(vocab):\n",
    "    vocab_index[w] = i\n",
    "    \n",
    "new_corpus = []\n",
    "for doc in data_lemmatized:\n",
    "    new_doc = []\n",
    "    for word in doc:\n",
    "        word_idx = vocab_index[word]\n",
    "        new_doc.append(word_idx)\n",
    "    new_corpus.append(new_doc)"
   ]
  },
  {
   "cell_type": "code",
   "execution_count": 61,
   "metadata": {},
   "outputs": [],
   "source": [
    "# Create Dictionary\n",
    "id2word = gensim.corpora.Dictionary(data_lemmatized)\n",
    "\n",
    "# Create Corpus\n",
    "texts = data_lemmatized\n",
    "\n",
    "# Term Document Frequency\n",
    "corpus = [id2word.doc2bow(text) for text in texts]\n",
    "\n",
    "# View\n",
    "# pprint(corpus[:1])\n",
    "# [[(id2word[id], freq) for id, freq in cp] for cp in corpus[:1]]"
   ]
  },
  {
   "cell_type": "markdown",
   "metadata": {},
   "source": [
    "### Model building and tuning"
   ]
  },
  {
   "cell_type": "code",
   "execution_count": 62,
   "metadata": {},
   "outputs": [
    {
     "data": {
      "image/png": "[encoded data removed]",
      "text/plain": [
       "<Figure size 432x288 with 1 Axes>"
      ]
     },
     "metadata": {
      "needs_background": "light"
     },
     "output_type": "display_data"
    }
   ],
   "source": [
    "### This step will cost some time\n",
    "coherence_score = []\n",
    "for i in range(2,16):\n",
    "    lda_model = gensim.models.ldamodel.LdaModel(corpus=corpus,\n",
    "                                           id2word=id2word,\n",
    "                                           num_topics=i, \n",
    "                                           random_state=100,\n",
    "                                           update_every=1,\n",
    "                                           chunksize=100,\n",
    "                                           passes=10,\n",
    "                                           alpha='auto',\n",
    "                                           per_word_topics=True)\n",
    "    coherence_model_lda = gensim.models.coherencemodel.CoherenceModel(model=lda_model, texts=data_lemmatized, dictionary=id2word, coherence='c_v')\n",
    "    coherence_lda = coherence_model_lda.get_coherence()\n",
    "    coherence_score.append(coherence_lda)\n",
    "\n",
    "num_topic = [i for i in range(2,16)]\n",
    "\n",
    "plt.plot(num_topic, coherence_score)\n",
    "plt.xlabel(\"Num Topics\")\n",
    "plt.ylabel(\"Coherence score\")\n",
    "plt.show()"
   ]
  },
  {
   "cell_type": "code",
   "execution_count": 63,
   "metadata": {},
   "outputs": [
    {
     "name": "stdout",
     "output_type": "stream",
     "text": [
      "[(0,\n",
      "  '0.040*\"wait\" + 0.025*\"order\" + 0.025*\"take\" + 0.024*\"table\" + 0.020*\"say\" + '\n",
      "  '0.019*\"food\" + 0.018*\"go\" + 0.017*\"minute\" + 0.016*\"service\" + 0.015*\"sit\"'),\n",
      " (1,\n",
      "  '0.043*\"huge\" + 0.031*\"portion\" + 0.025*\"chicken\" + 0.022*\"salad\" + '\n",
      "  '0.019*\"cheese\" + 0.018*\"egg\" + 0.018*\"breakfast\" + 0.015*\"cake\" + '\n",
      "  '0.015*\"meal\" + 0.012*\"bread\"'),\n",
      " (2,\n",
      "  '0.032*\"receive\" + 0.031*\"chance\" + 0.027*\"town\" + 0.026*\"sister\" + '\n",
      "  '0.025*\"cheeseburger\" + 0.024*\"pasta\" + 0.024*\"suck\" + 0.023*\"mac_cheese\" + '\n",
      "  '0.023*\"pre\" + 0.016*\"crave\"'),\n",
      " (3,\n",
      "  '0.107*\"plate\" + 0.039*\"pack\" + 0.020*\"beer\" + 0.019*\"smile\" + 0.016*\"car\" + '\n",
      "  '0.015*\"smell\" + 0.015*\"fix\" + 0.014*\"dirty\" + 0.014*\"pump\" + '\n",
      "  '0.012*\"number\"'),\n",
      " (4,\n",
      "  '0.025*\"longer\" + 0.022*\"other\" + 0.022*\"salad\" + 0.018*\"meet\" + '\n",
      "  '0.017*\"fall\" + 0.017*\"asian\" + 0.015*\"beef\" + 0.015*\"roll\" + 0.014*\"steep\" '\n",
      "  '+ 0.014*\"texture\"'),\n",
      " (5,\n",
      "  '0.041*\"waitress\" + 0.031*\"hostess\" + 0.029*\"staff\" + 0.027*\"waiter\" + '\n",
      "  '0.022*\"min\" + 0.018*\"offer\" + 0.018*\"talk\" + 0.018*\"horrible\" + '\n",
      "  '0.017*\"rude\" + 0.015*\"empty\"'),\n",
      " (6,\n",
      "  '0.056*\"locate\" + 0.030*\"fail\" + 0.029*\"whenever\" + 0.026*\"delish\" + '\n",
      "  '0.022*\"outdoor_seate\" + 0.017*\"alcohol\" + 0.016*\"crowded\" + 0.016*\"hell\" + '\n",
      "  '0.015*\"trust\" + 0.015*\"continue\"'),\n",
      " (7,\n",
      "  '0.038*\"chocolate\" + 0.037*\"hot\" + 0.027*\"good\" + 0.020*\"place\" + 0.018*\"go\" '\n",
      "  '+ 0.017*\"food\" + 0.016*\"get\" + 0.016*\"try\" + 0.015*\"freeze\" + 0.015*\"come\"'),\n",
      " (8,\n",
      "  '0.054*\"fantastic\" + 0.046*\"ny\" + 0.027*\"explain\" + 0.016*\"tea\" + '\n",
      "  '0.015*\"beat\" + 0.013*\"mainly\" + 0.012*\"noon\" + 0.011*\"sake\" + '\n",
      "  '0.008*\"fantasy\" + 0.008*\"tall\"')]\n"
     ]
    }
   ],
   "source": [
    "### Build the model (Choose K = 9 here)\n",
    "\n",
    "lda_model = gensim.models.ldamodel.LdaModel(corpus=corpus,\n",
    "                                           id2word=id2word,\n",
    "                                           num_topics=9, \n",
    "                                           random_state=100,\n",
    "                                           update_every=1,\n",
    "                                           chunksize=100,\n",
    "                                           passes=10,\n",
    "                                           alpha='auto',\n",
    "                                           per_word_topics=True)\n",
    "\n",
    "pprint(lda_model.print_topics())\n",
    "doc_lda = lda_model[corpus]"
   ]
  },
  {
   "cell_type": "code",
   "execution_count": 64,
   "metadata": {},
   "outputs": [
    {
     "name": "stderr",
     "output_type": "stream",
     "text": [
      "/anaconda3/lib/python3.7/site-packages/pyLDAvis/_prepare.py:257: FutureWarning: Sorting because non-concatenation axis is not aligned. A future version\n",
      "of pandas will change to not sort by default.\n",
      "\n",
      "To accept the future behavior, pass 'sort=False'.\n",
      "\n",
      "To retain the current behavior and silence the warning, pass 'sort=True'.\n",
      "\n",
      "  return pd.concat([default_term_info] + list(topic_dfs))\n"
     ]
    },
    {
     "data": {
      "text/html": [
       "\n",
       "<link rel=\"stylesheet\" type=\"text/css\" href=\"https://cdn.rawgit.com/bmabey/pyLDAvis/files/ldavis.v1.0.0.css\">\n",
       "\n",
       "\n",
       "<div id=\"ldavis_el5901125397480569737406072\"></div>\n",
       "<script type=\"text/javascript\">\n",
       "\n",
       "var ldavis_el5901125397480569737406072_data = {\"mdsDat\": {\"x\": [-0.3460278531670086, -0.34159035097242024, -0.059929422149691346, 0.057793145923869325, 0.14052515873271784, 0.14127041709452828, 0.1413833492060676, 0.13724982037698813, 0.12932573495494895], \"y\": [0.014115151073060274, 0.11128500121917649, -0.3756754239223252, 0.17613845398982897, 0.025802569417864105, -0.007339030492725454, 0.022374374283739288, 0.01837689374546792, 0.014922010685913348], \"topics\": [1, 2, 3, 4, 5, 6, 7, 8, 9], \"cluster\": [1, 1, 1, 1, 1, 1, 1, 1, 1], \"Freq\": [59.601356506347656, 23.88081932067871, 8.156332969665527, 4.196046829223633, 1.275739312171936, 1.1908729076385498, 0.9866416454315186, 0.5112962126731873, 0.2008914053440094]}, \"tinfo\": {\"Category\": [\"Default\", \"Default\", \"Default\", \"Default\", \"Default\", \"Default\", \"Default\", \"Default\", \"Default\", \"Default\", \"Default\", \"Default\", \"Default\", \"Default\", \"Default\", \"Default\", \"Default\", \"Default\", \"Default\", \"Default\", \"Default\", \"Default\", \"Default\", \"Default\", \"Default\", \"Default\", \"Default\", \"Default\", \"Default\", \"Default\", \"Topic1\", \"Topic1\", \"Topic1\", \"Topic1\", \"Topic1\", \"Topic1\", \"Topic1\", \"Topic1\", \"Topic1\", \"Topic1\", \"Topic1\", \"Topic1\", \"Topic1\", \"Topic1\", \"Topic1\", \"Topic1\", \"Topic1\", \"Topic1\", \"Topic1\", \"Topic1\", \"Topic1\", \"Topic1\", \"Topic1\", \"Topic1\", \"Topic1\", \"Topic1\", \"Topic1\", \"Topic1\", \"Topic1\", \"Topic1\", \"Topic1\", \"Topic1\", \"Topic1\", \"Topic1\", \"Topic1\", \"Topic1\", \"Topic1\", \"Topic1\", \"Topic1\", \"Topic1\", \"Topic1\", \"Topic1\", \"Topic1\", \"Topic1\", \"Topic1\", \"Topic1\", \"Topic1\", \"Topic1\", \"Topic1\", \"Topic1\", \"Topic1\", \"Topic1\", \"Topic2\", \"Topic2\", \"Topic2\", \"Topic2\", \"Topic2\", \"Topic2\", \"Topic2\", \"Topic2\", \"Topic2\", \"Topic2\", \"Topic2\", \"Topic2\", \"Topic2\", \"Topic2\", \"Topic2\", \"Topic2\", \"Topic2\", \"Topic2\", \"Topic2\", \"Topic2\", \"Topic2\", \"Topic2\", \"Topic2\", \"Topic2\", \"Topic2\", \"Topic2\", \"Topic2\", \"Topic2\", \"Topic2\", \"Topic2\", \"Topic2\", \"Topic2\", \"Topic2\", \"Topic2\", \"Topic2\", \"Topic2\", \"Topic2\", \"Topic2\", \"Topic2\", \"Topic2\", \"Topic2\", \"Topic2\", \"Topic2\", \"Topic2\", \"Topic2\", \"Topic2\", \"Topic2\", \"Topic2\", \"Topic2\", \"Topic2\", \"Topic2\", \"Topic2\", \"Topic2\", \"Topic2\", \"Topic2\", \"Topic2\", \"Topic2\", \"Topic2\", \"Topic3\", \"Topic3\", \"Topic3\", \"Topic3\", \"Topic3\", \"Topic3\", \"Topic3\", \"Topic3\", \"Topic3\", \"Topic3\", \"Topic3\", \"Topic3\", \"Topic3\", \"Topic3\", \"Topic3\", \"Topic3\", \"Topic3\", \"Topic3\", \"Topic3\", \"Topic3\", \"Topic3\", \"Topic3\", \"Topic3\", \"Topic3\", \"Topic3\", \"Topic3\", \"Topic3\", \"Topic3\", \"Topic3\", \"Topic3\", \"Topic3\", \"Topic3\", \"Topic3\", \"Topic3\", \"Topic3\", \"Topic3\", \"Topic3\", \"Topic3\", \"Topic3\", \"Topic3\", \"Topic3\", \"Topic3\", \"Topic3\", \"Topic4\", \"Topic4\", \"Topic4\", \"Topic4\", \"Topic4\", \"Topic4\", \"Topic4\", \"Topic4\", \"Topic4\", \"Topic4\", \"Topic4\", \"Topic4\", \"Topic4\", \"Topic4\", \"Topic4\", \"Topic4\", \"Topic4\", \"Topic4\", \"Topic4\", \"Topic4\", \"Topic4\", \"Topic4\", \"Topic4\", \"Topic4\", \"Topic4\", \"Topic4\", \"Topic4\", \"Topic4\", \"Topic4\", \"Topic4\", \"Topic4\", \"Topic4\", \"Topic4\", \"Topic4\", \"Topic4\", \"Topic5\", \"Topic5\", \"Topic5\", \"Topic5\", \"Topic5\", \"Topic5\", \"Topic5\", \"Topic5\", \"Topic5\", \"Topic5\", \"Topic5\", \"Topic5\", \"Topic5\", \"Topic5\", \"Topic5\", \"Topic5\", \"Topic5\", \"Topic5\", \"Topic5\", \"Topic5\", \"Topic5\", \"Topic5\", \"Topic5\", \"Topic5\", \"Topic5\", \"Topic5\", \"Topic5\", \"Topic5\", \"Topic5\", \"Topic5\", \"Topic6\", \"Topic6\", \"Topic6\", \"Topic6\", \"Topic6\", \"Topic6\", \"Topic6\", \"Topic6\", \"Topic6\", \"Topic6\", \"Topic6\", \"Topic6\", \"Topic6\", \"Topic6\", \"Topic6\", \"Topic6\", \"Topic6\", \"Topic6\", \"Topic6\", \"Topic6\", \"Topic6\", \"Topic6\", \"Topic6\", \"Topic6\", \"Topic6\", \"Topic6\", \"Topic6\", \"Topic6\", \"Topic6\", \"Topic6\", \"Topic6\", \"Topic7\", \"Topic7\", \"Topic7\", \"Topic7\", \"Topic7\", \"Topic7\", \"Topic7\", \"Topic7\", \"Topic7\", \"Topic7\", \"Topic7\", \"Topic7\", \"Topic7\", \"Topic7\", \"Topic7\", \"Topic7\", \"Topic7\", \"Topic7\", \"Topic7\", \"Topic7\", \"Topic7\", \"Topic7\", \"Topic7\", \"Topic7\", \"Topic7\", \"Topic7\", \"Topic7\", \"Topic7\", \"Topic7\", \"Topic7\", \"Topic8\", \"Topic8\", \"Topic8\", \"Topic8\", \"Topic8\", \"Topic8\", \"Topic8\", \"Topic8\", \"Topic8\", \"Topic8\", \"Topic8\", \"Topic8\", \"Topic8\", \"Topic8\", \"Topic8\", \"Topic8\", \"Topic8\", \"Topic8\", \"Topic8\", \"Topic8\", \"Topic8\", \"Topic8\", \"Topic8\", \"Topic8\", \"Topic8\", \"Topic8\", \"Topic8\", \"Topic8\", \"Topic8\", \"Topic8\", \"Topic9\", \"Topic9\", \"Topic9\", \"Topic9\", \"Topic9\", \"Topic9\", \"Topic9\", \"Topic9\", \"Topic9\", \"Topic9\", \"Topic9\", \"Topic9\", \"Topic9\", \"Topic9\", \"Topic9\", \"Topic9\", \"Topic9\", \"Topic9\", \"Topic9\", \"Topic9\", \"Topic9\", \"Topic9\", \"Topic9\", \"Topic9\", \"Topic9\", \"Topic9\", \"Topic9\", \"Topic9\", \"Topic9\", \"Topic9\", \"Topic9\", \"Topic9\", \"Topic9\", \"Topic9\", \"Topic9\"], \"Freq\": [1358.0, 2948.0, 2837.0, 505.0, 797.0, 744.0, 403.0, 2092.0, 836.0, 284.0, 535.0, 1831.0, 221.0, 264.0, 246.0, 379.0, 137.0, 532.0, 446.0, 1203.0, 566.0, 885.0, 1182.0, 1873.0, 167.0, 685.0, 366.0, 1933.0, 157.0, 283.0, 2947.49072265625, 2836.5751953125, 1202.4832763671875, 1181.6968994140625, 935.0137939453125, 919.4788818359375, 650.1456909179688, 627.138916015625, 573.2567749023438, 572.4473266601562, 552.5473022460938, 551.7171630859375, 524.2385864257812, 455.42803955078125, 482.8664245605469, 301.95953369140625, 295.39276123046875, 294.74261474609375, 281.4158020019531, 274.5942687988281, 253.54086303710938, 219.73350524902344, 216.8550262451172, 211.11724853515625, 202.40975952148438, 2086.271484375, 200.19622802734375, 192.8384246826172, 189.01194763183594, 188.1217498779297, 670.8123779296875, 498.0378112792969, 647.6193237304688, 874.2376098632812, 1544.5435791015625, 525.2498168945312, 294.2723388671875, 652.7074584960938, 462.9940490722656, 508.97076416015625, 844.4589233398438, 568.9542236328125, 1069.723388671875, 544.4007568359375, 612.80224609375, 1265.5985107421875, 1378.129638671875, 1178.510986328125, 1289.8907470703125, 682.9489135742188, 1039.1873779296875, 601.8574829101562, 534.7025756835938, 446.0316467285156, 365.956787109375, 323.0660095214844, 293.3501892089844, 232.70034790039062, 231.9230499267578, 219.56101989746094, 181.93283081054688, 158.00465393066406, 143.0154571533203, 136.84629821777344, 136.60166931152344, 125.13591003417969, 120.81912994384766, 118.16704559326172, 117.20088195800781, 113.50178527832031, 109.92855834960938, 108.13003540039062, 107.16522216796875, 275.05413818359375, 99.41339874267578, 95.79603576660156, 93.34596252441406, 91.43364715576172, 88.56552124023438, 87.69309997558594, 83.912109375, 81.3635482788086, 782.137451171875, 730.1082153320312, 253.08168029785156, 185.99725341796875, 167.6363983154297, 1232.9217529296875, 477.1221923828125, 356.4800109863281, 169.6891632080078, 453.6734924316406, 629.014892578125, 254.45843505859375, 308.63189697265625, 461.52099609375, 318.4477844238281, 342.9632568359375, 509.1067810058594, 782.2303466796875, 383.2043762207031, 410.6612243652344, 263.8514404296875, 582.8251953125, 554.560546875, 404.14569091796875, 339.6056823730469, 463.6225280761719, 425.4479064941406, 266.79498291015625, 197.9584197998047, 190.932373046875, 185.79505920410156, 163.44581604003906, 129.48019409179688, 91.50463104248047, 83.8254165649414, 80.73993682861328, 79.24746704101562, 77.98908996582031, 77.42606353759766, 76.50335693359375, 75.8416976928711, 72.61963653564453, 72.57891845703125, 70.75448608398438, 67.48889923095703, 66.50484466552734, 66.42240905761719, 63.436134338378906, 63.27009963989258, 61.2824592590332, 59.92582702636719, 67.6246337890625, 58.19636917114258, 54.086605072021484, 261.2855224609375, 52.65656661987305, 52.003726959228516, 47.632232666015625, 457.2090148925781, 70.755126953125, 330.92572021484375, 233.60525512695312, 103.73516082763672, 66.63988494873047, 159.54908752441406, 122.97064971923828, 98.41680145263672, 93.7157974243164, 89.66262817382812, 77.60054016113281, 69.7810287475586, 220.75904846191406, 166.75831604003906, 156.4140167236328, 118.28490447998047, 100.30772399902344, 99.81393432617188, 98.23255920410156, 92.88475799560547, 81.38021087646484, 72.00102233886719, 67.32132720947266, 55.662113189697266, 45.207401275634766, 43.756988525390625, 42.780609130859375, 40.25349807739258, 39.972408294677734, 39.59529113769531, 38.20390701293945, 38.08527374267578, 53.491050720214844, 34.1897087097168, 33.237815856933594, 32.507476806640625, 32.28833770751953, 31.873693466186523, 31.165678024291992, 30.209569931030273, 29.207889556884766, 29.159414291381836, 147.7665557861328, 55.98606872558594, 61.1374626159668, 69.84346771240234, 69.88983917236328, 53.493812561035156, 51.81475830078125, 44.73549270629883, 43.49618148803711, 42.05137634277344, 40.439292907714844, 39.63764572143555, 38.355892181396484, 37.4640007019043, 27.325666427612305, 24.60353660583496, 24.327972412109375, 23.92752456665039, 21.26238250732422, 21.28409194946289, 20.53056526184082, 18.894542694091797, 17.847938537597656, 16.289091110229492, 16.091463088989258, 14.604862213134766, 14.56916332244873, 14.408150672912598, 13.506705284118652, 11.849292755126953, 11.596944808959961, 11.400551795959473, 10.538259506225586, 10.359585762023926, 10.347744941711426, 39.22706604003906, 34.29439926147461, 27.553424835205078, 26.899328231811523, 25.59665298461914, 23.87510871887207, 23.00282096862793, 21.716156005859375, 21.634143829345703, 21.071321487426758, 20.595352172851562, 19.713163375854492, 18.097841262817383, 17.879343032836914, 17.868709564208984, 16.967954635620117, 16.681076049804688, 14.950892448425293, 14.803511619567871, 14.15164852142334, 13.562657356262207, 13.159565925598145, 12.474960327148438, 11.634221076965332, 11.487253189086914, 11.308236122131348, 11.250772476196289, 10.609321594238281, 10.452717781066895, 10.143519401550293, 33.310585021972656, 136.98838806152344, 49.636749267578125, 25.700992584228516, 24.61536979675293, 20.459869384765625, 18.8134765625, 18.7640380859375, 17.88300895690918, 17.769121170043945, 15.361352920532227, 14.676003456115723, 14.170509338378906, 13.697952270507812, 12.956795692443848, 12.574203491210938, 12.491065979003906, 12.407752990722656, 11.527804374694824, 10.48257064819336, 10.447661399841309, 10.389429092407227, 10.213569641113281, 9.653427124023438, 9.584037780761719, 9.504088401794434, 9.304105758666992, 9.04293155670166, 8.639092445373535, 8.555323600769043, 8.493741035461426, 37.113059997558594, 19.770185470581055, 19.17796516418457, 17.352916717529297, 14.74555492401123, 11.357419967651367, 10.821786880493164, 10.329754829406738, 10.19467544555664, 10.103109359741211, 8.481226921081543, 8.091745376586914, 7.148228168487549, 6.223005294799805, 6.021960735321045, 5.907716751098633, 5.673926830291748, 5.312414169311523, 5.195103645324707, 4.943155765533447, 4.34677267074585, 4.307178974151611, 4.01184606552124, 3.7486655712127686, 3.604557752609253, 3.5867645740509033, 3.3829500675201416, 3.2006173133850098, 3.12475848197937, 3.0265533924102783, 14.054795265197754, 12.032773971557617, 7.143877029418945, 4.068875312805176, 3.785600423812866, 3.3694093227386475, 3.0024614334106445, 2.905013084411621, 2.1410093307495117, 2.1149394512176514, 1.4155126810073853, 1.0390924215316772, 0.9206610918045044, 0.8760760426521301, 0.5240404605865479, 0.49002259969711304, 0.2846522033214569, 0.1620810627937317, 0.04658212140202522, 0.047246258705854416, 0.03953637555241585, 0.03746902570128441, 0.047439850866794586, 0.03927181661128998, 0.03927181661128998, 0.05282888188958168, 0.039071034640073776, 0.03991906717419624, 0.045325398445129395, 0.04524606093764305, 0.045620303601026535, 0.04483288899064064, 0.04482462257146835, 0.045428793877363205, 0.04038822650909424], \"Term\": [\"wait\", \"chocolate\", \"hot\", \"huge\", \"take\", \"table\", \"portion\", \"good\", \"say\", \"salad\", \"minute\", \"order\", \"waitress\", \"chicken\", \"waiter\", \"ask\", \"plate\", \"sit\", \"seat\", \"try\", \"restaurant\", \"service\", \"freeze\", \"food\", \"hostess\", \"people\", \"tell\", \"go\", \"staff\", \"top\", \"chocolate\", \"hot\", \"try\", \"freeze\", \"frozen\", \"really\", \"taste\", \"also\", \"much\", \"definitely\", \"price\", \"love\", \"pretty\", \"worth\", \"thing\", \"always\", \"amazing\", \"bit\", \"sweet\", \"visit\", \"dog\", \"super\", \"last\", \"stop\", \"probably\", \"good\", \"must\", \"recommend\", \"famous\", \"outside\", \"think\", \"share\", \"friend\", \"serendipity\", \"place\", \"well\", \"ever\", \"great\", \"little\", \"sundae\", \"dessert\", \"fry\", \"time\", \"drink\", \"eat\", \"get\", \"go\", \"come\", \"food\", \"make\", \"order\", \"would\", \"minute\", \"seat\", \"tell\", \"server\", \"check\", \"bring\", \"reservation\", \"hour\", \"keep\", \"water\", \"arrive\", \"call\", \"front\", \"patio\", \"open\", \"party\", \"away\", \"stand\", \"start\", \"ready\", \"close\", \"walk\", \"care\", \"desert\", \"head\", \"glass\", \"manager\", \"guy\", \"show\", \"brunch\", \"take\", \"table\", \"leave\", \"finally\", \"put\", \"wait\", \"sit\", \"bad\", \"let\", \"restaurant\", \"say\", \"never\", \"ask\", \"people\", \"long\", \"give\", \"service\", \"order\", \"even\", \"want\", \"experience\", \"food\", \"go\", \"would\", \"back\", \"get\", \"come\", \"could\", \"cheese\", \"egg\", \"breakfast\", \"cake\", \"bread\", \"piece\", \"honestly\", \"fresh\", \"slice\", \"potato\", \"girlfriend\", \"thick\", \"fudge\", \"easily\", \"type\", \"fancy\", \"vanilla\", \"amount\", \"crust\", \"wife\", \"disappointed\", \"bacon\", \"black\", \"cut\", \"hungry\", \"perfectly\", \"chicken\", \"usually\", \"birthday\", \"hate\", \"huge\", \"cream\", \"portion\", \"salad\", \"split\", \"include\", \"meal\", \"top\", \"sandwich\", \"side\", \"serve\", \"size\", \"decent\", \"waitress\", \"hostess\", \"staff\", \"min\", \"offer\", \"talk\", \"horrible\", \"rude\", \"empty\", \"pass\", \"several\", \"complain\", \"refill\", \"notice\", \"yet\", \"card\", \"problem\", \"oreos\", \"clean\", \"send\", \"change\", \"attitude\", \"immediately\", \"low\", \"cause\", \"set\", \"omelet\", \"swear\", \"twinkie\", \"fairly\", \"waiter\", \"tip\", \"later\", \"friendly\", \"ask\", \"receive\", \"chance\", \"town\", \"sister\", \"cheeseburger\", \"pasta\", \"suck\", \"mac_cheese\", \"pre\", \"crave\", \"beverage\", \"venture\", \"sample\", \"pretzel\", \"occasion\", \"attempt\", \"sausage\", \"brother\", \"nasty\", \"form\", \"caesars_palace\", \"disappear\", \"value\", \"casual\", \"restroom\", \"noise\", \"create\", \"shame\", \"carrot_cake\", \"positive\", \"longer\", \"other\", \"meet\", \"fall\", \"asian\", \"beef\", \"roll\", \"steep\", \"texture\", \"alone\", \"variety\", \"dress\", \"man\", \"lettuce\", \"slushy\", \"colorful\", \"peanut\", \"spicy\", \"parent\", \"joint\", \"sick\", \"fountain\", \"corner\", \"heavy\", \"reviewer\", \"vibe\", \"eater\", \"quiet\", \"pile\", \"crouton\", \"salad\", \"plate\", \"pack\", \"beer\", \"smile\", \"car\", \"smell\", \"fix\", \"dirty\", \"pump\", \"number\", \"consistency\", \"play\", \"speak\", \"freak\", \"sorry\", \"con\", \"crap\", \"worst\", \"secondly\", \"waited\", \"hint\", \"lover\", \"fault\", \"bottle\", \"additional\", \"company\", \"grumpy\", \"blame\", \"hair\", \"crunch\", \"locate\", \"fail\", \"whenever\", \"delish\", \"outdoor_seate\", \"alcohol\", \"crowded\", \"hell\", \"trust\", \"continue\", \"finished\", \"eating\", \"strike\", \"select\", \"indulge\", \"eaten\", \"street\", \"sugary\", \"comparison\", \"tend\", \"basil\", \"ipad\", \"yell\", \"tomatoe\", \"aware\", \"pleasure\", \"destination\", \"cramp\", \"attraction\", \"convenience\", \"fantastic\", \"ny\", \"explain\", \"tea\", \"beat\", \"mainly\", \"noon\", \"sake\", \"fantasy\", \"tall\", \"com\", \"anyhow\", \"blt\", \"handful\", \"funky\", \"sale\", \"successful\", \"humor\", \"hey\", \"carefully\", \"fixture\", \"heave\", \"page\", \"inquire\", \"boulevard\", \"oder\", \"huuuge\", \"hipster\", \"cholcate\", \"swell\", \"definatly\", \"shack\", \"bind\", \"wonderland\", \"centrally\"], \"Total\": [1358.0, 2948.0, 2837.0, 505.0, 797.0, 744.0, 403.0, 2092.0, 836.0, 284.0, 535.0, 1831.0, 221.0, 264.0, 246.0, 379.0, 137.0, 532.0, 446.0, 1203.0, 566.0, 885.0, 1182.0, 1873.0, 167.0, 685.0, 366.0, 1933.0, 157.0, 283.0, 2948.131103515625, 2837.215576171875, 1203.1236572265625, 1182.3372802734375, 935.6541137695312, 920.13623046875, 650.7860107421875, 627.7793579101562, 573.8970947265625, 573.087646484375, 553.1876220703125, 552.3574829101562, 524.8789672851562, 456.068359375, 483.5517578125, 302.59991455078125, 296.03314208984375, 295.38299560546875, 282.05609130859375, 275.2347106933594, 254.18124389648438, 220.37391662597656, 217.4954376220703, 211.75772094726562, 203.05006408691406, 2092.886474609375, 200.83657836914062, 193.48670959472656, 189.65232849121094, 188.76229858398438, 674.485595703125, 499.91070556640625, 653.468994140625, 896.4979248046875, 1607.41845703125, 535.1654052734375, 296.5913391113281, 669.9332885742188, 472.0826721191406, 531.1988525390625, 937.5562744140625, 620.1434326171875, 1313.8096923828125, 606.1284790039062, 705.0213012695312, 1729.920654296875, 1933.2239990234375, 1604.82080078125, 1873.4384765625, 874.8107299804688, 1831.63818359375, 1006.5369262695312, 535.345703125, 446.7473449707031, 366.59991455078125, 323.70928955078125, 293.99334716796875, 233.34361267089844, 232.56622314453125, 220.2041473388672, 182.57615661621094, 158.6478729248047, 143.6586456298828, 137.489501953125, 137.27915954589844, 125.79484558105469, 121.4622802734375, 118.81018829345703, 117.8480224609375, 114.14495849609375, 110.57176971435547, 108.77317810058594, 107.80841064453125, 276.7627258300781, 100.05667114257812, 96.4391860961914, 93.9892578125, 92.0768814086914, 89.20867919921875, 88.33625793457031, 84.55531311035156, 82.00679779052734, 797.6165771484375, 744.7659912109375, 257.4275817871094, 189.1201934814453, 171.70867919921875, 1358.7421875, 532.5916137695312, 398.06781005859375, 179.63388061523438, 566.2198486328125, 836.7705688476562, 292.9067077636719, 379.0635070800781, 685.139404296875, 436.9725646972656, 489.9835510253906, 885.3431396484375, 1831.63818359375, 633.3275146484375, 788.3295288085938, 391.2021484375, 1873.4384765625, 1933.2239990234375, 1006.5369262695312, 692.6483154296875, 1729.920654296875, 1604.82080078125, 491.6917419433594, 198.60552978515625, 191.57931518554688, 186.4420166015625, 164.0928955078125, 130.12722778320312, 92.15170288085938, 84.4727783203125, 81.38691711425781, 79.89449310302734, 78.63605499267578, 78.07332611083984, 77.15036010742188, 76.48885345458984, 73.26669311523438, 73.22623443603516, 71.40177917480469, 68.13597869873047, 67.15193176269531, 67.06951904296875, 64.08334350585938, 63.91712188720703, 61.929466247558594, 60.57322692871094, 68.36705780029297, 58.843658447265625, 54.73358917236328, 264.42730712890625, 53.303565979003906, 52.65072250366211, 48.27951431274414, 505.6517028808594, 73.21123504638672, 403.8902282714844, 284.24468994140625, 125.67923736572266, 70.4041519165039, 274.66790771484375, 283.3089904785156, 301.43426513671875, 265.0567626953125, 283.7171936035156, 218.21559143066406, 104.9617919921875, 221.40744018554688, 167.40675354003906, 157.06248474121094, 118.93341064453125, 100.95625305175781, 100.46243286132812, 98.8809585571289, 93.53324890136719, 82.0286865234375, 72.64972686767578, 67.97003173828125, 56.31071853637695, 45.85588073730469, 44.40538787841797, 43.42909622192383, 40.90330505371094, 40.620887756347656, 40.24366760253906, 38.852325439453125, 38.733882904052734, 54.457061767578125, 34.838096618652344, 33.886287689208984, 33.156063079833984, 32.93669128417969, 32.52211380004883, 31.814037322998047, 30.858816146850586, 29.85744285583496, 29.80807113647461, 246.11187744140625, 80.35202026367188, 137.3203582763672, 183.65264892578125, 379.0635070800781, 54.163185119628906, 52.483890533447266, 45.40473556518555, 44.16536331176758, 42.72043991088867, 41.10857009887695, 40.3067741394043, 39.024940490722656, 38.13347625732422, 27.994693756103516, 25.272552490234375, 24.997425079345703, 24.59766960144043, 21.93134307861328, 21.95446014404297, 21.200471878051758, 19.563961029052734, 18.517515182495117, 16.958633422851562, 16.761131286621094, 15.273876190185547, 15.239215850830078, 15.0772066116333, 14.176204681396484, 12.518207550048828, 12.266468048095703, 12.069870948791504, 11.207856178283691, 11.028604507446289, 11.016898155212402, 39.89440155029297, 34.9617805480957, 28.22077178955078, 27.56656837463379, 26.2637939453125, 24.541969299316406, 23.669803619384766, 22.383628845214844, 22.30099868774414, 21.738243103027344, 21.262399673461914, 20.380205154418945, 18.764610290527344, 18.546159744262695, 18.535600662231445, 17.635343551635742, 17.348360061645508, 15.617749214172363, 15.470809936523438, 14.818923950195312, 14.229503631591797, 13.826656341552734, 13.141884803771973, 12.301166534423828, 12.15464973449707, 11.976110458374023, 11.918426513671875, 11.277300834655762, 11.119637489318848, 10.810407638549805, 284.24468994140625, 137.66058349609375, 50.30904006958008, 26.373167037963867, 25.28728485107422, 21.132335662841797, 19.48570442199707, 19.436485290527344, 18.55512809753418, 18.441184997558594, 16.033348083496094, 15.348600387573242, 14.842828750610352, 14.369898796081543, 13.628731727600098, 13.246273040771484, 13.163019180297852, 13.07987117767334, 12.200064659118652, 11.156176567077637, 11.119585990905762, 11.061622619628906, 10.885844230651855, 10.325519561767578, 10.256509780883789, 10.176098823547363, 9.977221488952637, 9.715843200683594, 9.311413764953613, 9.227165222167969, 9.16635513305664, 37.806060791015625, 20.463123321533203, 19.871599197387695, 18.04596710205078, 15.438796043395996, 12.05044174194336, 11.514883995056152, 11.023397445678711, 10.88814640045166, 10.796357154846191, 9.175565719604492, 8.784902572631836, 7.841466903686523, 6.915830135345459, 6.714668273925781, 6.601302623748779, 6.366641998291016, 6.005673408508301, 5.88786506652832, 5.636427879333496, 5.0397515296936035, 5.000727653503418, 4.705370903015137, 4.441544055938721, 4.297461032867432, 4.2801594734191895, 4.076353073120117, 3.8933653831481934, 3.8176372051239014, 3.7194814682006836, 14.773323059082031, 12.750909805297852, 7.862870693206787, 4.787108421325684, 4.503836631774902, 4.087855815887451, 3.7207870483398438, 3.6234593391418457, 2.85943603515625, 2.8337020874023438, 2.1341028213500977, 1.7573325634002686, 1.6393296718597412, 1.5944952964782715, 1.2420049905776978, 1.2082093954086304, 1.0028984546661377, 0.8824732899665833, 0.8408238887786865, 0.8718966245651245, 0.7978594303131104, 0.7643420100212097, 0.9753182530403137, 0.8097341060638428, 0.8097341060638428, 1.0946651697158813, 0.833263635635376, 0.8525691628456116, 0.9718937277793884, 0.9708661437034607, 0.9925369024276733, 0.9911303520202637, 0.9972467422485352, 1.0778528451919556, 0.9164904952049255], \"loglift\": [30.0, 29.0, 28.0, 27.0, 26.0, 25.0, 24.0, 23.0, 22.0, 21.0, 20.0, 19.0, 18.0, 17.0, 16.0, 15.0, 14.0, 13.0, 12.0, 11.0, 10.0, 9.0, 8.0, 7.0, 6.0, 5.0, 4.0, 3.0, 2.0, 1.0, 0.517300009727478, 0.517300009727478, 0.5170000195503235, 0.5170000195503235, 0.5167999863624573, 0.5167999863624573, 0.5164999961853027, 0.5164999961853027, 0.5163999795913696, 0.5163999795913696, 0.5163000226020813, 0.5163000226020813, 0.5163000226020813, 0.5160999894142151, 0.5160999894142151, 0.5153999924659729, 0.5152999758720398, 0.5152999758720398, 0.5152000188827515, 0.5152000188827515, 0.5149999856948853, 0.5145999789237976, 0.5145000219345093, 0.5145000219345093, 0.5142999887466431, 0.5142999887466431, 0.5142999887466431, 0.5141000151634216, 0.5141000151634216, 0.5141000151634216, 0.5120000243186951, 0.513700008392334, 0.5084999799728394, 0.49230000376701355, 0.47760000824928284, 0.49880000948905945, 0.5095999836921692, 0.49140000343322754, 0.49810001254081726, 0.474700003862381, 0.41290000081062317, 0.43130001425743103, 0.31200000643730164, 0.4101000130176544, 0.3772999942302704, 0.20499999821186066, 0.17900000512599945, 0.2087000012397766, 0.14429999887943268, 0.26989999413490295, -0.049300000071525574, 0.0031999999191612005, 1.430899977684021, 1.4305000305175781, 1.430299997329712, 1.4300999641418457, 1.429900050163269, 1.4292999505996704, 1.4292999505996704, 1.4292000532150269, 1.4285999536514282, 1.4279999732971191, 1.4276000261306763, 1.42739999294281, 1.4270999431610107, 1.426800012588501, 1.426800012588501, 1.4266999959945679, 1.4265999794006348, 1.4263999462127686, 1.426300048828125, 1.426200032234192, 1.4261000156402588, 1.4258999824523926, 1.4256000518798828, 1.4254000186920166, 1.4251999855041504, 1.4250999689102173, 1.4249000549316406, 1.4248000383377075, 1.4244999885559082, 1.4242000579833984, 1.412500023841858, 1.4121999740600586, 1.4150999784469604, 1.4154000282287598, 1.4081000089645386, 1.3349000215530396, 1.322100043296814, 1.3217999935150146, 1.375100016593933, 1.2105000019073486, 1.1467000246047974, 1.2913999557495117, 1.2265000343322754, 1.0369999408721924, 1.1157000064849854, 1.0752999782562256, 0.8787999749183655, 0.5813000202178955, 0.9297000169754028, 0.7799000144004822, 1.0383000373840332, 0.2644999921321869, 0.18330000340938568, 0.519599974155426, 0.7193999886512756, 0.1152999997138977, 0.10450000315904617, 0.8206999897956848, 2.5030999183654785, 2.503000020980835, 2.5028998851776123, 2.5023999214172363, 2.5013999938964844, 2.499300003051758, 2.498699903488159, 2.4983999729156494, 2.498199939727783, 2.4981000423431396, 2.4981000423431396, 2.497999906539917, 2.4979000091552734, 2.497499942779541, 2.497499942779541, 2.497299909591675, 2.496799945831299, 2.4967000484466553, 2.4967000484466553, 2.4962000846862793, 2.4962000846862793, 2.4958999156951904, 2.4955999851226807, 2.495500087738037, 2.495300054550171, 2.494499921798706, 2.4944000244140625, 2.4941999912261963, 2.49399995803833, 2.4928998947143555, 2.4056999683380127, 2.4723000526428223, 2.3071000576019287, 2.3101999759674072, 2.314500093460083, 2.4514000415802, 1.9631999731063843, 1.6718000173568726, 1.3869999647140503, 1.4666999578475952, 1.3545000553131104, 1.472499966621399, 2.098099946975708, 3.168100118637085, 3.167099952697754, 3.1668999195098877, 3.165600061416626, 3.164599895477295, 3.164599895477295, 3.164400100708008, 3.164099931716919, 3.163100004196167, 3.162100076675415, 3.161400079727173, 3.15939998626709, 3.1568000316619873, 3.1563000679016113, 3.1559998989105225, 3.1549999713897705, 3.154900074005127, 3.1547999382019043, 3.1542000770568848, 3.154099941253662, 3.15310001373291, 3.1521999835968018, 3.151700019836426, 3.1512999534606934, 3.151099920272827, 3.150899887084961, 3.150399923324585, 3.1498000621795654, 3.1489999294281006, 3.1489999294281006, 2.660900115966797, 2.8097000122070312, 2.361799955368042, 2.204200029373169, 1.4802000522613525, 4.3491997718811035, 4.348800182342529, 4.346799850463867, 4.346399784088135, 4.345900058746338, 4.345200061798096, 4.344900131225586, 4.344399929046631, 4.343900203704834, 4.337500095367432, 4.334799766540527, 4.334499835968018, 4.334000110626221, 4.330699920654297, 4.330599784851074, 4.329500198364258, 4.3267998695373535, 4.32480001449585, 4.321400165557861, 4.320899963378906, 4.31689977645874, 4.316699981689453, 4.316299915313721, 4.313300132751465, 4.306700229644775, 4.305500030517578, 4.304599761962891, 4.300000190734863, 4.299099922180176, 4.298999786376953, 4.413599967956543, 4.411200046539307, 4.406599998474121, 4.406000137329102, 4.404799938201904, 4.402900218963623, 4.401899814605713, 4.400199890136719, 4.400100231170654, 4.3993000984191895, 4.398600101470947, 4.397200107574463, 4.3942999839782715, 4.393899917602539, 4.393799781799316, 4.391900062561035, 4.391300201416016, 4.3867998123168945, 4.38640022277832, 4.384399890899658, 4.382500171661377, 4.38100004196167, 4.378399848937988, 4.37470006942749, 4.374000072479248, 4.3730998039245605, 4.372799873352051, 4.3694000244140625, 4.368599891662598, 4.366799831390381, 2.2864999771118164, 4.613699913024902, 4.605199813842773, 4.592800140380859, 4.591700077056885, 4.586299896240234, 4.583499908447266, 4.583399772644043, 4.581699848175049, 4.581500053405762, 4.575799942016602, 4.573800086975098, 4.572299957275391, 4.570700168609619, 4.5680999755859375, 4.566500186920166, 4.566199779510498, 4.565899848937988, 4.5619001388549805, 4.556300163269043, 4.556300163269043, 4.5559000968933105, 4.554900169372559, 4.551300048828125, 4.55079984664917, 4.550300121307373, 4.548799991607666, 4.546800136566162, 4.543700218200684, 4.543000221252441, 4.542399883270264, 5.257500171661377, 5.241499900817871, 5.2403998374938965, 5.236800193786621, 5.230000019073486, 5.216700077056885, 5.213900089263916, 5.210999965667725, 5.21019983291626, 5.20959997177124, 5.197299957275391, 5.19379997253418, 5.1834001541137695, 5.170400142669678, 5.167099952697754, 5.164999961853027, 5.160799980163574, 5.153299808502197, 5.1508002281188965, 5.144700050354004, 5.1280999183654785, 5.126699924468994, 5.116499900817871, 5.106400012969971, 5.100200176239014, 5.0991997718811035, 5.0894999504089355, 5.079999923706055, 5.075699806213379, 5.069799900054932, 6.160299777984619, 6.152200222015381, 6.114299774169922, 6.047599792480469, 6.036399841308594, 6.016900062561035, 5.995699882507324, 5.989200115203857, 5.92080020904541, 5.917600154876709, 5.799600124359131, 5.684700012207031, 5.633200168609619, 5.611299991607666, 5.3471999168396, 5.307700157165527, 4.950799942016602, 4.515500068664551, 3.316999912261963, 3.2948999404907227, 3.205399990081787, 3.194700002670288, 3.1868999004364014, 3.184000015258789, 3.184000015258789, 3.178999900817871, 3.1501998901367188, 3.1487998962402344, 3.1447999477386475, 3.1440999507904053, 3.130199909210205, 3.114300012588501, 3.1078999042510986, 3.043600082397461, 3.088099956512451], \"logprob\": [30.0, 29.0, 28.0, 27.0, 26.0, 25.0, 24.0, 23.0, 22.0, 21.0, 20.0, 19.0, 18.0, 17.0, 16.0, 15.0, 14.0, 13.0, 12.0, 11.0, 10.0, 9.0, 8.0, 7.0, 6.0, 5.0, 4.0, 3.0, 2.0, 1.0, -3.2679998874664307, -3.3064000606536865, -4.164599895477295, -4.182000160217285, -4.416200160980225, -4.4328999519348145, -4.779600143432617, -4.8155999183654785, -4.905399799346924, -4.906799793243408, -4.942200183868408, -4.943699836730957, -4.994800090789795, -5.135499954223633, -5.077000141143799, -5.546500205993652, -5.568399906158447, -5.5706000328063965, -5.6168999671936035, -5.641499996185303, -5.721199989318848, -5.864299774169922, -5.877500057220459, -5.904300212860107, -5.946499824523926, -3.613600015640259, -5.957499980926514, -5.994900226593018, -6.014900207519531, -6.019700050354004, -4.748300075531006, -5.04610013961792, -4.783400058746338, -4.483399868011475, -3.914299964904785, -4.9928998947143555, -5.572199821472168, -4.775599956512451, -5.11899995803833, -5.024400234222412, -4.518099784851074, -4.913000106811523, -4.281599998474121, -4.957099914550781, -4.838699817657471, -4.113500118255615, -4.028299808502197, -4.184700012207031, -4.094399929046631, -4.730299949645996, -4.3105998039245605, -4.8566999435424805, -4.060400009155273, -4.241799831390381, -4.439599990844727, -4.564300060272217, -4.660799980163574, -4.892399787902832, -4.895699977874756, -4.950500011444092, -5.138500213623047, -5.2795000076293945, -5.379199981689453, -5.423299789428711, -5.425099849700928, -5.512700080871582, -5.547900199890137, -5.570000171661377, -5.5782999992370605, -5.610300064086914, -5.642300128936768, -5.65880012512207, -5.667799949645996, -4.725200176239014, -5.7428998947143555, -5.779900074005127, -5.805799961090088, -5.826499938964844, -5.858399868011475, -5.868299961090088, -5.912399768829346, -5.94320011138916, -3.6800999641418457, -3.749000072479248, -4.8084001541137695, -5.116399765014648, -5.220399856567383, -3.2249999046325684, -4.1743998527526855, -4.46589994430542, -5.208199977874756, -4.224800109863281, -3.8980000019073486, -4.802999973297119, -4.610000133514404, -4.207600116729736, -4.578700065612793, -4.504499912261963, -4.109499931335449, -3.680000066757202, -4.393599987030029, -4.324399948120117, -4.7667999267578125, -3.974299907684326, -4.02400016784668, -4.340400218963623, -4.514400005340576, -4.203100204467773, -4.289000034332275, -4.75570011138916, -3.97979998588562, -4.015900135040283, -4.0432000160217285, -4.17140007019043, -4.404300212860107, -4.751500129699707, -4.839099884033203, -4.8765997886657715, -4.895299911499023, -4.911300182342529, -4.918499946594238, -4.930500030517578, -4.939199924468994, -4.982600212097168, -4.9832000732421875, -5.008699893951416, -5.0559000968933105, -5.0706000328063965, -5.071800231933594, -5.117800235748291, -5.120500087738037, -5.152400016784668, -5.174799919128418, -5.053899765014648, -5.203999996185303, -5.277299880981445, -3.7023000717163086, -5.304100036621094, -5.3165998458862305, -5.404399871826172, -3.142699956893921, -5.008600234985352, -3.4660000801086426, -3.814199924468994, -4.625999927520752, -5.068600177764893, -4.195499897003174, -4.455900192260742, -4.678699970245361, -4.72760009765625, -4.7718000411987305, -4.916299819946289, -5.022500038146973, -3.2060999870300293, -3.4867000579833984, -3.5506999492645264, -3.8301000595092773, -3.994999885559082, -3.9999001026153564, -4.015900135040283, -4.071899890899658, -4.204100131988525, -4.326499938964844, -4.393700122833252, -4.583899974822998, -4.791999816894531, -4.8246002197265625, -4.847099781036377, -4.9079999923706055, -4.914999961853027, -4.924499988555908, -4.960299968719482, -4.963399887084961, -4.623700141906738, -5.071300029754639, -5.0995001792907715, -5.121699810028076, -5.128499984741211, -5.14139986038208, -5.163899898529053, -5.195099830627441, -5.228799819946289, -5.230400085449219, -3.607599973678589, -4.578100204467773, -4.490099906921387, -4.35699987411499, -4.356299877166748, -3.433000087738037, -3.464900016784668, -3.611799955368042, -3.639899969100952, -3.6737000942230225, -3.7128000259399414, -3.732800006866455, -3.765700101852417, -3.7892000675201416, -4.104800224304199, -4.209700107574463, -4.2210001945495605, -4.237599849700928, -4.3557000160217285, -4.354599952697754, -4.390699863433838, -4.473700046539307, -4.530700206756592, -4.622099876403809, -4.634300231933594, -4.731200218200684, -4.733699798583984, -4.744800090789795, -4.8094000816345215, -4.940299987792969, -4.961900234222412, -4.978899955749512, -5.057600021362305, -5.074699878692627, -5.075799942016602, -3.6744000911712646, -3.808799982070923, -4.027599811553955, -4.051700115203857, -4.10129976272583, -4.170899868011475, -4.208099842071533, -4.265699863433838, -4.269499778747559, -4.29580020904541, -4.318699836730957, -4.362500190734863, -4.447999954223633, -4.460100173950195, -4.460700035095215, -4.512400150299072, -4.5295000076293945, -4.638999938964844, -4.648900032043457, -4.693900108337402, -4.736400127410889, -4.766600131988525, -4.820000171661377, -4.889800071716309, -4.902500152587891, -4.9182000160217285, -4.923299789428711, -4.98199987411499, -4.9969000816345215, -5.026899814605713, -3.837899923324585, -2.2356998920440674, -3.2509000301361084, -3.90910005569458, -3.9523000717163086, -4.137199878692627, -4.221099853515625, -4.223700046539307, -4.2718000411987305, -4.278200149536133, -4.423799991607666, -4.469399929046631, -4.504499912261963, -4.538400173187256, -4.593999862670898, -4.624000072479248, -4.6305999755859375, -4.63730001449585, -4.710899829864502, -4.8059000968933105, -4.809199810028076, -4.814799785614014, -4.831900119781494, -4.888299942016602, -4.895500183105469, -4.903900146484375, -4.92519998550415, -4.95359992980957, -4.999300003051758, -5.009099960327148, -5.016300201416016, -2.8842999935150146, -3.5141000747680664, -3.5445001125335693, -3.6445000171661377, -3.807300090789795, -4.068399906158447, -4.116700172424316, -4.1631999015808105, -4.176400184631348, -4.185400009155273, -4.360400199890137, -4.407400131225586, -4.531400203704834, -4.670000076293945, -4.702899932861328, -4.7220001220703125, -4.762400150299072, -4.828199863433838, -4.850599765777588, -4.900300025939941, -5.028800010681152, -5.038000106811523, -5.109000205993652, -5.1768999099731445, -5.216100215911865, -5.2210001945495605, -5.2795000076293945, -5.33489990234375, -5.35890007019043, -5.3907999992370605, -2.921099901199341, -3.0764000415802, -3.5978000164031982, -4.160699844360352, -4.232900142669678, -4.349299907684326, -4.464600086212158, -4.497600078582764, -4.802800178527832, -4.815100193023682, -5.216599941253662, -5.525700092315674, -5.646699905395508, -5.696400165557861, -6.210299968719482, -6.277400016784668, -6.8206000328063965, -7.383699893951416, -8.630599975585938, -8.616499900817871, -8.794599533081055, -8.848299980163574, -8.61240005493164, -8.801300048828125, -8.801300048828125, -8.504799842834473, -8.806500434875488, -8.78499984741211, -8.657999992370605, -8.659700393676758, -8.65149974822998, -8.668899536132812, -8.669099807739258, -8.655699729919434, -8.773300170898438]}, \"token.table\": {\"Topic\": [7, 8, 6, 1, 1, 1, 3, 9, 2, 6, 2, 4, 5, 4, 8, 8, 2, 1, 2, 3, 1, 2, 8, 9, 6, 7, 5, 3, 1, 3, 7, 9, 7, 3, 3, 2, 5, 2, 5, 3, 2, 7, 4, 2, 5, 5, 4, 5, 4, 2, 3, 5, 1, 3, 1, 4, 2, 6, 9, 1, 2, 7, 8, 4, 7, 7, 8, 8, 6, 1, 2, 3, 8, 7, 5, 1, 3, 5, 6, 8, 7, 3, 3, 2, 3, 1, 8, 2, 1, 2, 3, 8, 7, 5, 3, 1, 6, 1, 2, 3, 1, 2, 3, 8, 6, 8, 3, 4, 1, 2, 1, 4, 1, 2, 9, 8, 4, 6, 1, 3, 9, 9, 7, 1, 2, 4, 8, 7, 1, 2, 5, 6, 7, 1, 3, 1, 2, 1, 4, 2, 1, 1, 3, 3, 9, 1, 2, 3, 1, 2, 2, 1, 2, 1, 3, 1, 2, 3, 7, 2, 7, 9, 3, 2, 6, 8, 7, 3, 4, 4, 1, 2, 1, 3, 3, 4, 1, 3, 8, 8, 6, 2, 1, 1, 4, 1, 2, 1, 2, 6, 1, 3, 8, 1, 2, 6, 1, 7, 4, 5, 9, 1, 2, 6, 2, 1, 2, 3, 6, 4, 2, 1, 1, 5, 1, 2, 5, 9, 4, 7, 9, 5, 4, 4, 2, 1, 2, 3, 4, 6, 8, 1, 7, 6, 2, 4, 5, 2, 6, 1, 2, 3, 3, 3, 6, 1, 2, 7, 7, 8, 1, 3, 5, 3, 5, 1, 5, 1, 1, 4, 7, 1, 2, 6, 2, 1, 5, 1, 4, 2, 1, 2, 5, 6, 6, 4, 9, 1, 3, 6, 5, 1, 2, 3, 5, 1, 2, 2, 7, 8, 4, 1, 2, 1, 2, 3, 2, 1, 2, 4, 4, 4, 5, 1, 3, 2, 6, 1, 3, 5, 1, 2, 1, 3, 3, 6, 7, 7, 7, 7, 6, 1, 3, 4, 2, 2, 6, 1, 8, 8, 5, 8, 1, 3, 1, 4, 1, 2, 4, 1, 2, 4, 9, 1, 9, 2, 8, 6, 3, 1, 1, 2, 1, 2, 1, 4, 8, 1, 3, 5, 8, 1, 4, 3, 3, 5, 3, 6, 5, 6, 1, 1, 2, 7, 2, 4, 4, 1, 2, 1, 2, 2, 1, 2, 8, 3, 7, 1, 1, 2, 8, 4], \"Freq\": [0.9826948642730713, 0.912829577922821, 0.9660394191741943, 0.9987585544586182, 0.9980174899101257, 0.9965100288391113, 0.997737467288971, 0.5690442323684692, 0.995415210723877, 0.9899559617042542, 0.8151668310165405, 0.18466562032699585, 0.9905439615249634, 0.9759430885314941, 0.7858263850212097, 0.9307821393013, 0.9928041100502014, 0.5096381306648254, 0.4908696115016937, 0.9849915504455566, 0.10299752652645111, 0.894320011138916, 0.7936899065971375, 0.8881316781044006, 0.9779166579246521, 0.9858505129814148, 0.9892154932022095, 0.9876407384872437, 0.9987034201622009, 0.990536630153656, 0.9665557146072388, 0.6100054383277893, 0.9749905467033386, 0.9913374781608582, 0.9976292252540588, 0.998527467250824, 0.9720526933670044, 0.9877229928970337, 0.9820689558982849, 0.9933397769927979, 0.9964396953582764, 0.9464169144630432, 0.9779160618782043, 0.9894392490386963, 0.9067330360412598, 0.9875704050064087, 0.9715608358383179, 0.990780234336853, 0.9732438325881958, 0.9966211915016174, 0.9969511032104492, 0.9831359386444092, 0.01134527288377285, 0.9870387315750122, 0.9996163249015808, 0.9780624508857727, 0.992501437664032, 0.9639732837677002, 0.4685809910297394, 0.7346614599227905, 0.26482707262039185, 0.9020547270774841, 0.8492042422294617, 0.9944821000099182, 0.9116449356079102, 0.9772878289222717, 0.9262383580207825, 0.8065640330314636, 0.9131110310554504, 0.366083025932312, 0.5430231690406799, 0.091520756483078, 0.7705416083335876, 0.9174402356147766, 0.9644684791564941, 0.027318211272358894, 0.9697964787483215, 0.9113602042198181, 0.9250345230102539, 0.955285370349884, 0.8727569580078125, 0.9840535521507263, 0.9946310520172119, 0.3334546685218811, 0.6669093370437622, 0.9981021285057068, 0.9420387148857117, 0.995445966720581, 0.9002126455307007, 0.0565299391746521, 0.04266410693526268, 0.7359519600868225, 0.9700822234153748, 0.9843026399612427, 0.9856513738632202, 0.999286949634552, 0.9813444018363953, 0.8974995017051697, 0.1006387323141098, 0.9963599443435669, 0.8694772720336914, 0.11772693693637848, 0.011347174644470215, 0.9089115262031555, 0.9229406118392944, 0.9106532335281372, 0.9969761371612549, 0.9874594211578369, 0.3947404623031616, 0.6047424077987671, 0.9912629127502441, 0.006743285339325666, 0.32464033365249634, 0.674842894077301, 0.8902601003646851, 0.9773678779602051, 0.9728908538818359, 0.9794472455978394, 0.9965603947639465, 0.9943729639053345, 0.9476540684700012, 0.6994386315345764, 0.968474268913269, 0.00528764259070158, 0.9835015535354614, 0.01057528518140316, 0.871880829334259, 0.9775429964065552, 0.6885734796524048, 0.31119251251220703, 0.9545894861221313, 0.9402128458023071, 0.9538671970367432, 0.999714732170105, 0.9952459335327148, 0.9916308522224426, 0.0076514724642038345, 0.615291953086853, 0.381154328584671, 0.997966468334198, 0.9993008971214294, 0.9175296425819397, 0.08223903924226761, 0.993608832359314, 0.8051497340202332, 0.7318254709243774, 0.2682203948497772, 0.9862523078918457, 0.29796919226646423, 0.7000234723091125, 0.9883045554161072, 0.7127989530563354, 0.2870852053165436, 0.9967095851898193, 0.0028668539598584175, 0.9747239351272583, 0.004478057846426964, 0.020897602662444115, 0.9263220429420471, 0.9961934089660645, 0.9753808379173279, 0.6271576881408691, 0.9942104816436768, 0.9894747734069824, 0.975517213344574, 0.9071613550186157, 0.9040265083312988, 0.9944031834602356, 0.991090714931488, 0.997570276260376, 0.9999240040779114, 0.9990729093551636, 0.09492699801921844, 0.9037841558456421, 0.9856626987457275, 0.9738452434539795, 0.042611122131347656, 0.9516484141349792, 0.8935661315917969, 0.7998836040496826, 0.94473797082901, 0.9968442916870117, 0.9977220892906189, 0.553450345993042, 0.4442167282104492, 0.01553835067898035, 0.9828006625175476, 0.050101906061172485, 0.9463693499565125, 0.9705513119697571, 0.980760395526886, 0.019064458087086678, 0.9786790609359741, 0.270039826631546, 0.7277344465255737, 0.9775807857513428, 0.9993528127670288, 0.918624222278595, 0.9952930808067322, 0.9737362861633301, 0.7338810563087463, 0.7807403206825256, 0.2183329463005066, 0.9592525362968445, 0.997660756111145, 0.09101900458335876, 0.3240276575088501, 0.5825216174125671, 0.9921769499778748, 0.9921517968177795, 0.9993542432785034, 0.9984368085861206, 0.9958345293998718, 0.9434722661972046, 0.12973414361476898, 0.8671703338623047, 0.9782767295837402, 0.8062810301780701, 0.9908707737922668, 0.9355500936508179, 0.941109299659729, 0.956525444984436, 0.9905280470848083, 0.9744126200675964, 0.996194064617157, 0.5672517418861389, 0.4269402027130127, 0.0054595936089754105, 0.9939451813697815, 0.9724904894828796, 0.9715783596038818, 0.995961606502533, 0.9938571453094482, 0.9695678353309631, 0.9931808114051819, 0.9910567402839661, 0.9730331301689148, 0.9936814308166504, 0.9799197316169739, 0.3225620985031128, 0.674315333366394, 0.002919113961979747, 0.9865971207618713, 0.9983537793159485, 0.8993098735809326, 0.9611685276031494, 0.03857116401195526, 0.9952013492584229, 0.9432164430618286, 0.9345446228981018, 0.1782662570476532, 0.8195295929908752, 0.9076964855194092, 0.9919114112854004, 0.9702760577201843, 0.9983254075050354, 0.9575337171554565, 0.999660849571228, 0.9948285222053528, 0.9847150444984436, 0.9760761260986328, 0.023295270279049873, 0.9784013032913208, 0.9754106998443604, 0.9928918480873108, 0.9987651705741882, 0.9785244464874268, 0.9974845051765442, 0.9813354015350342, 0.9975653290748596, 0.19780302047729492, 0.8018087148666382, 0.9586036801338196, 0.9050034284591675, 0.9717022180557251, 0.9942988157272339, 0.8279380798339844, 0.05980762466788292, 0.8232343792915344, 0.11609715223312378, 0.975702166557312, 0.6668120622634888, 0.003317472990602255, 0.32511234283447266, 0.9711734652519226, 0.2473796308040619, 0.7516995072364807, 0.9983271360397339, 0.8963644504547119, 0.8675748109817505, 0.9810532331466675, 0.9749046564102173, 0.02453993447124958, 0.345414400100708, 0.33484047651290894, 0.31721729040145874, 0.9978088736534119, 0.3998449742794037, 0.5749183297157288, 0.02371961623430252, 0.983945906162262, 0.9857285618782043, 0.9814544320106506, 0.9961779117584229, 0.0020003572572022676, 0.9934325218200684, 0.9838712811470032, 0.6451448202133179, 0.35464102029800415, 0.9736136198043823, 0.10326861590147018, 0.895620584487915, 0.6415673494338989, 0.3574446737766266, 0.988804042339325, 0.9711042046546936, 0.9750738143920898, 0.9886391758918762, 0.9814081192016602, 0.9742587804794312, 0.9604457020759583, 0.16709204018115997, 0.8275034427642822, 0.9932352900505066, 0.9987300634384155, 0.994828999042511, 0.9828611612319946, 0.996421754360199, 0.9424120187759399, 0.892690122127533, 0.9923890233039856, 0.8325461149215698, 0.9582098722457886, 0.0414157509803772, 0.998303234577179, 0.9721695184707642, 0.9962557554244995, 0.980173647403717, 0.018797850236296654, 0.018806029111146927, 0.9804209470748901, 0.9953969717025757, 0.7057905197143555, 0.9987922310829163, 0.8355774879455566, 0.9983635544776917, 0.8870866894721985, 0.9865028858184814, 0.9980510473251343, 0.9988589286804199, 0.9948322176933289, 0.004447834100574255, 0.8144254088401794, 0.1849582940340042, 0.2986856997013092, 0.6969333291053772, 0.9005877375602722, 0.5647544264793396, 0.4341549575328827, 0.9910860657691956, 0.918429970741272, 0.9990660548210144, 0.9712821245193481, 0.9969104528427124, 0.9943049550056458, 0.9285539388656616, 0.9833277463912964, 0.9876589775085449, 0.9600988626480103, 0.9184951782226562, 0.9991472363471985, 0.09199684858322144, 0.9074569344520569, 0.8993140459060669, 0.3981928825378418, 0.6013525128364563, 0.9981597661972046, 0.0036132032983005047, 0.9936308860778809, 0.4782264232635498, 0.5213555693626404, 0.9959163069725037, 0.9810051321983337, 0.016817230731248856, 0.9561384320259094, 0.9830947518348694, 0.9836013317108154, 0.9976574778556824, 0.5980903506278992, 0.40137624740600586, 0.8500924110412598, 0.9901196360588074], \"Term\": [\"additional\", \"alcohol\", \"alone\", \"also\", \"always\", \"amazing\", \"amount\", \"anyhow\", \"arrive\", \"asian\", \"ask\", \"ask\", \"attempt\", \"attitude\", \"attraction\", \"aware\", \"away\", \"back\", \"back\", \"bacon\", \"bad\", \"bad\", \"basil\", \"beat\", \"beef\", \"beer\", \"beverage\", \"birthday\", \"bit\", \"black\", \"blame\", \"blt\", \"bottle\", \"bread\", \"breakfast\", \"bring\", \"brother\", \"brunch\", \"caesars_palace\", \"cake\", \"call\", \"car\", \"card\", \"care\", \"carrot_cake\", \"casual\", \"cause\", \"chance\", \"change\", \"check\", \"cheese\", \"cheeseburger\", \"chicken\", \"chicken\", \"chocolate\", \"clean\", \"close\", \"colorful\", \"com\", \"come\", \"come\", \"company\", \"comparison\", \"complain\", \"con\", \"consistency\", \"continue\", \"convenience\", \"corner\", \"could\", \"could\", \"could\", \"cramp\", \"crap\", \"crave\", \"cream\", \"cream\", \"create\", \"crouton\", \"crowded\", \"crunch\", \"crust\", \"cut\", \"decent\", \"decent\", \"definitely\", \"delish\", \"desert\", \"dessert\", \"dessert\", \"dessert\", \"destination\", \"dirty\", \"disappear\", \"disappointed\", \"dog\", \"dress\", \"drink\", \"drink\", \"easily\", \"eat\", \"eat\", \"eat\", \"eaten\", \"eater\", \"eating\", \"egg\", \"empty\", \"even\", \"even\", \"ever\", \"ever\", \"experience\", \"experience\", \"explain\", \"fail\", \"fairly\", \"fall\", \"famous\", \"fancy\", \"fantastic\", \"fantasy\", \"fault\", \"finally\", \"finally\", \"finally\", \"finished\", \"fix\", \"food\", \"food\", \"form\", \"fountain\", \"freak\", \"freeze\", \"fresh\", \"friend\", \"friend\", \"friendly\", \"friendly\", \"front\", \"frozen\", \"fry\", \"fry\", \"fudge\", \"funky\", \"get\", \"get\", \"girlfriend\", \"give\", \"give\", \"glass\", \"go\", \"go\", \"good\", \"good\", \"great\", \"great\", \"great\", \"grumpy\", \"guy\", \"hair\", \"handful\", \"hate\", \"head\", \"heavy\", \"hell\", \"hint\", \"honestly\", \"horrible\", \"hostess\", \"hot\", \"hour\", \"huge\", \"huge\", \"hungry\", \"immediately\", \"include\", \"include\", \"indulge\", \"ipad\", \"joint\", \"keep\", \"last\", \"later\", \"later\", \"leave\", \"leave\", \"let\", \"let\", \"lettuce\", \"little\", \"little\", \"locate\", \"long\", \"long\", \"longer\", \"love\", \"lover\", \"low\", \"mac_cheese\", \"mainly\", \"make\", \"make\", \"man\", \"manager\", \"meal\", \"meal\", \"meal\", \"meet\", \"min\", \"minute\", \"much\", \"must\", \"nasty\", \"never\", \"never\", \"noise\", \"noon\", \"notice\", \"number\", \"ny\", \"occasion\", \"offer\", \"omelet\", \"open\", \"order\", \"order\", \"order\", \"oreos\", \"other\", \"outdoor_seate\", \"outside\", \"pack\", \"parent\", \"party\", \"pass\", \"pasta\", \"patio\", \"peanut\", \"people\", \"people\", \"people\", \"perfectly\", \"piece\", \"pile\", \"place\", \"place\", \"plate\", \"play\", \"pleasure\", \"portion\", \"portion\", \"positive\", \"potato\", \"pre\", \"pretty\", \"pretzel\", \"price\", \"probably\", \"problem\", \"pump\", \"put\", \"put\", \"quiet\", \"ready\", \"really\", \"receive\", \"recommend\", \"refill\", \"reservation\", \"restaurant\", \"restaurant\", \"restroom\", \"reviewer\", \"roll\", \"rude\", \"sake\", \"salad\", \"salad\", \"salad\", \"sample\", \"sandwich\", \"sandwich\", \"sandwich\", \"sausage\", \"say\", \"say\", \"seat\", \"secondly\", \"select\", \"send\", \"serendipity\", \"serendipity\", \"serve\", \"serve\", \"serve\", \"server\", \"service\", \"service\", \"service\", \"set\", \"several\", \"shame\", \"share\", \"share\", \"show\", \"sick\", \"side\", \"side\", \"sister\", \"sit\", \"sit\", \"size\", \"size\", \"slice\", \"slushy\", \"smell\", \"smile\", \"sorry\", \"speak\", \"spicy\", \"split\", \"split\", \"staff\", \"stand\", \"start\", \"steep\", \"stop\", \"street\", \"strike\", \"suck\", \"sugary\", \"sundae\", \"sundae\", \"super\", \"swear\", \"sweet\", \"table\", \"table\", \"take\", \"take\", \"talk\", \"tall\", \"taste\", \"tea\", \"tell\", \"tend\", \"texture\", \"thick\", \"thing\", \"think\", \"think\", \"time\", \"time\", \"tip\", \"tip\", \"tomatoe\", \"top\", \"top\", \"town\", \"trust\", \"try\", \"twinkie\", \"type\", \"usually\", \"value\", \"vanilla\", \"variety\", \"venture\", \"vibe\", \"visit\", \"wait\", \"wait\", \"waited\", \"waiter\", \"waiter\", \"waitress\", \"walk\", \"walk\", \"want\", \"want\", \"water\", \"well\", \"well\", \"whenever\", \"wife\", \"worst\", \"worth\", \"would\", \"would\", \"yell\", \"yet\"]}, \"R\": 30, \"lambda.step\": 0.01, \"plot.opts\": {\"xlab\": \"PC1\", \"ylab\": \"PC2\"}, \"topic.order\": [8, 1, 2, 6, 3, 5, 4, 7, 9]};\n",
       "\n",
       "function LDAvis_load_lib(url, callback){\n",
       "  var s = document.createElement('script');\n",
       "  s.src = url;\n",
       "  s.async = true;\n",
       "  s.onreadystatechange = s.onload = callback;\n",
       "  s.onerror = function(){console.warn(\"failed to load library \" + url);};\n",
       "  document.getElementsByTagName(\"head\")[0].appendChild(s);\n",
       "}\n",
       "\n",
       "if(typeof(LDAvis) !== \"undefined\"){\n",
       "   // already loaded: just create the visualization\n",
       "   !function(LDAvis){\n",
       "       new LDAvis(\"#\" + \"ldavis_el5901125397480569737406072\", ldavis_el5901125397480569737406072_data);\n",
       "   }(LDAvis);\n",
       "}else if(typeof define === \"function\" && define.amd){\n",
       "   // require.js is available: use it to load d3/LDAvis\n",
       "   require.config({paths: {d3: \"https://cdnjs.cloudflare.com/ajax/libs/d3/3.5.5/d3.min\"}});\n",
       "   require([\"d3\"], function(d3){\n",
       "      window.d3 = d3;\n",
       "      LDAvis_load_lib(\"https://cdn.rawgit.com/bmabey/pyLDAvis/files/ldavis.v1.0.0.js\", function(){\n",
       "        new LDAvis(\"#\" + \"ldavis_el5901125397480569737406072\", ldavis_el5901125397480569737406072_data);\n",
       "      });\n",
       "    });\n",
       "}else{\n",
       "    // require.js not available: dynamically load d3 & LDAvis\n",
       "    LDAvis_load_lib(\"https://cdnjs.cloudflare.com/ajax/libs/d3/3.5.5/d3.min.js\", function(){\n",
       "         LDAvis_load_lib(\"https://cdn.rawgit.com/bmabey/pyLDAvis/files/ldavis.v1.0.0.js\", function(){\n",
       "                 new LDAvis(\"#\" + \"ldavis_el5901125397480569737406072\", ldavis_el5901125397480569737406072_data);\n",
       "            })\n",
       "         });\n",
       "}\n",
       "</script>"
      ],
      "text/plain": [
       "<IPython.core.display.HTML object>"
      ]
     },
     "execution_count": 64,
     "metadata": {},
     "output_type": "execute_result"
    }
   ],
   "source": [
    "### Visulization\n",
    "vis = pyLDAvis.gensim.prepare(lda_model, corpus, id2word)\n",
    "pyLDAvis.display(vis)"
   ]
  },
  {
   "cell_type": "markdown",
   "metadata": {},
   "source": [
    "### Negative reviews "
   ]
  },
  {
   "cell_type": "code",
   "execution_count": 65,
   "metadata": {},
   "outputs": [
    {
     "name": "stdout",
     "output_type": "stream",
     "text": [
      "There are 1559 reviews selected\n"
     ]
    }
   ],
   "source": [
    "# Turn the data into a list \n",
    "df_res_3_n = df_res_3[df_res_3[\"prediction_rate\"] == 0.0]\n",
    "print (\"There are\", df_res_3_n.shape[0], \"reviews selected\")\n",
    "data_con = df_res_3_n[\"text\"]\n",
    "data_con_l = data_con.tolist()"
   ]
  },
  {
   "cell_type": "markdown",
   "metadata": {},
   "source": [
    "### Text cleaning"
   ]
  },
  {
   "cell_type": "code",
   "execution_count": 66,
   "metadata": {},
   "outputs": [
    {
     "name": "stdout",
     "output_type": "stream",
     "text": [
      "['don',\n",
      " 'bother',\n",
      " 'we',\n",
      " 'were',\n",
      " 'greeted',\n",
      " 'by',\n",
      " 'some',\n",
      " 'blonde',\n",
      " 'hostess',\n",
      " 'girl',\n",
      " 'who',\n",
      " 'was',\n",
      " 'being',\n",
      " 'extra',\n",
      " 'rude',\n",
      " 'to',\n",
      " 'everyone',\n",
      " 'who',\n",
      " 'had',\n",
      " 'question',\n",
      " 'we',\n",
      " 'asked',\n",
      " 'how',\n",
      " 'long',\n",
      " 'the',\n",
      " 'wait',\n",
      " 'was',\n",
      " 'and',\n",
      " 'they',\n",
      " 'said',\n",
      " 'it',\n",
      " 'was',\n",
      " 'to',\n",
      " 'mins',\n",
      " 'but',\n",
      " 'we',\n",
      " 'were',\n",
      " 'on',\n",
      " 'our',\n",
      " 'way',\n",
      " 'out',\n",
      " 'of',\n",
      " 'vegas',\n",
      " 'so',\n",
      " 'we',\n",
      " 'went',\n",
      " 'to',\n",
      " 'the',\n",
      " 'to',\n",
      " 'go',\n",
      " 'side',\n",
      " 'all',\n",
      " 'of',\n",
      " 'us',\n",
      " 'ordered',\n",
      " 'the',\n",
      " 'bacon',\n",
      " 'cheeseburger',\n",
      " 'which',\n",
      " 'was',\n",
      " 'literally',\n",
      " 'the',\n",
      " 'size',\n",
      " 'of',\n",
      " 'mcdonald',\n",
      " 'hamburger',\n",
      " 'it',\n",
      " 'came',\n",
      " 'with',\n",
      " 'cheese',\n",
      " 'and',\n",
      " 'bacon',\n",
      " 'no',\n",
      " 'condiments',\n",
      " 'not',\n",
      " 'lettuce',\n",
      " 'or',\n",
      " 'tomatoes',\n",
      " 'with',\n",
      " 'fries',\n",
      " 'an',\n",
      " 'extra',\n",
      " 'large',\n",
      " 'soda',\n",
      " 'for',\n",
      " 'each',\n",
      " 'we',\n",
      " 'could',\n",
      " 'have',\n",
      " 'gone',\n",
      " 'to',\n",
      " 'in',\n",
      " 'out',\n",
      " 'and',\n",
      " 'spent',\n",
      " 'that',\n",
      " 'much',\n",
      " 'on',\n",
      " 'meals',\n",
      " 'wanted',\n",
      " 'rootbeer',\n",
      " 'as',\n",
      " 'my',\n",
      " 'drink',\n",
      " 'so',\n",
      " 'they',\n",
      " 'had',\n",
      " 'to',\n",
      " 'give',\n",
      " 'me',\n",
      " 'small',\n",
      " 'because',\n",
      " 'the',\n",
      " 'rootbeer',\n",
      " 'is',\n",
      " 'more',\n",
      " 'expensive',\n",
      " 'the',\n",
      " 'banana_split',\n",
      " 'my',\n",
      " 'friend',\n",
      " 'ordered',\n",
      " 'was',\n",
      " 'not',\n",
      " 'spectacular',\n",
      " 'could',\n",
      " 'have',\n",
      " 'made',\n",
      " 'better',\n",
      " 'one',\n",
      " 'at',\n",
      " 'home',\n",
      " 'plus',\n",
      " 'it',\n",
      " 'wouldn',\n",
      " 'cost',\n",
      " 'nearly',\n",
      " 'as',\n",
      " 'much']\n"
     ]
    }
   ],
   "source": [
    "# Remove distracting single quotes\n",
    "data_con_1 = [re.sub(\"\\'\", \"\", sent) for sent in data_con_l]\n",
    "\n",
    "data_words = list(sent_to_words(data_con_l))\n",
    "\n",
    "# Build the bigram and trigram models\n",
    "bigram = gensim.models.Phrases(data_words, min_count=5, threshold=100) # higher threshold fewer phrases.\n",
    "trigram = gensim.models.Phrases(bigram[data_words], threshold=100)  \n",
    "\n",
    "# Faster way to get a sentence clubbed as a trigram/bigram\n",
    "bigram_mod = gensim.models.phrases.Phraser(bigram)\n",
    "trigram_mod = gensim.models.phrases.Phraser(trigram)\n",
    "\n",
    "# See trigram example\n",
    "pprint(trigram_mod[bigram_mod[data_words[0]]])\n",
    "\n",
    "# Remove Stop Words\n",
    "data_words_nostops = remove_stopwords(data_words)\n",
    "\n",
    "# Form Bigrams\n",
    "data_words_bigrams = make_bigrams(data_words_nostops)\n",
    "\n",
    "# Initialize spacy 'en' model, keeping only tagger component (for efficiency)\n",
    "\n",
    "nlp = spacy.load('en', disable=['parser', 'ner'])\n",
    "\n",
    "# Do lemmatization keeping only noun, adj, vb, adv\n",
    "data_lemmatized = lemmatization(data_words_bigrams, allowed_postags=['NOUN', 'ADJ', 'VERB', 'ADV'])\n",
    "\n",
    "# pprint(data_lemmatized[:1])"
   ]
  },
  {
   "cell_type": "markdown",
   "metadata": {},
   "source": [
    "### Prepare data for LDA"
   ]
  },
  {
   "cell_type": "code",
   "execution_count": 67,
   "metadata": {},
   "outputs": [
    {
     "name": "stdout",
     "output_type": "stream",
     "text": [
      "Total vocabulary in the corpus:  4669\n"
     ]
    }
   ],
   "source": [
    "vocab = np.asarray([item for sublist in data_lemmatized for item in sublist])\n",
    "vocab = np.unique(vocab)\n",
    "print (\"Total vocabulary in the corpus: \", len(vocab))"
   ]
  },
  {
   "cell_type": "code",
   "execution_count": 68,
   "metadata": {},
   "outputs": [],
   "source": [
    "vocab = sorted(list(vocab))\n",
    "vocab_index = {}\n",
    "for i, w in enumerate(vocab):\n",
    "    vocab_index[w] = i\n",
    "    \n",
    "new_corpus = []\n",
    "for doc in data_lemmatized:\n",
    "    new_doc = []\n",
    "    for word in doc:\n",
    "        word_idx = vocab_index[word]\n",
    "        new_doc.append(word_idx)\n",
    "    new_corpus.append(new_doc)"
   ]
  },
  {
   "cell_type": "code",
   "execution_count": 69,
   "metadata": {},
   "outputs": [],
   "source": [
    "# Create Dictionary\n",
    "id2word = gensim.corpora.Dictionary(data_lemmatized)\n",
    "\n",
    "# Create Corpus\n",
    "texts = data_lemmatized\n",
    "\n",
    "# Term Document Frequency\n",
    "corpus = [id2word.doc2bow(text) for text in texts]\n",
    "\n",
    "# View\n",
    "# pprint(corpus[:1])\n",
    "# [[(id2word[id], freq) for id, freq in cp] for cp in corpus[:1]]"
   ]
  },
  {
   "cell_type": "markdown",
   "metadata": {},
   "source": [
    "### Model building and tuning"
   ]
  },
  {
   "cell_type": "code",
   "execution_count": 70,
   "metadata": {},
   "outputs": [
    {
     "data": {
      "image/png": "[encoded data removed]",
      "text/plain": [
       "<Figure size 432x288 with 1 Axes>"
      ]
     },
     "metadata": {
      "needs_background": "light"
     },
     "output_type": "display_data"
    }
   ],
   "source": [
    "### This step will cost some time\n",
    "coherence_score = []\n",
    "for i in range(2,16):\n",
    "    lda_model = gensim.models.ldamodel.LdaModel(corpus=corpus,\n",
    "                                           id2word=id2word,\n",
    "                                           num_topics=i, \n",
    "                                           random_state=100,\n",
    "                                           update_every=1,\n",
    "                                           chunksize=100,\n",
    "                                           passes=10,\n",
    "                                           alpha='auto',\n",
    "                                           per_word_topics=True)\n",
    "    coherence_model_lda = gensim.models.coherencemodel.CoherenceModel(model=lda_model, texts=data_lemmatized, dictionary=id2word, coherence='c_v')\n",
    "    coherence_lda = coherence_model_lda.get_coherence()\n",
    "    coherence_score.append(coherence_lda)\n",
    "\n",
    "num_topic = [i for i in range(2,16)]\n",
    "\n",
    "plt.plot(num_topic, coherence_score)\n",
    "plt.xlabel(\"Num Topics\")\n",
    "plt.ylabel(\"Coherence score\")\n",
    "plt.show()"
   ]
  },
  {
   "cell_type": "code",
   "execution_count": 71,
   "metadata": {},
   "outputs": [
    {
     "name": "stdout",
     "output_type": "stream",
     "text": [
      "[(0,\n",
      "  '0.033*\"instead\" + 0.022*\"lady\" + 0.015*\"miss\" + 0.015*\"grab\" + '\n",
      "  '0.014*\"crave\" + 0.014*\"build\" + 0.014*\"dirty\" + 0.014*\"poor\" + '\n",
      "  '0.013*\"obviously\" + 0.013*\"pleasant\"'),\n",
      " (1,\n",
      "  '0.088*\"chocolate\" + 0.082*\"hot\" + 0.034*\"freeze\" + 0.030*\"frozen\" + '\n",
      "  '0.027*\"try\" + 0.017*\"serendipity\" + 0.016*\"really\" + 0.015*\"go\" + '\n",
      "  '0.013*\"good\" + 0.013*\"taste\"'),\n",
      " (2,\n",
      "  '0.029*\"guy\" + 0.026*\"fresh\" + 0.019*\"around\" + 0.014*\"bland\" + '\n",
      "  '0.014*\"colorful\" + 0.014*\"girly\" + 0.013*\"pretzel\" + 0.013*\"starbuck\" + '\n",
      "  '0.011*\"handle\" + 0.010*\"snack\"'),\n",
      " (3,\n",
      "  '0.032*\"customer\" + 0.028*\"tell\" + 0.027*\"hostess\" + 0.023*\"mean\" + '\n",
      "  '0.023*\"close\" + 0.021*\"rude\" + 0.019*\"water\" + 0.017*\"manager\" + '\n",
      "  '0.017*\"later\" + 0.012*\"pm\"'),\n",
      " (4,\n",
      "  '0.040*\"birthday\" + 0.022*\"world\" + 0.021*\"cake\" + 0.021*\"pack\" + '\n",
      "  '0.016*\"strawberry\" + 0.013*\"crowd\" + 0.012*\"white\" + 0.012*\"honest\" + '\n",
      "  '0.010*\"willing\" + 0.010*\"shot\"'),\n",
      " (5,\n",
      "  '0.033*\"wait\" + 0.031*\"order\" + 0.029*\"go\" + 0.027*\"come\" + 0.024*\"get\" + '\n",
      "  '0.020*\"take\" + 0.020*\"time\" + 0.019*\"minute\" + 0.018*\"food\" + '\n",
      "  '0.017*\"service\"'),\n",
      " (6,\n",
      "  '0.034*\"good\" + 0.030*\"food\" + 0.029*\"great\" + 0.026*\"dessert\" + '\n",
      "  '0.021*\"place\" + 0.015*\"love\" + 0.015*\"sundae\" + 0.013*\"price\" + 0.013*\"big\" '\n",
      "  '+ 0.012*\"eat\"'),\n",
      " (7,\n",
      "  '0.061*\"buck\" + 0.027*\"street\" + 0.023*\"casino\" + 0.019*\"perhaps\" + '\n",
      "  '0.013*\"everywhere\" + 0.012*\"martini\" + 0.012*\"outstanding\" + 0.011*\"drip\" + '\n",
      "  '0.011*\"comparison\" + 0.011*\"strong\"')]\n"
     ]
    }
   ],
   "source": [
    "### Build the model (Choose K = 8 here)\n",
    "\n",
    "lda_model = gensim.models.ldamodel.LdaModel(corpus=corpus,\n",
    "                                           id2word=id2word,\n",
    "                                           num_topics=8, \n",
    "                                           random_state=100,\n",
    "                                           update_every=1,\n",
    "                                           chunksize=100,\n",
    "                                           passes=10,\n",
    "                                           alpha='auto',\n",
    "                                           per_word_topics=True)\n",
    "\n",
    "pprint(lda_model.print_topics())\n",
    "doc_lda = lda_model[corpus]"
   ]
  },
  {
   "cell_type": "code",
   "execution_count": 72,
   "metadata": {},
   "outputs": [
    {
     "name": "stderr",
     "output_type": "stream",
     "text": [
      "/anaconda3/lib/python3.7/site-packages/pyLDAvis/_prepare.py:257: FutureWarning: Sorting because non-concatenation axis is not aligned. A future version\n",
      "of pandas will change to not sort by default.\n",
      "\n",
      "To accept the future behavior, pass 'sort=False'.\n",
      "\n",
      "To retain the current behavior and silence the warning, pass 'sort=True'.\n",
      "\n",
      "  return pd.concat([default_term_info] + list(topic_dfs))\n"
     ]
    },
    {
     "data": {
      "text/html": [
       "\n",
       "<link rel=\"stylesheet\" type=\"text/css\" href=\"https://cdn.rawgit.com/bmabey/pyLDAvis/files/ldavis.v1.0.0.css\">\n",
       "\n",
       "\n",
       "<div id=\"ldavis_el5901123551351841392441599\"></div>\n",
       "<script type=\"text/javascript\">\n",
       "\n",
       "var ldavis_el5901123551351841392441599_data = {\"mdsDat\": {\"x\": [-0.2757652698161382, -0.2760694960122192, -0.22169580931210783, 0.11551828225893793, 0.1727784280105082, 0.16947729871874656, 0.16424245672243884, 0.15151410942983357], \"y\": [0.14813959799051438, -0.009387133478650346, -0.1915892759664304, 0.2552050283505749, -0.07132915883283256, -0.051848176202832455, -0.04598918882823634, -0.03320169303210753], \"topics\": [1, 2, 3, 4, 5, 6, 7, 8], \"cluster\": [1, 1, 1, 1, 1, 1, 1, 1], \"Freq\": [37.13818359375, 32.56504440307617, 20.05546760559082, 4.433023929595947, 2.2605695724487305, 1.5363844633102417, 1.362258791923523, 0.6490630507469177]}, \"tinfo\": {\"Category\": [\"Default\", \"Default\", \"Default\", \"Default\", \"Default\", \"Default\", \"Default\", \"Default\", \"Default\", \"Default\", \"Default\", \"Default\", \"Default\", \"Default\", \"Default\", \"Default\", \"Default\", \"Default\", \"Default\", \"Default\", \"Default\", \"Default\", \"Default\", \"Default\", \"Default\", \"Default\", \"Default\", \"Default\", \"Default\", \"Default\", \"Topic1\", \"Topic1\", \"Topic1\", \"Topic1\", \"Topic1\", \"Topic1\", \"Topic1\", \"Topic1\", \"Topic1\", \"Topic1\", \"Topic1\", \"Topic1\", \"Topic1\", \"Topic1\", \"Topic1\", \"Topic1\", \"Topic1\", \"Topic1\", \"Topic1\", \"Topic1\", \"Topic1\", \"Topic1\", \"Topic1\", \"Topic1\", \"Topic1\", \"Topic1\", \"Topic1\", \"Topic1\", \"Topic1\", \"Topic1\", \"Topic1\", \"Topic1\", \"Topic1\", \"Topic1\", \"Topic1\", \"Topic1\", \"Topic1\", \"Topic1\", \"Topic1\", \"Topic1\", \"Topic1\", \"Topic1\", \"Topic1\", \"Topic1\", \"Topic1\", \"Topic1\", \"Topic1\", \"Topic1\", \"Topic1\", \"Topic1\", \"Topic1\", \"Topic1\", \"Topic1\", \"Topic1\", \"Topic1\", \"Topic1\", \"Topic1\", \"Topic2\", \"Topic2\", \"Topic2\", \"Topic2\", \"Topic2\", \"Topic2\", \"Topic2\", \"Topic2\", \"Topic2\", \"Topic2\", \"Topic2\", \"Topic2\", \"Topic2\", \"Topic2\", \"Topic2\", \"Topic2\", \"Topic2\", \"Topic2\", \"Topic2\", \"Topic2\", \"Topic2\", \"Topic2\", \"Topic2\", \"Topic2\", \"Topic2\", \"Topic2\", \"Topic2\", \"Topic2\", \"Topic2\", \"Topic2\", \"Topic2\", \"Topic2\", \"Topic2\", \"Topic2\", \"Topic2\", \"Topic2\", \"Topic2\", \"Topic2\", \"Topic2\", \"Topic2\", \"Topic2\", \"Topic2\", \"Topic2\", \"Topic2\", \"Topic2\", \"Topic2\", \"Topic2\", \"Topic2\", \"Topic2\", \"Topic2\", \"Topic2\", \"Topic2\", \"Topic2\", \"Topic2\", \"Topic2\", \"Topic2\", \"Topic2\", \"Topic3\", \"Topic3\", \"Topic3\", \"Topic3\", \"Topic3\", \"Topic3\", \"Topic3\", \"Topic3\", \"Topic3\", \"Topic3\", \"Topic3\", \"Topic3\", \"Topic3\", \"Topic3\", \"Topic3\", \"Topic3\", \"Topic3\", \"Topic3\", \"Topic3\", \"Topic3\", \"Topic3\", \"Topic3\", \"Topic3\", \"Topic3\", \"Topic3\", \"Topic3\", \"Topic3\", \"Topic3\", \"Topic3\", \"Topic3\", \"Topic3\", \"Topic3\", \"Topic3\", \"Topic3\", \"Topic3\", \"Topic3\", \"Topic3\", \"Topic3\", \"Topic3\", \"Topic3\", \"Topic3\", \"Topic3\", \"Topic3\", \"Topic3\", \"Topic3\", \"Topic3\", \"Topic3\", \"Topic3\", \"Topic3\", \"Topic3\", \"Topic3\", \"Topic3\", \"Topic4\", \"Topic4\", \"Topic4\", \"Topic4\", \"Topic4\", \"Topic4\", \"Topic4\", \"Topic4\", \"Topic4\", \"Topic4\", \"Topic4\", \"Topic4\", \"Topic4\", \"Topic4\", \"Topic4\", \"Topic4\", \"Topic4\", \"Topic4\", \"Topic4\", \"Topic4\", \"Topic4\", \"Topic4\", \"Topic4\", \"Topic4\", \"Topic4\", \"Topic4\", \"Topic4\", \"Topic4\", \"Topic4\", \"Topic4\", \"Topic4\", \"Topic4\", \"Topic4\", \"Topic4\", \"Topic4\", \"Topic4\", \"Topic4\", \"Topic4\", \"Topic5\", \"Topic5\", \"Topic5\", \"Topic5\", \"Topic5\", \"Topic5\", \"Topic5\", \"Topic5\", \"Topic5\", \"Topic5\", \"Topic5\", \"Topic5\", \"Topic5\", \"Topic5\", \"Topic5\", \"Topic5\", \"Topic5\", \"Topic5\", \"Topic5\", \"Topic5\", \"Topic5\", \"Topic5\", \"Topic5\", \"Topic5\", \"Topic5\", \"Topic5\", \"Topic5\", \"Topic5\", \"Topic5\", \"Topic5\", \"Topic5\", \"Topic5\", \"Topic5\", \"Topic6\", \"Topic6\", \"Topic6\", \"Topic6\", \"Topic6\", \"Topic6\", \"Topic6\", \"Topic6\", \"Topic6\", \"Topic6\", \"Topic6\", \"Topic6\", \"Topic6\", \"Topic6\", \"Topic6\", \"Topic6\", \"Topic6\", \"Topic6\", \"Topic6\", \"Topic6\", \"Topic6\", \"Topic6\", \"Topic6\", \"Topic6\", \"Topic6\", \"Topic6\", \"Topic6\", \"Topic6\", \"Topic6\", \"Topic6\", \"Topic6\", \"Topic6\", \"Topic6\", \"Topic7\", \"Topic7\", \"Topic7\", \"Topic7\", \"Topic7\", \"Topic7\", \"Topic7\", \"Topic7\", \"Topic7\", \"Topic7\", \"Topic7\", \"Topic7\", \"Topic7\", \"Topic7\", \"Topic7\", \"Topic7\", \"Topic7\", \"Topic7\", \"Topic7\", \"Topic7\", \"Topic7\", \"Topic7\", \"Topic7\", \"Topic7\", \"Topic7\", \"Topic7\", \"Topic7\", \"Topic7\", \"Topic7\", \"Topic7\", \"Topic7\", \"Topic8\", \"Topic8\", \"Topic8\", \"Topic8\", \"Topic8\", \"Topic8\", \"Topic8\", \"Topic8\", \"Topic8\", \"Topic8\", \"Topic8\", \"Topic8\", \"Topic8\", \"Topic8\", \"Topic8\", \"Topic8\", \"Topic8\", \"Topic8\", \"Topic8\", \"Topic8\", \"Topic8\", \"Topic8\", \"Topic8\", \"Topic8\", \"Topic8\", \"Topic8\", \"Topic8\", \"Topic8\", \"Topic8\", \"Topic8\"], \"Freq\": [1983.0, 1838.0, 771.0, 850.0, 683.0, 422.0, 796.0, 656.0, 932.0, 521.0, 193.0, 460.0, 496.0, 987.0, 409.0, 408.0, 150.0, 439.0, 822.0, 191.0, 216.0, 98.0, 298.0, 261.0, 400.0, 277.0, 176.0, 83.0, 167.0, 463.0, 849.3704223632812, 520.735595703125, 495.31365966796875, 220.21401977539062, 197.4931640625, 180.91590881347656, 173.61334228515625, 137.9613037109375, 135.26954650878906, 131.03526306152344, 122.06598663330078, 150.20364379882812, 102.52153778076172, 94.19615173339844, 90.15335083007812, 85.39482116699219, 82.35166931152344, 73.54905700683594, 71.8096694946289, 71.08224487304688, 68.93700408935547, 67.90584564208984, 66.25616455078125, 65.8190689086914, 64.31170654296875, 60.762691497802734, 60.27901077270508, 59.74317169189453, 59.30732345581055, 58.14125442504883, 399.6857604980469, 239.09010314941406, 117.19491577148438, 292.5976257324219, 427.4449157714844, 384.5493469238281, 323.9240417480469, 326.2908935546875, 696.8358764648438, 219.81552124023438, 796.3445434570312, 507.9090270996094, 340.1545104980469, 194.75991821289062, 624.9362182617188, 756.1588134765625, 208.9110565185547, 214.93487548828125, 220.13121032714844, 334.4484558105469, 295.6478576660156, 473.2784423828125, 263.51190185546875, 180.55259704589844, 361.84735107421875, 196.2494354248047, 199.1981658935547, 1982.3638916015625, 770.4569091796875, 682.7789916992188, 1836.4761962890625, 113.35126495361328, 103.46133422851562, 142.2139434814453, 132.11309814453125, 94.07617950439453, 92.35881042480469, 91.95770263671875, 88.7787094116211, 84.18524169921875, 104.5718002319336, 79.51153564453125, 75.33263397216797, 74.71414947509766, 73.94210815429688, 72.59073638916016, 72.00402069091797, 66.22564697265625, 66.04904174804688, 79.7781753540039, 56.03284454345703, 70.24900817871094, 53.58884811401367, 51.297908782958984, 50.658226013183594, 50.16435623168945, 50.0782470703125, 272.7611999511719, 292.6169738769531, 108.83251953125, 616.9796752929688, 57.52321243286133, 386.2518615722656, 260.42999267578125, 350.3189697265625, 162.4221649169922, 139.58438110351562, 197.30487060546875, 124.37947082519531, 227.21377563476562, 168.55775451660156, 297.1267395019531, 329.0821838378906, 243.20375061035156, 93.97123718261719, 110.07081604003906, 190.09979248046875, 113.41918182373047, 125.69287109375, 128.6665496826172, 137.58229064941406, 116.05091857910156, 112.07164764404297, 111.48663330078125, 176.0413818359375, 166.81105041503906, 137.28330993652344, 124.27957153320312, 120.6804428100586, 113.31594848632812, 100.2904052734375, 97.73148345947266, 94.45355224609375, 78.8422622680664, 77.2076187133789, 75.42503356933594, 70.08500671386719, 64.02299499511719, 62.908782958984375, 60.111454010009766, 100.64119720458984, 51.79113006591797, 48.39599609375, 44.84151840209961, 45.72137451171875, 44.65081787109375, 83.31730651855469, 66.1849365234375, 40.89321517944336, 39.6550407409668, 53.29660415649414, 38.667659759521484, 37.95439529418945, 36.88121032714844, 401.7315368652344, 207.37388610839844, 63.51561737060547, 165.7484588623047, 119.31037902832031, 147.53732299804688, 92.25309753417969, 140.41067504882812, 363.6761474609375, 210.80215454101562, 124.92398834228516, 467.1637268066406, 144.16932678222656, 186.59983825683594, 164.05728149414062, 419.8094787597656, 126.6989517211914, 154.43795776367188, 167.65972900390625, 284.28204345703125, 95.57133483886719, 117.20820617675781, 97.35088348388672, 82.742431640625, 70.79898834228516, 69.58442687988281, 64.58573913574219, 52.19843292236328, 50.9976806640625, 38.01695251464844, 37.9603157043457, 29.667661666870117, 29.266862869262695, 29.15260124206543, 25.132829666137695, 24.845727920532227, 24.711509704589844, 24.729045867919922, 23.274127960205078, 22.271177291870117, 21.496509552001953, 19.99490737915039, 19.906490325927734, 17.922592163085938, 17.45550537109375, 17.06314468383789, 15.589465141296387, 15.137018203735352, 15.144932746887207, 14.185220718383789, 13.519743919372559, 13.057876586914062, 86.76888275146484, 27.54785919189453, 57.777278900146484, 23.640913009643555, 22.632160186767578, 35.536678314208984, 29.287355422973633, 33.51935577392578, 62.76028060913086, 34.22889709472656, 33.436241149902344, 32.400245666503906, 25.23917007446289, 20.58635902404785, 19.04975700378418, 18.963106155395508, 16.04667091369629, 15.666824340820312, 14.33453369140625, 12.4135160446167, 11.788293838500977, 11.319404602050781, 10.492027282714844, 9.992775917053223, 9.823551177978516, 9.657951354980469, 9.585563659667969, 9.52130126953125, 9.29647159576416, 9.239195823669434, 9.154775619506836, 8.722424507141113, 8.535401344299316, 8.723539352416992, 8.391388893127441, 7.991214275360107, 7.988502502441406, 7.742715835571289, 14.767786026000977, 10.662186622619629, 9.37911319732666, 34.57404708862305, 22.855775833129883, 16.099637985229492, 15.444714546203613, 14.9268159866333, 14.745170593261719, 14.71987533569336, 14.070939064025879, 13.273966789245605, 12.583260536193848, 11.02328872680664, 10.355767250061035, 10.387080192565918, 10.038713455200195, 9.864845275878906, 9.523042678833008, 8.60261058807373, 8.601277351379395, 8.219959259033203, 7.96924352645874, 7.923380374908447, 7.6570539474487305, 7.613624095916748, 7.428752422332764, 7.404151916503906, 7.131031036376953, 6.969552040100098, 6.744011402130127, 6.678454875946045, 6.384253025054932, 14.483132362365723, 11.714614868164062, 9.473812103271484, 26.928348541259766, 24.481969833374023, 17.572402954101562, 13.528172492980957, 13.319574356079102, 12.86250114440918, 12.70219612121582, 12.40034008026123, 10.258705139160156, 9.10912799835205, 8.882977485656738, 8.295498847961426, 7.6334228515625, 7.211084842681885, 6.672471046447754, 6.417918682098389, 6.333042621612549, 6.132420539855957, 5.994274139404297, 5.7614970207214355, 5.7537126541137695, 5.724135875701904, 5.506772994995117, 5.415877342224121, 5.374970436096191, 5.3559417724609375, 5.3034539222717285, 5.111743450164795, 5.1117448806762695, 5.006869792938232, 7.181947708129883, 27.387826919555664, 12.097203254699707, 10.429070472717285, 8.426592826843262, 5.623489856719971, 5.424384117126465, 5.212469100952148, 4.859392166137695, 4.789880275726318, 4.525493144989014, 4.410558223724365, 4.179117679595947, 4.003238201141357, 3.700477361679077, 3.439711809158325, 3.267801284790039, 2.6596434116363525, 4.748778343200684, 2.606781244277954, 2.4270355701446533, 2.4165239334106445, 2.346580743789673, 2.306105613708496, 2.2940914630889893, 1.8563804626464844, 1.7592060565948486, 1.7514963150024414, 1.6595042943954468, 1.6595042943954468, 1.4706312417984009], \"Term\": [\"chocolate\", \"hot\", \"freeze\", \"wait\", \"frozen\", \"great\", \"good\", \"try\", \"food\", \"take\", \"tell\", \"dessert\", \"minute\", \"order\", \"say\", \"table\", \"water\", \"service\", \"come\", \"ask\", \"sundae\", \"customer\", \"taste\", \"love\", \"back\", \"much\", \"big\", \"hostess\", \"portion\", \"serendipity\", \"wait\", \"take\", \"minute\", \"never\", \"bad\", \"server\", \"walk\", \"leave\", \"check\", \"hour\", \"waitress\", \"waiter\", \"slow\", \"bring\", \"call\", \"kid\", \"staff\", \"start\", \"front\", \"group\", \"least\", \"overall\", \"horrible\", \"quick\", \"seriously\", \"reservation\", \"atmosphere\", \"spot\", \"wrong\", \"away\", \"table\", \"seat\", \"finally\", \"give\", \"service\", \"back\", \"sit\", \"even\", \"come\", \"restaurant\", \"order\", \"time\", \"say\", \"experience\", \"get\", \"go\", \"people\", \"could\", \"know\", \"would\", \"make\", \"food\", \"want\", \"long\", \"place\", \"see\", \"look\", \"chocolate\", \"freeze\", \"frozen\", \"hot\", \"famous\", \"ice\", \"sweet\", \"bit\", \"original\", \"flavor\", \"cute\", \"regular\", \"hype\", \"overprice\", \"movie\", \"perfect\", \"cool\", \"quite\", \"pink\", \"chicken\", \"trip\", \"milk\", \"pricey\", \"thank\", \"better\", \"couple\", \"rich\", \"shake\", \"die\", \"home\", \"much\", \"taste\", \"maybe\", \"try\", \"awesome\", \"serendipity\", \"think\", \"really\", \"thing\", \"line\", \"pretty\", \"top\", \"drink\", \"worth\", \"good\", \"go\", \"place\", \"expensive\", \"way\", \"order\", \"definitely\", \"want\", \"would\", \"get\", \"well\", \"friend\", \"make\", \"big\", \"portion\", \"enough\", \"always\", \"salad\", \"enjoy\", \"breakfast\", \"dinner\", \"fun\", \"must\", \"patio\", \"disappoint\", \"especially\", \"pizza\", \"whole\", \"run\", \"lunch\", \"fan\", \"room\", \"hungry\", \"usually\", \"fast\", \"item\", \"cheese\", \"dine\", \"real\", \"stuff\", \"boyfriend\", \"option\", \"decent\", \"great\", \"sundae\", \"treat\", \"huge\", \"meal\", \"nice\", \"strip\", \"delicious\", \"dessert\", \"love\", \"amazing\", \"good\", \"menu\", \"price\", \"share\", \"food\", \"fry\", \"also\", \"eat\", \"place\", \"bar\", \"definitely\", \"customer\", \"hostess\", \"mean\", \"close\", \"rude\", \"manager\", \"later\", \"pm\", \"care\", \"heat\", \"write\", \"hold\", \"incredibly\", \"complete\", \"signature\", \"meat\", \"chair\", \"beverage\", \"problem\", \"similar\", \"complaint\", \"move\", \"mom\", \"management\", \"issue\", \"due\", \"tea\", \"bunch\", \"baby\", \"flag\", \"tell\", \"turn\", \"water\", \"work\", \"talk\", \"ask\", \"bar\", \"say\", \"birthday\", \"world\", \"cake\", \"pack\", \"strawberry\", \"crowd\", \"white\", \"honest\", \"willing\", \"shot\", \"sing\", \"cocktail\", \"meatball\", \"dip\", \"lackluster\", \"ticket\", \"tv\", \"allergy\", \"helpful\", \"polite\", \"unique\", \"multiple\", \"pump\", \"celebrate\", \"memorable\", \"toss\", \"usual\", \"fried_oreos\", \"rule\", \"crust\", \"selection\", \"forever\", \"poor\", \"instead\", \"lady\", \"miss\", \"grab\", \"crave\", \"build\", \"dirty\", \"obviously\", \"pleasant\", \"waiting\", \"either\", \"low\", \"carrot_cake\", \"scream\", \"catch\", \"lousy\", \"patron\", \"hire\", \"approach\", \"stare\", \"possible\", \"seated\", \"house\", \"chill\", \"attraction\", \"tend\", \"ceiling\", \"ruin\", \"terribly\", \"future\", \"poor\", \"forever\", \"sign\", \"guy\", \"fresh\", \"around\", \"bland\", \"colorful\", \"girly\", \"pretzel\", \"starbuck\", \"handle\", \"snack\", \"crap\", \"essentially\", \"listen\", \"website\", \"dream\", \"wendy\", \"fix\", \"okay\", \"yelper\", \"bellagio\", \"soup\", \"straws\", \"concept\", \"pure\", \"stroll\", \"spaghetti\", \"hole\", \"firework\", \"learn\", \"overpower\", \"burn\", \"buck\", \"street\", \"casino\", \"perhaps\", \"everywhere\", \"martini\", \"outstanding\", \"drip\", \"comparison\", \"park\", \"lover\", \"act\", \"understaffed\", \"sheep\", \"answer\", \"melted\", \"garage\", \"strong\", \"soul\", \"unacceptable\", \"rock\", \"negative\", \"fire\", \"bless\", \"steal\", \"frequent\", \"walking\", \"magic\", \"fantasy\", \"practically\"], \"Total\": [1983.0, 1838.0, 771.0, 850.0, 683.0, 422.0, 796.0, 656.0, 932.0, 521.0, 193.0, 460.0, 496.0, 987.0, 409.0, 408.0, 150.0, 439.0, 822.0, 191.0, 216.0, 98.0, 298.0, 261.0, 400.0, 277.0, 176.0, 83.0, 167.0, 463.0, 850.037841796875, 521.4030151367188, 496.02392578125, 220.91409301757812, 198.16065979003906, 181.5832061767578, 174.28086853027344, 138.6288299560547, 135.9370880126953, 131.70274353027344, 122.73382568359375, 151.10943603515625, 103.19476318359375, 94.86377716064453, 90.82124328613281, 86.06257629394531, 83.01918029785156, 74.21662139892578, 72.47709655761719, 71.74983978271484, 69.60432434082031, 68.57356262207031, 66.92402648925781, 66.4869155883789, 64.9793701171875, 61.430145263671875, 60.94661331176758, 60.410911560058594, 59.97475814819336, 58.80855941772461, 408.1789245605469, 243.78152465820312, 118.72836303710938, 299.68890380859375, 439.906982421875, 400.87652587890625, 339.0007019042969, 353.49151611328125, 822.4580688476562, 243.76675415039062, 987.7999877929688, 614.2481689453125, 409.13470458984375, 222.11825561523438, 856.1621704101562, 1131.252197265625, 249.22134399414062, 260.1755065917969, 274.8578796386719, 507.20556640625, 426.4466247558594, 932.1097412109375, 393.1520080566406, 215.3458251953125, 889.7625122070312, 256.29510498046875, 311.82598876953125, 1983.047607421875, 771.1731567382812, 683.4483642578125, 1838.2996826171875, 114.02066040039062, 104.13117218017578, 143.1923370361328, 133.02552795410156, 94.74584197998047, 93.02827453613281, 92.62715148925781, 89.44808959960938, 84.85454559326172, 105.43148040771484, 80.18161010742188, 76.00262451171875, 75.38758087158203, 74.611572265625, 73.26136016845703, 72.67350006103516, 66.89525604248047, 66.71847534179688, 80.72625732421875, 56.70281982421875, 71.10107421875, 54.25923538208008, 51.96733856201172, 51.32757568359375, 50.83500671386719, 50.74790954589844, 277.1663513183594, 298.2259521484375, 111.22433471679688, 656.8182983398438, 58.49393844604492, 463.39337158203125, 311.4156799316406, 474.1217346191406, 207.99032592773438, 173.2272491455078, 276.19683837890625, 153.81594848632812, 389.5894470214844, 258.26031494140625, 796.6806030273438, 1131.252197265625, 889.7625122070312, 114.42042541503906, 184.67750549316406, 987.7999877929688, 232.5996551513672, 393.1520080566406, 507.20556640625, 856.1621704101562, 289.3519592285156, 284.83099365234375, 426.4466247558594, 176.71067810058594, 167.48056030273438, 137.9532012939453, 124.94893646240234, 121.35005187988281, 113.98526763916016, 100.96253204345703, 98.40078735351562, 95.12308502197266, 79.51162719726562, 77.87737274169922, 76.09516143798828, 70.75438690185547, 64.69222259521484, 63.57854080200195, 60.78142166137695, 101.81138610839844, 52.46064376831055, 49.06591796875, 45.51108169555664, 46.406681060791016, 45.320152282714844, 84.6003189086914, 67.21437072753906, 41.56360626220703, 40.32501983642578, 54.2166633605957, 39.33716583251953, 38.62369918823242, 37.550376892089844, 422.0362243652344, 216.47923278808594, 65.3321533203125, 176.3743896484375, 127.59423828125, 160.6824188232422, 97.9778823852539, 156.09771728515625, 460.3104553222656, 261.9356689453125, 146.9786834716797, 796.6806030273438, 182.4464111328125, 255.16146850585938, 233.5188751220703, 932.1097412109375, 184.09718322753906, 271.94085693359375, 318.5699462890625, 889.7625122070312, 125.42185974121094, 232.5996551513672, 98.03287506103516, 83.4244155883789, 71.4815444946289, 70.26665496826172, 65.26760864257812, 52.88020706176758, 51.881202697753906, 38.69953536987305, 38.64276885986328, 30.350343704223633, 29.949569702148438, 29.834857940673828, 25.81633186340332, 25.528257369995117, 25.394603729248047, 25.412723541259766, 23.956680297851562, 22.954442977905273, 22.178930282592773, 20.678577423095703, 20.588825225830078, 18.60442543029785, 18.139060974121094, 17.74571418762207, 16.27194595336914, 15.818949699401855, 15.82757568359375, 14.868721961975098, 14.204660415649414, 13.740140914916992, 193.02162170410156, 43.2902717590332, 150.26646423339844, 36.85023498535156, 50.89261245727539, 191.96847534179688, 125.42185974121094, 409.13470458984375, 63.45184326171875, 34.9214973449707, 34.12739181518555, 33.09228515625, 25.93161964416504, 21.277793884277344, 19.74110984802246, 19.65540313720703, 16.7388858795166, 16.359739303588867, 15.025982856750488, 13.105585098266602, 12.480023384094238, 12.011555671691895, 11.190472602844238, 10.686675071716309, 10.515048027038574, 10.35132122039795, 10.27682113647461, 10.216590881347656, 9.990303993225098, 9.930819511413574, 9.848121643066406, 9.413555145263672, 9.226572036743164, 9.432438850402832, 9.082754135131836, 8.683012008666992, 8.681641578674316, 8.434133529663086, 16.796308517456055, 22.98395538330078, 24.467208862304688, 35.27582550048828, 23.557601928710938, 16.802167892456055, 16.146902084350586, 15.628678321838379, 15.447471618652344, 15.421446800231934, 14.774206161499023, 13.9761323928833, 13.28592586517334, 11.728497505187988, 11.057662963867188, 11.091737747192383, 10.743313789367676, 10.567420959472656, 10.226841926574707, 9.304817199707031, 9.304314613342285, 8.930023193359375, 8.672986030578613, 8.627193450927734, 8.359148979187012, 8.317957878112793, 8.131649017333984, 8.106767654418945, 7.83420991897583, 7.675182819366455, 7.446566104888916, 7.38108491897583, 7.086051940917969, 24.467208862304688, 22.98395538330078, 29.54961395263672, 27.634601593017578, 25.186979293823242, 18.278160095214844, 14.2339448928833, 14.026371955871582, 13.568024635314941, 13.40696907043457, 13.105435371398926, 10.96499252319336, 9.81401538848877, 9.588421821594238, 9.00092887878418, 8.355317115783691, 7.917431354522705, 7.378538131713867, 7.123979568481445, 7.038505554199219, 6.837802886962891, 6.69899845123291, 6.467306137084961, 6.458848476409912, 6.431950092315674, 6.214231491088867, 6.1210527420043945, 6.0822038650512695, 6.061215400695801, 6.017789840698242, 5.816979885101318, 5.817430019378662, 5.719082832336426, 9.868497848510742, 28.120628356933594, 12.837345123291016, 11.162203788757324, 9.159271240234375, 6.35665225982666, 6.158838272094727, 5.944817066192627, 5.5978264808654785, 5.523866653442383, 5.259734630584717, 5.145092010498047, 4.915439605712891, 4.736154556274414, 4.436812400817871, 4.172222137451172, 4.000258922576904, 3.401362419128418, 6.083682060241699, 3.341256618499756, 3.160806179046631, 3.1506006717681885, 3.079493999481201, 3.0398929119110107, 3.05831241607666, 2.5971908569335938, 2.491461753845215, 2.4838950634002686, 2.3930418491363525, 2.3930418491363525, 2.2049083709716797], \"loglift\": [30.0, 29.0, 28.0, 27.0, 26.0, 25.0, 24.0, 23.0, 22.0, 21.0, 20.0, 19.0, 18.0, 17.0, 16.0, 15.0, 14.0, 13.0, 12.0, 11.0, 10.0, 9.0, 8.0, 7.0, 6.0, 5.0, 4.0, 3.0, 2.0, 1.0, 0.9897000193595886, 0.9891999959945679, 0.9890999794006348, 0.9873999953269958, 0.9872000217437744, 0.9868000149726868, 0.9866999983787537, 0.9857000112533569, 0.9855999946594238, 0.9854000210762024, 0.9850999712944031, 0.984499990940094, 0.984000027179718, 0.9835000038146973, 0.9830999970436096, 0.982699990272522, 0.9825000166893005, 0.9815000295639038, 0.9812999963760376, 0.9811999797821045, 0.98089998960495, 0.9807000160217285, 0.9804999828338623, 0.980400025844574, 0.9801999926567078, 0.9796000123023987, 0.9794999957084656, 0.9793999791145325, 0.9793000221252441, 0.9790999889373779, 0.9695000052452087, 0.9710999727249146, 0.9775000214576721, 0.9666000008583069, 0.9617999792098999, 0.9488999843597412, 0.9449999928474426, 0.9104999899864197, 0.8248000144958496, 0.8870999813079834, 0.7750999927520752, 0.8004000186920166, 0.805899977684021, 0.8590999841690063, 0.6757000088691711, 0.5877000093460083, 0.8141000270843506, 0.7994999885559082, 0.7684999704360962, 0.5741000175476074, 0.6241999864578247, 0.31279999017715454, 0.590399980545044, 0.814300000667572, 0.09080000221729279, 0.7235999703407288, 0.5424000024795532, 1.1216000318527222, 1.121000051498413, 1.121000051498413, 1.12090003490448, 1.1160000562667847, 1.1154999732971191, 1.1151000261306763, 1.1150000095367432, 1.114799976348877, 1.1146999597549438, 1.1146999597549438, 1.114400029182434, 1.1139999628067017, 1.113700032234192, 1.1134999990463257, 1.1131000518798828, 1.1130000352859497, 1.1129000186920166, 1.1126999855041504, 1.1126999855041504, 1.111899971961975, 1.111799955368042, 1.1101000308990479, 1.1100000143051147, 1.1098999977111816, 1.1095000505447388, 1.1089999675750732, 1.1088000535964966, 1.1087000370025635, 1.1086000204086304, 1.1059000492095947, 1.1029000282287598, 1.1002000570297241, 1.059399962425232, 1.1052000522613525, 0.9398000240325928, 0.9430999755859375, 0.8192999958992004, 0.8745999932289124, 0.906000018119812, 0.7856000065803528, 0.909500002861023, 0.5827000141143799, 0.6952000260353088, 0.1356000006198883, -0.1128000020980835, -0.17509999871253967, 0.925000011920929, 0.6043999791145325, -0.5260000228881836, 0.40369999408721924, -0.018400000408291817, -0.24979999661445618, -0.7063000202178955, 0.20829999446868896, 0.1891999989748001, -0.21969999372959137, 1.6029000282287598, 1.6026999950408936, 1.6017999649047852, 1.6013000011444092, 1.601099967956543, 1.6008000373840332, 1.600000023841858, 1.5997999906539917, 1.5995999574661255, 1.5981999635696411, 1.5980000495910645, 1.5978000164031982, 1.5972000360488892, 1.5963000059127808, 1.5960999727249146, 1.5956000089645386, 1.5951000452041626, 1.5937999486923218, 1.592900037765503, 1.5917999744415283, 1.5917999744415283, 1.5917999744415283, 1.5914000272750854, 1.5911999940872192, 1.590399980545044, 1.589900016784668, 1.5895999670028687, 1.5894999504089355, 1.5892000198364258, 1.5887000560760498, 1.5573999881744385, 1.5636999607086182, 1.5785000324249268, 1.5444999933242798, 1.5394999980926514, 1.521299958229065, 1.5464999675750732, 1.5008000135421753, 1.371000051498413, 1.3895000219345093, 1.444100022315979, 1.0729000568389893, 1.3711999654769897, 1.2936999797821045, 1.253600001335144, 0.8090000152587891, 1.2330000400543213, 1.0408999919891357, 0.9648000001907349, 0.4657000005245209, 1.3349000215530396, 0.9212999939918518, 3.109100103378296, 3.1078999042510986, 3.1064999103546143, 3.106300115585327, 3.105600118637085, 3.103100061416626, 3.098900079727173, 3.098299980163574, 3.098299980163574, 3.0933001041412354, 3.0929999351501465, 3.0929999351501465, 3.0892999172210693, 3.0889999866485596, 3.0887999534606934, 3.0887999534606934, 3.0871999263763428, 3.085900068283081, 3.0848000049591064, 3.0824999809265137, 3.08240008354187, 3.0787999629974365, 3.077699899673462, 3.076900005340576, 3.073199987411499, 3.072000026702881, 3.072000026702881, 3.069000005722046, 3.066699981689453, 3.065200090408325, 2.316499948501587, 2.664099931716919, 2.1603000164031982, 2.6721999645233154, 2.3057000637054443, 1.4292999505996704, 1.6615999937057495, 0.6141999959945679, 3.778599977493286, 3.7695000171661377, 3.7690999507904053, 3.768399953842163, 3.762500047683716, 3.756500005722046, 3.7539000511169434, 3.753700017929077, 3.747299909591675, 3.746299982070923, 3.7423999309539795, 3.735300064086914, 3.7325000762939453, 3.7302000522613525, 3.725100040435791, 3.722399950027466, 3.7214999198913574, 3.7202000617980957, 3.719899892807007, 3.719099998474121, 3.717600107192993, 3.717400074005127, 3.7165000438690186, 3.7132999897003174, 3.711699962615967, 3.711400032043457, 3.710400104522705, 3.7065000534057617, 3.7063000202178955, 3.7039999961853027, 3.660799980163574, 3.0215001106262207, 2.830699920654297, 4.155600070953369, 4.145500183105469, 4.132999897003174, 4.13129997253418, 4.129799842834473, 4.129199981689453, 4.129199981689453, 4.126999855041504, 4.124199867248535, 4.121399879455566, 4.113699913024902, 4.110199928283691, 4.110099792480469, 4.107900142669678, 4.106900215148926, 4.104400157928467, 4.097300052642822, 4.0971999168396, 4.092899799346924, 4.091100215911865, 4.09060001373291, 4.0879998207092285, 4.087299823760986, 4.085299968719482, 4.085100173950195, 4.081699848175049, 4.0792999267578125, 4.076600074768066, 4.075699806213379, 4.071400165557861, 3.651400089263916, 3.501800060272217, 3.0381999015808105, 4.270100116729736, 4.267600059509277, 4.2565999031066895, 4.245200157165527, 4.24429988861084, 4.242599964141846, 4.242000102996826, 4.240699768066406, 4.229400157928467, 4.221499919891357, 4.219600200653076, 4.214399814605713, 4.205699920654297, 4.202600002288818, 4.195400238037109, 4.191699981689453, 4.190400123596191, 4.187099933624268, 4.184899806976318, 4.180500030517578, 4.1803998947143555, 4.1793999671936035, 4.17519998550415, 4.173600196838379, 4.172399997711182, 4.172299861907959, 4.1697001457214355, 4.166800022125244, 4.1666998863220215, 4.163000106811523, 3.9781999588012695, 5.011000156402588, 4.978000164031982, 4.9695000648498535, 4.953999996185303, 4.91480016708374, 4.910399913787842, 4.905900001525879, 4.895899772644043, 4.894800186157227, 4.88700008392334, 4.883399963378906, 4.875100135803223, 4.86929988861084, 4.855899810791016, 4.844299793243408, 4.83519983291626, 4.791399955749512, 4.789700031280518, 4.7891998291015625, 4.773200035095215, 4.77209997177124, 4.765600204467773, 4.761099815368652, 4.749899864196777, 4.701600074768066, 4.6894001960754395, 4.688000202178955, 4.671299934387207, 4.671299934387207, 4.632400035858154], \"logprob\": [30.0, 29.0, 28.0, 27.0, 26.0, 25.0, 24.0, 23.0, 22.0, 21.0, 20.0, 19.0, 18.0, 17.0, 16.0, 15.0, 14.0, 13.0, 12.0, 11.0, 10.0, 9.0, 8.0, 7.0, 6.0, 5.0, 4.0, 3.0, 2.0, 1.0, -3.408099889755249, -3.89739990234375, -3.9474000930786133, -4.757999897003174, -4.8668999671936035, -4.954599857330322, -4.995800018310547, -5.2256999015808105, -5.2453999519348145, -5.277200222015381, -5.348100185394287, -5.140600204467773, -5.522600173950195, -5.6072998046875, -5.651100158691406, -5.705399990081787, -5.741600036621094, -5.854700088500977, -5.878600120544434, -5.888800144195557, -5.919400215148926, -5.934500217437744, -5.959099769592285, -5.965700149536133, -5.988900184631348, -6.0457000732421875, -6.053699970245361, -6.062600135803223, -6.069900035858154, -6.089799880981445, -4.1620001792907715, -4.67579984664917, -5.388800144195557, -4.473800182342529, -4.094799995422363, -4.2006001472473145, -4.372099876403809, -4.3649001121521, -3.606100082397461, -4.759900093078613, -3.472599983215332, -3.922300100326538, -4.323200225830078, -4.880899906158447, -3.7149999141693115, -3.524399995803833, -4.810699939727783, -4.782299995422363, -4.758399963378906, -4.340199947357178, -4.463500022888184, -3.993000030517578, -4.578499794006348, -4.956600189208984, -4.26140022277832, -4.873300075531006, -4.85830020904541, -2.4291999340057373, -3.374300003051758, -3.4951000213623047, -2.5055999755859375, -5.2906999588012695, -5.381999969482422, -5.063899993896484, -5.137599945068359, -5.477099895477295, -5.49560022354126, -5.499899864196777, -5.535099983215332, -5.588200092315674, -5.371399879455566, -5.645299911499023, -5.6992998123168945, -5.707600116729736, -5.7179999351501465, -5.736400127410889, -5.744500160217285, -5.828199863433838, -5.8308000564575195, -5.642000198364258, -5.995299816131592, -5.769199848175049, -6.039899826049805, -6.083600044250488, -6.096099853515625, -6.105899810791016, -6.107600212097168, -4.412600040435791, -4.342400074005127, -5.331399917602539, -3.596400022506714, -5.968999862670898, -4.064700126647949, -4.458899974822998, -4.162399768829346, -4.931000232696533, -5.082600116729736, -4.736499786376953, -5.19789981842041, -4.595300197601318, -4.894000053405762, -4.327099800109863, -4.224899768829346, -4.527299880981445, -5.4781999588012695, -5.320099830627441, -4.77370023727417, -5.29010009765625, -5.187399864196777, -5.164000034332275, -5.0970001220703125, -5.267199993133545, -5.30210018157959, -5.307300090789795, -4.365799903869629, -4.419600009918213, -4.6143999099731445, -4.714000225067139, -4.7434000968933105, -4.806300163269043, -4.928400039672852, -4.9542999267578125, -4.988399982452393, -5.169000148773193, -5.190000057220459, -5.213399887084961, -5.286799907684326, -5.377299785614014, -5.394800186157227, -5.440299987792969, -4.924900054931641, -5.589300155639648, -5.657100200653076, -5.733399868011475, -5.713900089263916, -5.737599849700928, -5.113800048828125, -5.343999862670898, -5.825500011444092, -5.856299877166748, -5.5605998039245605, -5.881499767303467, -5.900100231170654, -5.928800106048584, -3.5406999588012695, -4.202000141143799, -5.385200023651123, -4.426000118255615, -4.754799842834473, -4.542399883270264, -5.01200008392334, -4.591899871826172, -3.640199899673462, -4.1855998039245605, -4.708799839019775, -3.3898000717163086, -4.565499782562256, -4.307499885559082, -4.436299800872803, -3.4967000484466553, -4.694699764251709, -4.496699810028076, -4.414599895477295, -3.8864998817443848, -4.976600170135498, -4.772500038146973, -3.4488000869750977, -3.611299991607666, -3.767199993133545, -3.7844998836517334, -3.859100103378296, -4.072000026702881, -4.095300197601318, -4.388999938964844, -4.390500068664551, -4.63700008392334, -4.650599956512451, -4.6545000076293945, -4.8028998374938965, -4.8144001960754395, -4.819799900054932, -4.8190999031066895, -4.879700183868408, -4.923799991607666, -4.959199905395508, -5.031599998474121, -5.035999774932861, -5.140999794006348, -5.167399883270264, -5.190199851989746, -5.2804999351501465, -5.309899806976318, -5.3094000816345215, -5.374899864196777, -5.422900199890137, -5.457699775695801, -3.563800096511841, -4.71120023727417, -3.9704999923706055, -4.864099979400635, -4.907700061798096, -4.456500053405762, -4.649899959564209, -4.514999866485596, -3.2142999172210693, -3.820499897003174, -3.8440001010894775, -3.8754000663757324, -4.125199794769287, -4.328999996185303, -4.406599998474121, -4.411099910736084, -4.578100204467773, -4.602099895477295, -4.690899848937988, -4.834799766540527, -4.886499881744385, -4.92710018157959, -5.002999782562256, -5.051700115203857, -5.06879997253418, -5.0858001708984375, -5.093400001525879, -5.100100040435791, -5.124000072479248, -5.130199909210205, -5.1392998695373535, -5.187699794769287, -5.209400177001953, -5.187600135803223, -5.226399898529053, -5.275300025939941, -5.275599956512451, -5.3069000244140625, -4.661200046539307, -4.9868998527526855, -5.115099906921387, -3.424299955368042, -3.838200092315674, -4.188600063323975, -4.230199813842773, -4.2642998695373535, -4.276500225067139, -4.278200149536133, -4.323299884796143, -4.3815999031066895, -4.435100078582764, -4.567399978637695, -4.629899978637695, -4.6269001960754395, -4.660999774932861, -4.678400039672852, -4.713699817657471, -4.815400123596191, -4.815499782562256, -4.860899925231934, -4.8917999267578125, -4.897600173950195, -4.93179988861084, -4.9375, -4.962100028991699, -4.965400218963623, -5.002999782562256, -5.025899887084961, -5.058800220489502, -5.06850004196167, -5.11359977722168, -4.294400215148926, -4.5065999031066895, -4.718900203704834, -3.553999900817871, -3.649199962615967, -3.980799913406372, -4.242400169372559, -4.257900238037109, -4.292799949645996, -4.3053998947143555, -4.329400062561035, -4.519000053405762, -4.637899875640869, -4.663000106811523, -4.731400012969971, -4.814599990844727, -4.871500015258789, -4.949100017547607, -4.98799991607666, -5.001399993896484, -5.0335001945495605, -5.056300163269043, -5.095900058746338, -5.097300052642822, -5.102399826049805, -5.141200065612793, -5.157800197601318, -5.16540002822876, -5.168900012969971, -5.178800106048584, -5.21560001373291, -5.21560001373291, -5.236299991607666, -4.8755998611450195, -2.7957000732421875, -3.612799882888794, -3.761199951171875, -3.974400043487549, -4.378799915313721, -4.414899826049805, -4.454699993133545, -4.524899959564209, -4.539299964904785, -4.5960001945495605, -4.621799945831299, -4.6757001876831055, -4.718699932098389, -4.797299861907959, -4.8703999519348145, -4.9217000007629395, -5.127600193023682, -4.547900199890137, -5.14769983291626, -5.219099998474121, -5.223400115966797, -5.252799987792969, -5.270199775695801, -5.275400161743164, -5.487100124359131, -5.540900230407715, -5.545300006866455, -5.599299907684326, -5.599299907684326, -5.720099925994873]}, \"token.table\": {\"Topic\": [8, 5, 1, 2, 3, 3, 1, 2, 3, 8, 6, 7, 1, 4, 1, 6, 1, 2, 4, 1, 2, 3, 1, 3, 4, 7, 2, 4, 3, 5, 2, 7, 8, 3, 3, 1, 8, 6, 4, 5, 7, 5, 1, 4, 6, 8, 6, 6, 5, 4, 1, 3, 2, 6, 2, 4, 5, 7, 1, 2, 3, 8, 4, 4, 7, 2, 1, 2, 2, 7, 6, 5, 5, 4, 2, 3, 1, 2, 3, 2, 3, 1, 2, 3, 2, 3, 3, 5, 6, 3, 7, 1, 2, 8, 4, 1, 2, 3, 6, 3, 3, 3, 7, 1, 2, 3, 8, 1, 2, 3, 1, 3, 2, 3, 8, 3, 1, 2, 8, 7, 7, 4, 2, 1, 2, 3, 5, 6, 2, 8, 7, 5, 1, 2, 3, 1, 2, 1, 2, 3, 3, 6, 8, 1, 2, 3, 7, 1, 2, 1, 2, 3, 1, 2, 3, 6, 2, 3, 1, 7, 7, 4, 5, 6, 4, 7, 2, 5, 1, 4, 2, 3, 1, 6, 2, 3, 3, 2, 2, 4, 6, 4, 2, 3, 1, 1, 2, 5, 6, 4, 7, 1, 1, 1, 2, 7, 1, 2, 1, 2, 3, 6, 2, 3, 8, 6, 1, 3, 8, 1, 2, 3, 4, 4, 8, 1, 2, 1, 2, 3, 4, 4, 5, 8, 5, 1, 2, 3, 2, 1, 6, 4, 4, 2, 1, 2, 5, 3, 8, 1, 1, 3, 6, 7, 3, 1, 2, 3, 2, 8, 1, 7, 2, 5, 8, 3, 6, 1, 2, 3, 4, 2, 8, 2, 3, 1, 2, 3, 6, 4, 5, 5, 6, 3, 6, 8, 2, 3, 7, 1, 2, 3, 2, 4, 5, 7, 1, 2, 3, 1, 2, 3, 2, 1, 1, 2, 3, 4, 2, 8, 3, 4, 6, 5, 3, 3, 1, 2, 4, 6, 1, 3, 4, 6, 1, 2, 3, 5, 6, 1, 2, 3, 1, 1, 1, 3, 2, 2, 3, 8, 5, 1, 6, 4, 4, 5, 1, 2, 3, 1, 7, 8, 7, 7, 1, 1, 7, 6, 1, 8, 5, 7, 8, 1, 3, 7, 4, 8, 3, 1, 3, 2, 1, 4, 1, 2, 3, 4, 1, 2, 4, 1, 4, 6, 6, 2, 1, 2, 3, 1, 2, 3, 5, 1, 2, 3, 1, 2, 5, 3, 7, 2, 1, 2, 3, 1, 4, 5, 8, 8, 5, 5, 3, 1, 1, 6, 1, 1, 8, 1, 2, 3, 2, 4, 1, 2, 7, 1, 2, 3, 7, 5, 3, 5, 2, 3, 4, 5, 1, 2, 1, 2, 3, 4, 1, 7], \"Freq\": [0.8137624263763428, 0.9660602807998657, 0.06619086116552353, 0.3640497326850891, 0.5662996172904968, 0.9924054145812988, 0.06803707778453827, 0.08164449036121368, 0.8504634499549866, 0.7190412878990173, 0.8958543539047241, 0.9847818613052368, 0.8126334547996521, 0.1875307857990265, 0.9844681620597839, 0.8634760975837708, 0.9862509965896606, 0.9915557503700256, 0.9855920076370239, 0.9603954553604126, 0.02494533732533455, 0.014967202208936214, 0.9941428303718567, 0.7654168009757996, 0.23121966421604156, 0.9277433156967163, 0.9845139384269714, 0.9584200978279114, 0.9959782958030701, 0.9928789734840393, 0.992290735244751, 0.9835643172264099, 0.6539553999900818, 0.9914288520812988, 0.9904664158821106, 0.9908945560455322, 0.9601492285728455, 0.9710326790809631, 0.9415738582611084, 0.20266509056091309, 0.7093278169631958, 0.9669651985168457, 0.9909575581550598, 0.9833663702011108, 0.9015719890594482, 0.8958804607391357, 0.9463046789169312, 0.9120303988456726, 0.9560680985450745, 0.9600662589073181, 0.993106484413147, 0.9819328784942627, 0.9907325506210327, 0.860834002494812, 0.9994717240333557, 0.9962050914764404, 0.9156401753425598, 0.9268255829811096, 0.847459614276886, 0.06322510540485382, 0.08875832706689835, 0.905163049697876, 0.9714007377624512, 0.9793069362640381, 0.9655256867408752, 0.9948588013648987, 0.8263652324676514, 0.17296017706394196, 0.995222270488739, 0.938632071018219, 0.9597740769386292, 0.9869444370269775, 0.9485266208648682, 0.9894639849662781, 0.9932292699813843, 0.9853429794311523, 0.008598465472459793, 0.4858132600784302, 0.5030102133750916, 0.09609365463256836, 0.8968741297721863, 0.11948457360267639, 0.09124276787042618, 0.7907706499099731, 0.9835741519927979, 0.9864398837089539, 0.9959269762039185, 0.9157847762107849, 0.972671389579773, 0.9856079816818237, 0.9486973881721497, 0.4158223569393158, 0.5826646685600281, 0.8932037949562073, 0.9482298493385315, 0.35784921050071716, 0.11614403873682022, 0.5273566842079163, 0.9378865361213684, 0.9913561940193176, 0.9930903911590576, 0.9893379211425781, 0.8887971639633179, 0.9222286343574524, 0.07072305679321289, 0.0028289221227169037, 0.9438930749893188, 0.008739698678255081, 0.8215316534042358, 0.16605426371097565, 0.8779107332229614, 0.12155687063932419, 0.9910484552383423, 0.9912192225456238, 0.8357563614845276, 0.9929357767105103, 0.9854426980018616, 0.00842258706688881, 0.6579179167747498, 0.8595525622367859, 0.8524537086486816, 0.9461329579353333, 0.9889466166496277, 0.5074509978294373, 0.0418405681848526, 0.45059072971343994, 0.47859472036361694, 0.5221033692359924, 0.9984787106513977, 0.8027415871620178, 0.9528732895851135, 0.9213392734527588, 0.5301389098167419, 0.3932156264781952, 0.0772387832403183, 0.9934172630310059, 0.999343991279602, 0.07604678720235825, 0.23357228934764862, 0.6898530125617981, 0.9881933331489563, 0.8467338681221008, 0.8819994926452637, 0.7300018668174744, 0.1611844152212143, 0.10862427949905396, 0.9581350684165955, 0.977680504322052, 0.023357555270195007, 0.6682859659194946, 0.2908281683921814, 0.04066290333867073, 0.04016666114330292, 0.37279683351516724, 0.5861822366714478, 0.9289707541465759, 0.04738929867744446, 0.9525248408317566, 0.9895492196083069, 0.9770359992980957, 0.9119933247566223, 0.988456666469574, 0.9730635285377502, 0.9672931432723999, 0.9720173478126526, 0.8308698534965515, 0.9852622747421265, 0.9666553139686584, 0.9861928820610046, 0.9949125647544861, 0.9987490177154541, 0.0005439809174276888, 0.994664192199707, 0.9617745280265808, 0.05669757351279259, 0.9411797523498535, 0.9887701869010925, 0.9899293184280396, 0.9891370534896851, 0.9683792591094971, 0.9921808838844299, 0.9832874536514282, 0.011820286512374878, 0.9810837507247925, 0.9876534342765808, 0.8004136681556702, 0.1964651644229889, 0.8936173319816589, 0.9763302803039551, 0.9830150008201599, 0.8594860434532166, 0.9913176894187927, 0.9954639077186584, 0.19050121307373047, 0.808186948299408, 0.9574741125106812, 0.8405085206031799, 0.1578855812549591, 0.638176441192627, 0.17638042569160461, 0.1827942579984665, 0.9778189659118652, 0.19470429420471191, 0.8055412769317627, 0.7774399518966675, 0.904350221157074, 0.009822084568440914, 0.9920305013656616, 0.8357563614845276, 0.6941079497337341, 0.2602904736995697, 0.044554226100444794, 0.9579777717590332, 0.9833546876907349, 0.8118414282798767, 0.017981676384806633, 0.9800013899803162, 0.054861411452293396, 0.007837344892323017, 0.9326440095901489, 0.9932633638381958, 0.9837591648101807, 0.9615366458892822, 0.7499514818191528, 0.9754435420036316, 0.010962123051285744, 0.1973182111978531, 0.7892728447914124, 0.9892312288284302, 0.9979357123374939, 0.9522580504417419, 0.9372039437294006, 0.9675117135047913, 0.9977350234985352, 0.014431766234338284, 0.9849680662155151, 0.9062696099281311, 0.9935653805732727, 0.6494573354721069, 0.9958622455596924, 0.08090493083000183, 0.9210715293884277, 0.9475974440574646, 0.877474844455719, 0.9838519096374512, 0.8058311343193054, 0.19234663248062134, 0.0010123506654053926, 0.9921279549598694, 0.8410687446594238, 0.991635799407959, 0.8742660284042358, 0.9959074854850769, 0.9669927358627319, 0.950618326663971, 0.9887339472770691, 0.9672409296035767, 0.8386119604110718, 0.02808748185634613, 0.12839992344379425, 0.00802499521523714, 0.9868080019950867, 0.873431921005249, 0.9964324831962585, 0.9892997741699219, 0.406850129365921, 0.27310657501220703, 0.3191863000392914, 0.9301571846008301, 0.9819239377975464, 0.9788000583648682, 0.3678392469882965, 0.5721943974494934, 0.9971306324005127, 0.9273003935813904, 0.4535335898399353, 0.7132594585418701, 0.282407283782959, 0.9696449637413025, 0.02351452223956585, 0.2429834008216858, 0.7328692674636841, 0.9910034537315369, 0.9468445777893066, 0.9138798713684082, 0.8168529272079468, 0.9926764965057373, 0.9918032288551331, 0.9919400215148926, 0.15818722546100616, 0.7382070422172546, 0.1033489853143692, 0.9949905276298523, 0.9929978251457214, 0.9025020599365234, 0.004102282226085663, 0.08204564452171326, 0.012306846678256989, 0.9813856482505798, 0.634799599647522, 0.9782757759094238, 0.9958997964859009, 0.940030574798584, 0.9214847087860107, 0.9871437549591064, 0.9971153736114502, 0.8310221433639526, 0.08554639667272568, 0.08310221135616302, 0.9308115243911743, 0.9803860187530518, 0.0041020335629582405, 0.012306100688874722, 0.9570352435112, 0.764743447303772, 0.22239987552165985, 0.007803504355251789, 0.8930533528327942, 0.0595368929207325, 0.13163761794567108, 0.8329855799674988, 0.032369907945394516, 0.9849280118942261, 0.9967882037162781, 0.9706597328186035, 0.027278494089841843, 0.9936179518699646, 0.29547932744026184, 0.7022987008094788, 0.9015481472015381, 0.9780107140541077, 0.6429864168167114, 0.3045724928379059, 0.9844611287117004, 0.9671845436096191, 0.9317194223403931, 0.9557502269744873, 0.00884953886270523, 0.032448310405015945, 0.998112678527832, 0.9170558452606201, 0.8978657722473145, 0.9289581775665283, 0.8249170780181885, 0.993198037147522, 0.9877235293388367, 0.9156506061553955, 0.9224043488502502, 0.9970812201499939, 0.7700628042221069, 0.9640740156173706, 0.932843029499054, 0.9347727298736572, 0.0510319247841835, 0.9389874339103699, 0.8220704197883606, 0.16437414288520813, 0.8218706846237183, 0.9775592088699341, 0.03695504739880562, 0.9562118053436279, 0.9916731715202332, 0.9799624085426331, 0.019599247723817825, 0.9992270469665527, 0.2947382628917694, 0.255439817905426, 0.45193198323249817, 0.016765810549259186, 0.982476532459259, 0.9477130770683289, 0.5491612553596497, 0.450726717710495, 0.893517017364502, 0.9483700394630432, 0.9876052141189575, 0.15866123139858246, 0.7788823843002319, 0.05769499018788338, 0.13486796617507935, 0.8348969221115112, 0.028900278732180595, 0.9357447624206543, 0.8270273208618164, 0.10744842886924744, 0.06512025743722916, 0.18853701651096344, 0.8061583042144775, 0.9541540741920471, 0.9796095490455627, 0.015306399203836918, 0.9866170287132263, 0.02435985766351223, 0.9393770098686218, 0.03501729667186737, 0.34649816155433655, 0.6467965841293335, 0.9510179758071899, 0.6327499747276306, 0.844567060470581, 0.9008734822273254, 0.880790114402771, 0.9912365674972534, 0.9987790584564209, 0.9926580786705017, 0.9784790277481079, 0.9940209984779358, 0.998388409614563, 0.8051869869232178, 0.6714959740638733, 0.32048672437667847, 0.010174182243645191, 0.6122457385063171, 0.3859809935092926, 0.4006985127925873, 0.5956329107284546, 0.8841251134872437, 0.33523187041282654, 0.4008958637714386, 0.26265591382980347, 0.8422259092330933, 0.9624585509300232, 0.9909003973007202, 0.9558581113815308, 0.13568434119224548, 0.21709495782852173, 0.6512848734855652, 0.9736123085021973, 0.34461352229118347, 0.6543785333633423, 0.658510148525238, 0.2543347477912903, 0.0867498368024826, 0.9682943820953369, 0.9837471842765808, 0.8956562876701355], \"Term\": [\"act\", \"allergy\", \"also\", \"also\", \"also\", \"always\", \"amazing\", \"amazing\", \"amazing\", \"answer\", \"approach\", \"around\", \"ask\", \"ask\", \"atmosphere\", \"attraction\", \"away\", \"awesome\", \"baby\", \"back\", \"back\", \"back\", \"bad\", \"bar\", \"bar\", \"bellagio\", \"better\", \"beverage\", \"big\", \"birthday\", \"bit\", \"bland\", \"bless\", \"boyfriend\", \"breakfast\", \"bring\", \"buck\", \"build\", \"bunch\", \"burn\", \"burn\", \"cake\", \"call\", \"care\", \"carrot_cake\", \"casino\", \"catch\", \"ceiling\", \"celebrate\", \"chair\", \"check\", \"cheese\", \"chicken\", \"chill\", \"chocolate\", \"close\", \"cocktail\", \"colorful\", \"come\", \"come\", \"come\", \"comparison\", \"complaint\", \"complete\", \"concept\", \"cool\", \"could\", \"could\", \"couple\", \"crap\", \"crave\", \"crowd\", \"crust\", \"customer\", \"cute\", \"decent\", \"definitely\", \"definitely\", \"definitely\", \"delicious\", \"delicious\", \"dessert\", \"dessert\", \"dessert\", \"die\", \"dine\", \"dinner\", \"dip\", \"dirty\", \"disappoint\", \"dream\", \"drink\", \"drink\", \"drip\", \"due\", \"eat\", \"eat\", \"eat\", \"either\", \"enjoy\", \"enough\", \"especially\", \"essentially\", \"even\", \"even\", \"even\", \"everywhere\", \"expensive\", \"expensive\", \"expensive\", \"experience\", \"experience\", \"famous\", \"fan\", \"fantasy\", \"fast\", \"finally\", \"finally\", \"fire\", \"firework\", \"fix\", \"flag\", \"flavor\", \"food\", \"food\", \"food\", \"forever\", \"forever\", \"freeze\", \"frequent\", \"fresh\", \"fried_oreos\", \"friend\", \"friend\", \"friend\", \"front\", \"frozen\", \"fry\", \"fry\", \"fry\", \"fun\", \"future\", \"garage\", \"get\", \"get\", \"get\", \"girly\", \"give\", \"give\", \"go\", \"go\", \"go\", \"good\", \"good\", \"good\", \"grab\", \"great\", \"great\", \"group\", \"guy\", \"handle\", \"heat\", \"helpful\", \"hire\", \"hold\", \"hole\", \"home\", \"honest\", \"horrible\", \"hostess\", \"hot\", \"hot\", \"hour\", \"house\", \"huge\", \"huge\", \"hungry\", \"hype\", \"ice\", \"incredibly\", \"instead\", \"issue\", \"item\", \"item\", \"kid\", \"know\", \"know\", \"lackluster\", \"lady\", \"later\", \"learn\", \"least\", \"leave\", \"line\", \"line\", \"listen\", \"long\", \"long\", \"look\", \"look\", \"look\", \"lousy\", \"love\", \"love\", \"lover\", \"low\", \"lunch\", \"lunch\", \"magic\", \"make\", \"make\", \"make\", \"management\", \"manager\", \"martini\", \"maybe\", \"maybe\", \"meal\", \"meal\", \"meal\", \"mean\", \"meat\", \"meatball\", \"melted\", \"memorable\", \"menu\", \"menu\", \"menu\", \"milk\", \"minute\", \"miss\", \"mom\", \"move\", \"movie\", \"much\", \"much\", \"multiple\", \"must\", \"negative\", \"never\", \"nice\", \"nice\", \"obviously\", \"okay\", \"option\", \"order\", \"order\", \"order\", \"original\", \"outstanding\", \"overall\", \"overpower\", \"overprice\", \"pack\", \"park\", \"patio\", \"patron\", \"people\", \"people\", \"people\", \"people\", \"perfect\", \"perhaps\", \"pink\", \"pizza\", \"place\", \"place\", \"place\", \"pleasant\", \"pm\", \"polite\", \"poor\", \"poor\", \"portion\", \"possible\", \"practically\", \"pretty\", \"pretty\", \"pretzel\", \"price\", \"price\", \"price\", \"pricey\", \"problem\", \"pump\", \"pure\", \"quick\", \"quite\", \"real\", \"really\", \"really\", \"really\", \"regular\", \"reservation\", \"restaurant\", \"restaurant\", \"restaurant\", \"restaurant\", \"rich\", \"rock\", \"room\", \"rude\", \"ruin\", \"rule\", \"run\", \"salad\", \"say\", \"say\", \"say\", \"scream\", \"seat\", \"seat\", \"seat\", \"seated\", \"see\", \"see\", \"see\", \"selection\", \"selection\", \"serendipity\", \"serendipity\", \"serendipity\", \"seriously\", \"server\", \"service\", \"service\", \"shake\", \"share\", \"share\", \"sheep\", \"shot\", \"sign\", \"sign\", \"signature\", \"similar\", \"sing\", \"sit\", \"sit\", \"sit\", \"slow\", \"snack\", \"soul\", \"soup\", \"spaghetti\", \"spot\", \"staff\", \"starbuck\", \"stare\", \"start\", \"steal\", \"strawberry\", \"straws\", \"street\", \"strip\", \"strip\", \"stroll\", \"strong\", \"strong\", \"stuff\", \"sundae\", \"sundae\", \"sweet\", \"table\", \"table\", \"take\", \"talk\", \"talk\", \"talk\", \"taste\", \"taste\", \"tea\", \"tell\", \"tell\", \"tend\", \"terribly\", \"thank\", \"thing\", \"thing\", \"thing\", \"think\", \"think\", \"think\", \"ticket\", \"time\", \"time\", \"time\", \"top\", \"top\", \"toss\", \"treat\", \"treat\", \"trip\", \"try\", \"try\", \"try\", \"turn\", \"turn\", \"tv\", \"unacceptable\", \"understaffed\", \"unique\", \"usual\", \"usually\", \"wait\", \"waiter\", \"waiting\", \"waitress\", \"walk\", \"walking\", \"want\", \"want\", \"want\", \"water\", \"water\", \"way\", \"way\", \"website\", \"well\", \"well\", \"well\", \"wendy\", \"white\", \"whole\", \"willing\", \"work\", \"work\", \"work\", \"world\", \"worth\", \"worth\", \"would\", \"would\", \"would\", \"write\", \"wrong\", \"yelper\"]}, \"R\": 30, \"lambda.step\": 0.01, \"plot.opts\": {\"xlab\": \"PC1\", \"ylab\": \"PC2\"}, \"topic.order\": [6, 2, 7, 4, 5, 1, 3, 8]};\n",
       "\n",
       "function LDAvis_load_lib(url, callback){\n",
       "  var s = document.createElement('script');\n",
       "  s.src = url;\n",
       "  s.async = true;\n",
       "  s.onreadystatechange = s.onload = callback;\n",
       "  s.onerror = function(){console.warn(\"failed to load library \" + url);};\n",
       "  document.getElementsByTagName(\"head\")[0].appendChild(s);\n",
       "}\n",
       "\n",
       "if(typeof(LDAvis) !== \"undefined\"){\n",
       "   // already loaded: just create the visualization\n",
       "   !function(LDAvis){\n",
       "       new LDAvis(\"#\" + \"ldavis_el5901123551351841392441599\", ldavis_el5901123551351841392441599_data);\n",
       "   }(LDAvis);\n",
       "}else if(typeof define === \"function\" && define.amd){\n",
       "   // require.js is available: use it to load d3/LDAvis\n",
       "   require.config({paths: {d3: \"https://cdnjs.cloudflare.com/ajax/libs/d3/3.5.5/d3.min\"}});\n",
       "   require([\"d3\"], function(d3){\n",
       "      window.d3 = d3;\n",
       "      LDAvis_load_lib(\"https://cdn.rawgit.com/bmabey/pyLDAvis/files/ldavis.v1.0.0.js\", function(){\n",
       "        new LDAvis(\"#\" + \"ldavis_el5901123551351841392441599\", ldavis_el5901123551351841392441599_data);\n",
       "      });\n",
       "    });\n",
       "}else{\n",
       "    // require.js not available: dynamically load d3 & LDAvis\n",
       "    LDAvis_load_lib(\"https://cdnjs.cloudflare.com/ajax/libs/d3/3.5.5/d3.min.js\", function(){\n",
       "         LDAvis_load_lib(\"https://cdn.rawgit.com/bmabey/pyLDAvis/files/ldavis.v1.0.0.js\", function(){\n",
       "                 new LDAvis(\"#\" + \"ldavis_el5901123551351841392441599\", ldavis_el5901123551351841392441599_data);\n",
       "            })\n",
       "         });\n",
       "}\n",
       "</script>"
      ],
      "text/plain": [
       "<IPython.core.display.HTML object>"
      ]
     },
     "execution_count": 72,
     "metadata": {},
     "output_type": "execute_result"
    }
   ],
   "source": [
    "### Visulization\n",
    "vis = pyLDAvis.gensim.prepare(lda_model, corpus, id2word)\n",
    "pyLDAvis.display(vis)"
   ]
  },
  {
   "cell_type": "code",
   "execution_count": null,
   "metadata": {},
   "outputs": [],
   "source": []
  }
 ],
 "metadata": {
  "kernelspec": {
   "display_name": "Python 3",
   "language": "python",
   "name": "python3"
  },
  "language_info": {
   "codemirror_mode": {
    "name": "ipython",
    "version": 3
   },
   "file_extension": ".py",
   "mimetype": "text/x-python",
   "name": "python",
   "nbconvert_exporter": "python",
   "pygments_lexer": "ipython3",
   "version": "3.7.3"
  }
 },
 "nbformat": 4,
 "nbformat_minor": 2
}
