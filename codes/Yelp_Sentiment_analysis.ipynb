{
  "nbformat": 4,
  "nbformat_minor": 0,
  "metadata": {
    "colab": {
      "name": "Yelp-Sentiment analysis",
      "provenance": [],
      "collapsed_sections": [],
      "toc_visible": true
    },
    "kernelspec": {
      "name": "python3",
      "display_name": "Python 3"
    },
    "accelerator": "GPU"
  },
  "cells": [
    {
      "cell_type": "markdown",
      "metadata": {
        "id": "MhizMer_eagA",
        "colab_type": "text"
      },
      "source": [
        "# python - sentiment score"
      ]
    },
    {
      "cell_type": "code",
      "metadata": {
        "id": "dCvkoFb6ee1K",
        "colab_type": "code",
        "outputId": "179037b6-8298-4dbe-f319-041f81e0be3d",
        "colab": {
          "base_uri": "https://localhost:8080/",
          "height": 52
        }
      },
      "source": [
        "import pandas as pd\n",
        "import matplotlib.pyplot as plt\n",
        "%matplotlib inline  \n",
        "import nltk\n",
        "from nltk import word_tokenize, sent_tokenize\n",
        "from nltk.corpus import stopwords\n",
        "nltk.download('stopwords')\n",
        "from nltk.stem import LancasterStemmer, WordNetLemmatizer, PorterStemmer\n",
        "from wordcloud import WordCloud, STOPWORDS\n",
        "from textblob import TextBlob"
      ],
      "execution_count": 0,
      "outputs": [
        {
          "output_type": "stream",
          "text": [
            "[nltk_data] Downloading package stopwords to /root/nltk_data...\n",
            "[nltk_data]   Unzipping corpora/stopwords.zip.\n"
          ],
          "name": "stdout"
        }
      ]
    },
    {
      "cell_type": "code",
      "metadata": {
        "id": "T9B9TDrpk2sk",
        "colab_type": "code",
        "colab": {}
      },
      "source": [
        "cluster1 = pd.read_csv(\"/content/gdrive/Shared drives/cluster1.csv\")\n",
        "cluster2 = pd.read_csv(\"/content/gdrive/Shared drives/cluster2.csv\")\n",
        "cluster3 = pd.read_csv(\"/content/gdrive/Shared drives/cluster3.csv\")\n",
        "\n",
        "cluster1_supp = pd.read_csv(\"/content/gdrive/Shared drives/cluster1_supp.csv\")\n",
        "cluster2_supp = pd.read_csv(\"/content/gdrive/Shared drives/cluster2_supp.csv\")\n",
        "cluster3_supp = pd.read_csv(\"/content/gdrive/Shared drives/cluster3_supp.csv\")\n"
      ],
      "execution_count": 0,
      "outputs": []
    },
    {
      "cell_type": "code",
      "metadata": {
        "id": "2plN-h4Rr_oo",
        "colab_type": "code",
        "colab": {}
      },
      "source": [
        "## These three columns are manually classified here for demo\n",
        "cluster1['category'] = cluster1.apply(lambda x: 'self' if x.business_id == 'cYwJA2A6I12KNkm2rtXd5g' else 'competitors',axis = 1)\n",
        "cluster2['category'] = cluster2.apply(lambda x: 'self' if x.business_id == 'eoHdUeQDNgQ6WYEnP2aiRw' else 'competitors',axis = 1)\n",
        "cluster3['category'] = cluster3.apply(lambda x: 'self' if x.business_id == 'K7lWdNUhCbcnEvI0NhGewg' else 'competitors',axis = 1)\n",
        "cluster1['cluster'] = 1\n",
        "cluster2['cluster'] = 2\n",
        "cluster3['cluster'] = 3\n",
        "cluster1['cluster_name'] = 'Gordon Ramsay BurGR'\n",
        "cluster2['cluster_name'] = 'Serendipity 3'\n",
        "cluster3['cluster_name'] = 'Wicked Spoon'"
      ],
      "execution_count": 0,
      "outputs": []
    },
    {
      "cell_type": "code",
      "metadata": {
        "id": "4o9bbUKBt423",
        "colab_type": "code",
        "colab": {}
      },
      "source": [
        "cluster = pd.concat([cluster1,cluster2,cluster3])\n",
        "supp = pd.concat([cluster1_supp,cluster2_supp,cluster3_supp])"
      ],
      "execution_count": 0,
      "outputs": []
    },
    {
      "cell_type": "code",
      "metadata": {
        "id": "wm3VRGzfsYuk",
        "colab_type": "code",
        "colab": {}
      },
      "source": [
        "cluster = pd.DataFrame(cluster.drop(['Unnamed: 0'],axis=1,inplace=False))\n",
        "supp = pd.DataFrame(supp.drop(['Unnamed: 0'],axis=1,inplace=False))"
      ],
      "execution_count": 0,
      "outputs": []
    },
    {
      "cell_type": "code",
      "metadata": {
        "id": "k28WugLLn77s",
        "colab_type": "code",
        "colab": {}
      },
      "source": [
        "all_reviews = pd.merge(cluster, supp, on='business_id')\n",
        "df = all_reviews[['name', 'business_id', 'date', 'stars', 'text','cluster','cluster_name','category']]"
      ],
      "execution_count": 0,
      "outputs": []
    },
    {
      "cell_type": "code",
      "metadata": {
        "id": "4AdELwbMrtgK",
        "colab_type": "code",
        "outputId": "9c63719e-342e-47f6-d9a6-0bc4869a3e32",
        "colab": {
          "base_uri": "https://localhost:8080/",
          "height": 122
        }
      },
      "source": [
        "print(all_reviews.shape)\n",
        "print(all_reviews.columns)\n",
        "print(df.shape)"
      ],
      "execution_count": 0,
      "outputs": [
        {
          "output_type": "stream",
          "text": [
            "(430236, 13)\n",
            "Index(['business_id', 'date', 'stars', 'text', 'category', 'cluster',\n",
            "       'cluster_name', 'name', 'categories', 'city', 'postal_code',\n",
            "       'review_count', 'state'],\n",
            "      dtype='object')\n",
            "(430236, 8)\n"
          ],
          "name": "stdout"
        }
      ]
    },
    {
      "cell_type": "code",
      "metadata": {
        "id": "XyCq4nzxxnBf",
        "colab_type": "code",
        "outputId": "be5e7dd6-7039-413a-cdc5-fb750ec65c9b",
        "colab": {
          "base_uri": "https://localhost:8080/",
          "height": 564
        }
      },
      "source": [
        "df.head()"
      ],
      "execution_count": 0,
      "outputs": [
        {
          "output_type": "execute_result",
          "data": {
            "text/html": [
              "<div>\n",
              "<style scoped>\n",
              "    .dataframe tbody tr th:only-of-type {\n",
              "        vertical-align: middle;\n",
              "    }\n",
              "\n",
              "    .dataframe tbody tr th {\n",
              "        vertical-align: top;\n",
              "    }\n",
              "\n",
              "    .dataframe thead th {\n",
              "        text-align: right;\n",
              "    }\n",
              "</style>\n",
              "<table border=\"1\" class=\"dataframe\">\n",
              "  <thead>\n",
              "    <tr style=\"text-align: right;\">\n",
              "      <th></th>\n",
              "      <th>name</th>\n",
              "      <th>business_id</th>\n",
              "      <th>date</th>\n",
              "      <th>stars</th>\n",
              "      <th>text</th>\n",
              "      <th>cluster</th>\n",
              "      <th>cluster_name</th>\n",
              "      <th>category</th>\n",
              "    </tr>\n",
              "  </thead>\n",
              "  <tbody>\n",
              "    <tr>\n",
              "      <th>0</th>\n",
              "      <td>Wolfgang Puck Bar &amp; Grill Las Vegas</td>\n",
              "      <td>N0apJkxIem2E8irTBRKnHw</td>\n",
              "      <td>2015-01-18</td>\n",
              "      <td>2.0</td>\n",
              "      <td>Went here last weekend and was pretty disappoi...</td>\n",
              "      <td>1</td>\n",
              "      <td>Gordon Ramsay BurGR</td>\n",
              "      <td>competitors</td>\n",
              "    </tr>\n",
              "    <tr>\n",
              "      <th>1</th>\n",
              "      <td>Wolfgang Puck Bar &amp; Grill Las Vegas</td>\n",
              "      <td>N0apJkxIem2E8irTBRKnHw</td>\n",
              "      <td>2017-01-02</td>\n",
              "      <td>5.0</td>\n",
              "      <td>We ate here for a friend's birthday before see...</td>\n",
              "      <td>1</td>\n",
              "      <td>Gordon Ramsay BurGR</td>\n",
              "      <td>competitors</td>\n",
              "    </tr>\n",
              "    <tr>\n",
              "      <th>2</th>\n",
              "      <td>Wolfgang Puck Bar &amp; Grill Las Vegas</td>\n",
              "      <td>N0apJkxIem2E8irTBRKnHw</td>\n",
              "      <td>2016-07-25</td>\n",
              "      <td>5.0</td>\n",
              "      <td>Came here after a concert at MGM...service was...</td>\n",
              "      <td>1</td>\n",
              "      <td>Gordon Ramsay BurGR</td>\n",
              "      <td>competitors</td>\n",
              "    </tr>\n",
              "    <tr>\n",
              "      <th>3</th>\n",
              "      <td>Wolfgang Puck Bar &amp; Grill Las Vegas</td>\n",
              "      <td>N0apJkxIem2E8irTBRKnHw</td>\n",
              "      <td>2015-08-19</td>\n",
              "      <td>5.0</td>\n",
              "      <td>Sat at the bar and the bar tender introduced m...</td>\n",
              "      <td>1</td>\n",
              "      <td>Gordon Ramsay BurGR</td>\n",
              "      <td>competitors</td>\n",
              "    </tr>\n",
              "    <tr>\n",
              "      <th>4</th>\n",
              "      <td>Wolfgang Puck Bar &amp; Grill Las Vegas</td>\n",
              "      <td>N0apJkxIem2E8irTBRKnHw</td>\n",
              "      <td>2012-10-08</td>\n",
              "      <td>1.0</td>\n",
              "      <td>We visited last week.  Be Warned! My husband's...</td>\n",
              "      <td>1</td>\n",
              "      <td>Gordon Ramsay BurGR</td>\n",
              "      <td>competitors</td>\n",
              "    </tr>\n",
              "  </tbody>\n",
              "</table>\n",
              "</div>"
            ],
            "text/plain": [
              "                                  name  ...     category\n",
              "0  Wolfgang Puck Bar & Grill Las Vegas  ...  competitors\n",
              "1  Wolfgang Puck Bar & Grill Las Vegas  ...  competitors\n",
              "2  Wolfgang Puck Bar & Grill Las Vegas  ...  competitors\n",
              "3  Wolfgang Puck Bar & Grill Las Vegas  ...  competitors\n",
              "4  Wolfgang Puck Bar & Grill Las Vegas  ...  competitors\n",
              "\n",
              "[5 rows x 8 columns]"
            ]
          },
          "metadata": {
            "tags": []
          },
          "execution_count": 40
        }
      ]
    },
    {
      "cell_type": "markdown",
      "metadata": {
        "id": "ehNeXV-wzmM1",
        "colab_type": "text"
      },
      "source": [
        "## cleaning"
      ]
    },
    {
      "cell_type": "code",
      "metadata": {
        "id": "7dwFO3uTrwru",
        "colab_type": "code",
        "colab": {}
      },
      "source": [
        "df['text'] = df['text'].astype(str).apply(lambda x: \" \".join(x.lower() for x in x.split()))"
      ],
      "execution_count": 0,
      "outputs": []
    },
    {
      "cell_type": "code",
      "metadata": {
        "id": "MsCGH0Szy1pV",
        "colab_type": "code",
        "colab": {}
      },
      "source": [
        "df['text'] = df['text'].str.replace('[^\\w\\s]','')"
      ],
      "execution_count": 0,
      "outputs": []
    },
    {
      "cell_type": "markdown",
      "metadata": {
        "id": "5LtXzIhdzrpc",
        "colab_type": "text"
      },
      "source": [
        "## stop word"
      ]
    },
    {
      "cell_type": "code",
      "metadata": {
        "id": "qNWUX70IzXYi",
        "colab_type": "code",
        "colab": {}
      },
      "source": [
        "stop = stopwords.words('english')\n",
        "df['text'] = df['text'].apply(lambda x: \" \".join(x for x in x.split() if x not in stop))"
      ],
      "execution_count": 0,
      "outputs": []
    },
    {
      "cell_type": "markdown",
      "metadata": {
        "id": "zCA-eOVP0MY4",
        "colab_type": "text"
      },
      "source": [
        "## stemming "
      ]
    },
    {
      "cell_type": "code",
      "metadata": {
        "id": "884YJCR80N6h",
        "colab_type": "code",
        "colab": {}
      },
      "source": [
        "st = PorterStemmer()\n",
        "df['text'] = df['text'].apply(lambda x: \" \".join([st.stem(word) for word in x.split()]))"
      ],
      "execution_count": 0,
      "outputs": []
    },
    {
      "cell_type": "markdown",
      "metadata": {
        "id": "IbZMWImH0eew",
        "colab_type": "text"
      },
      "source": [
        "## Sentiment Score"
      ]
    },
    {
      "cell_type": "code",
      "metadata": {
        "id": "xSQt-U980dwn",
        "colab_type": "code",
        "colab": {}
      },
      "source": [
        "def get_polarity(text):\n",
        "    textblob = TextBlob(text)\n",
        "    pol = textblob.sentiment.polarity\n",
        "    return round(pol,3)\n",
        "\n",
        "#def get_subjectivity(text):\n",
        "#    textblob = TextBlob(text)\n",
        "#    subj = textblob.sentiment.subjectivity\n",
        "#    return round(subj,3)"
      ],
      "execution_count": 0,
      "outputs": []
    },
    {
      "cell_type": "code",
      "metadata": {
        "id": "8CrOPqWm0lbd",
        "colab_type": "code",
        "colab": {}
      },
      "source": [
        "df['satisfaction'] = df['text'].apply(get_polarity)\n",
        "#df['subjectivity'] = df['text'].apply(get_subjectivity)"
      ],
      "execution_count": 0,
      "outputs": []
    },
    {
      "cell_type": "code",
      "metadata": {
        "id": "RUDiOK6oTmPk",
        "colab_type": "code",
        "colab": {}
      },
      "source": [
        "df = pd.DataFrame(df.drop(['text'],axis=1,inplace=False))"
      ],
      "execution_count": 0,
      "outputs": []
    },
    {
      "cell_type": "code",
      "metadata": {
        "id": "Trmqco3K65Y5",
        "colab_type": "code",
        "colab": {}
      },
      "source": [
        "df.to_csv('/content/gdrive/Shared drives/SentimentByCluster_plus.csv')"
      ],
      "execution_count": 0,
      "outputs": []
    }
  ]
}
